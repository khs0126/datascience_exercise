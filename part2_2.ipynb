{
  "nbformat": 4,
  "nbformat_minor": 0,
  "metadata": {
    "colab": {
      "name": "part2-2.ipynb",
      "version": "0.3.2",
      "provenance": []
    }
  },
  "cells": [
    {
      "cell_type": "markdown",
      "metadata": {
        "id": "view-in-github",
        "colab_type": "text"
      },
      "source": [
        "[View in Colaboratory](https://colab.research.google.com/github/nicewook/datascience_exercise/blob/master/part2_2.ipynb)"
      ]
    },
    {
      "metadata": {
        "id": "XkuU7h6SJOPL",
        "colab_type": "text"
      },
      "cell_type": "markdown",
      "source": [
        "# 설문조사 응답분석 2\n",
        "- 강좌링크: https://programmers.co.kr/learn/courses/21\n",
        "- Part2.2: https://programmers.co.kr/learn/courses/21/lessons/938\n",
        "- 유튜브: https://www.youtube.com/watch?v=p3msv18FIyQ\n"
      ]
    },
    {
      "metadata": {
        "id": "GE9x4hytL_Cr",
        "colab_type": "code",
        "colab": {}
      },
      "cell_type": "code",
      "source": [
        "# 노트북 안에서 그래프 그리는 magic\n",
        "%matplotlib inline\n",
        "\n",
        "# import the standard Python Scientific libraries\n",
        "import pandas as pd\n",
        "import numpy as np\n",
        "from scipy import stats\n",
        "import matplotlib.pyplot as plt\n",
        "import seaborn as sns\n",
        "\n",
        "# Suppress Deprecation and Incorrect Isage Warnings - 워닝 지저분하게 뜨는거 표시하지 않기\n",
        "import warnings\n",
        "warnings.filterwarnings('ignore')\n"
      ],
      "execution_count": 0,
      "outputs": []
    },
    {
      "metadata": {
        "id": "yHLGlAvlKqAc",
        "colab_type": "code",
        "colab": {
          "base_uri": "https://localhost:8080/",
          "height": 217
        },
        "outputId": "f2192c77-2d18-48f6-d69f-fde3b608b428"
      },
      "cell_type": "code",
      "source": [
        "# Google Drive와 연결\n",
        "!apt-get install -y -qq software-properties-common python-software-properties module-init-tools\n",
        "\n",
        "!add-apt-repository -y ppa:alessandro-strada/ppa 2>&1 > /dev/null\n",
        "\n",
        "!apt-get update -qq 2>&1 > /dev/null\n",
        "\n",
        "!apt-get -y install -qq google-drive-ocamlfuse fuse\n",
        "\n",
        "from google.colab import auth\n",
        "\n",
        "auth.authenticate_user()\n",
        "\n",
        "from oauth2client.client import GoogleCredentials\n",
        "\n",
        "creds = GoogleCredentials.get_application_default()\n",
        "\n",
        "import getpass\n",
        "\n",
        "!google-drive-ocamlfuse -headless -id={creds.client_id} -secret={creds.client_secret} < /dev/null 2>&1 | grep URL\n",
        "\n",
        "vcode = getpass.getpass()\n",
        "\n",
        "!echo {vcode} | google-drive-ocamlfuse -headless -id={creds.client_id} -secret={creds.client_secret}"
      ],
      "execution_count": 0,
      "outputs": [
        {
          "output_type": "stream",
          "text": [
            "gpg: keybox '/tmp/tmp95896jv_/pubring.gpg' created\n",
            "gpg: /tmp/tmp95896jv_/trustdb.gpg: trustdb created\n",
            "gpg: key AD5F235DF639B041: public key \"Launchpad PPA for Alessandro Strada\" imported\n",
            "gpg: Total number processed: 1\n",
            "gpg:               imported: 1\n",
            "Warning: apt-key output should not be parsed (stdout is not a terminal)\n",
            "Please, open the following URL in a web browser: https://accounts.google.com/o/oauth2/auth?client_id=32555940559.apps.googleusercontent.com&redirect_uri=urn%3Aietf%3Awg%3Aoauth%3A2.0%3Aoob&scope=https%3A%2F%2Fwww.googleapis.com%2Fauth%2Fdrive&response_type=code&access_type=offline&approval_prompt=force\n",
            "··········\n",
            "Please, open the following URL in a web browser: https://accounts.google.com/o/oauth2/auth?client_id=32555940559.apps.googleusercontent.com&redirect_uri=urn%3Aietf%3Awg%3Aoauth%3A2.0%3Aoob&scope=https%3A%2F%2Fwww.googleapis.com%2Fauth%2Fdrive&response_type=code&access_type=offline&approval_prompt=force\n",
            "Please enter the verification code: Access token retrieved correctly.\n"
          ],
          "name": "stdout"
        }
      ]
    },
    {
      "metadata": {
        "id": "o8aga4VtLCBR",
        "colab_type": "code",
        "colab": {}
      },
      "cell_type": "code",
      "source": [
        "# 폴더를 만들어서 구글 드라이브 연동\n",
        "!mkdir -p drive \n",
        "!google-drive-ocamlfuse drive "
      ],
      "execution_count": 0,
      "outputs": []
    },
    {
      "metadata": {
        "id": "xRmXSXpfLeil",
        "colab_type": "code",
        "colab": {
          "base_uri": "https://localhost:8080/",
          "height": 35
        },
        "outputId": "5b74972b-03f2-409f-a0b0-3dcbc5adefc4"
      },
      "cell_type": "code",
      "source": [
        "cd drive/kaggle/kaggle-survey-2017/"
      ],
      "execution_count": 2,
      "outputs": [
        {
          "output_type": "stream",
          "text": [
            "/content/drive/kaggle/kaggle-survey-2017\n"
          ],
          "name": "stdout"
        }
      ]
    },
    {
      "metadata": {
        "id": "fjyAE8KfLr1K",
        "colab_type": "code",
        "colab": {
          "base_uri": "https://localhost:8080/",
          "height": 251
        },
        "outputId": "8d37bf9d-773b-423e-f907-078041c5fbd7"
      },
      "cell_type": "code",
      "source": [
        "ls -al"
      ],
      "execution_count": 3,
      "outputs": [
        {
          "output_type": "stream",
          "text": [
            "total 28968\r\n",
            "drwxr-xr-x 2 root root     4096 May 21 05:21 \u001b[0m\u001b[01;34m.\u001b[0m/\r\n",
            "drwxr-xr-x 2 root root     4096 May 21 05:19 \u001b[01;34m..\u001b[0m/\r\n",
            "-rw-r--r-- 1 root root     1877 May 21 05:21 conversionRates.csv\r\n",
            "-rw-r--r-- 1 root root  4303670 May 21 05:21 freeformResponses.csv\r\n",
            "-rw-r--r-- 1 root root 24876561 May 21 05:22 multipleChoiceResponses.csv\r\n",
            "-rw-r--r-- 1 root root   426038 May 22 01:38 part2-1.ipynb\r\n",
            "-rw-r--r-- 1 root root     1032 May 21 05:21 RespondentTypeREADME.txt\r\n",
            "-rw-r--r-- 1 root root       40 May 21 08:54 saveToDrive.txt\r\n",
            "-rw-r--r-- 1 root root    42779 May 21 05:36 schema.csv\r\n",
            "-rw-r--r-- 1 root root        0 May 21 06:53 test2.txt\r\n",
            "-rw-r--r-- 1 root root        0 May 21 07:53 test3.txt\r\n",
            "-rw-r--r-- 1 root root        0 May 21 06:52 test.txt\r\n"
          ],
          "name": "stdout"
        }
      ]
    },
    {
      "metadata": {
        "id": "V6FuUJrwNGMN",
        "colab_type": "code",
        "colab": {
          "base_uri": "https://localhost:8080/",
          "height": 143
        },
        "outputId": "599bc76f-d1c7-4554-fb36-29127ae71137"
      },
      "cell_type": "code",
      "source": [
        "questions = pd.read_csv('schema.csv')  \n",
        "print(questions.head()) # 질문들이 어떤게 있나 잠시 보자\n",
        "print(questions.shape)  # 어떤 모양인지 보자"
      ],
      "execution_count": 4,
      "outputs": [
        {
          "output_type": "stream",
          "text": [
            "             Column                                           Question Asked\n",
            "0      GenderSelect     Select your gender identity. - Selected Choice   All\n",
            "1    GenderFreeForm  Select your gender identity. - A different ide...   All\n",
            "2           Country          Select the country you currently live in.   All\n",
            "3               Age                                   What's your age?   All\n",
            "4  EmploymentStatus             What's your current employment status?   All\n",
            "(290, 3)\n"
          ],
          "name": "stdout"
        }
      ]
    },
    {
      "metadata": {
        "id": "w2yRinZUNVw1",
        "colab_type": "code",
        "colab": {
          "base_uri": "https://localhost:8080/",
          "height": 35
        },
        "outputId": "349189db-492e-4401-b22e-928b558ae3d2"
      },
      "cell_type": "code",
      "source": [
        "# 판다스로 선다형 객관식 문제에 대한 응답을 가져옴\n",
        "mcq = pd.read_csv('multipleChoiceResponses.csv', encoding=\"ISO-8859-1\", low_memory=False)\n",
        "mcq.shape"
      ],
      "execution_count": 5,
      "outputs": [
        {
          "output_type": "execute_result",
          "data": {
            "text/plain": [
              "(16716, 228)"
            ]
          },
          "metadata": {
            "tags": []
          },
          "execution_count": 5
        }
      ]
    },
    {
      "metadata": {
        "id": "egYfR_Dnf0BY",
        "colab_type": "code",
        "colab": {
          "base_uri": "https://localhost:8080/",
          "height": 297
        },
        "outputId": "cfeb1d22-07bc-49c4-f569-9ca9548abc28"
      },
      "cell_type": "code",
      "source": [
        "# R 과 Pyhon!\n",
        "sns.countplot(y='LanguageRecommendationSelect', data = mcq)"
      ],
      "execution_count": 6,
      "outputs": [
        {
          "output_type": "execute_result",
          "data": {
            "text/plain": [
              "<matplotlib.axes._subplots.AxesSubplot at 0x7f4f56e61d10>"
            ]
          },
          "metadata": {
            "tags": []
          },
          "execution_count": 6
        },
        {
          "output_type": "display_data",
          "data": {
            "image/png": "[encoded data removed]",
            "text/plain": [
              "<matplotlib.figure.Figure at 0x7f4f56e61510>"
            ]
          },
          "metadata": {
            "tags": []
          }
        }
      ]
    },
    {
      "metadata": {
        "id": "RqFHsFJHl8zn",
        "colab_type": "code",
        "colab": {
          "base_uri": "https://localhost:8080/",
          "height": 297
        },
        "outputId": "0c0ee23a-d93c-4b45-8642-0d558f765130"
      },
      "cell_type": "code",
      "source": [
        "# 현재 하는 일은?\n",
        "sns.countplot(y='CurrentJobTitleSelect', data=mcq)"
      ],
      "execution_count": 7,
      "outputs": [
        {
          "output_type": "execute_result",
          "data": {
            "text/plain": [
              "<matplotlib.axes._subplots.AxesSubplot at 0x7f4f56e0cc50>"
            ]
          },
          "metadata": {
            "tags": []
          },
          "execution_count": 7
        },
        {
          "output_type": "display_data",
          "data": {
            "image/png": "[encoded data removed]",
            "text/plain": [
              "<matplotlib.figure.Figure at 0x7f4f56d961d0>"
            ]
          },
          "metadata": {
            "tags": []
          }
        }
      ]
    },
    {
      "metadata": {
        "id": "BoOtb_i0l82O",
        "colab_type": "code",
        "colab": {
          "base_uri": "https://localhost:8080/",
          "height": 297
        },
        "outputId": "9524cdb6-0281-44ca-86bd-56c8a5ae8806"
      },
      "cell_type": "code",
      "source": [
        "# 다른 방식\n",
        "sns.countplot(y=mcq['CurrentJobTitleSelect'])"
      ],
      "execution_count": 9,
      "outputs": [
        {
          "output_type": "execute_result",
          "data": {
            "text/plain": [
              "<matplotlib.axes._subplots.AxesSubplot at 0x7f4f54c5b210>"
            ]
          },
          "metadata": {
            "tags": []
          },
          "execution_count": 9
        },
        {
          "output_type": "display_data",
          "data": {
            "image/png": "[encoded data removed]",
            "text/plain": [
              "<matplotlib.figure.Figure at 0x7f4f54c7e890>"
            ]
          },
          "metadata": {
            "tags": []
          }
        }
      ]
    },
    {
      "metadata": {
        "id": "q5ja1m8ql840",
        "colab_type": "code",
        "colab": {
          "base_uri": "https://localhost:8080/",
          "height": 35
        },
        "outputId": "4e917164-f085-414e-cd58-214dd90912ef"
      },
      "cell_type": "code",
      "source": [
        "# 현재 직업 응답중 null 이 아닌것 중에서 null 이 아닌것의 응답수는? \n",
        "mcq[mcq['CurrentJobTitleSelect'].notnull()].shape[0]"
      ],
      "execution_count": 11,
      "outputs": [
        {
          "output_type": "execute_result",
          "data": {
            "text/plain": [
              "11830"
            ]
          },
          "metadata": {
            "tags": []
          },
          "execution_count": 11
        }
      ]
    },
    {
      "metadata": {
        "id": "b_yMf9dGl87t",
        "colab_type": "code",
        "colab": {
          "base_uri": "https://localhost:8080/",
          "height": 35
        },
        "outputId": "2f62d572-6736-4334-9d48-77acd6c2c247"
      },
      "cell_type": "code",
      "source": [
        "# R 과 Python 하는 사람들만 추려내고, 그 사람들의 현재 직업을 알아보자\n",
        "data = mcq[(mcq['CurrentJobTitleSelect'].notnull()) & ((mcq['LanguageRecommendationSelect'] == 'R') | (mcq['LanguageRecommendationSelect'] == 'Python'))]\n",
        "data.shape"
      ],
      "execution_count": 13,
      "outputs": [
        {
          "output_type": "execute_result",
          "data": {
            "text/plain": [
              "(7158, 228)"
            ]
          },
          "metadata": {
            "tags": []
          },
          "execution_count": 13
        }
      ]
    },
    {
      "metadata": {
        "id": "3OLrFiLol8-g",
        "colab_type": "code",
        "colab": {
          "base_uri": "https://localhost:8080/",
          "height": 624
        },
        "outputId": "135ace95-1503-4e0f-f467-e33e945aa71b"
      },
      "cell_type": "code",
      "source": [
        "plt.figure(figsize=(8,10))\n",
        "sns.countplot(y='CurrentJobTitleSelect', hue='LanguageRecommendationSelect', data=data)"
      ],
      "execution_count": 14,
      "outputs": [
        {
          "output_type": "execute_result",
          "data": {
            "text/plain": [
              "<matplotlib.axes._subplots.AxesSubplot at 0x7f4f54954f90>"
            ]
          },
          "metadata": {
            "tags": []
          },
          "execution_count": 14
        },
        {
          "output_type": "display_data",
          "data": {
            "image/png": "[encoded data removed]",
            "text/plain": [
              "<matplotlib.figure.Figure at 0x7f4f54ca4c50>"
            ]
          },
          "metadata": {
            "tags": []
          }
        }
      ]
    },
    {
      "metadata": {
        "id": "_RqiYMj0l9A2",
        "colab_type": "code",
        "colab": {}
      },
      "cell_type": "code",
      "source": [
        "# 데이터 사이언티스트가 많은데 대부분 파이썬을 쓰는구나\n",
        "# SW 개발자들도 파이썬을 많이 쓰는구나\n",
        "# 유일하게 통계학자들 (Statistician) 만이 R을 더 많이 쓰는구나"
      ],
      "execution_count": 0,
      "outputs": []
    },
    {
      "metadata": {
        "id": "i3-S_essl9Dv",
        "colab_type": "code",
        "colab": {}
      },
      "cell_type": "code",
      "source": [
        "# 내년의 ML 툴은?\n",
        "mcq_ml_tool_count = pd.DataFrame(mcq['MLToolNextYearSelect'].value_counts())\n",
        "mcq_ml_tool_percent = pd.DataFrame(mcq['MLToolNextYearSelect'].value_counts(normalize=True) * 100).astype('int')"
      ],
      "execution_count": 0,
      "outputs": []
    },
    {
      "metadata": {
        "id": "RBqMNNjdl9GL",
        "colab_type": "code",
        "colab": {
          "base_uri": "https://localhost:8080/",
          "height": 669
        },
        "outputId": "c29f4e77-bc91-43e5-9fab-121ccd1f9be6"
      },
      "cell_type": "code",
      "source": [
        "mcq_ml_df = mcq_ml_tool_count.merge(mcq_ml_tool_percent, left_index=True, right_index=True).head(20)\n",
        "mcq_ml_df.columns = [\"응답수\", \"퍼센트\"]\n",
        "mcq_ml_df"
      ],
      "execution_count": 18,
      "outputs": [
        {
          "output_type": "execute_result",
          "data": {
            "text/html": [
              "<div>\n",
              "<style scoped>\n",
              "    .dataframe tbody tr th:only-of-type {\n",
              "        vertical-align: middle;\n",
              "    }\n",
              "\n",
              "    .dataframe tbody tr th {\n",
              "        vertical-align: top;\n",
              "    }\n",
              "\n",
              "    .dataframe thead th {\n",
              "        text-align: right;\n",
              "    }\n",
              "</style>\n",
              "<table border=\"1\" class=\"dataframe\">\n",
              "  <thead>\n",
              "    <tr style=\"text-align: right;\">\n",
              "      <th></th>\n",
              "      <th>응답수</th>\n",
              "      <th>퍼센트</th>\n",
              "    </tr>\n",
              "  </thead>\n",
              "  <tbody>\n",
              "    <tr>\n",
              "      <th>TensorFlow</th>\n",
              "      <td>2621</td>\n",
              "      <td>23</td>\n",
              "    </tr>\n",
              "    <tr>\n",
              "      <th>Python</th>\n",
              "      <td>1713</td>\n",
              "      <td>15</td>\n",
              "    </tr>\n",
              "    <tr>\n",
              "      <th>R</th>\n",
              "      <td>910</td>\n",
              "      <td>8</td>\n",
              "    </tr>\n",
              "    <tr>\n",
              "      <th>Spark / MLlib</th>\n",
              "      <td>755</td>\n",
              "      <td>6</td>\n",
              "    </tr>\n",
              "    <tr>\n",
              "      <th>Hadoop/Hive/Pig</th>\n",
              "      <td>417</td>\n",
              "      <td>3</td>\n",
              "    </tr>\n",
              "    <tr>\n",
              "      <th>Other</th>\n",
              "      <td>407</td>\n",
              "      <td>3</td>\n",
              "    </tr>\n",
              "    <tr>\n",
              "      <th>Amazon Machine Learning</th>\n",
              "      <td>392</td>\n",
              "      <td>3</td>\n",
              "    </tr>\n",
              "    <tr>\n",
              "      <th>Jupyter notebooks</th>\n",
              "      <td>358</td>\n",
              "      <td>3</td>\n",
              "    </tr>\n",
              "    <tr>\n",
              "      <th>I don't plan on learning a new tool/technology</th>\n",
              "      <td>341</td>\n",
              "      <td>3</td>\n",
              "    </tr>\n",
              "    <tr>\n",
              "      <th>Google Cloud Compute</th>\n",
              "      <td>296</td>\n",
              "      <td>2</td>\n",
              "    </tr>\n",
              "    <tr>\n",
              "      <th>Amazon Web services</th>\n",
              "      <td>273</td>\n",
              "      <td>2</td>\n",
              "    </tr>\n",
              "    <tr>\n",
              "      <th>Julia</th>\n",
              "      <td>222</td>\n",
              "      <td>2</td>\n",
              "    </tr>\n",
              "    <tr>\n",
              "      <th>Microsoft Azure Machine Learning</th>\n",
              "      <td>220</td>\n",
              "      <td>2</td>\n",
              "    </tr>\n",
              "    <tr>\n",
              "      <th>DataRobot</th>\n",
              "      <td>220</td>\n",
              "      <td>2</td>\n",
              "    </tr>\n",
              "    <tr>\n",
              "      <th>IBM Watson / Waton Analytics</th>\n",
              "      <td>194</td>\n",
              "      <td>1</td>\n",
              "    </tr>\n",
              "    <tr>\n",
              "      <th>C/C++</th>\n",
              "      <td>186</td>\n",
              "      <td>1</td>\n",
              "    </tr>\n",
              "    <tr>\n",
              "      <th>Tableau</th>\n",
              "      <td>150</td>\n",
              "      <td>1</td>\n",
              "    </tr>\n",
              "    <tr>\n",
              "      <th>SQL</th>\n",
              "      <td>138</td>\n",
              "      <td>1</td>\n",
              "    </tr>\n",
              "    <tr>\n",
              "      <th>Java</th>\n",
              "      <td>116</td>\n",
              "      <td>1</td>\n",
              "    </tr>\n",
              "    <tr>\n",
              "      <th>MATLAB/Octave</th>\n",
              "      <td>115</td>\n",
              "      <td>1</td>\n",
              "    </tr>\n",
              "  </tbody>\n",
              "</table>\n",
              "</div>"
            ],
            "text/plain": [
              "                                                 응답수  퍼센트\n",
              "TensorFlow                                      2621   23\n",
              "Python                                          1713   15\n",
              "R                                                910    8\n",
              "Spark / MLlib                                    755    6\n",
              "Hadoop/Hive/Pig                                  417    3\n",
              "Other                                            407    3\n",
              "Amazon Machine Learning                          392    3\n",
              "Jupyter notebooks                                358    3\n",
              "I don't plan on learning a new tool/technology   341    3\n",
              "Google Cloud Compute                             296    2\n",
              "Amazon Web services                              273    2\n",
              "Julia                                            222    2\n",
              "Microsoft Azure Machine Learning                 220    2\n",
              "DataRobot                                        220    2\n",
              "IBM Watson / Waton Analytics                     194    1\n",
              "C/C++                                            186    1\n",
              "Tableau                                          150    1\n",
              "SQL                                              138    1\n",
              "Java                                             116    1\n",
              "MATLAB/Octave                                    115    1"
            ]
          },
          "metadata": {
            "tags": []
          },
          "execution_count": 18
        }
      ]
    },
    {
      "metadata": {
        "id": "a4NzJE7ql9In",
        "colab_type": "code",
        "colab": {
          "base_uri": "https://localhost:8080/",
          "height": 297
        },
        "outputId": "654c4ac2-33d5-4f1b-db19-dbbb1bf1df36"
      },
      "cell_type": "code",
      "source": [
        "data = mcq['MLToolNextYearSelect'].value_counts().head(20)\n",
        "sns.barplot(x=data, y=data.index)"
      ],
      "execution_count": 22,
      "outputs": [
        {
          "output_type": "execute_result",
          "data": {
            "text/plain": [
              "<matplotlib.axes._subplots.AxesSubplot at 0x7f4f53012210>"
            ]
          },
          "metadata": {
            "tags": []
          },
          "execution_count": 22
        },
        {
          "output_type": "display_data",
          "data": {
            "image/png": "[encoded data removed]",
            "text/plain": [
              "<matplotlib.figure.Figure at 0x7f4f530128d0>"
            ]
          },
          "metadata": {
            "tags": []
          }
        }
      ]
    },
    {
      "metadata": {
        "id": "OJJIVHLvl9Lj",
        "colab_type": "code",
        "colab": {
          "base_uri": "https://localhost:8080/",
          "height": 125
        },
        "outputId": "8a19b7e3-2fb7-469d-aa6c-4659de3e2716"
      },
      "cell_type": "code",
      "source": [
        "data.head()"
      ],
      "execution_count": 23,
      "outputs": [
        {
          "output_type": "execute_result",
          "data": {
            "text/plain": [
              "TensorFlow         2621\n",
              "Python             1713\n",
              "R                   910\n",
              "Spark / MLlib       755\n",
              "Hadoop/Hive/Pig     417\n",
              "Name: MLToolNextYearSelect, dtype: int64"
            ]
          },
          "metadata": {
            "tags": []
          },
          "execution_count": 23
        }
      ]
    },
    {
      "metadata": {
        "id": "NwwlNHD5l9OL",
        "colab_type": "code",
        "colab": {
          "base_uri": "https://localhost:8080/",
          "height": 352
        },
        "outputId": "4b946766-afb9-4b03-bc25-c9868713d9a7"
      },
      "cell_type": "code",
      "source": [
        "# 데이터 사이언스 방법은\n",
        "data = mcq['MLMethodNextYearSelect'].value_counts().head(15)\n",
        "\n",
        "plt.figure(figsize=(20,5))\n",
        "sns.barplot(x=data, y=data.index)"
      ],
      "execution_count": 26,
      "outputs": [
        {
          "output_type": "execute_result",
          "data": {
            "text/plain": [
              "<matplotlib.axes._subplots.AxesSubplot at 0x7f4f52d31490>"
            ]
          },
          "metadata": {
            "tags": []
          },
          "execution_count": 26
        },
        {
          "output_type": "display_data",
          "data": {
            "image/png": "[encoded data removed]",
            "text/plain": [
              "<matplotlib.figure.Figure at 0x7f4f52d31510>"
            ]
          },
          "metadata": {
            "tags": []
          }
        }
      ]
    },
    {
      "metadata": {
        "id": "0UQHqRDBs8mO",
        "colab_type": "code",
        "colab": {
          "base_uri": "https://localhost:8080/",
          "height": 1133
        },
        "outputId": "92097906-97b8-40fc-dc85-5f61316e581b"
      },
      "cell_type": "code",
      "source": [
        "mcq['LearningPlatformSelect']  # 답이 여러개이다. 콤마를 분리해줄 필요가 있다."
      ],
      "execution_count": 27,
      "outputs": [
        {
          "output_type": "execute_result",
          "data": {
            "text/plain": [
              "0        College/University,Conferences,Podcasts,Trade ...\n",
              "1                                                   Kaggle\n",
              "2        Arxiv,College/University,Kaggle,Online courses...\n",
              "3        Blogs,College/University,Conferences,Friends n...\n",
              "4                        Arxiv,Conferences,Kaggle,Textbook\n",
              "5        Kaggle,Online courses,Stack Overflow Q&A,Textbook\n",
              "6            Arxiv,Blogs,Kaggle,Personal Projects,Textbook\n",
              "7        College/University,Kaggle,Online courses,Stack...\n",
              "8        Blogs,Company internal community,Conferences,F...\n",
              "9        Arxiv,Blogs,Conferences,Kaggle,Non-Kaggle onli...\n",
              "10                                   Kaggle,Online courses\n",
              "11       Kaggle,Non-Kaggle online communities,Personal ...\n",
              "12       College/University,Conferences,Kaggle,Online c...\n",
              "13                                                     NaN\n",
              "14       Blogs,Conferences,Kaggle,Online courses,Trade ...\n",
              "15       Kaggle,Personal Projects,Podcasts,Stack Overfl...\n",
              "16                                                     NaN\n",
              "17                                                     NaN\n",
              "18                                                Textbook\n",
              "19       College/University,Textbook,Tutoring/mentoring...\n",
              "20                                 Online courses,Podcasts\n",
              "21       Arxiv,College/University,Kaggle,Stack Overflow...\n",
              "22       Arxiv,Blogs,Conferences,Friends network,Tutori...\n",
              "23       Blogs,College/University,Kaggle,Official docum...\n",
              "24               Online courses,Personal Projects,Textbook\n",
              "25       Arxiv,College/University,Company internal comm...\n",
              "26                 Blogs,Tutoring/mentoring,YouTube Videos\n",
              "27       Online courses,Personal Projects,Stack Overflo...\n",
              "28       Arxiv,Blogs,Company internal community,Confere...\n",
              "29       Arxiv,College/University,Official documentatio...\n",
              "                               ...                        \n",
              "16686                                                  NaN\n",
              "16687    Blogs,Conferences,Kaggle,Online courses,YouTub...\n",
              "16688                                                  NaN\n",
              "16689                                                  NaN\n",
              "16690                                                  NaN\n",
              "16691                                                  NaN\n",
              "16692                                                  NaN\n",
              "16693                                                  NaN\n",
              "16694                                                  NaN\n",
              "16695                                                  NaN\n",
              "16696                                                  NaN\n",
              "16697                                                  NaN\n",
              "16698                                                  NaN\n",
              "16699                                                  NaN\n",
              "16700                                                  NaN\n",
              "16701                                                  NaN\n",
              "16702                                                  NaN\n",
              "16703                                                  NaN\n",
              "16704    College/University,Conferences,Friends network...\n",
              "16705                                                  NaN\n",
              "16706                                                  NaN\n",
              "16707                                                  NaN\n",
              "16708                                                  NaN\n",
              "16709                                                  NaN\n",
              "16710                                                  NaN\n",
              "16711                                                  NaN\n",
              "16712    Kaggle,Non-Kaggle online communities,Online co...\n",
              "16713                                                  NaN\n",
              "16714                                                  NaN\n",
              "16715                                                  NaN\n",
              "Name: LearningPlatformSelect, Length: 16716, dtype: object"
            ]
          },
          "metadata": {
            "tags": []
          },
          "execution_count": 27
        }
      ]
    },
    {
      "metadata": {
        "id": "9kDasqKll9Q0",
        "colab_type": "code",
        "colab": {}
      },
      "cell_type": "code",
      "source": [
        "# 어디서 배우면 좋을까? - 여러개의 답이 있는경우 나눠줘야 한다. \n",
        "mcq['LearningPlatformSelect'] = mcq['LearningPlatformSelect'].astype('str').apply(lambda x: x.split(','))\n",
        "s = mcq.apply(lambda x: pd.Series(x['LearningPlatformSelect']), axis=1).stack().reset_index(level=1, drop=True)\n",
        "s.name='platform'"
      ],
      "execution_count": 0,
      "outputs": []
    },
    {
      "metadata": {
        "id": "8AN0oHmxl9T2",
        "colab_type": "code",
        "colab": {
          "base_uri": "https://localhost:8080/",
          "height": 297
        },
        "outputId": "829c7879-f3b5-4aa1-e687-a90d0e99a5f0"
      },
      "cell_type": "code",
      "source": [
        "data = s[s != 'nan'].value_counts().head(15)\n",
        "sns.barplot(y=data.index, x=data)"
      ],
      "execution_count": 29,
      "outputs": [
        {
          "output_type": "execute_result",
          "data": {
            "text/plain": [
              "<matplotlib.axes._subplots.AxesSubplot at 0x7f4f50dad190>"
            ]
          },
          "metadata": {
            "tags": []
          },
          "execution_count": 29
        },
        {
          "output_type": "display_data",
          "data": {
            "image/png": "[encoded data removed]",
            "text/plain": [
              "<matplotlib.figure.Figure at 0x7f4f50dadf10>"
            ]
          },
          "metadata": {
            "tags": []
          }
        }
      ]
    },
    {
      "metadata": {
        "id": "KJWhNfuXl9W3",
        "colab_type": "code",
        "colab": {
          "base_uri": "https://localhost:8080/",
          "height": 35
        },
        "outputId": "48465a41-d2cc-42b2-a11e-a4eed0c36239"
      },
      "cell_type": "code",
      "source": [
        "# pd.Series 가 뭘까 ? 2차원 dataframe 이 아닌 1차원 리스트 같은걸로 바꿔주는건가 보다. \n",
        "s.shape"
      ],
      "execution_count": 30,
      "outputs": [
        {
          "output_type": "execute_result",
          "data": {
            "text/plain": [
              "(61904,)"
            ]
          },
          "metadata": {
            "tags": []
          },
          "execution_count": 30
        }
      ]
    },
    {
      "metadata": {
        "id": "UVDV6lBnfaeq",
        "colab_type": "code",
        "colab": {}
      },
      "cell_type": "code",
      "source": [
        "# Kaggle 을 가장 많이 선호하지만, 설문한데가 Kaggle 이니 참고만 하자\n",
        "# 유튜브, 온라인, 스택오버플로가 대학보다 상위이다."
      ],
      "execution_count": 0,
      "outputs": []
    },
    {
      "metadata": {
        "id": "z3Yx2MEpuVnX",
        "colab_type": "code",
        "colab": {
          "base_uri": "https://localhost:8080/",
          "height": 284
        },
        "outputId": "a6af97bd-83c9-467f-fcd4-17442afe8871"
      },
      "cell_type": "code",
      "source": [
        "# 설문내용과 누구에게 물어봤는지를 알아보자\n",
        "qc = questions.loc[questions['Column'].str.contains('LearningCategory')]\n",
        "print(qc.shape)\n",
        "qc"
      ],
      "execution_count": 32,
      "outputs": [
        {
          "output_type": "stream",
          "text": [
            "(7, 3)\n"
          ],
          "name": "stdout"
        },
        {
          "output_type": "execute_result",
          "data": {
            "text/html": [
              "<div>\n",
              "<style scoped>\n",
              "    .dataframe tbody tr th:only-of-type {\n",
              "        vertical-align: middle;\n",
              "    }\n",
              "\n",
              "    .dataframe tbody tr th {\n",
              "        vertical-align: top;\n",
              "    }\n",
              "\n",
              "    .dataframe thead th {\n",
              "        text-align: right;\n",
              "    }\n",
              "</style>\n",
              "<table border=\"1\" class=\"dataframe\">\n",
              "  <thead>\n",
              "    <tr style=\"text-align: right;\">\n",
              "      <th></th>\n",
              "      <th>Column</th>\n",
              "      <th>Question</th>\n",
              "      <th>Asked</th>\n",
              "    </tr>\n",
              "  </thead>\n",
              "  <tbody>\n",
              "    <tr>\n",
              "      <th>91</th>\n",
              "      <td>LearningCategorySelftTaught</td>\n",
              "      <td>What percentage of your current machine learni...</td>\n",
              "      <td>All</td>\n",
              "    </tr>\n",
              "    <tr>\n",
              "      <th>92</th>\n",
              "      <td>LearningCategoryOnlineCourses</td>\n",
              "      <td>What percentage of your current machine learni...</td>\n",
              "      <td>All</td>\n",
              "    </tr>\n",
              "    <tr>\n",
              "      <th>93</th>\n",
              "      <td>LearningCategoryWork</td>\n",
              "      <td>What percentage of your current machine learni...</td>\n",
              "      <td>All</td>\n",
              "    </tr>\n",
              "    <tr>\n",
              "      <th>94</th>\n",
              "      <td>LearningCategoryUniversity</td>\n",
              "      <td>What percentage of your current machine learni...</td>\n",
              "      <td>All</td>\n",
              "    </tr>\n",
              "    <tr>\n",
              "      <th>95</th>\n",
              "      <td>LearningCategoryKaggle</td>\n",
              "      <td>What percentage of your current machine learni...</td>\n",
              "      <td>All</td>\n",
              "    </tr>\n",
              "    <tr>\n",
              "      <th>96</th>\n",
              "      <td>LearningCategoryOther</td>\n",
              "      <td>What percentage of your current machine learni...</td>\n",
              "      <td>All</td>\n",
              "    </tr>\n",
              "    <tr>\n",
              "      <th>97</th>\n",
              "      <td>LearningCategoryOtherFreeForm</td>\n",
              "      <td>What percentage of your current machine learni...</td>\n",
              "      <td>All</td>\n",
              "    </tr>\n",
              "  </tbody>\n",
              "</table>\n",
              "</div>"
            ],
            "text/plain": [
              "                           Column  \\\n",
              "91    LearningCategorySelftTaught   \n",
              "92  LearningCategoryOnlineCourses   \n",
              "93           LearningCategoryWork   \n",
              "94     LearningCategoryUniversity   \n",
              "95         LearningCategoryKaggle   \n",
              "96          LearningCategoryOther   \n",
              "97  LearningCategoryOtherFreeForm   \n",
              "\n",
              "                                             Question Asked  \n",
              "91  What percentage of your current machine learni...   All  \n",
              "92  What percentage of your current machine learni...   All  \n",
              "93  What percentage of your current machine learni...   All  \n",
              "94  What percentage of your current machine learni...   All  \n",
              "95  What percentage of your current machine learni...   All  \n",
              "96  What percentage of your current machine learni...   All  \n",
              "97  What percentage of your current machine learni...   All  "
            ]
          },
          "metadata": {
            "tags": []
          },
          "execution_count": 32
        }
      ]
    },
    {
      "metadata": {
        "id": "XZdKCnCBuVsm",
        "colab_type": "code",
        "colab": {
          "base_uri": "https://localhost:8080/",
          "height": 341
        },
        "outputId": "0faeba04-eedb-4405-e61a-69946f850d72"
      },
      "cell_type": "code",
      "source": [
        "use_features = [x for x in mcq.columns if x.find('LearningPlatformUsefulness') != -1]\n",
        "use_features\n",
        "# 컬럼중에서 특정값 있는 경우를 찾는 방법인듯"
      ],
      "execution_count": 36,
      "outputs": [
        {
          "output_type": "execute_result",
          "data": {
            "text/plain": [
              "[u'LearningPlatformUsefulnessArxiv',\n",
              " u'LearningPlatformUsefulnessBlogs',\n",
              " u'LearningPlatformUsefulnessCollege',\n",
              " u'LearningPlatformUsefulnessCompany',\n",
              " u'LearningPlatformUsefulnessConferences',\n",
              " u'LearningPlatformUsefulnessFriends',\n",
              " u'LearningPlatformUsefulnessKaggle',\n",
              " u'LearningPlatformUsefulnessNewsletters',\n",
              " u'LearningPlatformUsefulnessCommunities',\n",
              " u'LearningPlatformUsefulnessDocumentation',\n",
              " u'LearningPlatformUsefulnessCourses',\n",
              " u'LearningPlatformUsefulnessProjects',\n",
              " u'LearningPlatformUsefulnessPodcasts',\n",
              " u'LearningPlatformUsefulnessSO',\n",
              " u'LearningPlatformUsefulnessTextbook',\n",
              " u'LearningPlatformUsefulnessTradeBook',\n",
              " u'LearningPlatformUsefulnessTutoring',\n",
              " u'LearningPlatformUsefulnessYouTube']"
            ]
          },
          "metadata": {
            "tags": []
          },
          "execution_count": 36
        }
      ]
    },
    {
      "metadata": {
        "id": "T9MsN0bPuVxf",
        "colab_type": "code",
        "colab": {
          "base_uri": "https://localhost:8080/",
          "height": 610
        },
        "outputId": "514483b5-b19b-436a-d218-0a4b99ff89f8"
      },
      "cell_type": "code",
      "source": [
        "# 유용함에 대한 점수를 준 컬럼을 찾았다. \n",
        "# 플랫폼이 얼마나 유용한지를 체크해보자\n",
        "\n",
        "fdf={}\n",
        "for feature in use_features:\n",
        "  a = mcq[feature].value_counts()  # 각 칼럼에서의 개수 카운트\n",
        "  a = a/a.sum()  # 전체중에서 개수의 비율. 각 개수는 점수가 아닐까?\n",
        "  fdf[feature[len('LearningPlatformUsefulness'):]] = a  # 이건 좀 어렵구만 \n",
        "  \n",
        "fdf = pd.DataFrame(fdf).transpose().sort_values('Very useful', ascending=False)\n",
        "\n",
        "plt.figure(figsize=(10,10))\n",
        "sns.heatmap(fdf.sort_values(\"Very useful\", ascending=False), annot=True)"
      ],
      "execution_count": 37,
      "outputs": [
        {
          "output_type": "execute_result",
          "data": {
            "text/plain": [
              "<matplotlib.axes._subplots.AxesSubplot at 0x7f4f51036b90>"
            ]
          },
          "metadata": {
            "tags": []
          },
          "execution_count": 37
        },
        {
          "output_type": "display_data",
          "data": {
            "image/png": "[encoded data removed]",
            "text/plain": [
              "<matplotlib.figure.Figure at 0x7f4f51013cd0>"
            ]
          },
          "metadata": {
            "tags": []
          }
        }
      ]
    },
    {
      "metadata": {
        "id": "tPc4YnKcuV3K",
        "colab_type": "code",
        "colab": {
          "base_uri": "https://localhost:8080/",
          "height": 573
        },
        "outputId": "6aab8a97-3a68-4282-817e-8edcdb3d3098"
      },
      "cell_type": "code",
      "source": [
        "fdf.plot(kind='bar', figsize=(20,8), title=\"Usefulness of Learning Platform\")"
      ],
      "execution_count": 38,
      "outputs": [
        {
          "output_type": "execute_result",
          "data": {
            "text/plain": [
              "<matplotlib.axes._subplots.AxesSubplot at 0x7f4f50fbb690>"
            ]
          },
          "metadata": {
            "tags": []
          },
          "execution_count": 38
        },
        {
          "output_type": "display_data",
          "data": {
            "image/png": "[encoded data removed]",
            "text/plain": [
              "<matplotlib.figure.Figure at 0x7f4f5101f690>"
            ]
          },
          "metadata": {
            "tags": []
          }
        }
      ]
    },
    {
      "metadata": {
        "id": "6Or57p6zuWBP",
        "colab_type": "code",
        "colab": {
          "base_uri": "https://localhost:8080/",
          "height": 125
        },
        "outputId": "f9e67a49-e949-43f4-b1cf-bbc63ac46bd5"
      },
      "cell_type": "code",
      "source": [
        "cat_feature = [x for x in mcq.columns if x.find('LearningCategory') != -1]\n",
        "cat_feature"
      ],
      "execution_count": 40,
      "outputs": [
        {
          "output_type": "execute_result",
          "data": {
            "text/plain": [
              "[u'LearningCategorySelftTaught',\n",
              " u'LearningCategoryOnlineCourses',\n",
              " u'LearningCategoryWork',\n",
              " u'LearningCategoryUniversity',\n",
              " u'LearningCategoryKaggle',\n",
              " u'LearningCategoryOther']"
            ]
          },
          "metadata": {
            "tags": []
          },
          "execution_count": 40
        }
      ]
    },
    {
      "metadata": {
        "id": "rvDMt2Z_0VP5",
        "colab_type": "code",
        "colab": {
          "base_uri": "https://localhost:8080/",
          "height": 35
        },
        "outputId": "1ac93900-0e72-4181-c7c4-a8d3c99e758d"
      },
      "cell_type": "code",
      "source": [
        "len('LearningCategory')"
      ],
      "execution_count": 41,
      "outputs": [
        {
          "output_type": "execute_result",
          "data": {
            "text/plain": [
              "16"
            ]
          },
          "metadata": {
            "tags": []
          },
          "execution_count": 41
        }
      ]
    },
    {
      "metadata": {
        "id": "I8AMHFyQ0mRv",
        "colab_type": "code",
        "colab": {
          "base_uri": "https://localhost:8080/",
          "height": 1133
        },
        "outputId": "f1ef142c-2732-4896-ee3b-344393d49fa3"
      },
      "cell_type": "code",
      "source": [
        "mcq['LearningCategorySelftTaught']"
      ],
      "execution_count": 42,
      "outputs": [
        {
          "output_type": "execute_result",
          "data": {
            "text/plain": [
              "0         0.0\n",
              "1        10.0\n",
              "2        20.0\n",
              "3        30.0\n",
              "4        60.0\n",
              "5        45.0\n",
              "6        40.0\n",
              "7         0.0\n",
              "8        70.0\n",
              "9        10.0\n",
              "10        NaN\n",
              "11       10.0\n",
              "12       30.0\n",
              "13        NaN\n",
              "14       50.0\n",
              "15       50.0\n",
              "16        NaN\n",
              "17        NaN\n",
              "18       50.0\n",
              "19       50.0\n",
              "20       20.0\n",
              "21       30.0\n",
              "22       10.0\n",
              "23       55.0\n",
              "24        0.0\n",
              "25       10.0\n",
              "26       30.0\n",
              "27       20.0\n",
              "28       40.0\n",
              "29        NaN\n",
              "         ... \n",
              "16686    10.0\n",
              "16687    60.0\n",
              "16688    80.0\n",
              "16689     0.0\n",
              "16690    34.0\n",
              "16691    20.0\n",
              "16692    70.0\n",
              "16693    25.0\n",
              "16694    35.0\n",
              "16695    15.0\n",
              "16696     NaN\n",
              "16697    40.0\n",
              "16698    10.0\n",
              "16699     NaN\n",
              "16700    40.0\n",
              "16701    30.0\n",
              "16702    40.0\n",
              "16703    30.0\n",
              "16704     0.0\n",
              "16705     NaN\n",
              "16706    80.0\n",
              "16707     NaN\n",
              "16708     NaN\n",
              "16709    20.0\n",
              "16710     NaN\n",
              "16711    20.0\n",
              "16712    10.0\n",
              "16713     NaN\n",
              "16714     NaN\n",
              "16715     NaN\n",
              "Name: LearningCategorySelftTaught, Length: 16716, dtype: float64"
            ]
          },
          "metadata": {
            "tags": []
          },
          "execution_count": 42
        }
      ]
    },
    {
      "metadata": {
        "id": "ynX-bPxr0u-k",
        "colab_type": "code",
        "colab": {
          "base_uri": "https://localhost:8080/",
          "height": 35
        },
        "outputId": "44c34f53-5b19-4ce3-c33b-46ea96342e54"
      },
      "cell_type": "code",
      "source": [
        "mcq['LearningCategorySelftTaught'].mean()"
      ],
      "execution_count": 43,
      "outputs": [
        {
          "output_type": "execute_result",
          "data": {
            "text/plain": [
              "33.36677092074147"
            ]
          },
          "metadata": {
            "tags": []
          },
          "execution_count": 43
        }
      ]
    },
    {
      "metadata": {
        "id": "3pyaxTx7uWE-",
        "colab_type": "code",
        "colab": {
          "base_uri": "https://localhost:8080/",
          "height": 143
        },
        "outputId": "7f93ae45-675a-42a4-9342-2bbc1ec55b56"
      },
      "cell_type": "code",
      "source": [
        "cdf = {}  # 중괄호는 딕셔너리 이다. \n",
        "for feature in cat_feature:\n",
        "  cdf[feature[len('LearningCategory'):]] = mcq[feature].mean()\n",
        "\n",
        "cdf = pd.Series(cdf)\n",
        "cdf\n",
        "  \n"
      ],
      "execution_count": 44,
      "outputs": [
        {
          "output_type": "execute_result",
          "data": {
            "text/plain": [
              "Kaggle            5.531434\n",
              "OnlineCourses    27.375514\n",
              "Other             1.795940\n",
              "SelftTaught      33.366771\n",
              "University       16.988607\n",
              "Work             15.217593\n",
              "dtype: float64"
            ]
          },
          "metadata": {
            "tags": []
          },
          "execution_count": 44
        }
      ]
    },
    {
      "metadata": {
        "id": "VfCm8qJcuWKY",
        "colab_type": "code",
        "colab": {
          "base_uri": "https://localhost:8080/",
          "height": 35
        },
        "outputId": "bc08da79-8085-49a7-bbc1-6f1021c094c6"
      },
      "cell_type": "code",
      "source": [
        "'LearningCategorySelftTaught'[16:]  # 아하 카테고리의 앞부분을 잘라낸 것이구나"
      ],
      "execution_count": 48,
      "outputs": [
        {
          "output_type": "execute_result",
          "data": {
            "text/plain": [
              "'SelftTaught'"
            ]
          },
          "metadata": {
            "tags": []
          },
          "execution_count": 48
        }
      ]
    },
    {
      "metadata": {
        "id": "3uwe74rAuWP-",
        "colab_type": "code",
        "colab": {
          "base_uri": "https://localhost:8080/",
          "height": 266
        },
        "outputId": "adbebedb-88b6-4f6a-d0d7-efc21b26cf1e"
      },
      "cell_type": "code",
      "source": [
        "plt.pie(cdf, labels=cdf.index, autopct='%1.1f%%', shadow=True, startangle=140)\n",
        "plt.axis('equal')\n",
        "plt.title(\"Contribution of each Platform to Learning\")\n",
        "plt.show()"
      ],
      "execution_count": 49,
      "outputs": [
        {
          "output_type": "display_data",
          "data": {
            "image/png": "[encoded data removed]",
            "text/plain": [
              "<matplotlib.figure.Figure at 0x7f4f50f6f910>"
            ]
          },
          "metadata": {
            "tags": []
          }
        }
      ]
    },
    {
      "metadata": {
        "id": "ElVOm6GbuWT1",
        "colab_type": "code",
        "colab": {
          "base_uri": "https://localhost:8080/",
          "height": 98
        },
        "outputId": "2e6785a3-cff0-4c80-a1ed-56d68e294329"
      },
      "cell_type": "code",
      "source": [
        "# 데이터 과학은 컴터가 빵빵해야 하는가?\n",
        "# 이 질문은 누구에게 물어봤나?\n",
        "\n",
        "qc = questions.loc[questions['Column'].str.contains('HardwarePersonalProjectsSelect')]\n",
        "print(qc.shape)\n",
        "qc"
      ],
      "execution_count": 52,
      "outputs": [
        {
          "output_type": "stream",
          "text": [
            "(1, 3)\n"
          ],
          "name": "stdout"
        },
        {
          "output_type": "execute_result",
          "data": {
            "text/html": [
              "<div>\n",
              "<style scoped>\n",
              "    .dataframe tbody tr th:only-of-type {\n",
              "        vertical-align: middle;\n",
              "    }\n",
              "\n",
              "    .dataframe tbody tr th {\n",
              "        vertical-align: top;\n",
              "    }\n",
              "\n",
              "    .dataframe thead th {\n",
              "        text-align: right;\n",
              "    }\n",
              "</style>\n",
              "<table border=\"1\" class=\"dataframe\">\n",
              "  <thead>\n",
              "    <tr style=\"text-align: right;\">\n",
              "      <th></th>\n",
              "      <th>Column</th>\n",
              "      <th>Question</th>\n",
              "      <th>Asked</th>\n",
              "    </tr>\n",
              "  </thead>\n",
              "  <tbody>\n",
              "    <tr>\n",
              "      <th>74</th>\n",
              "      <td>HardwarePersonalProjectsSelect</td>\n",
              "      <td>Which computing hardware do you use for your p...</td>\n",
              "      <td>Learners</td>\n",
              "    </tr>\n",
              "  </tbody>\n",
              "</table>\n",
              "</div>"
            ],
            "text/plain": [
              "                            Column  \\\n",
              "74  HardwarePersonalProjectsSelect   \n",
              "\n",
              "                                             Question     Asked  \n",
              "74  Which computing hardware do you use for your p...  Learners  "
            ]
          },
          "metadata": {
            "tags": []
          },
          "execution_count": 52
        }
      ]
    },
    {
      "metadata": {
        "id": "hZjQvL0MuWW1",
        "colab_type": "code",
        "colab": {
          "base_uri": "https://localhost:8080/",
          "height": 35
        },
        "outputId": "2ac1cd02-0035-4bcf-b520-f9eb4f19c6ad"
      },
      "cell_type": "code",
      "source": [
        "mcq[mcq['HardwarePersonalProjectsSelect'].notnull()]['HardwarePersonalProjectsSelect'].shape"
      ],
      "execution_count": 68,
      "outputs": [
        {
          "output_type": "execute_result",
          "data": {
            "text/plain": [
              "(16716,)"
            ]
          },
          "metadata": {
            "tags": []
          },
          "execution_count": 68
        }
      ]
    },
    {
      "metadata": {
        "id": "Uh5WQ_WUuWaA",
        "colab_type": "code",
        "colab": {}
      },
      "cell_type": "code",
      "source": [
        "mcq['HardwarePersonalProjectsSelect'] = mcq['HardwarePersonalProjectsSelect'].astype('str').apply(lambda x : x.split(','))\n",
        "\n",
        "s = mcq.apply(lambda x: \n",
        "             pd.Series(x['HardwarePersonalProjectsSelect']),\n",
        "             axis=1).stack().reset_index(level=1, drop=True)\n",
        "s.name = 'hardware'"
      ],
      "execution_count": 0,
      "outputs": []
    },
    {
      "metadata": {
        "id": "o7q9YoDXuWef",
        "colab_type": "code",
        "colab": {}
      },
      "cell_type": "code",
      "source": [
        "s = s[s != 'nan']"
      ],
      "execution_count": 0,
      "outputs": []
    },
    {
      "metadata": {
        "id": "mVCkc8LXuWdZ",
        "colab_type": "code",
        "colab": {
          "base_uri": "https://localhost:8080/",
          "height": 948
        },
        "outputId": "46fc1a97-92aa-445d-b6c6-432b14da3a5c"
      },
      "cell_type": "code",
      "source": [
        "pd.DataFrame(s.value_counts())"
      ],
      "execution_count": 71,
      "outputs": [
        {
          "output_type": "execute_result",
          "data": {
            "text/html": [
              "<div>\n",
              "<style scoped>\n",
              "    .dataframe tbody tr th:only-of-type {\n",
              "        vertical-align: middle;\n",
              "    }\n",
              "\n",
              "    .dataframe tbody tr th {\n",
              "        vertical-align: top;\n",
              "    }\n",
              "\n",
              "    .dataframe thead th {\n",
              "        text-align: right;\n",
              "    }\n",
              "</style>\n",
              "<table border=\"1\" class=\"dataframe\">\n",
              "  <thead>\n",
              "    <tr style=\"text-align: right;\">\n",
              "      <th></th>\n",
              "      <th>hardware</th>\n",
              "    </tr>\n",
              "  </thead>\n",
              "  <tbody>\n",
              "    <tr>\n",
              "      <th>['[\\'[\"[\\\\\\'nan\\\\\\']\"]\\']']</th>\n",
              "      <td>12510</td>\n",
              "    </tr>\n",
              "    <tr>\n",
              "      <th>['[\\'[\"[\\\\\\'Basic laptop (Macbook)\\\\\\']\"]\\']']</th>\n",
              "      <td>1713</td>\n",
              "    </tr>\n",
              "    <tr>\n",
              "      <th>' \\' \" \\\\\\' Azure\\\\\\'\"\\''</th>\n",
              "      <td>669</td>\n",
              "    </tr>\n",
              "    <tr>\n",
              "      <th>' \\' \" \\\\\\' GCE ...)\\\\\\']\"]\\']']</th>\n",
              "      <td>560</td>\n",
              "    </tr>\n",
              "    <tr>\n",
              "      <th>['[\\'[\"[\\\\\\'Basic laptop (Macbook)\\\\\\'\"\\''</th>\n",
              "      <td>533</td>\n",
              "    </tr>\n",
              "    <tr>\n",
              "      <th>['[\\'[\"[\\\\\\'Gaming Laptop (Laptop + CUDA capable GPU)\\\\\\']\"]\\']']</th>\n",
              "      <td>427</td>\n",
              "    </tr>\n",
              "    <tr>\n",
              "      <th>['[\\'[\"[\\\\\\'Laptop + Cloud service (AWS\\\\\\'\"\\''</th>\n",
              "      <td>363</td>\n",
              "    </tr>\n",
              "    <tr>\n",
              "      <th>' \\' \" \\\\\\'Laptop + Cloud service (AWS\\\\\\'\"\\''</th>\n",
              "      <td>306</td>\n",
              "    </tr>\n",
              "    <tr>\n",
              "      <th>['[\\'[\"[\\\\\\'Traditional Workstation\\\\\\']\"]\\']']</th>\n",
              "      <td>304</td>\n",
              "    </tr>\n",
              "    <tr>\n",
              "      <th>['[\\'[\"[\\\\\\'Laptop or Workstation and local IT supported servers\\\\\\']\"]\\']']</th>\n",
              "      <td>268</td>\n",
              "    </tr>\n",
              "    <tr>\n",
              "      <th>['[\\'[\"[\\\\\\'GPU accelerated Workstation\\\\\\']\"]\\']']</th>\n",
              "      <td>190</td>\n",
              "    </tr>\n",
              "    <tr>\n",
              "      <th>' \\' \" \\\\\\'Traditional Workstation\\\\\\']\"]\\']']</th>\n",
              "      <td>175</td>\n",
              "    </tr>\n",
              "    <tr>\n",
              "      <th>['[\\'[\"[\\\\\\'Gaming Laptop (Laptop + CUDA capable GPU)\\\\\\'\"\\''</th>\n",
              "      <td>145</td>\n",
              "    </tr>\n",
              "    <tr>\n",
              "      <th>' \\' \" \\\\\\'Workstation + Cloud service\\\\\\']\"]\\']']</th>\n",
              "      <td>117</td>\n",
              "    </tr>\n",
              "    <tr>\n",
              "      <th>' \\' \" \\\\\\'GPU accelerated Workstation\\\\\\']\"]\\']']</th>\n",
              "      <td>109</td>\n",
              "    </tr>\n",
              "    <tr>\n",
              "      <th>' \\' \" \\\\\\' GCE ...)\\\\\\'\"\\''</th>\n",
              "      <td>109</td>\n",
              "    </tr>\n",
              "    <tr>\n",
              "      <th>' \\' \" \\\\\\'Laptop or Workstation and local IT supported servers\\\\\\']\"]\\']']</th>\n",
              "      <td>107</td>\n",
              "    </tr>\n",
              "    <tr>\n",
              "      <th>['[\\'[\"[\\\\\\'Other\\\\\\']\"]\\']']</th>\n",
              "      <td>105</td>\n",
              "    </tr>\n",
              "    <tr>\n",
              "      <th>' \\' \" \\\\\\'GPU accelerated Workstation\\\\\\'\"\\''</th>\n",
              "      <td>67</td>\n",
              "    </tr>\n",
              "    <tr>\n",
              "      <th>['[\\'[\"[\\\\\\'Workstation + Cloud service\\\\\\']\"]\\']']</th>\n",
              "      <td>50</td>\n",
              "    </tr>\n",
              "    <tr>\n",
              "      <th>['[\\'[\"[\\\\\\'GPU accelerated Workstation\\\\\\'\"\\''</th>\n",
              "      <td>50</td>\n",
              "    </tr>\n",
              "    <tr>\n",
              "      <th>['[\\'[\"[\\\\\\'Laptop or Workstation and local IT supported servers\\\\\\'\"\\''</th>\n",
              "      <td>43</td>\n",
              "    </tr>\n",
              "    <tr>\n",
              "      <th>' \\' \" \\\\\\'Other\\\\\\']\"]\\']']</th>\n",
              "      <td>42</td>\n",
              "    </tr>\n",
              "    <tr>\n",
              "      <th>' \\' \" \\\\\\'Gaming Laptop (Laptop + CUDA capable GPU)\\\\\\']\"]\\']']</th>\n",
              "      <td>39</td>\n",
              "    </tr>\n",
              "    <tr>\n",
              "      <th>' \\' \" \\\\\\'Traditional Workstation\\\\\\'\"\\''</th>\n",
              "      <td>33</td>\n",
              "    </tr>\n",
              "    <tr>\n",
              "      <th>' \\' \" \\\\\\'Gaming Laptop (Laptop + CUDA capable GPU)\\\\\\'\"\\''</th>\n",
              "      <td>30</td>\n",
              "    </tr>\n",
              "    <tr>\n",
              "      <th>' \\' \" \\\\\\'Laptop or Workstation and local IT supported servers\\\\\\'\"\\''</th>\n",
              "      <td>27</td>\n",
              "    </tr>\n",
              "    <tr>\n",
              "      <th>['[\\'[\"[\\\\\\'Traditional Workstation\\\\\\'\"\\''</th>\n",
              "      <td>15</td>\n",
              "    </tr>\n",
              "    <tr>\n",
              "      <th>' \\' \" \\\\\\'Workstation + Cloud service\\\\\\'\"\\''</th>\n",
              "      <td>7</td>\n",
              "    </tr>\n",
              "  </tbody>\n",
              "</table>\n",
              "</div>"
            ],
            "text/plain": [
              "                                                    hardware\n",
              "['[\\'[\"[\\\\\\'nan\\\\\\']\"]\\']']                            12510\n",
              "['[\\'[\"[\\\\\\'Basic laptop (Macbook)\\\\\\']\"]\\']']          1713\n",
              " ' \\' \" \\\\\\' Azure\\\\\\'\"\\''                               669\n",
              " ' \\' \" \\\\\\' GCE ...)\\\\\\']\"]\\']']                        560\n",
              "['[\\'[\"[\\\\\\'Basic laptop (Macbook)\\\\\\'\"\\''               533\n",
              "['[\\'[\"[\\\\\\'Gaming Laptop (Laptop + CUDA capabl...       427\n",
              "['[\\'[\"[\\\\\\'Laptop + Cloud service (AWS\\\\\\'\"\\''          363\n",
              " ' \\' \" \\\\\\'Laptop + Cloud service (AWS\\\\\\'\"\\''          306\n",
              "['[\\'[\"[\\\\\\'Traditional Workstation\\\\\\']\"]\\']']          304\n",
              "['[\\'[\"[\\\\\\'Laptop or Workstation and local IT ...       268\n",
              "['[\\'[\"[\\\\\\'GPU accelerated Workstation\\\\\\']\"]\\...       190\n",
              " ' \\' \" \\\\\\'Traditional Workstation\\\\\\']\"]\\']']          175\n",
              "['[\\'[\"[\\\\\\'Gaming Laptop (Laptop + CUDA capabl...       145\n",
              " ' \\' \" \\\\\\'Workstation + Cloud service\\\\\\']\"]\\...       117\n",
              " ' \\' \" \\\\\\'GPU accelerated Workstation\\\\\\']\"]\\...       109\n",
              " ' \\' \" \\\\\\' GCE ...)\\\\\\'\"\\''                            109\n",
              " ' \\' \" \\\\\\'Laptop or Workstation and local IT ...       107\n",
              "['[\\'[\"[\\\\\\'Other\\\\\\']\"]\\']']                            105\n",
              " ' \\' \" \\\\\\'GPU accelerated Workstation\\\\\\'\"\\''           67\n",
              "['[\\'[\"[\\\\\\'Workstation + Cloud service\\\\\\']\"]\\...        50\n",
              "['[\\'[\"[\\\\\\'GPU accelerated Workstation\\\\\\'\"\\''           50\n",
              "['[\\'[\"[\\\\\\'Laptop or Workstation and local IT ...        43\n",
              " ' \\' \" \\\\\\'Other\\\\\\']\"]\\']']                             42\n",
              " ' \\' \" \\\\\\'Gaming Laptop (Laptop + CUDA capabl...        39\n",
              " ' \\' \" \\\\\\'Traditional Workstation\\\\\\'\"\\''               33\n",
              " ' \\' \" \\\\\\'Gaming Laptop (Laptop + CUDA capabl...        30\n",
              " ' \\' \" \\\\\\'Laptop or Workstation and local IT ...        27\n",
              "['[\\'[\"[\\\\\\'Traditional Workstation\\\\\\'\"\\''               15\n",
              " ' \\' \" \\\\\\'Workstation + Cloud service\\\\\\'\"\\''            7"
            ]
          },
          "metadata": {
            "tags": []
          },
          "execution_count": 71
        }
      ]
    },
    {
      "metadata": {
        "id": "9mcgeCg5uWNr",
        "colab_type": "code",
        "colab": {
          "base_uri": "https://localhost:8080/",
          "height": 732
        },
        "outputId": "29400336-02c4-46f5-d829-83e79e64ab3f"
      },
      "cell_type": "code",
      "source": [
        "# 데이터 사이언스 공부시간\n",
        "plt.figure(figsize=(10,12))\n",
        "sns.countplot(y='TimeSpentStudying', data=mcq,\n",
        "             hue=\"EmploymentStatus\").legend(loc=\"center left\",\n",
        "                                           bbox_to_anchor=(1,0.5))"
      ],
      "execution_count": 72,
      "outputs": [
        {
          "output_type": "execute_result",
          "data": {
            "text/plain": [
              "<matplotlib.legend.Legend at 0x7f4f51364590>"
            ]
          },
          "metadata": {
            "tags": []
          },
          "execution_count": 72
        },
        {
          "output_type": "display_data",
          "data": {
            "image/png": "[encoded data removed]",
            "text/plain": [
              "<matplotlib.figure.Figure at 0x7f4f51364790>"
            ]
          },
          "metadata": {
            "tags": []
          }
        }
      ]
    },
    {
      "metadata": {
        "id": "esFKzHnf6Dif",
        "colab_type": "code",
        "colab": {
          "base_uri": "https://localhost:8080/",
          "height": 53
        },
        "outputId": "c0a7ef84-cceb-49d9-e18d-1b99e824f771"
      },
      "cell_type": "code",
      "source": [
        "full_time = mcq.loc[(mcq['EmploymentStatus'] == 'Employed full-time')]\n",
        "print(full_time.shape[0])\n",
        "looking_for_job = mcq.loc[(mcq['EmploymentStatus'] == 'Not employed, but looking for work')]\n",
        "print(looking_for_job.shape[0])"
      ],
      "execution_count": 74,
      "outputs": [
        {
          "output_type": "stream",
          "text": [
            "10897\n",
            "2110\n"
          ],
          "name": "stdout"
        }
      ]
    },
    {
      "metadata": {
        "id": "oZApORIBuWHg",
        "colab_type": "code",
        "colab": {
          "base_uri": "https://localhost:8080/",
          "height": 354
        },
        "outputId": "f6a15bdf-0a3a-44df-8d25-f738275112fe"
      },
      "cell_type": "code",
      "source": [
        "figure, (ax1, ax2) = plt.subplots(ncols=2)\n",
        "\n",
        "figure.set_size_inches(12,5)\n",
        "sns.countplot(x=\"TimeSpentStudying\", data=full_time, hue=\"EmploymentStatus\", ax=ax1).legend(loc='center right', bbox_to_anchor=(1,0.3))\n",
        "sns.countplot(x=\"TimeSpentStudying\", data=looking_for_job, hue=\"EmploymentStatus\", ax=ax2).legend(loc='center right', bbox_to_anchor=(1,0.5))"
      ],
      "execution_count": 78,
      "outputs": [
        {
          "output_type": "execute_result",
          "data": {
            "text/plain": [
              "<matplotlib.legend.Legend at 0x7f4f508d3a90>"
            ]
          },
          "metadata": {
            "tags": []
          },
          "execution_count": 78
        },
        {
          "output_type": "display_data",
          "data": {
            "image/png": "[encoded data removed]",
            "text/plain": [
              "<matplotlib.figure.Figure at 0x7f4f508d3290>"
            ]
          },
          "metadata": {
            "tags": []
          }
        }
      ]
    },
    {
      "metadata": {
        "id": "A-LTC8TFuV-3",
        "colab_type": "code",
        "colab": {}
      },
      "cell_type": "code",
      "source": [
        ""
      ],
      "execution_count": 0,
      "outputs": []
    },
    {
      "metadata": {
        "id": "gI2BYEtBuV8J",
        "colab_type": "code",
        "colab": {}
      },
      "cell_type": "code",
      "source": [
        ""
      ],
      "execution_count": 0,
      "outputs": []
    },
    {
      "metadata": {
        "id": "-OFsBbT2uV6j",
        "colab_type": "code",
        "colab": {}
      },
      "cell_type": "code",
      "source": [
        ""
      ],
      "execution_count": 0,
      "outputs": []
    },
    {
      "metadata": {
        "id": "9ZXk_zeSuV1O",
        "colab_type": "code",
        "colab": {}
      },
      "cell_type": "code",
      "source": [
        ""
      ],
      "execution_count": 0,
      "outputs": []
    },
    {
      "metadata": {
        "id": "iRTORYtcuVv2",
        "colab_type": "code",
        "colab": {}
      },
      "cell_type": "code",
      "source": [
        ""
      ],
      "execution_count": 0,
      "outputs": []
    },
    {
      "metadata": {
        "id": "Eberwr6xuVql",
        "colab_type": "code",
        "colab": {}
      },
      "cell_type": "code",
      "source": [
        ""
      ],
      "execution_count": 0,
      "outputs": []
    }
  ]
}