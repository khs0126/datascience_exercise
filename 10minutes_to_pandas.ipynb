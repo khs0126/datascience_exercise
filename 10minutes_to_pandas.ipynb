{
  "nbformat": 4,
  "nbformat_minor": 0,
  "metadata": {
    "colab": {
      "name": "10minutes_to_pandas.ipynb",
      "version": "0.3.2",
      "provenance": []
    },
    "kernelspec": {
      "name": "python3",
      "display_name": "Python 3"
    }
  },
  "cells": [
    {
      "cell_type": "markdown",
      "metadata": {
        "id": "view-in-github",
        "colab_type": "text"
      },
      "source": [
        "[View in Colaboratory](https://colab.research.google.com/github/nicewook/datascience_exercise/blob/master/10minutes_to_pandas.ipynb)"
      ]
    },
    {
      "metadata": {
        "id": "75uFn56lWO0G",
        "colab_type": "text"
      },
      "cell_type": "markdown",
      "source": [
        "# 10 minutes to pandas\n",
        "\n",
        "원문링크: http://pandas.pydata.org/pandas-docs/stable/10min.html"
      ]
    },
    {
      "metadata": {
        "id": "eFFz4I5iZzg5",
        "colab_type": "text"
      },
      "cell_type": "markdown",
      "source": [
        "# Object Creation"
      ]
    },
    {
      "metadata": {
        "id": "ipfiGK4qWeYP",
        "colab_type": "code",
        "colab": {}
      },
      "cell_type": "code",
      "source": [
        "# 기본 import\n",
        "import pandas as pd\n",
        "import numpy as np\n",
        "import matplotlib.pyplot as pt"
      ],
      "execution_count": 0,
      "outputs": []
    },
    {
      "metadata": {
        "id": "QOjHp8CCWm8X",
        "colab_type": "code",
        "colab": {
          "base_uri": "https://localhost:8080/",
          "height": 148
        },
        "outputId": "29c358d3-5af0-437a-a97a-fca4584c1eea"
      },
      "cell_type": "code",
      "source": [
        "# pd.Series 를 생성해보자. 하나의 열로 되어있는 리스트라고 하면 될까? \n",
        "s = pd.Series([1,3,5,np.nan,6,8])\n",
        "s"
      ],
      "execution_count": 2,
      "outputs": [
        {
          "output_type": "execute_result",
          "data": {
            "text/plain": [
              "0    1.0\n",
              "1    3.0\n",
              "2    5.0\n",
              "3    NaN\n",
              "4    6.0\n",
              "5    8.0\n",
              "dtype: float64"
            ]
          },
          "metadata": {
            "tags": []
          },
          "execution_count": 2
        }
      ]
    },
    {
      "metadata": {
        "id": "kY3RLCSvW-Do",
        "colab_type": "code",
        "colab": {
          "base_uri": "https://localhost:8080/",
          "height": 73
        },
        "outputId": "5f667e79-141d-411a-e0e7-ddc05a91bee7"
      },
      "cell_type": "code",
      "source": [
        "# 이번엔 pd.DataFrame 을 만들어보자. 관계형 데이터베이스의 테이블이라고 생각하자\n",
        "# Series 들이 모이면 DataFrame 이 된다. \n",
        "dates = pd.date_range('20180523', periods=6)\n",
        "dates"
      ],
      "execution_count": 3,
      "outputs": [
        {
          "output_type": "execute_result",
          "data": {
            "text/plain": [
              "DatetimeIndex(['2018-05-23', '2018-05-24', '2018-05-25', '2018-05-26',\n",
              "               '2018-05-27', '2018-05-28'],\n",
              "              dtype='datetime64[ns]', freq='D')"
            ]
          },
          "metadata": {
            "tags": []
          },
          "execution_count": 3
        }
      ]
    },
    {
      "metadata": {
        "id": "lipH7aMvXV1o",
        "colab_type": "code",
        "colab": {
          "base_uri": "https://localhost:8080/",
          "height": 233
        },
        "outputId": "9a30cba5-1710-42fc-9792-1617bbabc172"
      },
      "cell_type": "code",
      "source": [
        "# 표준정규분포 (standard normal distribution)에 따르는 랜덤값으로 6x4 만큼에 데이터를 만들어낸다\n",
        "df = pd.DataFrame(np.random.randn(6,4), index=dates, columns=list('ABCD'))\n",
        "df"
      ],
      "execution_count": 5,
      "outputs": [
        {
          "output_type": "execute_result",
          "data": {
            "text/html": [
              "<div>\n",
              "<style scoped>\n",
              "    .dataframe tbody tr th:only-of-type {\n",
              "        vertical-align: middle;\n",
              "    }\n",
              "\n",
              "    .dataframe tbody tr th {\n",
              "        vertical-align: top;\n",
              "    }\n",
              "\n",
              "    .dataframe thead th {\n",
              "        text-align: right;\n",
              "    }\n",
              "</style>\n",
              "<table border=\"1\" class=\"dataframe\">\n",
              "  <thead>\n",
              "    <tr style=\"text-align: right;\">\n",
              "      <th></th>\n",
              "      <th>A</th>\n",
              "      <th>B</th>\n",
              "      <th>C</th>\n",
              "      <th>D</th>\n",
              "    </tr>\n",
              "  </thead>\n",
              "  <tbody>\n",
              "    <tr>\n",
              "      <th>2018-05-23</th>\n",
              "      <td>-0.638557</td>\n",
              "      <td>-0.613279</td>\n",
              "      <td>0.021428</td>\n",
              "      <td>-0.996500</td>\n",
              "    </tr>\n",
              "    <tr>\n",
              "      <th>2018-05-24</th>\n",
              "      <td>-1.197896</td>\n",
              "      <td>-1.497643</td>\n",
              "      <td>0.024177</td>\n",
              "      <td>1.265205</td>\n",
              "    </tr>\n",
              "    <tr>\n",
              "      <th>2018-05-25</th>\n",
              "      <td>0.079556</td>\n",
              "      <td>-0.716654</td>\n",
              "      <td>0.425823</td>\n",
              "      <td>0.003608</td>\n",
              "    </tr>\n",
              "    <tr>\n",
              "      <th>2018-05-26</th>\n",
              "      <td>0.153308</td>\n",
              "      <td>0.231155</td>\n",
              "      <td>1.861366</td>\n",
              "      <td>-1.669781</td>\n",
              "    </tr>\n",
              "    <tr>\n",
              "      <th>2018-05-27</th>\n",
              "      <td>0.057988</td>\n",
              "      <td>0.820522</td>\n",
              "      <td>0.480691</td>\n",
              "      <td>-0.001284</td>\n",
              "    </tr>\n",
              "    <tr>\n",
              "      <th>2018-05-28</th>\n",
              "      <td>0.503431</td>\n",
              "      <td>0.333456</td>\n",
              "      <td>-0.100551</td>\n",
              "      <td>-0.119406</td>\n",
              "    </tr>\n",
              "  </tbody>\n",
              "</table>\n",
              "</div>"
            ],
            "text/plain": [
              "                   A         B         C         D\n",
              "2018-05-23 -0.638557 -0.613279  0.021428 -0.996500\n",
              "2018-05-24 -1.197896 -1.497643  0.024177  1.265205\n",
              "2018-05-25  0.079556 -0.716654  0.425823  0.003608\n",
              "2018-05-26  0.153308  0.231155  1.861366 -1.669781\n",
              "2018-05-27  0.057988  0.820522  0.480691 -0.001284\n",
              "2018-05-28  0.503431  0.333456 -0.100551 -0.119406"
            ]
          },
          "metadata": {
            "tags": []
          },
          "execution_count": 5
        }
      ]
    },
    {
      "metadata": {
        "id": "36Pb6ft3Xmq3",
        "colab_type": "code",
        "colab": {
          "base_uri": "https://localhost:8080/",
          "height": 171
        },
        "outputId": "6ccdb74a-2470-4ca0-afdb-1b745a0abce6"
      },
      "cell_type": "code",
      "source": [
        "# 이번에는 각 column 을 다양한 방법으로 전달해서 DataFrame 을 만들어보자\n",
        "# 하나의 column 은 딕셔너리의 key:value 쌍처럼 생각하면 되겠다.\n",
        "df2 = pd.DataFrame({ 'A' : 1., \n",
        "                   'B' : pd.Timestamp('20180523'), \n",
        "                   'C' : pd.Series(1, index=list(range(4)), dtype='float32'),\n",
        "                   'D' : np.array([3] * 4, dtype='int32'),\n",
        "                   'E' : pd.Categorical([\"test\", \"train\", \"test\", \"train\"]),\n",
        "                   'F' : 'foo'\n",
        "                   })\n",
        "df2"
      ],
      "execution_count": 9,
      "outputs": [
        {
          "output_type": "execute_result",
          "data": {
            "text/html": [
              "<div>\n",
              "<style scoped>\n",
              "    .dataframe tbody tr th:only-of-type {\n",
              "        vertical-align: middle;\n",
              "    }\n",
              "\n",
              "    .dataframe tbody tr th {\n",
              "        vertical-align: top;\n",
              "    }\n",
              "\n",
              "    .dataframe thead th {\n",
              "        text-align: right;\n",
              "    }\n",
              "</style>\n",
              "<table border=\"1\" class=\"dataframe\">\n",
              "  <thead>\n",
              "    <tr style=\"text-align: right;\">\n",
              "      <th></th>\n",
              "      <th>A</th>\n",
              "      <th>B</th>\n",
              "      <th>C</th>\n",
              "      <th>D</th>\n",
              "      <th>E</th>\n",
              "      <th>F</th>\n",
              "    </tr>\n",
              "  </thead>\n",
              "  <tbody>\n",
              "    <tr>\n",
              "      <th>0</th>\n",
              "      <td>1.0</td>\n",
              "      <td>2018-05-23</td>\n",
              "      <td>1.0</td>\n",
              "      <td>3</td>\n",
              "      <td>test</td>\n",
              "      <td>foo</td>\n",
              "    </tr>\n",
              "    <tr>\n",
              "      <th>1</th>\n",
              "      <td>1.0</td>\n",
              "      <td>2018-05-23</td>\n",
              "      <td>1.0</td>\n",
              "      <td>3</td>\n",
              "      <td>train</td>\n",
              "      <td>foo</td>\n",
              "    </tr>\n",
              "    <tr>\n",
              "      <th>2</th>\n",
              "      <td>1.0</td>\n",
              "      <td>2018-05-23</td>\n",
              "      <td>1.0</td>\n",
              "      <td>3</td>\n",
              "      <td>test</td>\n",
              "      <td>foo</td>\n",
              "    </tr>\n",
              "    <tr>\n",
              "      <th>3</th>\n",
              "      <td>1.0</td>\n",
              "      <td>2018-05-23</td>\n",
              "      <td>1.0</td>\n",
              "      <td>3</td>\n",
              "      <td>train</td>\n",
              "      <td>foo</td>\n",
              "    </tr>\n",
              "  </tbody>\n",
              "</table>\n",
              "</div>"
            ],
            "text/plain": [
              "     A          B    C  D      E    F\n",
              "0  1.0 2018-05-23  1.0  3   test  foo\n",
              "1  1.0 2018-05-23  1.0  3  train  foo\n",
              "2  1.0 2018-05-23  1.0  3   test  foo\n",
              "3  1.0 2018-05-23  1.0  3  train  foo"
            ]
          },
          "metadata": {
            "tags": []
          },
          "execution_count": 9
        }
      ]
    },
    {
      "metadata": {
        "id": "gdsUuBb7ZErI",
        "colab_type": "code",
        "colab": {
          "base_uri": "https://localhost:8080/",
          "height": 241
        },
        "outputId": "ddb1c1f5-25c5-4fb3-d6b3-ac4181d0d46f"
      },
      "cell_type": "code",
      "source": [
        "# 각 column 의 data type 을 보자\n",
        "print (df.dtypes)\n",
        "print (df2.dtypes)"
      ],
      "execution_count": 11,
      "outputs": [
        {
          "output_type": "stream",
          "text": [
            "A    float64\n",
            "B    float64\n",
            "C    float64\n",
            "D    float64\n",
            "dtype: object\n",
            "A           float64\n",
            "B    datetime64[ns]\n",
            "C           float32\n",
            "D             int32\n",
            "E          category\n",
            "F            object\n",
            "dtype: object\n"
          ],
          "name": "stdout"
        }
      ]
    },
    {
      "metadata": {
        "id": "tmAtr5e1ZbkA",
        "colab_type": "code",
        "colab": {
          "base_uri": "https://localhost:8080/",
          "height": 139
        },
        "outputId": "13d878b5-5bd3-4767-eb9d-a65b4c90f305"
      },
      "cell_type": "code",
      "source": [
        "# DataFrame 이름에 TAB 만 쳐도 자동완성이 된다.해보시라\n",
        "df2."
      ],
      "execution_count": 12,
      "outputs": [
        {
          "output_type": "error",
          "ename": "SyntaxError",
          "evalue": "ignored",
          "traceback": [
            "\u001b[0;36m  File \u001b[0;32m\"<ipython-input-12-915637deb483>\"\u001b[0;36m, line \u001b[0;32m1\u001b[0m\n\u001b[0;31m    df2.<TAB>\u001b[0m\n\u001b[0m        ^\u001b[0m\n\u001b[0;31mSyntaxError\u001b[0m\u001b[0;31m:\u001b[0m invalid syntax\n"
          ]
        }
      ]
    },
    {
      "metadata": {
        "id": "LUq5WFYYZr9W",
        "colab_type": "text"
      },
      "cell_type": "markdown",
      "source": [
        "# Viewing Data"
      ]
    },
    {
      "metadata": {
        "id": "jSpIOmeTaAqx",
        "colab_type": "code",
        "colab": {
          "base_uri": "https://localhost:8080/",
          "height": 167
        },
        "outputId": "4d9d49b0-26b1-4307-a25f-ba8762a3e183"
      },
      "cell_type": "code",
      "source": [
        "# frame 의 맨 위와 아래를 보기\n",
        "print (df.head(3))\n",
        "print (df.tail(3))"
      ],
      "execution_count": 13,
      "outputs": [
        {
          "output_type": "stream",
          "text": [
            "                   A         B         C         D\n",
            "2018-05-23 -0.638557 -0.613279  0.021428 -0.996500\n",
            "2018-05-24 -1.197896 -1.497643  0.024177  1.265205\n",
            "2018-05-25  0.079556 -0.716654  0.425823  0.003608\n",
            "                   A         B         C         D\n",
            "2018-05-26  0.153308  0.231155  1.861366 -1.669781\n",
            "2018-05-27  0.057988  0.820522  0.480691 -0.001284\n",
            "2018-05-28  0.503431  0.333456 -0.100551 -0.119406\n"
          ],
          "name": "stdout"
        }
      ]
    },
    {
      "metadata": {
        "id": "LofULjFdaIz4",
        "colab_type": "code",
        "colab": {
          "base_uri": "https://localhost:8080/",
          "height": 419
        },
        "outputId": "3a43c1fc-b068-4909-a4a8-61a7908043e2"
      },
      "cell_type": "code",
      "source": [
        "# frame 의 세 요소를 보자 \n",
        "# 행의 인덱스값, 열의 이름, 실제 값들\n",
        "print (df.index)\n",
        "print (df.columns)\n",
        "print (df.values)\n",
        "df"
      ],
      "execution_count": 15,
      "outputs": [
        {
          "output_type": "stream",
          "text": [
            "DatetimeIndex(['2018-05-23', '2018-05-24', '2018-05-25', '2018-05-26',\n",
            "               '2018-05-27', '2018-05-28'],\n",
            "              dtype='datetime64[ns]', freq='D')\n",
            "Index(['A', 'B', 'C', 'D'], dtype='object')\n",
            "[[-6.38557153e-01 -6.13279385e-01  2.14276137e-02 -9.96500123e-01]\n",
            " [-1.19789631e+00 -1.49764340e+00  2.41772856e-02  1.26520547e+00]\n",
            " [ 7.95556217e-02 -7.16653947e-01  4.25823098e-01  3.60785080e-03]\n",
            " [ 1.53307919e-01  2.31154991e-01  1.86136591e+00 -1.66978113e+00]\n",
            " [ 5.79877442e-02  8.20522387e-01  4.80690588e-01 -1.28392147e-03]\n",
            " [ 5.03430569e-01  3.33455900e-01 -1.00550591e-01 -1.19405571e-01]]\n"
          ],
          "name": "stdout"
        },
        {
          "output_type": "execute_result",
          "data": {
            "text/html": [
              "<div>\n",
              "<style scoped>\n",
              "    .dataframe tbody tr th:only-of-type {\n",
              "        vertical-align: middle;\n",
              "    }\n",
              "\n",
              "    .dataframe tbody tr th {\n",
              "        vertical-align: top;\n",
              "    }\n",
              "\n",
              "    .dataframe thead th {\n",
              "        text-align: right;\n",
              "    }\n",
              "</style>\n",
              "<table border=\"1\" class=\"dataframe\">\n",
              "  <thead>\n",
              "    <tr style=\"text-align: right;\">\n",
              "      <th></th>\n",
              "      <th>A</th>\n",
              "      <th>B</th>\n",
              "      <th>C</th>\n",
              "      <th>D</th>\n",
              "    </tr>\n",
              "  </thead>\n",
              "  <tbody>\n",
              "    <tr>\n",
              "      <th>2018-05-23</th>\n",
              "      <td>-0.638557</td>\n",
              "      <td>-0.613279</td>\n",
              "      <td>0.021428</td>\n",
              "      <td>-0.996500</td>\n",
              "    </tr>\n",
              "    <tr>\n",
              "      <th>2018-05-24</th>\n",
              "      <td>-1.197896</td>\n",
              "      <td>-1.497643</td>\n",
              "      <td>0.024177</td>\n",
              "      <td>1.265205</td>\n",
              "    </tr>\n",
              "    <tr>\n",
              "      <th>2018-05-25</th>\n",
              "      <td>0.079556</td>\n",
              "      <td>-0.716654</td>\n",
              "      <td>0.425823</td>\n",
              "      <td>0.003608</td>\n",
              "    </tr>\n",
              "    <tr>\n",
              "      <th>2018-05-26</th>\n",
              "      <td>0.153308</td>\n",
              "      <td>0.231155</td>\n",
              "      <td>1.861366</td>\n",
              "      <td>-1.669781</td>\n",
              "    </tr>\n",
              "    <tr>\n",
              "      <th>2018-05-27</th>\n",
              "      <td>0.057988</td>\n",
              "      <td>0.820522</td>\n",
              "      <td>0.480691</td>\n",
              "      <td>-0.001284</td>\n",
              "    </tr>\n",
              "    <tr>\n",
              "      <th>2018-05-28</th>\n",
              "      <td>0.503431</td>\n",
              "      <td>0.333456</td>\n",
              "      <td>-0.100551</td>\n",
              "      <td>-0.119406</td>\n",
              "    </tr>\n",
              "  </tbody>\n",
              "</table>\n",
              "</div>"
            ],
            "text/plain": [
              "                   A         B         C         D\n",
              "2018-05-23 -0.638557 -0.613279  0.021428 -0.996500\n",
              "2018-05-24 -1.197896 -1.497643  0.024177  1.265205\n",
              "2018-05-25  0.079556 -0.716654  0.425823  0.003608\n",
              "2018-05-26  0.153308  0.231155  1.861366 -1.669781\n",
              "2018-05-27  0.057988  0.820522  0.480691 -0.001284\n",
              "2018-05-28  0.503431  0.333456 -0.100551 -0.119406"
            ]
          },
          "metadata": {
            "tags": []
          },
          "execution_count": 15
        }
      ]
    },
    {
      "metadata": {
        "id": "__BdWgdhacDJ",
        "colab_type": "code",
        "colab": {
          "base_uri": "https://localhost:8080/",
          "height": 294
        },
        "outputId": "b9f39404-2881-4240-e6cc-73b536654e9d"
      },
      "cell_type": "code",
      "source": [
        "# describe 만으로도 전반적인 정보를 얻을 수 있다.\n",
        "df.describe()"
      ],
      "execution_count": 17,
      "outputs": [
        {
          "output_type": "execute_result",
          "data": {
            "text/html": [
              "<div>\n",
              "<style scoped>\n",
              "    .dataframe tbody tr th:only-of-type {\n",
              "        vertical-align: middle;\n",
              "    }\n",
              "\n",
              "    .dataframe tbody tr th {\n",
              "        vertical-align: top;\n",
              "    }\n",
              "\n",
              "    .dataframe thead th {\n",
              "        text-align: right;\n",
              "    }\n",
              "</style>\n",
              "<table border=\"1\" class=\"dataframe\">\n",
              "  <thead>\n",
              "    <tr style=\"text-align: right;\">\n",
              "      <th></th>\n",
              "      <th>A</th>\n",
              "      <th>B</th>\n",
              "      <th>C</th>\n",
              "      <th>D</th>\n",
              "    </tr>\n",
              "  </thead>\n",
              "  <tbody>\n",
              "    <tr>\n",
              "      <th>count</th>\n",
              "      <td>6.000000</td>\n",
              "      <td>6.000000</td>\n",
              "      <td>6.000000</td>\n",
              "      <td>6.000000</td>\n",
              "    </tr>\n",
              "    <tr>\n",
              "      <th>mean</th>\n",
              "      <td>-0.173695</td>\n",
              "      <td>-0.240407</td>\n",
              "      <td>0.452156</td>\n",
              "      <td>-0.253026</td>\n",
              "    </tr>\n",
              "    <tr>\n",
              "      <th>std</th>\n",
              "      <td>0.624232</td>\n",
              "      <td>0.851322</td>\n",
              "      <td>0.729597</td>\n",
              "      <td>1.001206</td>\n",
              "    </tr>\n",
              "    <tr>\n",
              "      <th>min</th>\n",
              "      <td>-1.197896</td>\n",
              "      <td>-1.497643</td>\n",
              "      <td>-0.100551</td>\n",
              "      <td>-1.669781</td>\n",
              "    </tr>\n",
              "    <tr>\n",
              "      <th>25%</th>\n",
              "      <td>-0.464421</td>\n",
              "      <td>-0.690810</td>\n",
              "      <td>0.022115</td>\n",
              "      <td>-0.777226</td>\n",
              "    </tr>\n",
              "    <tr>\n",
              "      <th>50%</th>\n",
              "      <td>0.068772</td>\n",
              "      <td>-0.191062</td>\n",
              "      <td>0.225000</td>\n",
              "      <td>-0.060345</td>\n",
              "    </tr>\n",
              "    <tr>\n",
              "      <th>75%</th>\n",
              "      <td>0.134870</td>\n",
              "      <td>0.307881</td>\n",
              "      <td>0.466974</td>\n",
              "      <td>0.002385</td>\n",
              "    </tr>\n",
              "    <tr>\n",
              "      <th>max</th>\n",
              "      <td>0.503431</td>\n",
              "      <td>0.820522</td>\n",
              "      <td>1.861366</td>\n",
              "      <td>1.265205</td>\n",
              "    </tr>\n",
              "  </tbody>\n",
              "</table>\n",
              "</div>"
            ],
            "text/plain": [
              "              A         B         C         D\n",
              "count  6.000000  6.000000  6.000000  6.000000\n",
              "mean  -0.173695 -0.240407  0.452156 -0.253026\n",
              "std    0.624232  0.851322  0.729597  1.001206\n",
              "min   -1.197896 -1.497643 -0.100551 -1.669781\n",
              "25%   -0.464421 -0.690810  0.022115 -0.777226\n",
              "50%    0.068772 -0.191062  0.225000 -0.060345\n",
              "75%    0.134870  0.307881  0.466974  0.002385\n",
              "max    0.503431  0.820522  1.861366  1.265205"
            ]
          },
          "metadata": {
            "tags": []
          },
          "execution_count": 17
        }
      ]
    },
    {
      "metadata": {
        "id": "23uwlyBfao5T",
        "colab_type": "code",
        "colab": {
          "base_uri": "https://localhost:8080/",
          "height": 171
        },
        "outputId": "45ea7eaa-9fdd-4ab3-b733-6d9e57eb80ed"
      },
      "cell_type": "code",
      "source": [
        "# 행과 열을 바꿔보자\n",
        "df.T"
      ],
      "execution_count": 19,
      "outputs": [
        {
          "output_type": "execute_result",
          "data": {
            "text/html": [
              "<div>\n",
              "<style scoped>\n",
              "    .dataframe tbody tr th:only-of-type {\n",
              "        vertical-align: middle;\n",
              "    }\n",
              "\n",
              "    .dataframe tbody tr th {\n",
              "        vertical-align: top;\n",
              "    }\n",
              "\n",
              "    .dataframe thead th {\n",
              "        text-align: right;\n",
              "    }\n",
              "</style>\n",
              "<table border=\"1\" class=\"dataframe\">\n",
              "  <thead>\n",
              "    <tr style=\"text-align: right;\">\n",
              "      <th></th>\n",
              "      <th>2018-05-23 00:00:00</th>\n",
              "      <th>2018-05-24 00:00:00</th>\n",
              "      <th>2018-05-25 00:00:00</th>\n",
              "      <th>2018-05-26 00:00:00</th>\n",
              "      <th>2018-05-27 00:00:00</th>\n",
              "      <th>2018-05-28 00:00:00</th>\n",
              "    </tr>\n",
              "  </thead>\n",
              "  <tbody>\n",
              "    <tr>\n",
              "      <th>A</th>\n",
              "      <td>-0.638557</td>\n",
              "      <td>-1.197896</td>\n",
              "      <td>0.079556</td>\n",
              "      <td>0.153308</td>\n",
              "      <td>0.057988</td>\n",
              "      <td>0.503431</td>\n",
              "    </tr>\n",
              "    <tr>\n",
              "      <th>B</th>\n",
              "      <td>-0.613279</td>\n",
              "      <td>-1.497643</td>\n",
              "      <td>-0.716654</td>\n",
              "      <td>0.231155</td>\n",
              "      <td>0.820522</td>\n",
              "      <td>0.333456</td>\n",
              "    </tr>\n",
              "    <tr>\n",
              "      <th>C</th>\n",
              "      <td>0.021428</td>\n",
              "      <td>0.024177</td>\n",
              "      <td>0.425823</td>\n",
              "      <td>1.861366</td>\n",
              "      <td>0.480691</td>\n",
              "      <td>-0.100551</td>\n",
              "    </tr>\n",
              "    <tr>\n",
              "      <th>D</th>\n",
              "      <td>-0.996500</td>\n",
              "      <td>1.265205</td>\n",
              "      <td>0.003608</td>\n",
              "      <td>-1.669781</td>\n",
              "      <td>-0.001284</td>\n",
              "      <td>-0.119406</td>\n",
              "    </tr>\n",
              "  </tbody>\n",
              "</table>\n",
              "</div>"
            ],
            "text/plain": [
              "   2018-05-23  2018-05-24  2018-05-25  2018-05-26  2018-05-27  2018-05-28\n",
              "A   -0.638557   -1.197896    0.079556    0.153308    0.057988    0.503431\n",
              "B   -0.613279   -1.497643   -0.716654    0.231155    0.820522    0.333456\n",
              "C    0.021428    0.024177    0.425823    1.861366    0.480691   -0.100551\n",
              "D   -0.996500    1.265205    0.003608   -1.669781   -0.001284   -0.119406"
            ]
          },
          "metadata": {
            "tags": []
          },
          "execution_count": 19
        }
      ]
    },
    {
      "metadata": {
        "id": "MNejga3Ca0xg",
        "colab_type": "code",
        "colab": {
          "base_uri": "https://localhost:8080/",
          "height": 233
        },
        "outputId": "fda0d707-3adf-4ebc-f7eb-1a7f3d353bd8"
      },
      "cell_type": "code",
      "source": [
        "# axis 를 기준으로 정렬\n",
        "df.sort_index(axis=1, ascending=False)"
      ],
      "execution_count": 20,
      "outputs": [
        {
          "output_type": "execute_result",
          "data": {
            "text/html": [
              "<div>\n",
              "<style scoped>\n",
              "    .dataframe tbody tr th:only-of-type {\n",
              "        vertical-align: middle;\n",
              "    }\n",
              "\n",
              "    .dataframe tbody tr th {\n",
              "        vertical-align: top;\n",
              "    }\n",
              "\n",
              "    .dataframe thead th {\n",
              "        text-align: right;\n",
              "    }\n",
              "</style>\n",
              "<table border=\"1\" class=\"dataframe\">\n",
              "  <thead>\n",
              "    <tr style=\"text-align: right;\">\n",
              "      <th></th>\n",
              "      <th>D</th>\n",
              "      <th>C</th>\n",
              "      <th>B</th>\n",
              "      <th>A</th>\n",
              "    </tr>\n",
              "  </thead>\n",
              "  <tbody>\n",
              "    <tr>\n",
              "      <th>2018-05-23</th>\n",
              "      <td>-0.996500</td>\n",
              "      <td>0.021428</td>\n",
              "      <td>-0.613279</td>\n",
              "      <td>-0.638557</td>\n",
              "    </tr>\n",
              "    <tr>\n",
              "      <th>2018-05-24</th>\n",
              "      <td>1.265205</td>\n",
              "      <td>0.024177</td>\n",
              "      <td>-1.497643</td>\n",
              "      <td>-1.197896</td>\n",
              "    </tr>\n",
              "    <tr>\n",
              "      <th>2018-05-25</th>\n",
              "      <td>0.003608</td>\n",
              "      <td>0.425823</td>\n",
              "      <td>-0.716654</td>\n",
              "      <td>0.079556</td>\n",
              "    </tr>\n",
              "    <tr>\n",
              "      <th>2018-05-26</th>\n",
              "      <td>-1.669781</td>\n",
              "      <td>1.861366</td>\n",
              "      <td>0.231155</td>\n",
              "      <td>0.153308</td>\n",
              "    </tr>\n",
              "    <tr>\n",
              "      <th>2018-05-27</th>\n",
              "      <td>-0.001284</td>\n",
              "      <td>0.480691</td>\n",
              "      <td>0.820522</td>\n",
              "      <td>0.057988</td>\n",
              "    </tr>\n",
              "    <tr>\n",
              "      <th>2018-05-28</th>\n",
              "      <td>-0.119406</td>\n",
              "      <td>-0.100551</td>\n",
              "      <td>0.333456</td>\n",
              "      <td>0.503431</td>\n",
              "    </tr>\n",
              "  </tbody>\n",
              "</table>\n",
              "</div>"
            ],
            "text/plain": [
              "                   D         C         B         A\n",
              "2018-05-23 -0.996500  0.021428 -0.613279 -0.638557\n",
              "2018-05-24  1.265205  0.024177 -1.497643 -1.197896\n",
              "2018-05-25  0.003608  0.425823 -0.716654  0.079556\n",
              "2018-05-26 -1.669781  1.861366  0.231155  0.153308\n",
              "2018-05-27 -0.001284  0.480691  0.820522  0.057988\n",
              "2018-05-28 -0.119406 -0.100551  0.333456  0.503431"
            ]
          },
          "metadata": {
            "tags": []
          },
          "execution_count": 20
        }
      ]
    },
    {
      "metadata": {
        "id": "hMMvM5GUfXZq",
        "colab_type": "code",
        "colab": {
          "base_uri": "https://localhost:8080/",
          "height": 228
        },
        "outputId": "e68c50ea-9fc9-4703-81ea-58152fb7bfd4"
      },
      "cell_type": "code",
      "source": [
        "df.sort_index(axis=1, ascending=True)"
      ],
      "execution_count": 22,
      "outputs": [
        {
          "output_type": "execute_result",
          "data": {
            "text/html": [
              "<div>\n",
              "<style scoped>\n",
              "    .dataframe tbody tr th:only-of-type {\n",
              "        vertical-align: middle;\n",
              "    }\n",
              "\n",
              "    .dataframe tbody tr th {\n",
              "        vertical-align: top;\n",
              "    }\n",
              "\n",
              "    .dataframe thead th {\n",
              "        text-align: right;\n",
              "    }\n",
              "</style>\n",
              "<table border=\"1\" class=\"dataframe\">\n",
              "  <thead>\n",
              "    <tr style=\"text-align: right;\">\n",
              "      <th></th>\n",
              "      <th>A</th>\n",
              "      <th>B</th>\n",
              "      <th>C</th>\n",
              "      <th>D</th>\n",
              "    </tr>\n",
              "  </thead>\n",
              "  <tbody>\n",
              "    <tr>\n",
              "      <th>2018-05-23</th>\n",
              "      <td>-0.638557</td>\n",
              "      <td>-0.613279</td>\n",
              "      <td>0.021428</td>\n",
              "      <td>-0.996500</td>\n",
              "    </tr>\n",
              "    <tr>\n",
              "      <th>2018-05-24</th>\n",
              "      <td>-1.197896</td>\n",
              "      <td>-1.497643</td>\n",
              "      <td>0.024177</td>\n",
              "      <td>1.265205</td>\n",
              "    </tr>\n",
              "    <tr>\n",
              "      <th>2018-05-25</th>\n",
              "      <td>0.079556</td>\n",
              "      <td>-0.716654</td>\n",
              "      <td>0.425823</td>\n",
              "      <td>0.003608</td>\n",
              "    </tr>\n",
              "    <tr>\n",
              "      <th>2018-05-26</th>\n",
              "      <td>0.153308</td>\n",
              "      <td>0.231155</td>\n",
              "      <td>1.861366</td>\n",
              "      <td>-1.669781</td>\n",
              "    </tr>\n",
              "    <tr>\n",
              "      <th>2018-05-27</th>\n",
              "      <td>0.057988</td>\n",
              "      <td>0.820522</td>\n",
              "      <td>0.480691</td>\n",
              "      <td>-0.001284</td>\n",
              "    </tr>\n",
              "    <tr>\n",
              "      <th>2018-05-28</th>\n",
              "      <td>0.503431</td>\n",
              "      <td>0.333456</td>\n",
              "      <td>-0.100551</td>\n",
              "      <td>-0.119406</td>\n",
              "    </tr>\n",
              "  </tbody>\n",
              "</table>\n",
              "</div>"
            ],
            "text/plain": [
              "                   A         B         C         D\n",
              "2018-05-23 -0.638557 -0.613279  0.021428 -0.996500\n",
              "2018-05-24 -1.197896 -1.497643  0.024177  1.265205\n",
              "2018-05-25  0.079556 -0.716654  0.425823  0.003608\n",
              "2018-05-26  0.153308  0.231155  1.861366 -1.669781\n",
              "2018-05-27  0.057988  0.820522  0.480691 -0.001284\n",
              "2018-05-28  0.503431  0.333456 -0.100551 -0.119406"
            ]
          },
          "metadata": {
            "tags": []
          },
          "execution_count": 22
        }
      ]
    },
    {
      "metadata": {
        "id": "FKUm3DfRfe5v",
        "colab_type": "code",
        "colab": {
          "base_uri": "https://localhost:8080/",
          "height": 228
        },
        "outputId": "9353c4d3-9324-4561-8473-197596ef5ee4"
      },
      "cell_type": "code",
      "source": [
        "df.sort_index(axis=0, ascending=False)"
      ],
      "execution_count": 24,
      "outputs": [
        {
          "output_type": "execute_result",
          "data": {
            "text/html": [
              "<div>\n",
              "<style scoped>\n",
              "    .dataframe tbody tr th:only-of-type {\n",
              "        vertical-align: middle;\n",
              "    }\n",
              "\n",
              "    .dataframe tbody tr th {\n",
              "        vertical-align: top;\n",
              "    }\n",
              "\n",
              "    .dataframe thead th {\n",
              "        text-align: right;\n",
              "    }\n",
              "</style>\n",
              "<table border=\"1\" class=\"dataframe\">\n",
              "  <thead>\n",
              "    <tr style=\"text-align: right;\">\n",
              "      <th></th>\n",
              "      <th>A</th>\n",
              "      <th>B</th>\n",
              "      <th>C</th>\n",
              "      <th>D</th>\n",
              "    </tr>\n",
              "  </thead>\n",
              "  <tbody>\n",
              "    <tr>\n",
              "      <th>2018-05-28</th>\n",
              "      <td>0.503431</td>\n",
              "      <td>0.333456</td>\n",
              "      <td>-0.100551</td>\n",
              "      <td>-0.119406</td>\n",
              "    </tr>\n",
              "    <tr>\n",
              "      <th>2018-05-27</th>\n",
              "      <td>0.057988</td>\n",
              "      <td>0.820522</td>\n",
              "      <td>0.480691</td>\n",
              "      <td>-0.001284</td>\n",
              "    </tr>\n",
              "    <tr>\n",
              "      <th>2018-05-26</th>\n",
              "      <td>0.153308</td>\n",
              "      <td>0.231155</td>\n",
              "      <td>1.861366</td>\n",
              "      <td>-1.669781</td>\n",
              "    </tr>\n",
              "    <tr>\n",
              "      <th>2018-05-25</th>\n",
              "      <td>0.079556</td>\n",
              "      <td>-0.716654</td>\n",
              "      <td>0.425823</td>\n",
              "      <td>0.003608</td>\n",
              "    </tr>\n",
              "    <tr>\n",
              "      <th>2018-05-24</th>\n",
              "      <td>-1.197896</td>\n",
              "      <td>-1.497643</td>\n",
              "      <td>0.024177</td>\n",
              "      <td>1.265205</td>\n",
              "    </tr>\n",
              "    <tr>\n",
              "      <th>2018-05-23</th>\n",
              "      <td>-0.638557</td>\n",
              "      <td>-0.613279</td>\n",
              "      <td>0.021428</td>\n",
              "      <td>-0.996500</td>\n",
              "    </tr>\n",
              "  </tbody>\n",
              "</table>\n",
              "</div>"
            ],
            "text/plain": [
              "                   A         B         C         D\n",
              "2018-05-28  0.503431  0.333456 -0.100551 -0.119406\n",
              "2018-05-27  0.057988  0.820522  0.480691 -0.001284\n",
              "2018-05-26  0.153308  0.231155  1.861366 -1.669781\n",
              "2018-05-25  0.079556 -0.716654  0.425823  0.003608\n",
              "2018-05-24 -1.197896 -1.497643  0.024177  1.265205\n",
              "2018-05-23 -0.638557 -0.613279  0.021428 -0.996500"
            ]
          },
          "metadata": {
            "tags": []
          },
          "execution_count": 24
        }
      ]
    },
    {
      "metadata": {
        "id": "yzmcxm5Xfjzz",
        "colab_type": "code",
        "colab": {
          "base_uri": "https://localhost:8080/",
          "height": 228
        },
        "outputId": "3fdb87f3-7635-41ab-b10a-268f1a9a4be8"
      },
      "cell_type": "code",
      "source": [
        "# 값으로 정렬. 아래에서는 B column 의 값으로 정렬한다\n",
        "df.sort_values(by='B')"
      ],
      "execution_count": 25,
      "outputs": [
        {
          "output_type": "execute_result",
          "data": {
            "text/html": [
              "<div>\n",
              "<style scoped>\n",
              "    .dataframe tbody tr th:only-of-type {\n",
              "        vertical-align: middle;\n",
              "    }\n",
              "\n",
              "    .dataframe tbody tr th {\n",
              "        vertical-align: top;\n",
              "    }\n",
              "\n",
              "    .dataframe thead th {\n",
              "        text-align: right;\n",
              "    }\n",
              "</style>\n",
              "<table border=\"1\" class=\"dataframe\">\n",
              "  <thead>\n",
              "    <tr style=\"text-align: right;\">\n",
              "      <th></th>\n",
              "      <th>A</th>\n",
              "      <th>B</th>\n",
              "      <th>C</th>\n",
              "      <th>D</th>\n",
              "    </tr>\n",
              "  </thead>\n",
              "  <tbody>\n",
              "    <tr>\n",
              "      <th>2018-05-24</th>\n",
              "      <td>-1.197896</td>\n",
              "      <td>-1.497643</td>\n",
              "      <td>0.024177</td>\n",
              "      <td>1.265205</td>\n",
              "    </tr>\n",
              "    <tr>\n",
              "      <th>2018-05-25</th>\n",
              "      <td>0.079556</td>\n",
              "      <td>-0.716654</td>\n",
              "      <td>0.425823</td>\n",
              "      <td>0.003608</td>\n",
              "    </tr>\n",
              "    <tr>\n",
              "      <th>2018-05-23</th>\n",
              "      <td>-0.638557</td>\n",
              "      <td>-0.613279</td>\n",
              "      <td>0.021428</td>\n",
              "      <td>-0.996500</td>\n",
              "    </tr>\n",
              "    <tr>\n",
              "      <th>2018-05-26</th>\n",
              "      <td>0.153308</td>\n",
              "      <td>0.231155</td>\n",
              "      <td>1.861366</td>\n",
              "      <td>-1.669781</td>\n",
              "    </tr>\n",
              "    <tr>\n",
              "      <th>2018-05-28</th>\n",
              "      <td>0.503431</td>\n",
              "      <td>0.333456</td>\n",
              "      <td>-0.100551</td>\n",
              "      <td>-0.119406</td>\n",
              "    </tr>\n",
              "    <tr>\n",
              "      <th>2018-05-27</th>\n",
              "      <td>0.057988</td>\n",
              "      <td>0.820522</td>\n",
              "      <td>0.480691</td>\n",
              "      <td>-0.001284</td>\n",
              "    </tr>\n",
              "  </tbody>\n",
              "</table>\n",
              "</div>"
            ],
            "text/plain": [
              "                   A         B         C         D\n",
              "2018-05-24 -1.197896 -1.497643  0.024177  1.265205\n",
              "2018-05-25  0.079556 -0.716654  0.425823  0.003608\n",
              "2018-05-23 -0.638557 -0.613279  0.021428 -0.996500\n",
              "2018-05-26  0.153308  0.231155  1.861366 -1.669781\n",
              "2018-05-28  0.503431  0.333456 -0.100551 -0.119406\n",
              "2018-05-27  0.057988  0.820522  0.480691 -0.001284"
            ]
          },
          "metadata": {
            "tags": []
          },
          "execution_count": 25
        }
      ]
    },
    {
      "metadata": {
        "id": "BIkbURttfks5",
        "colab_type": "code",
        "colab": {
          "base_uri": "https://localhost:8080/",
          "height": 228
        },
        "outputId": "2295d6cd-95e3-44ed-a8d5-c449596e1745"
      },
      "cell_type": "code",
      "source": [
        "df.sort_values(by='B', ascending=False)"
      ],
      "execution_count": 27,
      "outputs": [
        {
          "output_type": "execute_result",
          "data": {
            "text/html": [
              "<div>\n",
              "<style scoped>\n",
              "    .dataframe tbody tr th:only-of-type {\n",
              "        vertical-align: middle;\n",
              "    }\n",
              "\n",
              "    .dataframe tbody tr th {\n",
              "        vertical-align: top;\n",
              "    }\n",
              "\n",
              "    .dataframe thead th {\n",
              "        text-align: right;\n",
              "    }\n",
              "</style>\n",
              "<table border=\"1\" class=\"dataframe\">\n",
              "  <thead>\n",
              "    <tr style=\"text-align: right;\">\n",
              "      <th></th>\n",
              "      <th>A</th>\n",
              "      <th>B</th>\n",
              "      <th>C</th>\n",
              "      <th>D</th>\n",
              "    </tr>\n",
              "  </thead>\n",
              "  <tbody>\n",
              "    <tr>\n",
              "      <th>2018-05-27</th>\n",
              "      <td>0.057988</td>\n",
              "      <td>0.820522</td>\n",
              "      <td>0.480691</td>\n",
              "      <td>-0.001284</td>\n",
              "    </tr>\n",
              "    <tr>\n",
              "      <th>2018-05-28</th>\n",
              "      <td>0.503431</td>\n",
              "      <td>0.333456</td>\n",
              "      <td>-0.100551</td>\n",
              "      <td>-0.119406</td>\n",
              "    </tr>\n",
              "    <tr>\n",
              "      <th>2018-05-26</th>\n",
              "      <td>0.153308</td>\n",
              "      <td>0.231155</td>\n",
              "      <td>1.861366</td>\n",
              "      <td>-1.669781</td>\n",
              "    </tr>\n",
              "    <tr>\n",
              "      <th>2018-05-23</th>\n",
              "      <td>-0.638557</td>\n",
              "      <td>-0.613279</td>\n",
              "      <td>0.021428</td>\n",
              "      <td>-0.996500</td>\n",
              "    </tr>\n",
              "    <tr>\n",
              "      <th>2018-05-25</th>\n",
              "      <td>0.079556</td>\n",
              "      <td>-0.716654</td>\n",
              "      <td>0.425823</td>\n",
              "      <td>0.003608</td>\n",
              "    </tr>\n",
              "    <tr>\n",
              "      <th>2018-05-24</th>\n",
              "      <td>-1.197896</td>\n",
              "      <td>-1.497643</td>\n",
              "      <td>0.024177</td>\n",
              "      <td>1.265205</td>\n",
              "    </tr>\n",
              "  </tbody>\n",
              "</table>\n",
              "</div>"
            ],
            "text/plain": [
              "                   A         B         C         D\n",
              "2018-05-27  0.057988  0.820522  0.480691 -0.001284\n",
              "2018-05-28  0.503431  0.333456 -0.100551 -0.119406\n",
              "2018-05-26  0.153308  0.231155  1.861366 -1.669781\n",
              "2018-05-23 -0.638557 -0.613279  0.021428 -0.996500\n",
              "2018-05-25  0.079556 -0.716654  0.425823  0.003608\n",
              "2018-05-24 -1.197896 -1.497643  0.024177  1.265205"
            ]
          },
          "metadata": {
            "tags": []
          },
          "execution_count": 27
        }
      ]
    },
    {
      "metadata": {
        "id": "kASgf6fDfkyd",
        "colab_type": "text"
      },
      "cell_type": "markdown",
      "source": [
        "# Selection"
      ]
    },
    {
      "metadata": {
        "id": "xjdaLpeOfk4D",
        "colab_type": "text"
      },
      "cell_type": "markdown",
      "source": [
        "## Getting"
      ]
    },
    {
      "metadata": {
        "id": "O2zgMXZxfk1I",
        "colab_type": "code",
        "colab": {
          "base_uri": "https://localhost:8080/",
          "height": 142
        },
        "outputId": "ee43aacf-4d0c-4571-b49f-3fa047dfed0a"
      },
      "cell_type": "code",
      "source": [
        "# column 하나만 선택해보자\n",
        "df['A']"
      ],
      "execution_count": 28,
      "outputs": [
        {
          "output_type": "execute_result",
          "data": {
            "text/plain": [
              "2018-05-23   -0.638557\n",
              "2018-05-24   -1.197896\n",
              "2018-05-25    0.079556\n",
              "2018-05-26    0.153308\n",
              "2018-05-27    0.057988\n",
              "2018-05-28    0.503431\n",
              "Freq: D, Name: A, dtype: float64"
            ]
          },
          "metadata": {
            "tags": []
          },
          "execution_count": 28
        }
      ]
    },
    {
      "metadata": {
        "id": "n0jHV45Qfkvz",
        "colab_type": "code",
        "colab": {
          "base_uri": "https://localhost:8080/",
          "height": 338
        },
        "outputId": "bbbee620-c4c6-43b9-92c3-b38ded53c448"
      },
      "cell_type": "code",
      "source": [
        "# 여러 행들을 선택해보자\n",
        "print (df[:3])\n",
        "print (df[2:])\n",
        "print (df[1:3])\n",
        "print (df['2018-05-24':'2018-05-29'])"
      ],
      "execution_count": 31,
      "outputs": [
        {
          "output_type": "stream",
          "text": [
            "                   A         B         C         D\n",
            "2018-05-23 -0.638557 -0.613279  0.021428 -0.996500\n",
            "2018-05-24 -1.197896 -1.497643  0.024177  1.265205\n",
            "2018-05-25  0.079556 -0.716654  0.425823  0.003608\n",
            "                   A         B         C         D\n",
            "2018-05-25  0.079556 -0.716654  0.425823  0.003608\n",
            "2018-05-26  0.153308  0.231155  1.861366 -1.669781\n",
            "2018-05-27  0.057988  0.820522  0.480691 -0.001284\n",
            "2018-05-28  0.503431  0.333456 -0.100551 -0.119406\n",
            "                   A         B         C         D\n",
            "2018-05-24 -1.197896 -1.497643  0.024177  1.265205\n",
            "2018-05-25  0.079556 -0.716654  0.425823  0.003608\n",
            "                   A         B         C         D\n",
            "2018-05-24 -1.197896 -1.497643  0.024177  1.265205\n",
            "2018-05-25  0.079556 -0.716654  0.425823  0.003608\n",
            "2018-05-26  0.153308  0.231155  1.861366 -1.669781\n",
            "2018-05-27  0.057988  0.820522  0.480691 -0.001284\n",
            "2018-05-28  0.503431  0.333456 -0.100551 -0.119406\n"
          ],
          "name": "stdout"
        }
      ]
    },
    {
      "metadata": {
        "id": "gNaj4pBDgWqy",
        "colab_type": "text"
      },
      "cell_type": "markdown",
      "source": [
        "## Selection by Label"
      ]
    },
    {
      "metadata": {
        "id": "YRuEy7Jzhd3p",
        "colab_type": "code",
        "colab": {
          "base_uri": "https://localhost:8080/",
          "height": 124
        },
        "outputId": "930bf699-34d9-4c01-ad3d-53811ede93ba"
      },
      "cell_type": "code",
      "source": [
        "# 행 하나 선택\n",
        "print (dates[0])\n",
        "df.loc[dates[0]]"
      ],
      "execution_count": 32,
      "outputs": [
        {
          "output_type": "stream",
          "text": [
            "2018-05-23 00:00:00\n"
          ],
          "name": "stdout"
        },
        {
          "output_type": "execute_result",
          "data": {
            "text/plain": [
              "A   -0.638557\n",
              "B   -0.613279\n",
              "C    0.021428\n",
              "D   -0.996500\n",
              "Name: 2018-05-23 00:00:00, dtype: float64"
            ]
          },
          "metadata": {
            "tags": []
          },
          "execution_count": 32
        }
      ]
    },
    {
      "metadata": {
        "id": "mETV-9wchySC",
        "colab_type": "code",
        "colab": {
          "base_uri": "https://localhost:8080/",
          "height": 228
        },
        "outputId": "1acd7eba-aa66-45ba-a86c-4c6b61508cfe"
      },
      "cell_type": "code",
      "source": [
        "# 행과 열을 선택\n",
        "# 아래는 모든 행의 A,B 를 선택\n",
        "df.loc[:, ['A','B']]"
      ],
      "execution_count": 36,
      "outputs": [
        {
          "output_type": "execute_result",
          "data": {
            "text/html": [
              "<div>\n",
              "<style scoped>\n",
              "    .dataframe tbody tr th:only-of-type {\n",
              "        vertical-align: middle;\n",
              "    }\n",
              "\n",
              "    .dataframe tbody tr th {\n",
              "        vertical-align: top;\n",
              "    }\n",
              "\n",
              "    .dataframe thead th {\n",
              "        text-align: right;\n",
              "    }\n",
              "</style>\n",
              "<table border=\"1\" class=\"dataframe\">\n",
              "  <thead>\n",
              "    <tr style=\"text-align: right;\">\n",
              "      <th></th>\n",
              "      <th>A</th>\n",
              "      <th>B</th>\n",
              "    </tr>\n",
              "  </thead>\n",
              "  <tbody>\n",
              "    <tr>\n",
              "      <th>2018-05-23</th>\n",
              "      <td>-0.638557</td>\n",
              "      <td>-0.613279</td>\n",
              "    </tr>\n",
              "    <tr>\n",
              "      <th>2018-05-24</th>\n",
              "      <td>-1.197896</td>\n",
              "      <td>-1.497643</td>\n",
              "    </tr>\n",
              "    <tr>\n",
              "      <th>2018-05-25</th>\n",
              "      <td>0.079556</td>\n",
              "      <td>-0.716654</td>\n",
              "    </tr>\n",
              "    <tr>\n",
              "      <th>2018-05-26</th>\n",
              "      <td>0.153308</td>\n",
              "      <td>0.231155</td>\n",
              "    </tr>\n",
              "    <tr>\n",
              "      <th>2018-05-27</th>\n",
              "      <td>0.057988</td>\n",
              "      <td>0.820522</td>\n",
              "    </tr>\n",
              "    <tr>\n",
              "      <th>2018-05-28</th>\n",
              "      <td>0.503431</td>\n",
              "      <td>0.333456</td>\n",
              "    </tr>\n",
              "  </tbody>\n",
              "</table>\n",
              "</div>"
            ],
            "text/plain": [
              "                   A         B\n",
              "2018-05-23 -0.638557 -0.613279\n",
              "2018-05-24 -1.197896 -1.497643\n",
              "2018-05-25  0.079556 -0.716654\n",
              "2018-05-26  0.153308  0.231155\n",
              "2018-05-27  0.057988  0.820522\n",
              "2018-05-28  0.503431  0.333456"
            ]
          },
          "metadata": {
            "tags": []
          },
          "execution_count": 36
        }
      ]
    },
    {
      "metadata": {
        "id": "T6BDaeeFicKy",
        "colab_type": "code",
        "colab": {
          "base_uri": "https://localhost:8080/",
          "height": 168
        },
        "outputId": "5f4c5b38-a35d-4303-bda9-a6450b682afb"
      },
      "cell_type": "code",
      "source": [
        "# 특정 라벨 행의 A, B 만 선택해보자. 행은 양쪽 다 포함인거 유심히 보자 (보통은 끝쪽은 제외인데)\n",
        "df.loc[ '2018-05-23':'2018-05-26', ['A','B']]"
      ],
      "execution_count": 41,
      "outputs": [
        {
          "output_type": "execute_result",
          "data": {
            "text/html": [
              "<div>\n",
              "<style scoped>\n",
              "    .dataframe tbody tr th:only-of-type {\n",
              "        vertical-align: middle;\n",
              "    }\n",
              "\n",
              "    .dataframe tbody tr th {\n",
              "        vertical-align: top;\n",
              "    }\n",
              "\n",
              "    .dataframe thead th {\n",
              "        text-align: right;\n",
              "    }\n",
              "</style>\n",
              "<table border=\"1\" class=\"dataframe\">\n",
              "  <thead>\n",
              "    <tr style=\"text-align: right;\">\n",
              "      <th></th>\n",
              "      <th>A</th>\n",
              "      <th>B</th>\n",
              "    </tr>\n",
              "  </thead>\n",
              "  <tbody>\n",
              "    <tr>\n",
              "      <th>2018-05-23</th>\n",
              "      <td>-0.638557</td>\n",
              "      <td>-0.613279</td>\n",
              "    </tr>\n",
              "    <tr>\n",
              "      <th>2018-05-24</th>\n",
              "      <td>-1.197896</td>\n",
              "      <td>-1.497643</td>\n",
              "    </tr>\n",
              "    <tr>\n",
              "      <th>2018-05-25</th>\n",
              "      <td>0.079556</td>\n",
              "      <td>-0.716654</td>\n",
              "    </tr>\n",
              "    <tr>\n",
              "      <th>2018-05-26</th>\n",
              "      <td>0.153308</td>\n",
              "      <td>0.231155</td>\n",
              "    </tr>\n",
              "  </tbody>\n",
              "</table>\n",
              "</div>"
            ],
            "text/plain": [
              "                   A         B\n",
              "2018-05-23 -0.638557 -0.613279\n",
              "2018-05-24 -1.197896 -1.497643\n",
              "2018-05-25  0.079556 -0.716654\n",
              "2018-05-26  0.153308  0.231155"
            ]
          },
          "metadata": {
            "tags": []
          },
          "execution_count": 41
        }
      ]
    },
    {
      "metadata": {
        "id": "rQ1KF6xxi02z",
        "colab_type": "code",
        "colab": {
          "base_uri": "https://localhost:8080/",
          "height": 53
        },
        "outputId": "e448012e-ab82-4556-cccc-df133b29f383"
      },
      "cell_type": "code",
      "source": [
        "# 딱 값 하나만 찍을 수도 있다. loc, at 같지만 at 이 더 빠르다\n",
        "print (df.loc[dates[2], 'A'])\n",
        "print (df.at[dates[2], 'A'])"
      ],
      "execution_count": 42,
      "outputs": [
        {
          "output_type": "stream",
          "text": [
            "0.07955562174486876\n",
            "0.07955562174486876\n"
          ],
          "name": "stdout"
        }
      ]
    },
    {
      "metadata": {
        "id": "TiuWm29ljSNx",
        "colab_type": "text"
      },
      "cell_type": "markdown",
      "source": [
        "## Selection by Position"
      ]
    },
    {
      "metadata": {
        "id": "Npgl7i7xjWRx",
        "colab_type": "code",
        "colab": {
          "base_uri": "https://localhost:8080/",
          "height": 231
        },
        "outputId": "0b833491-849d-4be4-f550-f3e8e7a93937"
      },
      "cell_type": "code",
      "source": [
        "#iloc 을 통해서 위치정보로 선택이 가능하다\n",
        "# 가령 3번 열이라면\n",
        "print (df)\n",
        "df.iloc[3]"
      ],
      "execution_count": 43,
      "outputs": [
        {
          "output_type": "stream",
          "text": [
            "                   A         B         C         D\n",
            "2018-05-23 -0.638557 -0.613279  0.021428 -0.996500\n",
            "2018-05-24 -1.197896 -1.497643  0.024177  1.265205\n",
            "2018-05-25  0.079556 -0.716654  0.425823  0.003608\n",
            "2018-05-26  0.153308  0.231155  1.861366 -1.669781\n",
            "2018-05-27  0.057988  0.820522  0.480691 -0.001284\n",
            "2018-05-28  0.503431  0.333456 -0.100551 -0.119406\n"
          ],
          "name": "stdout"
        },
        {
          "output_type": "execute_result",
          "data": {
            "text/plain": [
              "A    0.153308\n",
              "B    0.231155\n",
              "C    1.861366\n",
              "D   -1.669781\n",
              "Name: 2018-05-26 00:00:00, dtype: float64"
            ]
          },
          "metadata": {
            "tags": []
          },
          "execution_count": 43
        }
      ]
    },
    {
      "metadata": {
        "id": "6268OemfjiZy",
        "colab_type": "code",
        "colab": {
          "base_uri": "https://localhost:8080/",
          "height": 108
        },
        "outputId": "482e8b2f-c9b5-4824-b2d2-791b2c41bc74"
      },
      "cell_type": "code",
      "source": [
        "# 인덱스로 슬라이싱도 가능하다\n",
        "df.iloc[2:4, 0:2]"
      ],
      "execution_count": 44,
      "outputs": [
        {
          "output_type": "execute_result",
          "data": {
            "text/html": [
              "<div>\n",
              "<style scoped>\n",
              "    .dataframe tbody tr th:only-of-type {\n",
              "        vertical-align: middle;\n",
              "    }\n",
              "\n",
              "    .dataframe tbody tr th {\n",
              "        vertical-align: top;\n",
              "    }\n",
              "\n",
              "    .dataframe thead th {\n",
              "        text-align: right;\n",
              "    }\n",
              "</style>\n",
              "<table border=\"1\" class=\"dataframe\">\n",
              "  <thead>\n",
              "    <tr style=\"text-align: right;\">\n",
              "      <th></th>\n",
              "      <th>A</th>\n",
              "      <th>B</th>\n",
              "    </tr>\n",
              "  </thead>\n",
              "  <tbody>\n",
              "    <tr>\n",
              "      <th>2018-05-25</th>\n",
              "      <td>0.079556</td>\n",
              "      <td>-0.716654</td>\n",
              "    </tr>\n",
              "    <tr>\n",
              "      <th>2018-05-26</th>\n",
              "      <td>0.153308</td>\n",
              "      <td>0.231155</td>\n",
              "    </tr>\n",
              "  </tbody>\n",
              "</table>\n",
              "</div>"
            ],
            "text/plain": [
              "                   A         B\n",
              "2018-05-25  0.079556 -0.716654\n",
              "2018-05-26  0.153308  0.231155"
            ]
          },
          "metadata": {
            "tags": []
          },
          "execution_count": 44
        }
      ]
    },
    {
      "metadata": {
        "id": "lHAnolWyjvMp",
        "colab_type": "code",
        "colab": {
          "base_uri": "https://localhost:8080/",
          "height": 138
        },
        "outputId": "689cf578-23bc-497d-e968-69a38e325f9d"
      },
      "cell_type": "code",
      "source": [
        "# 범위 슬라이싱이 아니라 딱딱 꼬집어서 명시할수도 있다.\n",
        "df.iloc[[1,3,4], [0,1]]"
      ],
      "execution_count": 45,
      "outputs": [
        {
          "output_type": "execute_result",
          "data": {
            "text/html": [
              "<div>\n",
              "<style scoped>\n",
              "    .dataframe tbody tr th:only-of-type {\n",
              "        vertical-align: middle;\n",
              "    }\n",
              "\n",
              "    .dataframe tbody tr th {\n",
              "        vertical-align: top;\n",
              "    }\n",
              "\n",
              "    .dataframe thead th {\n",
              "        text-align: right;\n",
              "    }\n",
              "</style>\n",
              "<table border=\"1\" class=\"dataframe\">\n",
              "  <thead>\n",
              "    <tr style=\"text-align: right;\">\n",
              "      <th></th>\n",
              "      <th>A</th>\n",
              "      <th>B</th>\n",
              "    </tr>\n",
              "  </thead>\n",
              "  <tbody>\n",
              "    <tr>\n",
              "      <th>2018-05-24</th>\n",
              "      <td>-1.197896</td>\n",
              "      <td>-1.497643</td>\n",
              "    </tr>\n",
              "    <tr>\n",
              "      <th>2018-05-26</th>\n",
              "      <td>0.153308</td>\n",
              "      <td>0.231155</td>\n",
              "    </tr>\n",
              "    <tr>\n",
              "      <th>2018-05-27</th>\n",
              "      <td>0.057988</td>\n",
              "      <td>0.820522</td>\n",
              "    </tr>\n",
              "  </tbody>\n",
              "</table>\n",
              "</div>"
            ],
            "text/plain": [
              "                   A         B\n",
              "2018-05-24 -1.197896 -1.497643\n",
              "2018-05-26  0.153308  0.231155\n",
              "2018-05-27  0.057988  0.820522"
            ]
          },
          "metadata": {
            "tags": []
          },
          "execution_count": 45
        }
      ]
    },
    {
      "metadata": {
        "id": "Yyb-Guq1j6xa",
        "colab_type": "code",
        "colab": {
          "base_uri": "https://localhost:8080/",
          "height": 88
        },
        "outputId": "0b192786-dec0-4b3e-f3dd-cc8774a03774"
      },
      "cell_type": "code",
      "source": [
        "df.iloc[[1,3,4], 1]"
      ],
      "execution_count": 46,
      "outputs": [
        {
          "output_type": "execute_result",
          "data": {
            "text/plain": [
              "2018-05-24   -1.497643\n",
              "2018-05-26    0.231155\n",
              "2018-05-27    0.820522\n",
              "Name: B, dtype: float64"
            ]
          },
          "metadata": {
            "tags": []
          },
          "execution_count": 46
        }
      ]
    },
    {
      "metadata": {
        "id": "YakLs57Gj-6P",
        "colab_type": "code",
        "colab": {
          "base_uri": "https://localhost:8080/",
          "height": 53
        },
        "outputId": "eef88340-c741-4a6f-aee6-7b0365c423f1"
      },
      "cell_type": "code",
      "source": [
        "# 값 하나만 찾아낼 수도 있으며 iloc 도 빠르게 스칼라값을 얻을 수 있는 iat 이라는게 있다.\n",
        "print(df.iloc[1,1])\n",
        "print(df.iat[1,1])\n"
      ],
      "execution_count": 47,
      "outputs": [
        {
          "output_type": "stream",
          "text": [
            "-1.4976433999762653\n",
            "-1.4976433999762653\n"
          ],
          "name": "stdout"
        }
      ]
    },
    {
      "metadata": {
        "id": "-HwEq23TkVuM",
        "colab_type": "text"
      },
      "cell_type": "markdown",
      "source": [
        "## Boolean Indexing"
      ]
    },
    {
      "metadata": {
        "id": "57XIoDyokZka",
        "colab_type": "code",
        "colab": {
          "base_uri": "https://localhost:8080/",
          "height": 168
        },
        "outputId": "418bfdbf-f838-4be8-c244-e9d6e54a1efa"
      },
      "cell_type": "code",
      "source": [
        "# 특정 조건이 맞는 녀석만 보여주기\n",
        "# 모든 df 중에서 A 값이 0보다 큰 녀석만 보여주시오\n",
        "df[df.A >0]"
      ],
      "execution_count": 48,
      "outputs": [
        {
          "output_type": "execute_result",
          "data": {
            "text/html": [
              "<div>\n",
              "<style scoped>\n",
              "    .dataframe tbody tr th:only-of-type {\n",
              "        vertical-align: middle;\n",
              "    }\n",
              "\n",
              "    .dataframe tbody tr th {\n",
              "        vertical-align: top;\n",
              "    }\n",
              "\n",
              "    .dataframe thead th {\n",
              "        text-align: right;\n",
              "    }\n",
              "</style>\n",
              "<table border=\"1\" class=\"dataframe\">\n",
              "  <thead>\n",
              "    <tr style=\"text-align: right;\">\n",
              "      <th></th>\n",
              "      <th>A</th>\n",
              "      <th>B</th>\n",
              "      <th>C</th>\n",
              "      <th>D</th>\n",
              "    </tr>\n",
              "  </thead>\n",
              "  <tbody>\n",
              "    <tr>\n",
              "      <th>2018-05-25</th>\n",
              "      <td>0.079556</td>\n",
              "      <td>-0.716654</td>\n",
              "      <td>0.425823</td>\n",
              "      <td>0.003608</td>\n",
              "    </tr>\n",
              "    <tr>\n",
              "      <th>2018-05-26</th>\n",
              "      <td>0.153308</td>\n",
              "      <td>0.231155</td>\n",
              "      <td>1.861366</td>\n",
              "      <td>-1.669781</td>\n",
              "    </tr>\n",
              "    <tr>\n",
              "      <th>2018-05-27</th>\n",
              "      <td>0.057988</td>\n",
              "      <td>0.820522</td>\n",
              "      <td>0.480691</td>\n",
              "      <td>-0.001284</td>\n",
              "    </tr>\n",
              "    <tr>\n",
              "      <th>2018-05-28</th>\n",
              "      <td>0.503431</td>\n",
              "      <td>0.333456</td>\n",
              "      <td>-0.100551</td>\n",
              "      <td>-0.119406</td>\n",
              "    </tr>\n",
              "  </tbody>\n",
              "</table>\n",
              "</div>"
            ],
            "text/plain": [
              "                   A         B         C         D\n",
              "2018-05-25  0.079556 -0.716654  0.425823  0.003608\n",
              "2018-05-26  0.153308  0.231155  1.861366 -1.669781\n",
              "2018-05-27  0.057988  0.820522  0.480691 -0.001284\n",
              "2018-05-28  0.503431  0.333456 -0.100551 -0.119406"
            ]
          },
          "metadata": {
            "tags": []
          },
          "execution_count": 48
        }
      ]
    },
    {
      "metadata": {
        "id": "ARArpy4rkl78",
        "colab_type": "code",
        "colab": {
          "base_uri": "https://localhost:8080/",
          "height": 108
        },
        "outputId": "0108e311-e556-4787-eee6-8482c7ae6583"
      },
      "cell_type": "code",
      "source": [
        "df[df.A <=0]"
      ],
      "execution_count": 49,
      "outputs": [
        {
          "output_type": "execute_result",
          "data": {
            "text/html": [
              "<div>\n",
              "<style scoped>\n",
              "    .dataframe tbody tr th:only-of-type {\n",
              "        vertical-align: middle;\n",
              "    }\n",
              "\n",
              "    .dataframe tbody tr th {\n",
              "        vertical-align: top;\n",
              "    }\n",
              "\n",
              "    .dataframe thead th {\n",
              "        text-align: right;\n",
              "    }\n",
              "</style>\n",
              "<table border=\"1\" class=\"dataframe\">\n",
              "  <thead>\n",
              "    <tr style=\"text-align: right;\">\n",
              "      <th></th>\n",
              "      <th>A</th>\n",
              "      <th>B</th>\n",
              "      <th>C</th>\n",
              "      <th>D</th>\n",
              "    </tr>\n",
              "  </thead>\n",
              "  <tbody>\n",
              "    <tr>\n",
              "      <th>2018-05-23</th>\n",
              "      <td>-0.638557</td>\n",
              "      <td>-0.613279</td>\n",
              "      <td>0.021428</td>\n",
              "      <td>-0.996500</td>\n",
              "    </tr>\n",
              "    <tr>\n",
              "      <th>2018-05-24</th>\n",
              "      <td>-1.197896</td>\n",
              "      <td>-1.497643</td>\n",
              "      <td>0.024177</td>\n",
              "      <td>1.265205</td>\n",
              "    </tr>\n",
              "  </tbody>\n",
              "</table>\n",
              "</div>"
            ],
            "text/plain": [
              "                   A         B         C         D\n",
              "2018-05-23 -0.638557 -0.613279  0.021428 -0.996500\n",
              "2018-05-24 -1.197896 -1.497643  0.024177  1.265205"
            ]
          },
          "metadata": {
            "tags": []
          },
          "execution_count": 49
        }
      ]
    },
    {
      "metadata": {
        "id": "o0KR7I63kpN8",
        "colab_type": "code",
        "colab": {
          "base_uri": "https://localhost:8080/",
          "height": 228
        },
        "outputId": "cc6c83f6-61ad-4816-a206-eecf296d2d4e"
      },
      "cell_type": "code",
      "source": [
        "# 전체 frame 에서 0보다 큰 값만 보여주시오. 이럴땐 해당안되는 값이 NaN 으로 나온다\n",
        "df[df > 0]"
      ],
      "execution_count": 50,
      "outputs": [
        {
          "output_type": "execute_result",
          "data": {
            "text/html": [
              "<div>\n",
              "<style scoped>\n",
              "    .dataframe tbody tr th:only-of-type {\n",
              "        vertical-align: middle;\n",
              "    }\n",
              "\n",
              "    .dataframe tbody tr th {\n",
              "        vertical-align: top;\n",
              "    }\n",
              "\n",
              "    .dataframe thead th {\n",
              "        text-align: right;\n",
              "    }\n",
              "</style>\n",
              "<table border=\"1\" class=\"dataframe\">\n",
              "  <thead>\n",
              "    <tr style=\"text-align: right;\">\n",
              "      <th></th>\n",
              "      <th>A</th>\n",
              "      <th>B</th>\n",
              "      <th>C</th>\n",
              "      <th>D</th>\n",
              "    </tr>\n",
              "  </thead>\n",
              "  <tbody>\n",
              "    <tr>\n",
              "      <th>2018-05-23</th>\n",
              "      <td>NaN</td>\n",
              "      <td>NaN</td>\n",
              "      <td>0.021428</td>\n",
              "      <td>NaN</td>\n",
              "    </tr>\n",
              "    <tr>\n",
              "      <th>2018-05-24</th>\n",
              "      <td>NaN</td>\n",
              "      <td>NaN</td>\n",
              "      <td>0.024177</td>\n",
              "      <td>1.265205</td>\n",
              "    </tr>\n",
              "    <tr>\n",
              "      <th>2018-05-25</th>\n",
              "      <td>0.079556</td>\n",
              "      <td>NaN</td>\n",
              "      <td>0.425823</td>\n",
              "      <td>0.003608</td>\n",
              "    </tr>\n",
              "    <tr>\n",
              "      <th>2018-05-26</th>\n",
              "      <td>0.153308</td>\n",
              "      <td>0.231155</td>\n",
              "      <td>1.861366</td>\n",
              "      <td>NaN</td>\n",
              "    </tr>\n",
              "    <tr>\n",
              "      <th>2018-05-27</th>\n",
              "      <td>0.057988</td>\n",
              "      <td>0.820522</td>\n",
              "      <td>0.480691</td>\n",
              "      <td>NaN</td>\n",
              "    </tr>\n",
              "    <tr>\n",
              "      <th>2018-05-28</th>\n",
              "      <td>0.503431</td>\n",
              "      <td>0.333456</td>\n",
              "      <td>NaN</td>\n",
              "      <td>NaN</td>\n",
              "    </tr>\n",
              "  </tbody>\n",
              "</table>\n",
              "</div>"
            ],
            "text/plain": [
              "                   A         B         C         D\n",
              "2018-05-23       NaN       NaN  0.021428       NaN\n",
              "2018-05-24       NaN       NaN  0.024177  1.265205\n",
              "2018-05-25  0.079556       NaN  0.425823  0.003608\n",
              "2018-05-26  0.153308  0.231155  1.861366       NaN\n",
              "2018-05-27  0.057988  0.820522  0.480691       NaN\n",
              "2018-05-28  0.503431  0.333456       NaN       NaN"
            ]
          },
          "metadata": {
            "tags": []
          },
          "execution_count": 50
        }
      ]
    },
    {
      "metadata": {
        "id": "j1E9dDHBmXYa",
        "colab_type": "code",
        "colab": {
          "base_uri": "https://localhost:8080/",
          "height": 228
        },
        "outputId": "fece8534-6410-4cf6-abef-98a064fafdb9"
      },
      "cell_type": "code",
      "source": [
        "df"
      ],
      "execution_count": 52,
      "outputs": [
        {
          "output_type": "execute_result",
          "data": {
            "text/html": [
              "<div>\n",
              "<style scoped>\n",
              "    .dataframe tbody tr th:only-of-type {\n",
              "        vertical-align: middle;\n",
              "    }\n",
              "\n",
              "    .dataframe tbody tr th {\n",
              "        vertical-align: top;\n",
              "    }\n",
              "\n",
              "    .dataframe thead th {\n",
              "        text-align: right;\n",
              "    }\n",
              "</style>\n",
              "<table border=\"1\" class=\"dataframe\">\n",
              "  <thead>\n",
              "    <tr style=\"text-align: right;\">\n",
              "      <th></th>\n",
              "      <th>A</th>\n",
              "      <th>B</th>\n",
              "      <th>C</th>\n",
              "      <th>D</th>\n",
              "    </tr>\n",
              "  </thead>\n",
              "  <tbody>\n",
              "    <tr>\n",
              "      <th>2018-05-23</th>\n",
              "      <td>-0.638557</td>\n",
              "      <td>-0.613279</td>\n",
              "      <td>0.021428</td>\n",
              "      <td>-0.996500</td>\n",
              "    </tr>\n",
              "    <tr>\n",
              "      <th>2018-05-24</th>\n",
              "      <td>-1.197896</td>\n",
              "      <td>-1.497643</td>\n",
              "      <td>0.024177</td>\n",
              "      <td>1.265205</td>\n",
              "    </tr>\n",
              "    <tr>\n",
              "      <th>2018-05-25</th>\n",
              "      <td>0.079556</td>\n",
              "      <td>-0.716654</td>\n",
              "      <td>0.425823</td>\n",
              "      <td>0.003608</td>\n",
              "    </tr>\n",
              "    <tr>\n",
              "      <th>2018-05-26</th>\n",
              "      <td>0.153308</td>\n",
              "      <td>0.231155</td>\n",
              "      <td>1.861366</td>\n",
              "      <td>-1.669781</td>\n",
              "    </tr>\n",
              "    <tr>\n",
              "      <th>2018-05-27</th>\n",
              "      <td>0.057988</td>\n",
              "      <td>0.820522</td>\n",
              "      <td>0.480691</td>\n",
              "      <td>-0.001284</td>\n",
              "    </tr>\n",
              "    <tr>\n",
              "      <th>2018-05-28</th>\n",
              "      <td>0.503431</td>\n",
              "      <td>0.333456</td>\n",
              "      <td>-0.100551</td>\n",
              "      <td>-0.119406</td>\n",
              "    </tr>\n",
              "  </tbody>\n",
              "</table>\n",
              "</div>"
            ],
            "text/plain": [
              "                   A         B         C         D\n",
              "2018-05-23 -0.638557 -0.613279  0.021428 -0.996500\n",
              "2018-05-24 -1.197896 -1.497643  0.024177  1.265205\n",
              "2018-05-25  0.079556 -0.716654  0.425823  0.003608\n",
              "2018-05-26  0.153308  0.231155  1.861366 -1.669781\n",
              "2018-05-27  0.057988  0.820522  0.480691 -0.001284\n",
              "2018-05-28  0.503431  0.333456 -0.100551 -0.119406"
            ]
          },
          "metadata": {
            "tags": []
          },
          "execution_count": 52
        }
      ]
    },
    {
      "metadata": {
        "id": "0PXzLE0Tky98",
        "colab_type": "code",
        "colab": {
          "base_uri": "https://localhost:8080/",
          "height": 233
        },
        "outputId": "c3f78832-fbfa-48fb-9223-73de86181178"
      },
      "cell_type": "code",
      "source": [
        "# 1. 복제한다음, column 하나 추가\n",
        "# 2. 특정 column 의 값이 특정한 내용을 포함하고 있는 것만 선택\n",
        "df2 = df.copy()\n",
        "df2['E'] = ['one', 'one', 'two', 'three', 'four', 'three']\n",
        "print (df2)\n",
        "df2[df2['E'].isin(['two', 'four'])]"
      ],
      "execution_count": 56,
      "outputs": [
        {
          "output_type": "stream",
          "text": [
            "                   A         B         C         D      E\n",
            "2018-05-23 -0.638557 -0.613279  0.021428 -0.996500    one\n",
            "2018-05-24 -1.197896 -1.497643  0.024177  1.265205    one\n",
            "2018-05-25  0.079556 -0.716654  0.425823  0.003608    two\n",
            "2018-05-26  0.153308  0.231155  1.861366 -1.669781  three\n",
            "2018-05-27  0.057988  0.820522  0.480691 -0.001284   four\n",
            "2018-05-28  0.503431  0.333456 -0.100551 -0.119406  three\n"
          ],
          "name": "stdout"
        },
        {
          "output_type": "execute_result",
          "data": {
            "text/html": [
              "<div>\n",
              "<style scoped>\n",
              "    .dataframe tbody tr th:only-of-type {\n",
              "        vertical-align: middle;\n",
              "    }\n",
              "\n",
              "    .dataframe tbody tr th {\n",
              "        vertical-align: top;\n",
              "    }\n",
              "\n",
              "    .dataframe thead th {\n",
              "        text-align: right;\n",
              "    }\n",
              "</style>\n",
              "<table border=\"1\" class=\"dataframe\">\n",
              "  <thead>\n",
              "    <tr style=\"text-align: right;\">\n",
              "      <th></th>\n",
              "      <th>A</th>\n",
              "      <th>B</th>\n",
              "      <th>C</th>\n",
              "      <th>D</th>\n",
              "      <th>E</th>\n",
              "    </tr>\n",
              "  </thead>\n",
              "  <tbody>\n",
              "    <tr>\n",
              "      <th>2018-05-25</th>\n",
              "      <td>0.079556</td>\n",
              "      <td>-0.716654</td>\n",
              "      <td>0.425823</td>\n",
              "      <td>0.003608</td>\n",
              "      <td>two</td>\n",
              "    </tr>\n",
              "    <tr>\n",
              "      <th>2018-05-27</th>\n",
              "      <td>0.057988</td>\n",
              "      <td>0.820522</td>\n",
              "      <td>0.480691</td>\n",
              "      <td>-0.001284</td>\n",
              "      <td>four</td>\n",
              "    </tr>\n",
              "  </tbody>\n",
              "</table>\n",
              "</div>"
            ],
            "text/plain": [
              "                   A         B         C         D     E\n",
              "2018-05-25  0.079556 -0.716654  0.425823  0.003608   two\n",
              "2018-05-27  0.057988  0.820522  0.480691 -0.001284  four"
            ]
          },
          "metadata": {
            "tags": []
          },
          "execution_count": 56
        }
      ]
    },
    {
      "metadata": {
        "id": "nNWvYWRImTDR",
        "colab_type": "text"
      },
      "cell_type": "markdown",
      "source": [
        "## Setting"
      ]
    },
    {
      "metadata": {
        "id": "9T6sdfmNml66",
        "colab_type": "code",
        "colab": {
          "base_uri": "https://localhost:8080/",
          "height": 228
        },
        "outputId": "4d5e4581-6b48-4bc0-e6cd-40b29a7bb471"
      },
      "cell_type": "code",
      "source": [
        "df"
      ],
      "execution_count": 57,
      "outputs": [
        {
          "output_type": "execute_result",
          "data": {
            "text/html": [
              "<div>\n",
              "<style scoped>\n",
              "    .dataframe tbody tr th:only-of-type {\n",
              "        vertical-align: middle;\n",
              "    }\n",
              "\n",
              "    .dataframe tbody tr th {\n",
              "        vertical-align: top;\n",
              "    }\n",
              "\n",
              "    .dataframe thead th {\n",
              "        text-align: right;\n",
              "    }\n",
              "</style>\n",
              "<table border=\"1\" class=\"dataframe\">\n",
              "  <thead>\n",
              "    <tr style=\"text-align: right;\">\n",
              "      <th></th>\n",
              "      <th>A</th>\n",
              "      <th>B</th>\n",
              "      <th>C</th>\n",
              "      <th>D</th>\n",
              "    </tr>\n",
              "  </thead>\n",
              "  <tbody>\n",
              "    <tr>\n",
              "      <th>2018-05-23</th>\n",
              "      <td>-0.638557</td>\n",
              "      <td>-0.613279</td>\n",
              "      <td>0.021428</td>\n",
              "      <td>-0.996500</td>\n",
              "    </tr>\n",
              "    <tr>\n",
              "      <th>2018-05-24</th>\n",
              "      <td>-1.197896</td>\n",
              "      <td>-1.497643</td>\n",
              "      <td>0.024177</td>\n",
              "      <td>1.265205</td>\n",
              "    </tr>\n",
              "    <tr>\n",
              "      <th>2018-05-25</th>\n",
              "      <td>0.079556</td>\n",
              "      <td>-0.716654</td>\n",
              "      <td>0.425823</td>\n",
              "      <td>0.003608</td>\n",
              "    </tr>\n",
              "    <tr>\n",
              "      <th>2018-05-26</th>\n",
              "      <td>0.153308</td>\n",
              "      <td>0.231155</td>\n",
              "      <td>1.861366</td>\n",
              "      <td>-1.669781</td>\n",
              "    </tr>\n",
              "    <tr>\n",
              "      <th>2018-05-27</th>\n",
              "      <td>0.057988</td>\n",
              "      <td>0.820522</td>\n",
              "      <td>0.480691</td>\n",
              "      <td>-0.001284</td>\n",
              "    </tr>\n",
              "    <tr>\n",
              "      <th>2018-05-28</th>\n",
              "      <td>0.503431</td>\n",
              "      <td>0.333456</td>\n",
              "      <td>-0.100551</td>\n",
              "      <td>-0.119406</td>\n",
              "    </tr>\n",
              "  </tbody>\n",
              "</table>\n",
              "</div>"
            ],
            "text/plain": [
              "                   A         B         C         D\n",
              "2018-05-23 -0.638557 -0.613279  0.021428 -0.996500\n",
              "2018-05-24 -1.197896 -1.497643  0.024177  1.265205\n",
              "2018-05-25  0.079556 -0.716654  0.425823  0.003608\n",
              "2018-05-26  0.153308  0.231155  1.861366 -1.669781\n",
              "2018-05-27  0.057988  0.820522  0.480691 -0.001284\n",
              "2018-05-28  0.503431  0.333456 -0.100551 -0.119406"
            ]
          },
          "metadata": {
            "tags": []
          },
          "execution_count": 57
        }
      ]
    },
    {
      "metadata": {
        "id": "ddnZOwh_mxWM",
        "colab_type": "code",
        "colab": {
          "base_uri": "https://localhost:8080/",
          "height": 142
        },
        "outputId": "1a073fa9-b099-4e6f-d9fa-9cdcf88150ce"
      },
      "cell_type": "code",
      "source": [
        "s1 = pd.Series([1,2,3,4,5,6], index = pd.date_range('20180523', periods=6))\n",
        "s1"
      ],
      "execution_count": 59,
      "outputs": [
        {
          "output_type": "execute_result",
          "data": {
            "text/plain": [
              "2018-05-23    1\n",
              "2018-05-24    2\n",
              "2018-05-25    3\n",
              "2018-05-26    4\n",
              "2018-05-27    5\n",
              "2018-05-28    6\n",
              "Freq: D, dtype: int64"
            ]
          },
          "metadata": {
            "tags": []
          },
          "execution_count": 59
        }
      ]
    },
    {
      "metadata": {
        "id": "l-_C7CmOm6Ik",
        "colab_type": "code",
        "colab": {
          "base_uri": "https://localhost:8080/",
          "height": 53
        },
        "outputId": "ae8eb5a4-0013-44f4-d67b-2fafef96ccd3"
      },
      "cell_type": "code",
      "source": [
        "# 특정 위치의 값을 라벨정보로 변경해보자\n",
        "print(df.at[dates[0], 'A'])\n",
        "df.at[dates[0], 'A'] = 11111\n",
        "print(df.at[dates[0], 'A'])"
      ],
      "execution_count": 60,
      "outputs": [
        {
          "output_type": "stream",
          "text": [
            "-0.6385571525456675\n",
            "11111.0\n"
          ],
          "name": "stdout"
        }
      ]
    },
    {
      "metadata": {
        "id": "B6Rjdh2anQUj",
        "colab_type": "code",
        "colab": {
          "base_uri": "https://localhost:8080/",
          "height": 53
        },
        "outputId": "ca1f6d34-ceec-403a-ceb3-dfa9ecd08aad"
      },
      "cell_type": "code",
      "source": [
        "# 특정 위치의 값을 위치정보로 변경해보자 \n",
        "print(df.iat[1,1])\n",
        "df.iat[1,1] = 12345\n",
        "print(df.iat[1,1])"
      ],
      "execution_count": 62,
      "outputs": [
        {
          "output_type": "stream",
          "text": [
            "12345.0\n",
            "12345.0\n"
          ],
          "name": "stdout"
        }
      ]
    },
    {
      "metadata": {
        "id": "XYMwMOdXnfjZ",
        "colab_type": "code",
        "colab": {
          "base_uri": "https://localhost:8080/",
          "height": 246
        },
        "outputId": "8764a811-c85e-42bf-b490-020032938c5f"
      },
      "cell_type": "code",
      "source": [
        "# numpy 배열을 바로 먹여보자\n",
        "df.loc[:,'D'] = np.array([5] * len(df))\n",
        "print(\"df length: \", len(df))\n",
        "df"
      ],
      "execution_count": 67,
      "outputs": [
        {
          "output_type": "stream",
          "text": [
            "df length:  6\n"
          ],
          "name": "stdout"
        },
        {
          "output_type": "execute_result",
          "data": {
            "text/html": [
              "<div>\n",
              "<style scoped>\n",
              "    .dataframe tbody tr th:only-of-type {\n",
              "        vertical-align: middle;\n",
              "    }\n",
              "\n",
              "    .dataframe tbody tr th {\n",
              "        vertical-align: top;\n",
              "    }\n",
              "\n",
              "    .dataframe thead th {\n",
              "        text-align: right;\n",
              "    }\n",
              "</style>\n",
              "<table border=\"1\" class=\"dataframe\">\n",
              "  <thead>\n",
              "    <tr style=\"text-align: right;\">\n",
              "      <th></th>\n",
              "      <th>A</th>\n",
              "      <th>B</th>\n",
              "      <th>C</th>\n",
              "      <th>D</th>\n",
              "    </tr>\n",
              "  </thead>\n",
              "  <tbody>\n",
              "    <tr>\n",
              "      <th>2018-05-23</th>\n",
              "      <td>11111.000000</td>\n",
              "      <td>-0.613279</td>\n",
              "      <td>0.021428</td>\n",
              "      <td>5</td>\n",
              "    </tr>\n",
              "    <tr>\n",
              "      <th>2018-05-24</th>\n",
              "      <td>-1.197896</td>\n",
              "      <td>12345.000000</td>\n",
              "      <td>0.024177</td>\n",
              "      <td>5</td>\n",
              "    </tr>\n",
              "    <tr>\n",
              "      <th>2018-05-25</th>\n",
              "      <td>0.079556</td>\n",
              "      <td>-0.716654</td>\n",
              "      <td>0.425823</td>\n",
              "      <td>5</td>\n",
              "    </tr>\n",
              "    <tr>\n",
              "      <th>2018-05-26</th>\n",
              "      <td>0.153308</td>\n",
              "      <td>0.231155</td>\n",
              "      <td>1.861366</td>\n",
              "      <td>5</td>\n",
              "    </tr>\n",
              "    <tr>\n",
              "      <th>2018-05-27</th>\n",
              "      <td>0.057988</td>\n",
              "      <td>0.820522</td>\n",
              "      <td>0.480691</td>\n",
              "      <td>5</td>\n",
              "    </tr>\n",
              "    <tr>\n",
              "      <th>2018-05-28</th>\n",
              "      <td>0.503431</td>\n",
              "      <td>0.333456</td>\n",
              "      <td>-0.100551</td>\n",
              "      <td>5</td>\n",
              "    </tr>\n",
              "  </tbody>\n",
              "</table>\n",
              "</div>"
            ],
            "text/plain": [
              "                       A             B         C  D\n",
              "2018-05-23  11111.000000     -0.613279  0.021428  5\n",
              "2018-05-24     -1.197896  12345.000000  0.024177  5\n",
              "2018-05-25      0.079556     -0.716654  0.425823  5\n",
              "2018-05-26      0.153308      0.231155  1.861366  5\n",
              "2018-05-27      0.057988      0.820522  0.480691  5\n",
              "2018-05-28      0.503431      0.333456 -0.100551  5"
            ]
          },
          "metadata": {
            "tags": []
          },
          "execution_count": 67
        }
      ]
    },
    {
      "metadata": {
        "id": "xBFS-S1Iojwk",
        "colab_type": "code",
        "colab": {
          "base_uri": "https://localhost:8080/",
          "height": 353
        },
        "outputId": "ea282246-9141-49ee-f33c-4c1a33783500"
      },
      "cell_type": "code",
      "source": [
        "# 양수인 모든 값을 음수로 만들어보자\n",
        "df2 = df.copy()\n",
        "print(df2)\n",
        "df2[df2 >0] = -df2\n",
        "df2"
      ],
      "execution_count": 72,
      "outputs": [
        {
          "output_type": "stream",
          "text": [
            "                       A             B         C  D\n",
            "2018-05-23  11111.000000     -0.613279  0.021428  5\n",
            "2018-05-24     -1.197896  12345.000000  0.024177  5\n",
            "2018-05-25      0.079556     -0.716654  0.425823  5\n",
            "2018-05-26      0.153308      0.231155  1.861366  5\n",
            "2018-05-27      0.057988      0.820522  0.480691  5\n",
            "2018-05-28      0.503431      0.333456 -0.100551  5\n"
          ],
          "name": "stdout"
        },
        {
          "output_type": "execute_result",
          "data": {
            "text/html": [
              "<div>\n",
              "<style scoped>\n",
              "    .dataframe tbody tr th:only-of-type {\n",
              "        vertical-align: middle;\n",
              "    }\n",
              "\n",
              "    .dataframe tbody tr th {\n",
              "        vertical-align: top;\n",
              "    }\n",
              "\n",
              "    .dataframe thead th {\n",
              "        text-align: right;\n",
              "    }\n",
              "</style>\n",
              "<table border=\"1\" class=\"dataframe\">\n",
              "  <thead>\n",
              "    <tr style=\"text-align: right;\">\n",
              "      <th></th>\n",
              "      <th>A</th>\n",
              "      <th>B</th>\n",
              "      <th>C</th>\n",
              "      <th>D</th>\n",
              "    </tr>\n",
              "  </thead>\n",
              "  <tbody>\n",
              "    <tr>\n",
              "      <th>2018-05-23</th>\n",
              "      <td>-11111.000000</td>\n",
              "      <td>-0.613279</td>\n",
              "      <td>-0.021428</td>\n",
              "      <td>-5</td>\n",
              "    </tr>\n",
              "    <tr>\n",
              "      <th>2018-05-24</th>\n",
              "      <td>-1.197896</td>\n",
              "      <td>-12345.000000</td>\n",
              "      <td>-0.024177</td>\n",
              "      <td>-5</td>\n",
              "    </tr>\n",
              "    <tr>\n",
              "      <th>2018-05-25</th>\n",
              "      <td>-0.079556</td>\n",
              "      <td>-0.716654</td>\n",
              "      <td>-0.425823</td>\n",
              "      <td>-5</td>\n",
              "    </tr>\n",
              "    <tr>\n",
              "      <th>2018-05-26</th>\n",
              "      <td>-0.153308</td>\n",
              "      <td>-0.231155</td>\n",
              "      <td>-1.861366</td>\n",
              "      <td>-5</td>\n",
              "    </tr>\n",
              "    <tr>\n",
              "      <th>2018-05-27</th>\n",
              "      <td>-0.057988</td>\n",
              "      <td>-0.820522</td>\n",
              "      <td>-0.480691</td>\n",
              "      <td>-5</td>\n",
              "    </tr>\n",
              "    <tr>\n",
              "      <th>2018-05-28</th>\n",
              "      <td>-0.503431</td>\n",
              "      <td>-0.333456</td>\n",
              "      <td>-0.100551</td>\n",
              "      <td>-5</td>\n",
              "    </tr>\n",
              "  </tbody>\n",
              "</table>\n",
              "</div>"
            ],
            "text/plain": [
              "                       A             B         C  D\n",
              "2018-05-23 -11111.000000     -0.613279 -0.021428 -5\n",
              "2018-05-24     -1.197896 -12345.000000 -0.024177 -5\n",
              "2018-05-25     -0.079556     -0.716654 -0.425823 -5\n",
              "2018-05-26     -0.153308     -0.231155 -1.861366 -5\n",
              "2018-05-27     -0.057988     -0.820522 -0.480691 -5\n",
              "2018-05-28     -0.503431     -0.333456 -0.100551 -5"
            ]
          },
          "metadata": {
            "tags": []
          },
          "execution_count": 72
        }
      ]
    },
    {
      "metadata": {
        "id": "PYvH2StZowjZ",
        "colab_type": "text"
      },
      "cell_type": "markdown",
      "source": [
        "# Missing Data\n"
      ]
    },
    {
      "metadata": {
        "id": "JDzoJ4yArCIb",
        "colab_type": "code",
        "colab": {
          "base_uri": "https://localhost:8080/",
          "height": 382
        },
        "outputId": "6153cc54-ee58-474b-ccd2-135f1a0904f5"
      },
      "cell_type": "code",
      "source": [
        "# np.nan (=Not a Number) 를 써서 missing data 를 표시하며 연산에 적용되지 않는다. \n",
        "print(df)\n",
        "df1 = df.reindex(index=dates[0:4], columns=list(df.columns) + ['E'])\n",
        "print(df1)\n",
        "df1.loc[dates[0]:dates[1], 'E'] = 1\n",
        "df1\n"
      ],
      "execution_count": 74,
      "outputs": [
        {
          "output_type": "stream",
          "text": [
            "                       A             B         C  D\n",
            "2018-05-23  11111.000000     -0.613279  0.021428  5\n",
            "2018-05-24     -1.197896  12345.000000  0.024177  5\n",
            "2018-05-25      0.079556     -0.716654  0.425823  5\n",
            "2018-05-26      0.153308      0.231155  1.861366  5\n",
            "2018-05-27      0.057988      0.820522  0.480691  5\n",
            "2018-05-28      0.503431      0.333456 -0.100551  5\n",
            "                       A             B         C  D   E\n",
            "2018-05-23  11111.000000     -0.613279  0.021428  5 NaN\n",
            "2018-05-24     -1.197896  12345.000000  0.024177  5 NaN\n",
            "2018-05-25      0.079556     -0.716654  0.425823  5 NaN\n",
            "2018-05-26      0.153308      0.231155  1.861366  5 NaN\n"
          ],
          "name": "stdout"
        },
        {
          "output_type": "execute_result",
          "data": {
            "text/html": [
              "<div>\n",
              "<style scoped>\n",
              "    .dataframe tbody tr th:only-of-type {\n",
              "        vertical-align: middle;\n",
              "    }\n",
              "\n",
              "    .dataframe tbody tr th {\n",
              "        vertical-align: top;\n",
              "    }\n",
              "\n",
              "    .dataframe thead th {\n",
              "        text-align: right;\n",
              "    }\n",
              "</style>\n",
              "<table border=\"1\" class=\"dataframe\">\n",
              "  <thead>\n",
              "    <tr style=\"text-align: right;\">\n",
              "      <th></th>\n",
              "      <th>A</th>\n",
              "      <th>B</th>\n",
              "      <th>C</th>\n",
              "      <th>D</th>\n",
              "      <th>E</th>\n",
              "    </tr>\n",
              "  </thead>\n",
              "  <tbody>\n",
              "    <tr>\n",
              "      <th>2018-05-23</th>\n",
              "      <td>11111.000000</td>\n",
              "      <td>-0.613279</td>\n",
              "      <td>0.021428</td>\n",
              "      <td>5</td>\n",
              "      <td>1.0</td>\n",
              "    </tr>\n",
              "    <tr>\n",
              "      <th>2018-05-24</th>\n",
              "      <td>-1.197896</td>\n",
              "      <td>12345.000000</td>\n",
              "      <td>0.024177</td>\n",
              "      <td>5</td>\n",
              "      <td>1.0</td>\n",
              "    </tr>\n",
              "    <tr>\n",
              "      <th>2018-05-25</th>\n",
              "      <td>0.079556</td>\n",
              "      <td>-0.716654</td>\n",
              "      <td>0.425823</td>\n",
              "      <td>5</td>\n",
              "      <td>NaN</td>\n",
              "    </tr>\n",
              "    <tr>\n",
              "      <th>2018-05-26</th>\n",
              "      <td>0.153308</td>\n",
              "      <td>0.231155</td>\n",
              "      <td>1.861366</td>\n",
              "      <td>5</td>\n",
              "      <td>NaN</td>\n",
              "    </tr>\n",
              "  </tbody>\n",
              "</table>\n",
              "</div>"
            ],
            "text/plain": [
              "                       A             B         C  D    E\n",
              "2018-05-23  11111.000000     -0.613279  0.021428  5  1.0\n",
              "2018-05-24     -1.197896  12345.000000  0.024177  5  1.0\n",
              "2018-05-25      0.079556     -0.716654  0.425823  5  NaN\n",
              "2018-05-26      0.153308      0.231155  1.861366  5  NaN"
            ]
          },
          "metadata": {
            "tags": []
          },
          "execution_count": 74
        }
      ]
    },
    {
      "metadata": {
        "id": "67b6JaH1rvLU",
        "colab_type": "code",
        "colab": {
          "base_uri": "https://localhost:8080/",
          "height": 108
        },
        "outputId": "0768d7be-92a1-4c41-b5f5-7ed497b08218"
      },
      "cell_type": "code",
      "source": [
        "# nan 이 있는 녀석들은 다 제외하고 frame 을 그려보자\n",
        "df1.dropna(how='any')"
      ],
      "execution_count": 75,
      "outputs": [
        {
          "output_type": "execute_result",
          "data": {
            "text/html": [
              "<div>\n",
              "<style scoped>\n",
              "    .dataframe tbody tr th:only-of-type {\n",
              "        vertical-align: middle;\n",
              "    }\n",
              "\n",
              "    .dataframe tbody tr th {\n",
              "        vertical-align: top;\n",
              "    }\n",
              "\n",
              "    .dataframe thead th {\n",
              "        text-align: right;\n",
              "    }\n",
              "</style>\n",
              "<table border=\"1\" class=\"dataframe\">\n",
              "  <thead>\n",
              "    <tr style=\"text-align: right;\">\n",
              "      <th></th>\n",
              "      <th>A</th>\n",
              "      <th>B</th>\n",
              "      <th>C</th>\n",
              "      <th>D</th>\n",
              "      <th>E</th>\n",
              "    </tr>\n",
              "  </thead>\n",
              "  <tbody>\n",
              "    <tr>\n",
              "      <th>2018-05-23</th>\n",
              "      <td>11111.000000</td>\n",
              "      <td>-0.613279</td>\n",
              "      <td>0.021428</td>\n",
              "      <td>5</td>\n",
              "      <td>1.0</td>\n",
              "    </tr>\n",
              "    <tr>\n",
              "      <th>2018-05-24</th>\n",
              "      <td>-1.197896</td>\n",
              "      <td>12345.000000</td>\n",
              "      <td>0.024177</td>\n",
              "      <td>5</td>\n",
              "      <td>1.0</td>\n",
              "    </tr>\n",
              "  </tbody>\n",
              "</table>\n",
              "</div>"
            ],
            "text/plain": [
              "                       A             B         C  D    E\n",
              "2018-05-23  11111.000000     -0.613279  0.021428  5  1.0\n",
              "2018-05-24     -1.197896  12345.000000  0.024177  5  1.0"
            ]
          },
          "metadata": {
            "tags": []
          },
          "execution_count": 75
        }
      ]
    },
    {
      "metadata": {
        "id": "GWxcR53YsDoV",
        "colab_type": "code",
        "colab": {
          "base_uri": "https://localhost:8080/",
          "height": 168
        },
        "outputId": "74190b5a-eaf8-4a16-ac6b-c7738a1c0fbd"
      },
      "cell_type": "code",
      "source": [
        "# nan 인 녀석들에 값을 채워줘보자\n",
        "df1.fillna(value=5)"
      ],
      "execution_count": 76,
      "outputs": [
        {
          "output_type": "execute_result",
          "data": {
            "text/html": [
              "<div>\n",
              "<style scoped>\n",
              "    .dataframe tbody tr th:only-of-type {\n",
              "        vertical-align: middle;\n",
              "    }\n",
              "\n",
              "    .dataframe tbody tr th {\n",
              "        vertical-align: top;\n",
              "    }\n",
              "\n",
              "    .dataframe thead th {\n",
              "        text-align: right;\n",
              "    }\n",
              "</style>\n",
              "<table border=\"1\" class=\"dataframe\">\n",
              "  <thead>\n",
              "    <tr style=\"text-align: right;\">\n",
              "      <th></th>\n",
              "      <th>A</th>\n",
              "      <th>B</th>\n",
              "      <th>C</th>\n",
              "      <th>D</th>\n",
              "      <th>E</th>\n",
              "    </tr>\n",
              "  </thead>\n",
              "  <tbody>\n",
              "    <tr>\n",
              "      <th>2018-05-23</th>\n",
              "      <td>11111.000000</td>\n",
              "      <td>-0.613279</td>\n",
              "      <td>0.021428</td>\n",
              "      <td>5</td>\n",
              "      <td>1.0</td>\n",
              "    </tr>\n",
              "    <tr>\n",
              "      <th>2018-05-24</th>\n",
              "      <td>-1.197896</td>\n",
              "      <td>12345.000000</td>\n",
              "      <td>0.024177</td>\n",
              "      <td>5</td>\n",
              "      <td>1.0</td>\n",
              "    </tr>\n",
              "    <tr>\n",
              "      <th>2018-05-25</th>\n",
              "      <td>0.079556</td>\n",
              "      <td>-0.716654</td>\n",
              "      <td>0.425823</td>\n",
              "      <td>5</td>\n",
              "      <td>5.0</td>\n",
              "    </tr>\n",
              "    <tr>\n",
              "      <th>2018-05-26</th>\n",
              "      <td>0.153308</td>\n",
              "      <td>0.231155</td>\n",
              "      <td>1.861366</td>\n",
              "      <td>5</td>\n",
              "      <td>5.0</td>\n",
              "    </tr>\n",
              "  </tbody>\n",
              "</table>\n",
              "</div>"
            ],
            "text/plain": [
              "                       A             B         C  D    E\n",
              "2018-05-23  11111.000000     -0.613279  0.021428  5  1.0\n",
              "2018-05-24     -1.197896  12345.000000  0.024177  5  1.0\n",
              "2018-05-25      0.079556     -0.716654  0.425823  5  5.0\n",
              "2018-05-26      0.153308      0.231155  1.861366  5  5.0"
            ]
          },
          "metadata": {
            "tags": []
          },
          "execution_count": 76
        }
      ]
    },
    {
      "metadata": {
        "id": "OQKmAqRRsMX8",
        "colab_type": "code",
        "colab": {
          "base_uri": "https://localhost:8080/",
          "height": 168
        },
        "outputId": "7e89eba9-5051-41f0-a932-42d9860ff9c7"
      },
      "cell_type": "code",
      "source": [
        "# nan  이면 참이다\n",
        "pd.isna(df1)"
      ],
      "execution_count": 77,
      "outputs": [
        {
          "output_type": "execute_result",
          "data": {
            "text/html": [
              "<div>\n",
              "<style scoped>\n",
              "    .dataframe tbody tr th:only-of-type {\n",
              "        vertical-align: middle;\n",
              "    }\n",
              "\n",
              "    .dataframe tbody tr th {\n",
              "        vertical-align: top;\n",
              "    }\n",
              "\n",
              "    .dataframe thead th {\n",
              "        text-align: right;\n",
              "    }\n",
              "</style>\n",
              "<table border=\"1\" class=\"dataframe\">\n",
              "  <thead>\n",
              "    <tr style=\"text-align: right;\">\n",
              "      <th></th>\n",
              "      <th>A</th>\n",
              "      <th>B</th>\n",
              "      <th>C</th>\n",
              "      <th>D</th>\n",
              "      <th>E</th>\n",
              "    </tr>\n",
              "  </thead>\n",
              "  <tbody>\n",
              "    <tr>\n",
              "      <th>2018-05-23</th>\n",
              "      <td>False</td>\n",
              "      <td>False</td>\n",
              "      <td>False</td>\n",
              "      <td>False</td>\n",
              "      <td>False</td>\n",
              "    </tr>\n",
              "    <tr>\n",
              "      <th>2018-05-24</th>\n",
              "      <td>False</td>\n",
              "      <td>False</td>\n",
              "      <td>False</td>\n",
              "      <td>False</td>\n",
              "      <td>False</td>\n",
              "    </tr>\n",
              "    <tr>\n",
              "      <th>2018-05-25</th>\n",
              "      <td>False</td>\n",
              "      <td>False</td>\n",
              "      <td>False</td>\n",
              "      <td>False</td>\n",
              "      <td>True</td>\n",
              "    </tr>\n",
              "    <tr>\n",
              "      <th>2018-05-26</th>\n",
              "      <td>False</td>\n",
              "      <td>False</td>\n",
              "      <td>False</td>\n",
              "      <td>False</td>\n",
              "      <td>True</td>\n",
              "    </tr>\n",
              "  </tbody>\n",
              "</table>\n",
              "</div>"
            ],
            "text/plain": [
              "                A      B      C      D      E\n",
              "2018-05-23  False  False  False  False  False\n",
              "2018-05-24  False  False  False  False  False\n",
              "2018-05-25  False  False  False  False   True\n",
              "2018-05-26  False  False  False  False   True"
            ]
          },
          "metadata": {
            "tags": []
          },
          "execution_count": 77
        }
      ]
    },
    {
      "metadata": {
        "id": "oDy-2WCKsU96",
        "colab_type": "text"
      },
      "cell_type": "markdown",
      "source": [
        "# Operations\n",
        "## Stats"
      ]
    },
    {
      "metadata": {
        "id": "CxXflaDSsZn-",
        "colab_type": "code",
        "colab": {
          "base_uri": "https://localhost:8080/",
          "height": 106
        },
        "outputId": "068844b7-77a0-4dcd-d93f-4e88cf040139"
      },
      "cell_type": "code",
      "source": [
        "# Operation 에서 nan 은 무시되는건 잊지말자\n",
        "# 평균값 내보자\n",
        "df.mean()"
      ],
      "execution_count": 78,
      "outputs": [
        {
          "output_type": "execute_result",
          "data": {
            "text/plain": [
              "A    1851.766064\n",
              "B    2057.509200\n",
              "C       0.452156\n",
              "D       5.000000\n",
              "dtype: float64"
            ]
          },
          "metadata": {
            "tags": []
          },
          "execution_count": 78
        }
      ]
    },
    {
      "metadata": {
        "id": "XUz9JV8TsnJ-",
        "colab_type": "code",
        "colab": {
          "base_uri": "https://localhost:8080/",
          "height": 142
        },
        "outputId": "7d3eebb8-1b81-4542-9a22-be6128d420ee"
      },
      "cell_type": "code",
      "source": [
        "# 이번에는 행으로\n",
        "df.mean(1)"
      ],
      "execution_count": 79,
      "outputs": [
        {
          "output_type": "execute_result",
          "data": {
            "text/plain": [
              "2018-05-23    2778.852037\n",
              "2018-05-24    3087.206570\n",
              "2018-05-25       1.197181\n",
              "2018-05-26       1.811457\n",
              "2018-05-27       1.589800\n",
              "2018-05-28       1.434084\n",
              "Freq: D, dtype: float64"
            ]
          },
          "metadata": {
            "tags": []
          },
          "execution_count": 79
        }
      ]
    },
    {
      "metadata": {
        "id": "0nyUJ9SrsrmT",
        "colab_type": "code",
        "colab": {
          "base_uri": "https://localhost:8080/",
          "height": 106
        },
        "outputId": "10419f30-6ccd-4a78-9bdf-bd8985d3e96f"
      },
      "cell_type": "code",
      "source": [
        "df.mean(axis=0)"
      ],
      "execution_count": 80,
      "outputs": [
        {
          "output_type": "execute_result",
          "data": {
            "text/plain": [
              "A    1851.766064\n",
              "B    2057.509200\n",
              "C       0.452156\n",
              "D       5.000000\n",
              "dtype: float64"
            ]
          },
          "metadata": {
            "tags": []
          },
          "execution_count": 80
        }
      ]
    },
    {
      "metadata": {
        "id": "9t-kX0Jbsrpu",
        "colab_type": "code",
        "colab": {
          "base_uri": "https://localhost:8080/",
          "height": 142
        },
        "outputId": "ff5fd7e3-20a3-4fc7-8f95-917974e1a53f"
      },
      "cell_type": "code",
      "source": [
        "s = pd.Series([1,3,4,np.nan,6,8], index=dates)\n",
        "print(s)\n",
        "s = s.shift(2)  # 아래쪽으로 2단계 shift"
      ],
      "execution_count": 86,
      "outputs": [
        {
          "output_type": "stream",
          "text": [
            "2018-05-23    1.0\n",
            "2018-05-24    3.0\n",
            "2018-05-25    4.0\n",
            "2018-05-26    NaN\n",
            "2018-05-27    6.0\n",
            "2018-05-28    8.0\n",
            "Freq: D, dtype: float64\n"
          ],
          "name": "stdout"
        }
      ]
    },
    {
      "metadata": {
        "id": "MOngsZzosruz",
        "colab_type": "code",
        "colab": {
          "base_uri": "https://localhost:8080/",
          "height": 353
        },
        "outputId": "eed6f1ad-f3ec-4f2b-b1c6-7a0d29f46410"
      },
      "cell_type": "code",
      "source": [
        "print(df)\n",
        "df.sub(s, axis='index')"
      ],
      "execution_count": 87,
      "outputs": [
        {
          "output_type": "stream",
          "text": [
            "                       A             B         C  D\n",
            "2018-05-23  11111.000000     -0.613279  0.021428  5\n",
            "2018-05-24     -1.197896  12345.000000  0.024177  5\n",
            "2018-05-25      0.079556     -0.716654  0.425823  5\n",
            "2018-05-26      0.153308      0.231155  1.861366  5\n",
            "2018-05-27      0.057988      0.820522  0.480691  5\n",
            "2018-05-28      0.503431      0.333456 -0.100551  5\n"
          ],
          "name": "stdout"
        },
        {
          "output_type": "execute_result",
          "data": {
            "text/html": [
              "<div>\n",
              "<style scoped>\n",
              "    .dataframe tbody tr th:only-of-type {\n",
              "        vertical-align: middle;\n",
              "    }\n",
              "\n",
              "    .dataframe tbody tr th {\n",
              "        vertical-align: top;\n",
              "    }\n",
              "\n",
              "    .dataframe thead th {\n",
              "        text-align: right;\n",
              "    }\n",
              "</style>\n",
              "<table border=\"1\" class=\"dataframe\">\n",
              "  <thead>\n",
              "    <tr style=\"text-align: right;\">\n",
              "      <th></th>\n",
              "      <th>A</th>\n",
              "      <th>B</th>\n",
              "      <th>C</th>\n",
              "      <th>D</th>\n",
              "    </tr>\n",
              "  </thead>\n",
              "  <tbody>\n",
              "    <tr>\n",
              "      <th>2018-05-23</th>\n",
              "      <td>NaN</td>\n",
              "      <td>NaN</td>\n",
              "      <td>NaN</td>\n",
              "      <td>NaN</td>\n",
              "    </tr>\n",
              "    <tr>\n",
              "      <th>2018-05-24</th>\n",
              "      <td>NaN</td>\n",
              "      <td>NaN</td>\n",
              "      <td>NaN</td>\n",
              "      <td>NaN</td>\n",
              "    </tr>\n",
              "    <tr>\n",
              "      <th>2018-05-25</th>\n",
              "      <td>-0.920444</td>\n",
              "      <td>-1.716654</td>\n",
              "      <td>-0.574177</td>\n",
              "      <td>4.0</td>\n",
              "    </tr>\n",
              "    <tr>\n",
              "      <th>2018-05-26</th>\n",
              "      <td>-2.846692</td>\n",
              "      <td>-2.768845</td>\n",
              "      <td>-1.138634</td>\n",
              "      <td>2.0</td>\n",
              "    </tr>\n",
              "    <tr>\n",
              "      <th>2018-05-27</th>\n",
              "      <td>-3.942012</td>\n",
              "      <td>-3.179478</td>\n",
              "      <td>-3.519309</td>\n",
              "      <td>1.0</td>\n",
              "    </tr>\n",
              "    <tr>\n",
              "      <th>2018-05-28</th>\n",
              "      <td>NaN</td>\n",
              "      <td>NaN</td>\n",
              "      <td>NaN</td>\n",
              "      <td>NaN</td>\n",
              "    </tr>\n",
              "  </tbody>\n",
              "</table>\n",
              "</div>"
            ],
            "text/plain": [
              "                   A         B         C    D\n",
              "2018-05-23       NaN       NaN       NaN  NaN\n",
              "2018-05-24       NaN       NaN       NaN  NaN\n",
              "2018-05-25 -0.920444 -1.716654 -0.574177  4.0\n",
              "2018-05-26 -2.846692 -2.768845 -1.138634  2.0\n",
              "2018-05-27 -3.942012 -3.179478 -3.519309  1.0\n",
              "2018-05-28       NaN       NaN       NaN  NaN"
            ]
          },
          "metadata": {
            "tags": []
          },
          "execution_count": 87
        }
      ]
    },
    {
      "metadata": {
        "id": "kwpfdonksrxs",
        "colab_type": "text"
      },
      "cell_type": "markdown",
      "source": [
        "## Apply\n"
      ]
    },
    {
      "metadata": {
        "id": "kI6zVn27srsb",
        "colab_type": "code",
        "colab": {
          "base_uri": "https://localhost:8080/",
          "height": 353
        },
        "outputId": "4a648ff7-813d-44e4-b809-47209c15eac4"
      },
      "cell_type": "code",
      "source": [
        "# function 을 data 에 apply 한다 \n",
        "print(df)\n",
        "df.apply(np.cumsum)  # 누적합 계산기"
      ],
      "execution_count": 91,
      "outputs": [
        {
          "output_type": "stream",
          "text": [
            "                       A             B         C  D\n",
            "2018-05-23  11111.000000     -0.613279  0.021428  5\n",
            "2018-05-24     -1.197896  12345.000000  0.024177  5\n",
            "2018-05-25      0.079556     -0.716654  0.425823  5\n",
            "2018-05-26      0.153308      0.231155  1.861366  5\n",
            "2018-05-27      0.057988      0.820522  0.480691  5\n",
            "2018-05-28      0.503431      0.333456 -0.100551  5\n"
          ],
          "name": "stdout"
        },
        {
          "output_type": "execute_result",
          "data": {
            "text/html": [
              "<div>\n",
              "<style scoped>\n",
              "    .dataframe tbody tr th:only-of-type {\n",
              "        vertical-align: middle;\n",
              "    }\n",
              "\n",
              "    .dataframe tbody tr th {\n",
              "        vertical-align: top;\n",
              "    }\n",
              "\n",
              "    .dataframe thead th {\n",
              "        text-align: right;\n",
              "    }\n",
              "</style>\n",
              "<table border=\"1\" class=\"dataframe\">\n",
              "  <thead>\n",
              "    <tr style=\"text-align: right;\">\n",
              "      <th></th>\n",
              "      <th>A</th>\n",
              "      <th>B</th>\n",
              "      <th>C</th>\n",
              "      <th>D</th>\n",
              "    </tr>\n",
              "  </thead>\n",
              "  <tbody>\n",
              "    <tr>\n",
              "      <th>2018-05-23</th>\n",
              "      <td>11111.000000</td>\n",
              "      <td>-0.613279</td>\n",
              "      <td>0.021428</td>\n",
              "      <td>5</td>\n",
              "    </tr>\n",
              "    <tr>\n",
              "      <th>2018-05-24</th>\n",
              "      <td>11109.802104</td>\n",
              "      <td>12344.386721</td>\n",
              "      <td>0.045605</td>\n",
              "      <td>10</td>\n",
              "    </tr>\n",
              "    <tr>\n",
              "      <th>2018-05-25</th>\n",
              "      <td>11109.881659</td>\n",
              "      <td>12343.670067</td>\n",
              "      <td>0.471428</td>\n",
              "      <td>15</td>\n",
              "    </tr>\n",
              "    <tr>\n",
              "      <th>2018-05-26</th>\n",
              "      <td>11110.034967</td>\n",
              "      <td>12343.901222</td>\n",
              "      <td>2.332794</td>\n",
              "      <td>20</td>\n",
              "    </tr>\n",
              "    <tr>\n",
              "      <th>2018-05-27</th>\n",
              "      <td>11110.092955</td>\n",
              "      <td>12344.721744</td>\n",
              "      <td>2.813484</td>\n",
              "      <td>25</td>\n",
              "    </tr>\n",
              "    <tr>\n",
              "      <th>2018-05-28</th>\n",
              "      <td>11110.596386</td>\n",
              "      <td>12345.055200</td>\n",
              "      <td>2.712934</td>\n",
              "      <td>30</td>\n",
              "    </tr>\n",
              "  </tbody>\n",
              "</table>\n",
              "</div>"
            ],
            "text/plain": [
              "                       A             B         C   D\n",
              "2018-05-23  11111.000000     -0.613279  0.021428   5\n",
              "2018-05-24  11109.802104  12344.386721  0.045605  10\n",
              "2018-05-25  11109.881659  12343.670067  0.471428  15\n",
              "2018-05-26  11110.034967  12343.901222  2.332794  20\n",
              "2018-05-27  11110.092955  12344.721744  2.813484  25\n",
              "2018-05-28  11110.596386  12345.055200  2.712934  30"
            ]
          },
          "metadata": {
            "tags": []
          },
          "execution_count": 91
        }
      ]
    },
    {
      "metadata": {
        "id": "7f6o0Gduucfc",
        "colab_type": "code",
        "colab": {
          "base_uri": "https://localhost:8080/",
          "height": 353
        },
        "outputId": "781c21f8-fa8e-430a-931d-536baadad0cd"
      },
      "cell_type": "code",
      "source": [
        "print(df)\n",
        "df.apply(lambda x: x + 999)"
      ],
      "execution_count": 98,
      "outputs": [
        {
          "output_type": "stream",
          "text": [
            "                       A             B         C  D\n",
            "2018-05-23  11111.000000     -0.613279  0.021428  5\n",
            "2018-05-24     -1.197896  12345.000000  0.024177  5\n",
            "2018-05-25      0.079556     -0.716654  0.425823  5\n",
            "2018-05-26      0.153308      0.231155  1.861366  5\n",
            "2018-05-27      0.057988      0.820522  0.480691  5\n",
            "2018-05-28      0.503431      0.333456 -0.100551  5\n"
          ],
          "name": "stdout"
        },
        {
          "output_type": "execute_result",
          "data": {
            "text/html": [
              "<div>\n",
              "<style scoped>\n",
              "    .dataframe tbody tr th:only-of-type {\n",
              "        vertical-align: middle;\n",
              "    }\n",
              "\n",
              "    .dataframe tbody tr th {\n",
              "        vertical-align: top;\n",
              "    }\n",
              "\n",
              "    .dataframe thead th {\n",
              "        text-align: right;\n",
              "    }\n",
              "</style>\n",
              "<table border=\"1\" class=\"dataframe\">\n",
              "  <thead>\n",
              "    <tr style=\"text-align: right;\">\n",
              "      <th></th>\n",
              "      <th>A</th>\n",
              "      <th>B</th>\n",
              "      <th>C</th>\n",
              "      <th>D</th>\n",
              "    </tr>\n",
              "  </thead>\n",
              "  <tbody>\n",
              "    <tr>\n",
              "      <th>2018-05-23</th>\n",
              "      <td>12110.000000</td>\n",
              "      <td>998.386721</td>\n",
              "      <td>999.021428</td>\n",
              "      <td>1004</td>\n",
              "    </tr>\n",
              "    <tr>\n",
              "      <th>2018-05-24</th>\n",
              "      <td>997.802104</td>\n",
              "      <td>13344.000000</td>\n",
              "      <td>999.024177</td>\n",
              "      <td>1004</td>\n",
              "    </tr>\n",
              "    <tr>\n",
              "      <th>2018-05-25</th>\n",
              "      <td>999.079556</td>\n",
              "      <td>998.283346</td>\n",
              "      <td>999.425823</td>\n",
              "      <td>1004</td>\n",
              "    </tr>\n",
              "    <tr>\n",
              "      <th>2018-05-26</th>\n",
              "      <td>999.153308</td>\n",
              "      <td>999.231155</td>\n",
              "      <td>1000.861366</td>\n",
              "      <td>1004</td>\n",
              "    </tr>\n",
              "    <tr>\n",
              "      <th>2018-05-27</th>\n",
              "      <td>999.057988</td>\n",
              "      <td>999.820522</td>\n",
              "      <td>999.480691</td>\n",
              "      <td>1004</td>\n",
              "    </tr>\n",
              "    <tr>\n",
              "      <th>2018-05-28</th>\n",
              "      <td>999.503431</td>\n",
              "      <td>999.333456</td>\n",
              "      <td>998.899449</td>\n",
              "      <td>1004</td>\n",
              "    </tr>\n",
              "  </tbody>\n",
              "</table>\n",
              "</div>"
            ],
            "text/plain": [
              "                       A             B            C     D\n",
              "2018-05-23  12110.000000    998.386721   999.021428  1004\n",
              "2018-05-24    997.802104  13344.000000   999.024177  1004\n",
              "2018-05-25    999.079556    998.283346   999.425823  1004\n",
              "2018-05-26    999.153308    999.231155  1000.861366  1004\n",
              "2018-05-27    999.057988    999.820522   999.480691  1004\n",
              "2018-05-28    999.503431    999.333456   998.899449  1004"
            ]
          },
          "metadata": {
            "tags": []
          },
          "execution_count": 98
        }
      ]
    },
    {
      "metadata": {
        "id": "Otx2RyS4xeN6",
        "colab_type": "text"
      },
      "cell_type": "markdown",
      "source": [
        "## Histogramming\n"
      ]
    },
    {
      "metadata": {
        "id": "ys2mcV7Qykjj",
        "colab_type": "code",
        "colab": {
          "base_uri": "https://localhost:8080/",
          "height": 303
        },
        "outputId": "e9d387ef-43ae-4f7c-d20d-87ae34060867"
      },
      "cell_type": "code",
      "source": [
        "# 각 값들의 개수를 value_counts() 해줄 수 있다.\n",
        "s = pd.Series(np.random.randint(0,7, size=10))\n",
        "print(s)\n",
        "s.value_counts()"
      ],
      "execution_count": 101,
      "outputs": [
        {
          "output_type": "stream",
          "text": [
            "0    6\n",
            "1    6\n",
            "2    6\n",
            "3    0\n",
            "4    1\n",
            "5    6\n",
            "6    5\n",
            "7    5\n",
            "8    6\n",
            "9    6\n",
            "dtype: int64\n"
          ],
          "name": "stdout"
        },
        {
          "output_type": "execute_result",
          "data": {
            "text/plain": [
              "6    6\n",
              "5    2\n",
              "1    1\n",
              "0    1\n",
              "dtype: int64"
            ]
          },
          "metadata": {
            "tags": []
          },
          "execution_count": 101
        }
      ]
    },
    {
      "metadata": {
        "id": "B1nvE3NoyvHL",
        "colab_type": "text"
      },
      "cell_type": "markdown",
      "source": [
        "## String Methods"
      ]
    },
    {
      "metadata": {
        "id": "S4bXaTdXzC4K",
        "colab_type": "code",
        "colab": {
          "base_uri": "https://localhost:8080/",
          "height": 374
        },
        "outputId": "b6112f0b-fb9e-4915-e7df-29e9ad20b0b7"
      },
      "cell_type": "code",
      "source": [
        "# 문자열을 만져보자\n",
        "s = pd.Series(['A','B', 'C', 'Aaba', 'Baca', np.nan, 'CAVB', 'dog', 'cat'])\n",
        "print(s)\n",
        "s.str.lower()"
      ],
      "execution_count": 102,
      "outputs": [
        {
          "output_type": "stream",
          "text": [
            "0       A\n",
            "1       B\n",
            "2       C\n",
            "3    Aaba\n",
            "4    Baca\n",
            "5     NaN\n",
            "6    CAVB\n",
            "7     dog\n",
            "8     cat\n",
            "dtype: object\n"
          ],
          "name": "stdout"
        },
        {
          "output_type": "execute_result",
          "data": {
            "text/plain": [
              "0       a\n",
              "1       b\n",
              "2       c\n",
              "3    aaba\n",
              "4    baca\n",
              "5     NaN\n",
              "6    cavb\n",
              "7     dog\n",
              "8     cat\n",
              "dtype: object"
            ]
          },
          "metadata": {
            "tags": []
          },
          "execution_count": 102
        }
      ]
    },
    {
      "metadata": {
        "id": "qljVyR2wzXTf",
        "colab_type": "text"
      },
      "cell_type": "markdown",
      "source": [
        "# Merge\n",
        "## Concat"
      ]
    },
    {
      "metadata": {
        "id": "BqXrv0g2zakc",
        "colab_type": "code",
        "colab": {
          "base_uri": "https://localhost:8080/",
          "height": 348
        },
        "outputId": "129ea819-44f1-4c2d-e790-f379f6f09678"
      },
      "cell_type": "code",
      "source": [
        "df = pd.DataFrame(np.random.randn(10,4))\n",
        "df"
      ],
      "execution_count": 103,
      "outputs": [
        {
          "output_type": "execute_result",
          "data": {
            "text/html": [
              "<div>\n",
              "<style scoped>\n",
              "    .dataframe tbody tr th:only-of-type {\n",
              "        vertical-align: middle;\n",
              "    }\n",
              "\n",
              "    .dataframe tbody tr th {\n",
              "        vertical-align: top;\n",
              "    }\n",
              "\n",
              "    .dataframe thead th {\n",
              "        text-align: right;\n",
              "    }\n",
              "</style>\n",
              "<table border=\"1\" class=\"dataframe\">\n",
              "  <thead>\n",
              "    <tr style=\"text-align: right;\">\n",
              "      <th></th>\n",
              "      <th>0</th>\n",
              "      <th>1</th>\n",
              "      <th>2</th>\n",
              "      <th>3</th>\n",
              "    </tr>\n",
              "  </thead>\n",
              "  <tbody>\n",
              "    <tr>\n",
              "      <th>0</th>\n",
              "      <td>0.064546</td>\n",
              "      <td>1.246682</td>\n",
              "      <td>1.123591</td>\n",
              "      <td>0.928081</td>\n",
              "    </tr>\n",
              "    <tr>\n",
              "      <th>1</th>\n",
              "      <td>0.315504</td>\n",
              "      <td>1.230743</td>\n",
              "      <td>-0.794332</td>\n",
              "      <td>1.333083</td>\n",
              "    </tr>\n",
              "    <tr>\n",
              "      <th>2</th>\n",
              "      <td>0.788534</td>\n",
              "      <td>1.499127</td>\n",
              "      <td>2.169378</td>\n",
              "      <td>0.364573</td>\n",
              "    </tr>\n",
              "    <tr>\n",
              "      <th>3</th>\n",
              "      <td>1.158402</td>\n",
              "      <td>-0.399656</td>\n",
              "      <td>-0.404442</td>\n",
              "      <td>0.899714</td>\n",
              "    </tr>\n",
              "    <tr>\n",
              "      <th>4</th>\n",
              "      <td>-0.574401</td>\n",
              "      <td>0.410532</td>\n",
              "      <td>-1.121240</td>\n",
              "      <td>0.519769</td>\n",
              "    </tr>\n",
              "    <tr>\n",
              "      <th>5</th>\n",
              "      <td>0.074896</td>\n",
              "      <td>1.544777</td>\n",
              "      <td>-0.592204</td>\n",
              "      <td>0.202649</td>\n",
              "    </tr>\n",
              "    <tr>\n",
              "      <th>6</th>\n",
              "      <td>0.476368</td>\n",
              "      <td>-0.147723</td>\n",
              "      <td>0.547742</td>\n",
              "      <td>0.139635</td>\n",
              "    </tr>\n",
              "    <tr>\n",
              "      <th>7</th>\n",
              "      <td>0.502834</td>\n",
              "      <td>0.010063</td>\n",
              "      <td>0.151124</td>\n",
              "      <td>-1.924312</td>\n",
              "    </tr>\n",
              "    <tr>\n",
              "      <th>8</th>\n",
              "      <td>0.342707</td>\n",
              "      <td>-3.237072</td>\n",
              "      <td>-0.717273</td>\n",
              "      <td>0.983761</td>\n",
              "    </tr>\n",
              "    <tr>\n",
              "      <th>9</th>\n",
              "      <td>0.701624</td>\n",
              "      <td>0.304101</td>\n",
              "      <td>0.343019</td>\n",
              "      <td>-0.698321</td>\n",
              "    </tr>\n",
              "  </tbody>\n",
              "</table>\n",
              "</div>"
            ],
            "text/plain": [
              "          0         1         2         3\n",
              "0  0.064546  1.246682  1.123591  0.928081\n",
              "1  0.315504  1.230743 -0.794332  1.333083\n",
              "2  0.788534  1.499127  2.169378  0.364573\n",
              "3  1.158402 -0.399656 -0.404442  0.899714\n",
              "4 -0.574401  0.410532 -1.121240  0.519769\n",
              "5  0.074896  1.544777 -0.592204  0.202649\n",
              "6  0.476368 -0.147723  0.547742  0.139635\n",
              "7  0.502834  0.010063  0.151124 -1.924312\n",
              "8  0.342707 -3.237072 -0.717273  0.983761\n",
              "9  0.701624  0.304101  0.343019 -0.698321"
            ]
          },
          "metadata": {
            "tags": []
          },
          "execution_count": 103
        }
      ]
    },
    {
      "metadata": {
        "id": "pz-09YUxzeGy",
        "colab_type": "code",
        "colab": {
          "base_uri": "https://localhost:8080/",
          "height": 249
        },
        "outputId": "7360e386-3ec2-40f3-e262-2524a42dfcc4"
      },
      "cell_type": "code",
      "source": [
        "# 여러개의 frame 으로 나눠보자\n",
        "pieces = [df[:3], df[3:7], df[7:]]\n",
        "pieces"
      ],
      "execution_count": 104,
      "outputs": [
        {
          "output_type": "execute_result",
          "data": {
            "text/plain": [
              "[          0         1         2         3\n",
              " 0  0.064546  1.246682  1.123591  0.928081\n",
              " 1  0.315504  1.230743 -0.794332  1.333083\n",
              " 2  0.788534  1.499127  2.169378  0.364573,\n",
              "           0         1         2         3\n",
              " 3  1.158402 -0.399656 -0.404442  0.899714\n",
              " 4 -0.574401  0.410532 -1.121240  0.519769\n",
              " 5  0.074896  1.544777 -0.592204  0.202649\n",
              " 6  0.476368 -0.147723  0.547742  0.139635,\n",
              "           0         1         2         3\n",
              " 7  0.502834  0.010063  0.151124 -1.924312\n",
              " 8  0.342707 -3.237072 -0.717273  0.983761\n",
              " 9  0.701624  0.304101  0.343019 -0.698321]"
            ]
          },
          "metadata": {
            "tags": []
          },
          "execution_count": 104
        }
      ]
    },
    {
      "metadata": {
        "id": "NyboRJM3zeKG",
        "colab_type": "code",
        "colab": {
          "base_uri": "https://localhost:8080/",
          "height": 138
        },
        "outputId": "c938a792-5e30-43e2-d7dc-c0c960b0a880"
      },
      "cell_type": "code",
      "source": [
        "pieces[0]"
      ],
      "execution_count": 105,
      "outputs": [
        {
          "output_type": "execute_result",
          "data": {
            "text/html": [
              "<div>\n",
              "<style scoped>\n",
              "    .dataframe tbody tr th:only-of-type {\n",
              "        vertical-align: middle;\n",
              "    }\n",
              "\n",
              "    .dataframe tbody tr th {\n",
              "        vertical-align: top;\n",
              "    }\n",
              "\n",
              "    .dataframe thead th {\n",
              "        text-align: right;\n",
              "    }\n",
              "</style>\n",
              "<table border=\"1\" class=\"dataframe\">\n",
              "  <thead>\n",
              "    <tr style=\"text-align: right;\">\n",
              "      <th></th>\n",
              "      <th>0</th>\n",
              "      <th>1</th>\n",
              "      <th>2</th>\n",
              "      <th>3</th>\n",
              "    </tr>\n",
              "  </thead>\n",
              "  <tbody>\n",
              "    <tr>\n",
              "      <th>0</th>\n",
              "      <td>0.064546</td>\n",
              "      <td>1.246682</td>\n",
              "      <td>1.123591</td>\n",
              "      <td>0.928081</td>\n",
              "    </tr>\n",
              "    <tr>\n",
              "      <th>1</th>\n",
              "      <td>0.315504</td>\n",
              "      <td>1.230743</td>\n",
              "      <td>-0.794332</td>\n",
              "      <td>1.333083</td>\n",
              "    </tr>\n",
              "    <tr>\n",
              "      <th>2</th>\n",
              "      <td>0.788534</td>\n",
              "      <td>1.499127</td>\n",
              "      <td>2.169378</td>\n",
              "      <td>0.364573</td>\n",
              "    </tr>\n",
              "  </tbody>\n",
              "</table>\n",
              "</div>"
            ],
            "text/plain": [
              "          0         1         2         3\n",
              "0  0.064546  1.246682  1.123591  0.928081\n",
              "1  0.315504  1.230743 -0.794332  1.333083\n",
              "2  0.788534  1.499127  2.169378  0.364573"
            ]
          },
          "metadata": {
            "tags": []
          },
          "execution_count": 105
        }
      ]
    },
    {
      "metadata": {
        "id": "mZrVw_tzzeRw",
        "colab_type": "code",
        "colab": {
          "base_uri": "https://localhost:8080/",
          "height": 348
        },
        "outputId": "4288d1eb-ad5e-4b7a-9873-9106bf3bb033"
      },
      "cell_type": "code",
      "source": [
        "# 세개를 합쳐버리기\n",
        "pd.concat(pieces)"
      ],
      "execution_count": 106,
      "outputs": [
        {
          "output_type": "execute_result",
          "data": {
            "text/html": [
              "<div>\n",
              "<style scoped>\n",
              "    .dataframe tbody tr th:only-of-type {\n",
              "        vertical-align: middle;\n",
              "    }\n",
              "\n",
              "    .dataframe tbody tr th {\n",
              "        vertical-align: top;\n",
              "    }\n",
              "\n",
              "    .dataframe thead th {\n",
              "        text-align: right;\n",
              "    }\n",
              "</style>\n",
              "<table border=\"1\" class=\"dataframe\">\n",
              "  <thead>\n",
              "    <tr style=\"text-align: right;\">\n",
              "      <th></th>\n",
              "      <th>0</th>\n",
              "      <th>1</th>\n",
              "      <th>2</th>\n",
              "      <th>3</th>\n",
              "    </tr>\n",
              "  </thead>\n",
              "  <tbody>\n",
              "    <tr>\n",
              "      <th>0</th>\n",
              "      <td>0.064546</td>\n",
              "      <td>1.246682</td>\n",
              "      <td>1.123591</td>\n",
              "      <td>0.928081</td>\n",
              "    </tr>\n",
              "    <tr>\n",
              "      <th>1</th>\n",
              "      <td>0.315504</td>\n",
              "      <td>1.230743</td>\n",
              "      <td>-0.794332</td>\n",
              "      <td>1.333083</td>\n",
              "    </tr>\n",
              "    <tr>\n",
              "      <th>2</th>\n",
              "      <td>0.788534</td>\n",
              "      <td>1.499127</td>\n",
              "      <td>2.169378</td>\n",
              "      <td>0.364573</td>\n",
              "    </tr>\n",
              "    <tr>\n",
              "      <th>3</th>\n",
              "      <td>1.158402</td>\n",
              "      <td>-0.399656</td>\n",
              "      <td>-0.404442</td>\n",
              "      <td>0.899714</td>\n",
              "    </tr>\n",
              "    <tr>\n",
              "      <th>4</th>\n",
              "      <td>-0.574401</td>\n",
              "      <td>0.410532</td>\n",
              "      <td>-1.121240</td>\n",
              "      <td>0.519769</td>\n",
              "    </tr>\n",
              "    <tr>\n",
              "      <th>5</th>\n",
              "      <td>0.074896</td>\n",
              "      <td>1.544777</td>\n",
              "      <td>-0.592204</td>\n",
              "      <td>0.202649</td>\n",
              "    </tr>\n",
              "    <tr>\n",
              "      <th>6</th>\n",
              "      <td>0.476368</td>\n",
              "      <td>-0.147723</td>\n",
              "      <td>0.547742</td>\n",
              "      <td>0.139635</td>\n",
              "    </tr>\n",
              "    <tr>\n",
              "      <th>7</th>\n",
              "      <td>0.502834</td>\n",
              "      <td>0.010063</td>\n",
              "      <td>0.151124</td>\n",
              "      <td>-1.924312</td>\n",
              "    </tr>\n",
              "    <tr>\n",
              "      <th>8</th>\n",
              "      <td>0.342707</td>\n",
              "      <td>-3.237072</td>\n",
              "      <td>-0.717273</td>\n",
              "      <td>0.983761</td>\n",
              "    </tr>\n",
              "    <tr>\n",
              "      <th>9</th>\n",
              "      <td>0.701624</td>\n",
              "      <td>0.304101</td>\n",
              "      <td>0.343019</td>\n",
              "      <td>-0.698321</td>\n",
              "    </tr>\n",
              "  </tbody>\n",
              "</table>\n",
              "</div>"
            ],
            "text/plain": [
              "          0         1         2         3\n",
              "0  0.064546  1.246682  1.123591  0.928081\n",
              "1  0.315504  1.230743 -0.794332  1.333083\n",
              "2  0.788534  1.499127  2.169378  0.364573\n",
              "3  1.158402 -0.399656 -0.404442  0.899714\n",
              "4 -0.574401  0.410532 -1.121240  0.519769\n",
              "5  0.074896  1.544777 -0.592204  0.202649\n",
              "6  0.476368 -0.147723  0.547742  0.139635\n",
              "7  0.502834  0.010063  0.151124 -1.924312\n",
              "8  0.342707 -3.237072 -0.717273  0.983761\n",
              "9  0.701624  0.304101  0.343019 -0.698321"
            ]
          },
          "metadata": {
            "tags": []
          },
          "execution_count": 106
        }
      ]
    },
    {
      "metadata": {
        "id": "wxFZTGY-zeU6",
        "colab_type": "text"
      },
      "cell_type": "markdown",
      "source": [
        "## Join"
      ]
    },
    {
      "metadata": {
        "id": "AiNwAZc0zeX2",
        "colab_type": "code",
        "colab": {
          "base_uri": "https://localhost:8080/",
          "height": 108
        },
        "outputId": "15d182c1-11ab-4e80-b27f-5249efd443fd"
      },
      "cell_type": "code",
      "source": [
        "# SQL 의 join  r과 유사하다.\n",
        "left = pd.DataFrame({'key': ['foo', 'bar'], 'lval': [1,2]})\n",
        "right = pd.DataFrame({'key': ['foo', 'bar'], 'lval': [4,5]})\n",
        "left"
      ],
      "execution_count": 110,
      "outputs": [
        {
          "output_type": "execute_result",
          "data": {
            "text/html": [
              "<div>\n",
              "<style scoped>\n",
              "    .dataframe tbody tr th:only-of-type {\n",
              "        vertical-align: middle;\n",
              "    }\n",
              "\n",
              "    .dataframe tbody tr th {\n",
              "        vertical-align: top;\n",
              "    }\n",
              "\n",
              "    .dataframe thead th {\n",
              "        text-align: right;\n",
              "    }\n",
              "</style>\n",
              "<table border=\"1\" class=\"dataframe\">\n",
              "  <thead>\n",
              "    <tr style=\"text-align: right;\">\n",
              "      <th></th>\n",
              "      <th>key</th>\n",
              "      <th>lval</th>\n",
              "    </tr>\n",
              "  </thead>\n",
              "  <tbody>\n",
              "    <tr>\n",
              "      <th>0</th>\n",
              "      <td>foo</td>\n",
              "      <td>1</td>\n",
              "    </tr>\n",
              "    <tr>\n",
              "      <th>1</th>\n",
              "      <td>bar</td>\n",
              "      <td>2</td>\n",
              "    </tr>\n",
              "  </tbody>\n",
              "</table>\n",
              "</div>"
            ],
            "text/plain": [
              "   key  lval\n",
              "0  foo     1\n",
              "1  bar     2"
            ]
          },
          "metadata": {
            "tags": []
          },
          "execution_count": 110
        }
      ]
    },
    {
      "metadata": {
        "id": "31RFYxV9zea0",
        "colab_type": "code",
        "colab": {
          "base_uri": "https://localhost:8080/",
          "height": 108
        },
        "outputId": "aab22d20-89b2-4a65-c213-73f19ffaca05"
      },
      "cell_type": "code",
      "source": [
        "right"
      ],
      "execution_count": 111,
      "outputs": [
        {
          "output_type": "execute_result",
          "data": {
            "text/html": [
              "<div>\n",
              "<style scoped>\n",
              "    .dataframe tbody tr th:only-of-type {\n",
              "        vertical-align: middle;\n",
              "    }\n",
              "\n",
              "    .dataframe tbody tr th {\n",
              "        vertical-align: top;\n",
              "    }\n",
              "\n",
              "    .dataframe thead th {\n",
              "        text-align: right;\n",
              "    }\n",
              "</style>\n",
              "<table border=\"1\" class=\"dataframe\">\n",
              "  <thead>\n",
              "    <tr style=\"text-align: right;\">\n",
              "      <th></th>\n",
              "      <th>key</th>\n",
              "      <th>lval</th>\n",
              "    </tr>\n",
              "  </thead>\n",
              "  <tbody>\n",
              "    <tr>\n",
              "      <th>0</th>\n",
              "      <td>foo</td>\n",
              "      <td>4</td>\n",
              "    </tr>\n",
              "    <tr>\n",
              "      <th>1</th>\n",
              "      <td>bar</td>\n",
              "      <td>5</td>\n",
              "    </tr>\n",
              "  </tbody>\n",
              "</table>\n",
              "</div>"
            ],
            "text/plain": [
              "   key  lval\n",
              "0  foo     4\n",
              "1  bar     5"
            ]
          },
          "metadata": {
            "tags": []
          },
          "execution_count": 111
        }
      ]
    },
    {
      "metadata": {
        "id": "xk1zoGh7zePY",
        "colab_type": "code",
        "colab": {
          "base_uri": "https://localhost:8080/",
          "height": 108
        },
        "outputId": "a95eae48-1b4c-48d7-ab45-4924815ac42a"
      },
      "cell_type": "code",
      "source": [
        "# 합쳐보자 \n",
        "pd.merge(left, right, on='key')"
      ],
      "execution_count": 112,
      "outputs": [
        {
          "output_type": "execute_result",
          "data": {
            "text/html": [
              "<div>\n",
              "<style scoped>\n",
              "    .dataframe tbody tr th:only-of-type {\n",
              "        vertical-align: middle;\n",
              "    }\n",
              "\n",
              "    .dataframe tbody tr th {\n",
              "        vertical-align: top;\n",
              "    }\n",
              "\n",
              "    .dataframe thead th {\n",
              "        text-align: right;\n",
              "    }\n",
              "</style>\n",
              "<table border=\"1\" class=\"dataframe\">\n",
              "  <thead>\n",
              "    <tr style=\"text-align: right;\">\n",
              "      <th></th>\n",
              "      <th>key</th>\n",
              "      <th>lval_x</th>\n",
              "      <th>lval_y</th>\n",
              "    </tr>\n",
              "  </thead>\n",
              "  <tbody>\n",
              "    <tr>\n",
              "      <th>0</th>\n",
              "      <td>foo</td>\n",
              "      <td>1</td>\n",
              "      <td>4</td>\n",
              "    </tr>\n",
              "    <tr>\n",
              "      <th>1</th>\n",
              "      <td>bar</td>\n",
              "      <td>2</td>\n",
              "      <td>5</td>\n",
              "    </tr>\n",
              "  </tbody>\n",
              "</table>\n",
              "</div>"
            ],
            "text/plain": [
              "   key  lval_x  lval_y\n",
              "0  foo       1       4\n",
              "1  bar       2       5"
            ]
          },
          "metadata": {
            "tags": []
          },
          "execution_count": 112
        }
      ]
    },
    {
      "metadata": {
        "id": "73hlZywhzeNT",
        "colab_type": "code",
        "colab": {
          "base_uri": "https://localhost:8080/",
          "height": 168
        },
        "outputId": "531403e5-9bd0-4ba7-f17e-b5a5d0da29e4"
      },
      "cell_type": "code",
      "source": [
        "# 또다른 예제\n",
        "left = pd.DataFrame({'key': ['foo', 'foo'], 'lval': [1,2]})\n",
        "right = pd.DataFrame({'key': ['foo', 'foo'], 'lval': [4,5]})\n",
        "pd.merge(left,right, on='key')"
      ],
      "execution_count": 114,
      "outputs": [
        {
          "output_type": "execute_result",
          "data": {
            "text/html": [
              "<div>\n",
              "<style scoped>\n",
              "    .dataframe tbody tr th:only-of-type {\n",
              "        vertical-align: middle;\n",
              "    }\n",
              "\n",
              "    .dataframe tbody tr th {\n",
              "        vertical-align: top;\n",
              "    }\n",
              "\n",
              "    .dataframe thead th {\n",
              "        text-align: right;\n",
              "    }\n",
              "</style>\n",
              "<table border=\"1\" class=\"dataframe\">\n",
              "  <thead>\n",
              "    <tr style=\"text-align: right;\">\n",
              "      <th></th>\n",
              "      <th>key</th>\n",
              "      <th>lval_x</th>\n",
              "      <th>lval_y</th>\n",
              "    </tr>\n",
              "  </thead>\n",
              "  <tbody>\n",
              "    <tr>\n",
              "      <th>0</th>\n",
              "      <td>foo</td>\n",
              "      <td>1</td>\n",
              "      <td>4</td>\n",
              "    </tr>\n",
              "    <tr>\n",
              "      <th>1</th>\n",
              "      <td>foo</td>\n",
              "      <td>1</td>\n",
              "      <td>5</td>\n",
              "    </tr>\n",
              "    <tr>\n",
              "      <th>2</th>\n",
              "      <td>foo</td>\n",
              "      <td>2</td>\n",
              "      <td>4</td>\n",
              "    </tr>\n",
              "    <tr>\n",
              "      <th>3</th>\n",
              "      <td>foo</td>\n",
              "      <td>2</td>\n",
              "      <td>5</td>\n",
              "    </tr>\n",
              "  </tbody>\n",
              "</table>\n",
              "</div>"
            ],
            "text/plain": [
              "   key  lval_x  lval_y\n",
              "0  foo       1       4\n",
              "1  foo       1       5\n",
              "2  foo       2       4\n",
              "3  foo       2       5"
            ]
          },
          "metadata": {
            "tags": []
          },
          "execution_count": 114
        }
      ]
    },
    {
      "metadata": {
        "id": "D9Qg3Eez2Jir",
        "colab_type": "text"
      },
      "cell_type": "markdown",
      "source": [
        "## Append"
      ]
    },
    {
      "metadata": {
        "id": "POSJNWm82QlE",
        "colab_type": "code",
        "colab": {
          "base_uri": "https://localhost:8080/",
          "height": 178
        },
        "outputId": "3ab6c297-12be-40ed-c3d1-fb3f57f4e248"
      },
      "cell_type": "code",
      "source": [
        "# 한 행 늘려보자\n",
        "df = pd.DataFrame(np.random.randn(8,4), columns=['A', 'B', 'C','DDD'])\n",
        "print (df)"
      ],
      "execution_count": 116,
      "outputs": [
        {
          "output_type": "stream",
          "text": [
            "          A         B         C       DDD\n",
            "0  0.368618  0.925532  0.438341 -0.386006\n",
            "1  0.305465  1.658722 -0.345912 -1.232967\n",
            "2 -0.337556  0.543746  0.627149  0.245192\n",
            "3 -0.398209  0.380775 -1.006419  0.045373\n",
            "4 -0.034534  0.470721 -0.694763  0.191005\n",
            "5  0.340832 -0.397916  0.973063 -0.717448\n",
            "6  1.156837 -0.976891 -0.333632  0.445337\n",
            "7 -0.455929 -1.485955  1.119174 -0.575972\n"
          ],
          "name": "stdout"
        }
      ]
    },
    {
      "metadata": {
        "id": "CrHbjuW02btG",
        "colab_type": "code",
        "colab": {
          "base_uri": "https://localhost:8080/",
          "height": 318
        },
        "outputId": "eeeb7c70-bfb6-4fdd-da6b-38a2001df9ce"
      },
      "cell_type": "code",
      "source": [
        "s = df.iloc[3]\n",
        "df.append(s, ignore_index=True)"
      ],
      "execution_count": 117,
      "outputs": [
        {
          "output_type": "execute_result",
          "data": {
            "text/html": [
              "<div>\n",
              "<style scoped>\n",
              "    .dataframe tbody tr th:only-of-type {\n",
              "        vertical-align: middle;\n",
              "    }\n",
              "\n",
              "    .dataframe tbody tr th {\n",
              "        vertical-align: top;\n",
              "    }\n",
              "\n",
              "    .dataframe thead th {\n",
              "        text-align: right;\n",
              "    }\n",
              "</style>\n",
              "<table border=\"1\" class=\"dataframe\">\n",
              "  <thead>\n",
              "    <tr style=\"text-align: right;\">\n",
              "      <th></th>\n",
              "      <th>A</th>\n",
              "      <th>B</th>\n",
              "      <th>C</th>\n",
              "      <th>DDD</th>\n",
              "    </tr>\n",
              "  </thead>\n",
              "  <tbody>\n",
              "    <tr>\n",
              "      <th>0</th>\n",
              "      <td>0.368618</td>\n",
              "      <td>0.925532</td>\n",
              "      <td>0.438341</td>\n",
              "      <td>-0.386006</td>\n",
              "    </tr>\n",
              "    <tr>\n",
              "      <th>1</th>\n",
              "      <td>0.305465</td>\n",
              "      <td>1.658722</td>\n",
              "      <td>-0.345912</td>\n",
              "      <td>-1.232967</td>\n",
              "    </tr>\n",
              "    <tr>\n",
              "      <th>2</th>\n",
              "      <td>-0.337556</td>\n",
              "      <td>0.543746</td>\n",
              "      <td>0.627149</td>\n",
              "      <td>0.245192</td>\n",
              "    </tr>\n",
              "    <tr>\n",
              "      <th>3</th>\n",
              "      <td>-0.398209</td>\n",
              "      <td>0.380775</td>\n",
              "      <td>-1.006419</td>\n",
              "      <td>0.045373</td>\n",
              "    </tr>\n",
              "    <tr>\n",
              "      <th>4</th>\n",
              "      <td>-0.034534</td>\n",
              "      <td>0.470721</td>\n",
              "      <td>-0.694763</td>\n",
              "      <td>0.191005</td>\n",
              "    </tr>\n",
              "    <tr>\n",
              "      <th>5</th>\n",
              "      <td>0.340832</td>\n",
              "      <td>-0.397916</td>\n",
              "      <td>0.973063</td>\n",
              "      <td>-0.717448</td>\n",
              "    </tr>\n",
              "    <tr>\n",
              "      <th>6</th>\n",
              "      <td>1.156837</td>\n",
              "      <td>-0.976891</td>\n",
              "      <td>-0.333632</td>\n",
              "      <td>0.445337</td>\n",
              "    </tr>\n",
              "    <tr>\n",
              "      <th>7</th>\n",
              "      <td>-0.455929</td>\n",
              "      <td>-1.485955</td>\n",
              "      <td>1.119174</td>\n",
              "      <td>-0.575972</td>\n",
              "    </tr>\n",
              "    <tr>\n",
              "      <th>8</th>\n",
              "      <td>-0.398209</td>\n",
              "      <td>0.380775</td>\n",
              "      <td>-1.006419</td>\n",
              "      <td>0.045373</td>\n",
              "    </tr>\n",
              "  </tbody>\n",
              "</table>\n",
              "</div>"
            ],
            "text/plain": [
              "          A         B         C       DDD\n",
              "0  0.368618  0.925532  0.438341 -0.386006\n",
              "1  0.305465  1.658722 -0.345912 -1.232967\n",
              "2 -0.337556  0.543746  0.627149  0.245192\n",
              "3 -0.398209  0.380775 -1.006419  0.045373\n",
              "4 -0.034534  0.470721 -0.694763  0.191005\n",
              "5  0.340832 -0.397916  0.973063 -0.717448\n",
              "6  1.156837 -0.976891 -0.333632  0.445337\n",
              "7 -0.455929 -1.485955  1.119174 -0.575972\n",
              "8 -0.398209  0.380775 -1.006419  0.045373"
            ]
          },
          "metadata": {
            "tags": []
          },
          "execution_count": 117
        }
      ]
    },
    {
      "metadata": {
        "id": "jiIMpZLY2ujv",
        "colab_type": "text"
      },
      "cell_type": "markdown",
      "source": [
        "# Grouping"
      ]
    },
    {
      "metadata": {
        "id": "iHMUcoOC2-_s",
        "colab_type": "code",
        "colab": {
          "base_uri": "https://localhost:8080/",
          "height": 288
        },
        "outputId": "f8919116-6961-4b25-994a-e9960f1bb692"
      },
      "cell_type": "code",
      "source": [
        "df = pd.DataFrame({'A' : ['foo', 'bar', 'foo', 'bar', 'foo', 'bar', 'foo', 'foo'],\n",
        "               'B' : ['one', 'one', 'two', 'three', 'two', 'two', 'one', 'three'],\n",
        "               'C' : np.random.randn(8),\n",
        "               'D' : np.random.randn(8)})\n",
        "df"
      ],
      "execution_count": 118,
      "outputs": [
        {
          "output_type": "execute_result",
          "data": {
            "text/html": [
              "<div>\n",
              "<style scoped>\n",
              "    .dataframe tbody tr th:only-of-type {\n",
              "        vertical-align: middle;\n",
              "    }\n",
              "\n",
              "    .dataframe tbody tr th {\n",
              "        vertical-align: top;\n",
              "    }\n",
              "\n",
              "    .dataframe thead th {\n",
              "        text-align: right;\n",
              "    }\n",
              "</style>\n",
              "<table border=\"1\" class=\"dataframe\">\n",
              "  <thead>\n",
              "    <tr style=\"text-align: right;\">\n",
              "      <th></th>\n",
              "      <th>A</th>\n",
              "      <th>B</th>\n",
              "      <th>C</th>\n",
              "      <th>D</th>\n",
              "    </tr>\n",
              "  </thead>\n",
              "  <tbody>\n",
              "    <tr>\n",
              "      <th>0</th>\n",
              "      <td>foo</td>\n",
              "      <td>one</td>\n",
              "      <td>-0.962726</td>\n",
              "      <td>0.170967</td>\n",
              "    </tr>\n",
              "    <tr>\n",
              "      <th>1</th>\n",
              "      <td>bar</td>\n",
              "      <td>one</td>\n",
              "      <td>-1.166476</td>\n",
              "      <td>1.305166</td>\n",
              "    </tr>\n",
              "    <tr>\n",
              "      <th>2</th>\n",
              "      <td>foo</td>\n",
              "      <td>two</td>\n",
              "      <td>-0.034950</td>\n",
              "      <td>-1.302230</td>\n",
              "    </tr>\n",
              "    <tr>\n",
              "      <th>3</th>\n",
              "      <td>bar</td>\n",
              "      <td>three</td>\n",
              "      <td>0.281003</td>\n",
              "      <td>0.562606</td>\n",
              "    </tr>\n",
              "    <tr>\n",
              "      <th>4</th>\n",
              "      <td>foo</td>\n",
              "      <td>two</td>\n",
              "      <td>1.092393</td>\n",
              "      <td>-0.238992</td>\n",
              "    </tr>\n",
              "    <tr>\n",
              "      <th>5</th>\n",
              "      <td>bar</td>\n",
              "      <td>two</td>\n",
              "      <td>-1.414012</td>\n",
              "      <td>0.770507</td>\n",
              "    </tr>\n",
              "    <tr>\n",
              "      <th>6</th>\n",
              "      <td>foo</td>\n",
              "      <td>one</td>\n",
              "      <td>-0.916142</td>\n",
              "      <td>0.368964</td>\n",
              "    </tr>\n",
              "    <tr>\n",
              "      <th>7</th>\n",
              "      <td>foo</td>\n",
              "      <td>three</td>\n",
              "      <td>-0.340404</td>\n",
              "      <td>-0.626089</td>\n",
              "    </tr>\n",
              "  </tbody>\n",
              "</table>\n",
              "</div>"
            ],
            "text/plain": [
              "     A      B         C         D\n",
              "0  foo    one -0.962726  0.170967\n",
              "1  bar    one -1.166476  1.305166\n",
              "2  foo    two -0.034950 -1.302230\n",
              "3  bar  three  0.281003  0.562606\n",
              "4  foo    two  1.092393 -0.238992\n",
              "5  bar    two -1.414012  0.770507\n",
              "6  foo    one -0.916142  0.368964\n",
              "7  foo  three -0.340404 -0.626089"
            ]
          },
          "metadata": {
            "tags": []
          },
          "execution_count": 118
        }
      ]
    },
    {
      "metadata": {
        "id": "ySyPJI-J3KR-",
        "colab_type": "code",
        "colab": {
          "base_uri": "https://localhost:8080/",
          "height": 138
        },
        "outputId": "027a7784-a07f-4d87-d59c-4eb8d7d01067"
      },
      "cell_type": "code",
      "source": [
        "# 'A' 의 항목들을 그룹지어서 합해줘보자\n",
        "df.groupby('A').sum()"
      ],
      "execution_count": 119,
      "outputs": [
        {
          "output_type": "execute_result",
          "data": {
            "text/html": [
              "<div>\n",
              "<style scoped>\n",
              "    .dataframe tbody tr th:only-of-type {\n",
              "        vertical-align: middle;\n",
              "    }\n",
              "\n",
              "    .dataframe tbody tr th {\n",
              "        vertical-align: top;\n",
              "    }\n",
              "\n",
              "    .dataframe thead th {\n",
              "        text-align: right;\n",
              "    }\n",
              "</style>\n",
              "<table border=\"1\" class=\"dataframe\">\n",
              "  <thead>\n",
              "    <tr style=\"text-align: right;\">\n",
              "      <th></th>\n",
              "      <th>C</th>\n",
              "      <th>D</th>\n",
              "    </tr>\n",
              "    <tr>\n",
              "      <th>A</th>\n",
              "      <th></th>\n",
              "      <th></th>\n",
              "    </tr>\n",
              "  </thead>\n",
              "  <tbody>\n",
              "    <tr>\n",
              "      <th>bar</th>\n",
              "      <td>-2.299485</td>\n",
              "      <td>2.638279</td>\n",
              "    </tr>\n",
              "    <tr>\n",
              "      <th>foo</th>\n",
              "      <td>-1.161829</td>\n",
              "      <td>-1.627379</td>\n",
              "    </tr>\n",
              "  </tbody>\n",
              "</table>\n",
              "</div>"
            ],
            "text/plain": [
              "            C         D\n",
              "A                      \n",
              "bar -2.299485  2.638279\n",
              "foo -1.161829 -1.627379"
            ]
          },
          "metadata": {
            "tags": []
          },
          "execution_count": 119
        }
      ]
    },
    {
      "metadata": {
        "id": "z9-fJ3MU3Wfu",
        "colab_type": "code",
        "colab": {
          "base_uri": "https://localhost:8080/",
          "height": 258
        },
        "outputId": "9c96a76b-6759-4195-c8d3-76278e4e8bf3"
      },
      "cell_type": "code",
      "source": [
        "# 'A', 'B' 항목을 그룹지어서 합해줘보자\n",
        "df.groupby(['A', 'B']).sum()"
      ],
      "execution_count": 121,
      "outputs": [
        {
          "output_type": "execute_result",
          "data": {
            "text/html": [
              "<div>\n",
              "<style scoped>\n",
              "    .dataframe tbody tr th:only-of-type {\n",
              "        vertical-align: middle;\n",
              "    }\n",
              "\n",
              "    .dataframe tbody tr th {\n",
              "        vertical-align: top;\n",
              "    }\n",
              "\n",
              "    .dataframe thead th {\n",
              "        text-align: right;\n",
              "    }\n",
              "</style>\n",
              "<table border=\"1\" class=\"dataframe\">\n",
              "  <thead>\n",
              "    <tr style=\"text-align: right;\">\n",
              "      <th></th>\n",
              "      <th></th>\n",
              "      <th>C</th>\n",
              "      <th>D</th>\n",
              "    </tr>\n",
              "    <tr>\n",
              "      <th>A</th>\n",
              "      <th>B</th>\n",
              "      <th></th>\n",
              "      <th></th>\n",
              "    </tr>\n",
              "  </thead>\n",
              "  <tbody>\n",
              "    <tr>\n",
              "      <th rowspan=\"3\" valign=\"top\">bar</th>\n",
              "      <th>one</th>\n",
              "      <td>-1.166476</td>\n",
              "      <td>1.305166</td>\n",
              "    </tr>\n",
              "    <tr>\n",
              "      <th>three</th>\n",
              "      <td>0.281003</td>\n",
              "      <td>0.562606</td>\n",
              "    </tr>\n",
              "    <tr>\n",
              "      <th>two</th>\n",
              "      <td>-1.414012</td>\n",
              "      <td>0.770507</td>\n",
              "    </tr>\n",
              "    <tr>\n",
              "      <th rowspan=\"3\" valign=\"top\">foo</th>\n",
              "      <th>one</th>\n",
              "      <td>-1.878868</td>\n",
              "      <td>0.539932</td>\n",
              "    </tr>\n",
              "    <tr>\n",
              "      <th>three</th>\n",
              "      <td>-0.340404</td>\n",
              "      <td>-0.626089</td>\n",
              "    </tr>\n",
              "    <tr>\n",
              "      <th>two</th>\n",
              "      <td>1.057443</td>\n",
              "      <td>-1.541222</td>\n",
              "    </tr>\n",
              "  </tbody>\n",
              "</table>\n",
              "</div>"
            ],
            "text/plain": [
              "                  C         D\n",
              "A   B                        \n",
              "bar one   -1.166476  1.305166\n",
              "    three  0.281003  0.562606\n",
              "    two   -1.414012  0.770507\n",
              "foo one   -1.878868  0.539932\n",
              "    three -0.340404 -0.626089\n",
              "    two    1.057443 -1.541222"
            ]
          },
          "metadata": {
            "tags": []
          },
          "execution_count": 121
        }
      ]
    },
    {
      "metadata": {
        "id": "zMn9VSkR3hbD",
        "colab_type": "text"
      },
      "cell_type": "markdown",
      "source": [
        "# Reshaping\n",
        "## Stack"
      ]
    },
    {
      "metadata": {
        "id": "Drmhw0-B3pY2",
        "colab_type": "code",
        "colab": {
          "base_uri": "https://localhost:8080/",
          "height": 160
        },
        "outputId": "f7a88f19-0d2b-442d-cab5-00ac75038718"
      },
      "cell_type": "code",
      "source": [
        "tuples = list(zip(*[['bar', 'bar', 'baz', 'baz',\n",
        "                    'foo', 'foo', 'qux', 'qux'],\n",
        "                   ['one', 'two', 'one', 'two',\n",
        "                     'one', 'two', 'one', 'two']]))\n",
        "tuples"
      ],
      "execution_count": 122,
      "outputs": [
        {
          "output_type": "execute_result",
          "data": {
            "text/plain": [
              "[('bar', 'one'),\n",
              " ('bar', 'two'),\n",
              " ('baz', 'one'),\n",
              " ('baz', 'two'),\n",
              " ('foo', 'one'),\n",
              " ('foo', 'two'),\n",
              " ('qux', 'one'),\n",
              " ('qux', 'two')]"
            ]
          },
          "metadata": {
            "tags": []
          },
          "execution_count": 122
        }
      ]
    },
    {
      "metadata": {
        "id": "PTTnLasW36En",
        "colab_type": "code",
        "colab": {
          "base_uri": "https://localhost:8080/",
          "height": 71
        },
        "outputId": "b8facd4c-a358-4957-b74f-633214b27b22"
      },
      "cell_type": "code",
      "source": [
        "index = pd.MultiIndex.from_tuples(tuples, names=['first', 'second'])\n",
        "index"
      ],
      "execution_count": 123,
      "outputs": [
        {
          "output_type": "execute_result",
          "data": {
            "text/plain": [
              "MultiIndex(levels=[['bar', 'baz', 'foo', 'qux'], ['one', 'two']],\n",
              "           labels=[[0, 0, 1, 1, 2, 2, 3, 3], [0, 1, 0, 1, 0, 1, 0, 1]],\n",
              "           names=['first', 'second'])"
            ]
          },
          "metadata": {
            "tags": []
          },
          "execution_count": 123
        }
      ]
    },
    {
      "metadata": {
        "id": "V0p7-EO44KOm",
        "colab_type": "code",
        "colab": {
          "base_uri": "https://localhost:8080/",
          "height": 318
        },
        "outputId": "6f75c660-3613-4e3f-f156-ec140ca5255b"
      },
      "cell_type": "code",
      "source": [
        "df = pd.DataFrame(np.random.randn(8,2), index=index, columns=['A', 'B'])\n",
        "df"
      ],
      "execution_count": 124,
      "outputs": [
        {
          "output_type": "execute_result",
          "data": {
            "text/html": [
              "<div>\n",
              "<style scoped>\n",
              "    .dataframe tbody tr th:only-of-type {\n",
              "        vertical-align: middle;\n",
              "    }\n",
              "\n",
              "    .dataframe tbody tr th {\n",
              "        vertical-align: top;\n",
              "    }\n",
              "\n",
              "    .dataframe thead th {\n",
              "        text-align: right;\n",
              "    }\n",
              "</style>\n",
              "<table border=\"1\" class=\"dataframe\">\n",
              "  <thead>\n",
              "    <tr style=\"text-align: right;\">\n",
              "      <th></th>\n",
              "      <th></th>\n",
              "      <th>A</th>\n",
              "      <th>B</th>\n",
              "    </tr>\n",
              "    <tr>\n",
              "      <th>first</th>\n",
              "      <th>second</th>\n",
              "      <th></th>\n",
              "      <th></th>\n",
              "    </tr>\n",
              "  </thead>\n",
              "  <tbody>\n",
              "    <tr>\n",
              "      <th rowspan=\"2\" valign=\"top\">bar</th>\n",
              "      <th>one</th>\n",
              "      <td>-0.029448</td>\n",
              "      <td>-0.204328</td>\n",
              "    </tr>\n",
              "    <tr>\n",
              "      <th>two</th>\n",
              "      <td>-0.478140</td>\n",
              "      <td>1.015604</td>\n",
              "    </tr>\n",
              "    <tr>\n",
              "      <th rowspan=\"2\" valign=\"top\">baz</th>\n",
              "      <th>one</th>\n",
              "      <td>-1.287390</td>\n",
              "      <td>-0.724450</td>\n",
              "    </tr>\n",
              "    <tr>\n",
              "      <th>two</th>\n",
              "      <td>-1.336391</td>\n",
              "      <td>0.069869</td>\n",
              "    </tr>\n",
              "    <tr>\n",
              "      <th rowspan=\"2\" valign=\"top\">foo</th>\n",
              "      <th>one</th>\n",
              "      <td>-0.365498</td>\n",
              "      <td>-0.670131</td>\n",
              "    </tr>\n",
              "    <tr>\n",
              "      <th>two</th>\n",
              "      <td>-0.435694</td>\n",
              "      <td>0.231580</td>\n",
              "    </tr>\n",
              "    <tr>\n",
              "      <th rowspan=\"2\" valign=\"top\">qux</th>\n",
              "      <th>one</th>\n",
              "      <td>-0.466608</td>\n",
              "      <td>0.238037</td>\n",
              "    </tr>\n",
              "    <tr>\n",
              "      <th>two</th>\n",
              "      <td>0.119876</td>\n",
              "      <td>-0.754613</td>\n",
              "    </tr>\n",
              "  </tbody>\n",
              "</table>\n",
              "</div>"
            ],
            "text/plain": [
              "                     A         B\n",
              "first second                    \n",
              "bar   one    -0.029448 -0.204328\n",
              "      two    -0.478140  1.015604\n",
              "baz   one    -1.287390 -0.724450\n",
              "      two    -1.336391  0.069869\n",
              "foo   one    -0.365498 -0.670131\n",
              "      two    -0.435694  0.231580\n",
              "qux   one    -0.466608  0.238037\n",
              "      two     0.119876 -0.754613"
            ]
          },
          "metadata": {
            "tags": []
          },
          "execution_count": 124
        }
      ]
    },
    {
      "metadata": {
        "id": "o41m7xQd4cHT",
        "colab_type": "code",
        "colab": {
          "base_uri": "https://localhost:8080/",
          "height": 198
        },
        "outputId": "08a11ef3-ba00-4612-bbdf-d0af0d25d8a9"
      },
      "cell_type": "code",
      "source": [
        "df2 = df[:4]\n",
        "df2"
      ],
      "execution_count": 125,
      "outputs": [
        {
          "output_type": "execute_result",
          "data": {
            "text/html": [
              "<div>\n",
              "<style scoped>\n",
              "    .dataframe tbody tr th:only-of-type {\n",
              "        vertical-align: middle;\n",
              "    }\n",
              "\n",
              "    .dataframe tbody tr th {\n",
              "        vertical-align: top;\n",
              "    }\n",
              "\n",
              "    .dataframe thead th {\n",
              "        text-align: right;\n",
              "    }\n",
              "</style>\n",
              "<table border=\"1\" class=\"dataframe\">\n",
              "  <thead>\n",
              "    <tr style=\"text-align: right;\">\n",
              "      <th></th>\n",
              "      <th></th>\n",
              "      <th>A</th>\n",
              "      <th>B</th>\n",
              "    </tr>\n",
              "    <tr>\n",
              "      <th>first</th>\n",
              "      <th>second</th>\n",
              "      <th></th>\n",
              "      <th></th>\n",
              "    </tr>\n",
              "  </thead>\n",
              "  <tbody>\n",
              "    <tr>\n",
              "      <th rowspan=\"2\" valign=\"top\">bar</th>\n",
              "      <th>one</th>\n",
              "      <td>-0.029448</td>\n",
              "      <td>-0.204328</td>\n",
              "    </tr>\n",
              "    <tr>\n",
              "      <th>two</th>\n",
              "      <td>-0.478140</td>\n",
              "      <td>1.015604</td>\n",
              "    </tr>\n",
              "    <tr>\n",
              "      <th rowspan=\"2\" valign=\"top\">baz</th>\n",
              "      <th>one</th>\n",
              "      <td>-1.287390</td>\n",
              "      <td>-0.724450</td>\n",
              "    </tr>\n",
              "    <tr>\n",
              "      <th>two</th>\n",
              "      <td>-1.336391</td>\n",
              "      <td>0.069869</td>\n",
              "    </tr>\n",
              "  </tbody>\n",
              "</table>\n",
              "</div>"
            ],
            "text/plain": [
              "                     A         B\n",
              "first second                    \n",
              "bar   one    -0.029448 -0.204328\n",
              "      two    -0.478140  1.015604\n",
              "baz   one    -1.287390 -0.724450\n",
              "      two    -1.336391  0.069869"
            ]
          },
          "metadata": {
            "tags": []
          },
          "execution_count": 125
        }
      ]
    },
    {
      "metadata": {
        "id": "cmH-mamU4mLW",
        "colab_type": "code",
        "colab": {
          "base_uri": "https://localhost:8080/",
          "height": 196
        },
        "outputId": "673ebfef-0b5c-4bd9-8b74-7ee9262efe5b"
      },
      "cell_type": "code",
      "source": [
        "# 여기서 중요하다. stack 을 쓰면 column 레벨을 compress 한다는 의미이다. \n",
        "stacked = df2.stack()\n",
        "stacked"
      ],
      "execution_count": 126,
      "outputs": [
        {
          "output_type": "execute_result",
          "data": {
            "text/plain": [
              "first  second   \n",
              "bar    one     A   -0.029448\n",
              "               B   -0.204328\n",
              "       two     A   -0.478140\n",
              "               B    1.015604\n",
              "baz    one     A   -1.287390\n",
              "               B   -0.724450\n",
              "       two     A   -1.336391\n",
              "               B    0.069869\n",
              "dtype: float64"
            ]
          },
          "metadata": {
            "tags": []
          },
          "execution_count": 126
        }
      ]
    },
    {
      "metadata": {
        "id": "0_P2ehY244nf",
        "colab_type": "code",
        "colab": {
          "base_uri": "https://localhost:8080/",
          "height": 499
        },
        "outputId": "7888f7e1-23ea-493e-cf56-9a6b934d7a2d"
      },
      "cell_type": "code",
      "source": [
        "# unstack 도 할 수 있다. \n",
        "print(stacked.unstack())\n",
        "print(\"------------------\")\n",
        "print(stacked.unstack(2))\n",
        "print(\"------------------\")\n",
        "print(stacked.unstack(1))\n",
        "print(\"------------------\")\n",
        "print(stacked.unstack(0))"
      ],
      "execution_count": 129,
      "outputs": [
        {
          "output_type": "stream",
          "text": [
            "                     A         B\n",
            "first second                    \n",
            "bar   one    -0.029448 -0.204328\n",
            "      two    -0.478140  1.015604\n",
            "baz   one    -1.287390 -0.724450\n",
            "      two    -1.336391  0.069869\n",
            "------------------\n",
            "                     A         B\n",
            "first second                    \n",
            "bar   one    -0.029448 -0.204328\n",
            "      two    -0.478140  1.015604\n",
            "baz   one    -1.287390 -0.724450\n",
            "      two    -1.336391  0.069869\n",
            "------------------\n",
            "second        one       two\n",
            "first                      \n",
            "bar   A -0.029448 -0.478140\n",
            "      B -0.204328  1.015604\n",
            "baz   A -1.287390 -1.336391\n",
            "      B -0.724450  0.069869\n",
            "------------------\n",
            "first          bar       baz\n",
            "second                      \n",
            "one    A -0.029448 -1.287390\n",
            "       B -0.204328 -0.724450\n",
            "two    A -0.478140 -1.336391\n",
            "       B  1.015604  0.069869\n"
          ],
          "name": "stdout"
        }
      ]
    },
    {
      "metadata": {
        "id": "bIperaNz5ZrO",
        "colab_type": "text"
      },
      "cell_type": "markdown",
      "source": [
        "## Pivot Tables"
      ]
    },
    {
      "metadata": {
        "id": "FYsRf3Xz5dUT",
        "colab_type": "code",
        "colab": {
          "base_uri": "https://localhost:8080/",
          "height": 408
        },
        "outputId": "2ba1ad3d-fcc0-415f-f6e4-ac358c568013"
      },
      "cell_type": "code",
      "source": [
        "df = pd.DataFrame({'A' : ['one', 'one', 'two', 'three'] * 3,\n",
        "                   'B' : ['A', 'B', 'C'] * 4,\n",
        "                    'C' : ['foo', 'foo', 'foo', 'bar', 'bar', 'bar'] * 2,\n",
        "                    'D' : np.random.randn(12),\n",
        "                    'E' : np.random.randn(12)})\n",
        "df"
      ],
      "execution_count": 130,
      "outputs": [
        {
          "output_type": "execute_result",
          "data": {
            "text/html": [
              "<div>\n",
              "<style scoped>\n",
              "    .dataframe tbody tr th:only-of-type {\n",
              "        vertical-align: middle;\n",
              "    }\n",
              "\n",
              "    .dataframe tbody tr th {\n",
              "        vertical-align: top;\n",
              "    }\n",
              "\n",
              "    .dataframe thead th {\n",
              "        text-align: right;\n",
              "    }\n",
              "</style>\n",
              "<table border=\"1\" class=\"dataframe\">\n",
              "  <thead>\n",
              "    <tr style=\"text-align: right;\">\n",
              "      <th></th>\n",
              "      <th>A</th>\n",
              "      <th>B</th>\n",
              "      <th>C</th>\n",
              "      <th>D</th>\n",
              "      <th>E</th>\n",
              "    </tr>\n",
              "  </thead>\n",
              "  <tbody>\n",
              "    <tr>\n",
              "      <th>0</th>\n",
              "      <td>one</td>\n",
              "      <td>A</td>\n",
              "      <td>foo</td>\n",
              "      <td>0.263407</td>\n",
              "      <td>0.379427</td>\n",
              "    </tr>\n",
              "    <tr>\n",
              "      <th>1</th>\n",
              "      <td>one</td>\n",
              "      <td>B</td>\n",
              "      <td>foo</td>\n",
              "      <td>-0.080555</td>\n",
              "      <td>-0.872220</td>\n",
              "    </tr>\n",
              "    <tr>\n",
              "      <th>2</th>\n",
              "      <td>two</td>\n",
              "      <td>C</td>\n",
              "      <td>foo</td>\n",
              "      <td>0.969315</td>\n",
              "      <td>-1.884386</td>\n",
              "    </tr>\n",
              "    <tr>\n",
              "      <th>3</th>\n",
              "      <td>three</td>\n",
              "      <td>A</td>\n",
              "      <td>bar</td>\n",
              "      <td>-0.516244</td>\n",
              "      <td>1.290920</td>\n",
              "    </tr>\n",
              "    <tr>\n",
              "      <th>4</th>\n",
              "      <td>one</td>\n",
              "      <td>B</td>\n",
              "      <td>bar</td>\n",
              "      <td>0.137967</td>\n",
              "      <td>-1.429268</td>\n",
              "    </tr>\n",
              "    <tr>\n",
              "      <th>5</th>\n",
              "      <td>one</td>\n",
              "      <td>C</td>\n",
              "      <td>bar</td>\n",
              "      <td>1.467373</td>\n",
              "      <td>-1.634726</td>\n",
              "    </tr>\n",
              "    <tr>\n",
              "      <th>6</th>\n",
              "      <td>two</td>\n",
              "      <td>A</td>\n",
              "      <td>foo</td>\n",
              "      <td>1.013728</td>\n",
              "      <td>-0.335196</td>\n",
              "    </tr>\n",
              "    <tr>\n",
              "      <th>7</th>\n",
              "      <td>three</td>\n",
              "      <td>B</td>\n",
              "      <td>foo</td>\n",
              "      <td>-0.917864</td>\n",
              "      <td>0.336981</td>\n",
              "    </tr>\n",
              "    <tr>\n",
              "      <th>8</th>\n",
              "      <td>one</td>\n",
              "      <td>C</td>\n",
              "      <td>foo</td>\n",
              "      <td>-1.140228</td>\n",
              "      <td>0.071493</td>\n",
              "    </tr>\n",
              "    <tr>\n",
              "      <th>9</th>\n",
              "      <td>one</td>\n",
              "      <td>A</td>\n",
              "      <td>bar</td>\n",
              "      <td>0.163771</td>\n",
              "      <td>0.532989</td>\n",
              "    </tr>\n",
              "    <tr>\n",
              "      <th>10</th>\n",
              "      <td>two</td>\n",
              "      <td>B</td>\n",
              "      <td>bar</td>\n",
              "      <td>-1.007939</td>\n",
              "      <td>1.067811</td>\n",
              "    </tr>\n",
              "    <tr>\n",
              "      <th>11</th>\n",
              "      <td>three</td>\n",
              "      <td>C</td>\n",
              "      <td>bar</td>\n",
              "      <td>0.359739</td>\n",
              "      <td>0.401966</td>\n",
              "    </tr>\n",
              "  </tbody>\n",
              "</table>\n",
              "</div>"
            ],
            "text/plain": [
              "        A  B    C         D         E\n",
              "0     one  A  foo  0.263407  0.379427\n",
              "1     one  B  foo -0.080555 -0.872220\n",
              "2     two  C  foo  0.969315 -1.884386\n",
              "3   three  A  bar -0.516244  1.290920\n",
              "4     one  B  bar  0.137967 -1.429268\n",
              "5     one  C  bar  1.467373 -1.634726\n",
              "6     two  A  foo  1.013728 -0.335196\n",
              "7   three  B  foo -0.917864  0.336981\n",
              "8     one  C  foo -1.140228  0.071493\n",
              "9     one  A  bar  0.163771  0.532989\n",
              "10    two  B  bar -1.007939  1.067811\n",
              "11  three  C  bar  0.359739  0.401966"
            ]
          },
          "metadata": {
            "tags": []
          },
          "execution_count": 130
        }
      ]
    },
    {
      "metadata": {
        "id": "mveElUS35i6U",
        "colab_type": "code",
        "colab": {
          "base_uri": "https://localhost:8080/",
          "height": 348
        },
        "outputId": "218ec2f8-574b-408f-c467-68023718d41b"
      },
      "cell_type": "code",
      "source": [
        "pd.pivot_table(df, values='D', index=['A', 'B'], columns='C')"
      ],
      "execution_count": 131,
      "outputs": [
        {
          "output_type": "execute_result",
          "data": {
            "text/html": [
              "<div>\n",
              "<style scoped>\n",
              "    .dataframe tbody tr th:only-of-type {\n",
              "        vertical-align: middle;\n",
              "    }\n",
              "\n",
              "    .dataframe tbody tr th {\n",
              "        vertical-align: top;\n",
              "    }\n",
              "\n",
              "    .dataframe thead th {\n",
              "        text-align: right;\n",
              "    }\n",
              "</style>\n",
              "<table border=\"1\" class=\"dataframe\">\n",
              "  <thead>\n",
              "    <tr style=\"text-align: right;\">\n",
              "      <th></th>\n",
              "      <th>C</th>\n",
              "      <th>bar</th>\n",
              "      <th>foo</th>\n",
              "    </tr>\n",
              "    <tr>\n",
              "      <th>A</th>\n",
              "      <th>B</th>\n",
              "      <th></th>\n",
              "      <th></th>\n",
              "    </tr>\n",
              "  </thead>\n",
              "  <tbody>\n",
              "    <tr>\n",
              "      <th rowspan=\"3\" valign=\"top\">one</th>\n",
              "      <th>A</th>\n",
              "      <td>0.163771</td>\n",
              "      <td>0.263407</td>\n",
              "    </tr>\n",
              "    <tr>\n",
              "      <th>B</th>\n",
              "      <td>0.137967</td>\n",
              "      <td>-0.080555</td>\n",
              "    </tr>\n",
              "    <tr>\n",
              "      <th>C</th>\n",
              "      <td>1.467373</td>\n",
              "      <td>-1.140228</td>\n",
              "    </tr>\n",
              "    <tr>\n",
              "      <th rowspan=\"3\" valign=\"top\">three</th>\n",
              "      <th>A</th>\n",
              "      <td>-0.516244</td>\n",
              "      <td>NaN</td>\n",
              "    </tr>\n",
              "    <tr>\n",
              "      <th>B</th>\n",
              "      <td>NaN</td>\n",
              "      <td>-0.917864</td>\n",
              "    </tr>\n",
              "    <tr>\n",
              "      <th>C</th>\n",
              "      <td>0.359739</td>\n",
              "      <td>NaN</td>\n",
              "    </tr>\n",
              "    <tr>\n",
              "      <th rowspan=\"3\" valign=\"top\">two</th>\n",
              "      <th>A</th>\n",
              "      <td>NaN</td>\n",
              "      <td>1.013728</td>\n",
              "    </tr>\n",
              "    <tr>\n",
              "      <th>B</th>\n",
              "      <td>-1.007939</td>\n",
              "      <td>NaN</td>\n",
              "    </tr>\n",
              "    <tr>\n",
              "      <th>C</th>\n",
              "      <td>NaN</td>\n",
              "      <td>0.969315</td>\n",
              "    </tr>\n",
              "  </tbody>\n",
              "</table>\n",
              "</div>"
            ],
            "text/plain": [
              "C             bar       foo\n",
              "A     B                    \n",
              "one   A  0.163771  0.263407\n",
              "      B  0.137967 -0.080555\n",
              "      C  1.467373 -1.140228\n",
              "three A -0.516244       NaN\n",
              "      B       NaN -0.917864\n",
              "      C  0.359739       NaN\n",
              "two   A       NaN  1.013728\n",
              "      B -1.007939       NaN\n",
              "      C       NaN  0.969315"
            ]
          },
          "metadata": {
            "tags": []
          },
          "execution_count": 131
        }
      ]
    },
    {
      "metadata": {
        "id": "jO98ztac5jzy",
        "colab_type": "text"
      },
      "cell_type": "markdown",
      "source": [
        "# Time Series"
      ]
    },
    {
      "metadata": {
        "id": "za5vcP4I5jws",
        "colab_type": "code",
        "colab": {
          "base_uri": "https://localhost:8080/",
          "height": 928
        },
        "outputId": "d8d71935-06b7-4502-d144-5eea7699c2d7"
      },
      "cell_type": "code",
      "source": [
        "rng = pd.date_range('1/1/2018', periods=100, freq='S')  # 초단위로 100개\n",
        "rng"
      ],
      "execution_count": 132,
      "outputs": [
        {
          "output_type": "execute_result",
          "data": {
            "text/plain": [
              "DatetimeIndex(['2018-01-01 00:00:00', '2018-01-01 00:00:01',\n",
              "               '2018-01-01 00:00:02', '2018-01-01 00:00:03',\n",
              "               '2018-01-01 00:00:04', '2018-01-01 00:00:05',\n",
              "               '2018-01-01 00:00:06', '2018-01-01 00:00:07',\n",
              "               '2018-01-01 00:00:08', '2018-01-01 00:00:09',\n",
              "               '2018-01-01 00:00:10', '2018-01-01 00:00:11',\n",
              "               '2018-01-01 00:00:12', '2018-01-01 00:00:13',\n",
              "               '2018-01-01 00:00:14', '2018-01-01 00:00:15',\n",
              "               '2018-01-01 00:00:16', '2018-01-01 00:00:17',\n",
              "               '2018-01-01 00:00:18', '2018-01-01 00:00:19',\n",
              "               '2018-01-01 00:00:20', '2018-01-01 00:00:21',\n",
              "               '2018-01-01 00:00:22', '2018-01-01 00:00:23',\n",
              "               '2018-01-01 00:00:24', '2018-01-01 00:00:25',\n",
              "               '2018-01-01 00:00:26', '2018-01-01 00:00:27',\n",
              "               '2018-01-01 00:00:28', '2018-01-01 00:00:29',\n",
              "               '2018-01-01 00:00:30', '2018-01-01 00:00:31',\n",
              "               '2018-01-01 00:00:32', '2018-01-01 00:00:33',\n",
              "               '2018-01-01 00:00:34', '2018-01-01 00:00:35',\n",
              "               '2018-01-01 00:00:36', '2018-01-01 00:00:37',\n",
              "               '2018-01-01 00:00:38', '2018-01-01 00:00:39',\n",
              "               '2018-01-01 00:00:40', '2018-01-01 00:00:41',\n",
              "               '2018-01-01 00:00:42', '2018-01-01 00:00:43',\n",
              "               '2018-01-01 00:00:44', '2018-01-01 00:00:45',\n",
              "               '2018-01-01 00:00:46', '2018-01-01 00:00:47',\n",
              "               '2018-01-01 00:00:48', '2018-01-01 00:00:49',\n",
              "               '2018-01-01 00:00:50', '2018-01-01 00:00:51',\n",
              "               '2018-01-01 00:00:52', '2018-01-01 00:00:53',\n",
              "               '2018-01-01 00:00:54', '2018-01-01 00:00:55',\n",
              "               '2018-01-01 00:00:56', '2018-01-01 00:00:57',\n",
              "               '2018-01-01 00:00:58', '2018-01-01 00:00:59',\n",
              "               '2018-01-01 00:01:00', '2018-01-01 00:01:01',\n",
              "               '2018-01-01 00:01:02', '2018-01-01 00:01:03',\n",
              "               '2018-01-01 00:01:04', '2018-01-01 00:01:05',\n",
              "               '2018-01-01 00:01:06', '2018-01-01 00:01:07',\n",
              "               '2018-01-01 00:01:08', '2018-01-01 00:01:09',\n",
              "               '2018-01-01 00:01:10', '2018-01-01 00:01:11',\n",
              "               '2018-01-01 00:01:12', '2018-01-01 00:01:13',\n",
              "               '2018-01-01 00:01:14', '2018-01-01 00:01:15',\n",
              "               '2018-01-01 00:01:16', '2018-01-01 00:01:17',\n",
              "               '2018-01-01 00:01:18', '2018-01-01 00:01:19',\n",
              "               '2018-01-01 00:01:20', '2018-01-01 00:01:21',\n",
              "               '2018-01-01 00:01:22', '2018-01-01 00:01:23',\n",
              "               '2018-01-01 00:01:24', '2018-01-01 00:01:25',\n",
              "               '2018-01-01 00:01:26', '2018-01-01 00:01:27',\n",
              "               '2018-01-01 00:01:28', '2018-01-01 00:01:29',\n",
              "               '2018-01-01 00:01:30', '2018-01-01 00:01:31',\n",
              "               '2018-01-01 00:01:32', '2018-01-01 00:01:33',\n",
              "               '2018-01-01 00:01:34', '2018-01-01 00:01:35',\n",
              "               '2018-01-01 00:01:36', '2018-01-01 00:01:37',\n",
              "               '2018-01-01 00:01:38', '2018-01-01 00:01:39'],\n",
              "              dtype='datetime64[ns]', freq='S')"
            ]
          },
          "metadata": {
            "tags": []
          },
          "execution_count": 132
        }
      ]
    },
    {
      "metadata": {
        "id": "SLjIOrzh5jt2",
        "colab_type": "code",
        "colab": {
          "base_uri": "https://localhost:8080/",
          "height": 1124
        },
        "outputId": "ad6e9802-cece-442f-fa4b-20c1bc745dc8"
      },
      "cell_type": "code",
      "source": [
        "ts = pd.Series(np.random.randint(0,500, len(rng)), index=rng)\n",
        "ts"
      ],
      "execution_count": 134,
      "outputs": [
        {
          "output_type": "execute_result",
          "data": {
            "text/plain": [
              "2018-01-01 00:00:00    338\n",
              "2018-01-01 00:00:01     80\n",
              "2018-01-01 00:00:02    403\n",
              "2018-01-01 00:00:03    248\n",
              "2018-01-01 00:00:04    297\n",
              "2018-01-01 00:00:05    173\n",
              "2018-01-01 00:00:06    388\n",
              "2018-01-01 00:00:07    409\n",
              "2018-01-01 00:00:08    152\n",
              "2018-01-01 00:00:09    290\n",
              "2018-01-01 00:00:10      6\n",
              "2018-01-01 00:00:11     43\n",
              "2018-01-01 00:00:12    146\n",
              "2018-01-01 00:00:13     44\n",
              "2018-01-01 00:00:14    415\n",
              "2018-01-01 00:00:15    109\n",
              "2018-01-01 00:00:16     82\n",
              "2018-01-01 00:00:17     13\n",
              "2018-01-01 00:00:18     96\n",
              "2018-01-01 00:00:19    335\n",
              "2018-01-01 00:00:20    485\n",
              "2018-01-01 00:00:21    248\n",
              "2018-01-01 00:00:22     88\n",
              "2018-01-01 00:00:23    431\n",
              "2018-01-01 00:00:24    324\n",
              "2018-01-01 00:00:25    427\n",
              "2018-01-01 00:00:26     44\n",
              "2018-01-01 00:00:27    276\n",
              "2018-01-01 00:00:28    253\n",
              "2018-01-01 00:00:29    136\n",
              "                      ... \n",
              "2018-01-01 00:01:10     34\n",
              "2018-01-01 00:01:11     77\n",
              "2018-01-01 00:01:12     13\n",
              "2018-01-01 00:01:13    227\n",
              "2018-01-01 00:01:14    304\n",
              "2018-01-01 00:01:15     87\n",
              "2018-01-01 00:01:16    194\n",
              "2018-01-01 00:01:17     71\n",
              "2018-01-01 00:01:18    144\n",
              "2018-01-01 00:01:19    340\n",
              "2018-01-01 00:01:20    166\n",
              "2018-01-01 00:01:21    312\n",
              "2018-01-01 00:01:22    384\n",
              "2018-01-01 00:01:23    334\n",
              "2018-01-01 00:01:24     71\n",
              "2018-01-01 00:01:25    336\n",
              "2018-01-01 00:01:26    398\n",
              "2018-01-01 00:01:27    475\n",
              "2018-01-01 00:01:28    207\n",
              "2018-01-01 00:01:29    268\n",
              "2018-01-01 00:01:30    155\n",
              "2018-01-01 00:01:31    305\n",
              "2018-01-01 00:01:32    198\n",
              "2018-01-01 00:01:33    125\n",
              "2018-01-01 00:01:34     71\n",
              "2018-01-01 00:01:35    133\n",
              "2018-01-01 00:01:36    414\n",
              "2018-01-01 00:01:37    375\n",
              "2018-01-01 00:01:38    100\n",
              "2018-01-01 00:01:39    459\n",
              "Freq: S, Length: 100, dtype: int64"
            ]
          },
          "metadata": {
            "tags": []
          },
          "execution_count": 134
        }
      ]
    },
    {
      "metadata": {
        "id": "qY2FuTe-5jq_",
        "colab_type": "code",
        "colab": {
          "base_uri": "https://localhost:8080/",
          "height": 71
        },
        "outputId": "b1477275-124a-48ee-a4ce-26a2bfde97ee"
      },
      "cell_type": "code",
      "source": [
        "# 초단위를 다른 단위로 바꿔보자\n",
        "ts.resample('1Min').sum()"
      ],
      "execution_count": 137,
      "outputs": [
        {
          "output_type": "execute_result",
          "data": {
            "text/plain": [
              "2018-01-01 00:00:00    14109\n",
              "2018-01-01 00:01:00     9199\n",
              "Freq: T, dtype: int64"
            ]
          },
          "metadata": {
            "tags": []
          },
          "execution_count": 137
        }
      ]
    },
    {
      "metadata": {
        "id": "-w4sx_xo5jn7",
        "colab_type": "code",
        "colab": {
          "base_uri": "https://localhost:8080/",
          "height": 392
        },
        "outputId": "8c9e5906-a2ca-4052-b30f-4d0f5bb261f0"
      },
      "cell_type": "code",
      "source": [
        "ts.resample('5S').sum()"
      ],
      "execution_count": 140,
      "outputs": [
        {
          "output_type": "execute_result",
          "data": {
            "text/plain": [
              "2018-01-01 00:00:00    1366\n",
              "2018-01-01 00:00:05    1412\n",
              "2018-01-01 00:00:10     654\n",
              "2018-01-01 00:00:15     635\n",
              "2018-01-01 00:00:20    1576\n",
              "2018-01-01 00:00:25    1136\n",
              "2018-01-01 00:00:30    1581\n",
              "2018-01-01 00:00:35    1044\n",
              "2018-01-01 00:00:40     846\n",
              "2018-01-01 00:00:45    1712\n",
              "2018-01-01 00:00:50    1132\n",
              "2018-01-01 00:00:55    1015\n",
              "2018-01-01 00:01:00     967\n",
              "2018-01-01 00:01:05    1455\n",
              "2018-01-01 00:01:10     655\n",
              "2018-01-01 00:01:15     836\n",
              "2018-01-01 00:01:20    1267\n",
              "2018-01-01 00:01:25    1684\n",
              "2018-01-01 00:01:30     854\n",
              "2018-01-01 00:01:35    1481\n",
              "Freq: 5S, dtype: int64"
            ]
          },
          "metadata": {
            "tags": []
          },
          "execution_count": 140
        }
      ]
    },
    {
      "metadata": {
        "id": "iSPhBqtu5jlG",
        "colab_type": "code",
        "colab": {
          "base_uri": "https://localhost:8080/",
          "height": 428
        },
        "outputId": "fe9e7bb9-6457-4026-d9d1-527676191a9a"
      },
      "cell_type": "code",
      "source": [
        "# Time zone 변경\n",
        "ts = ts.resample('10S').sum()\n",
        "print(ts)\n",
        "print('------------------------------------------')\n",
        "ts_utc = ts.tz_localize('UTC')\n",
        "ts_utc"
      ],
      "execution_count": 143,
      "outputs": [
        {
          "output_type": "stream",
          "text": [
            "2018-01-01 00:00:00    2778\n",
            "2018-01-01 00:00:10    1289\n",
            "2018-01-01 00:00:20    2712\n",
            "2018-01-01 00:00:30    2625\n",
            "2018-01-01 00:00:40    2558\n",
            "2018-01-01 00:00:50    2147\n",
            "2018-01-01 00:01:00    2422\n",
            "2018-01-01 00:01:10    1491\n",
            "2018-01-01 00:01:20    2951\n",
            "2018-01-01 00:01:30    2335\n",
            "Freq: 10S, dtype: int64\n",
            "------------------------------------------\n"
          ],
          "name": "stdout"
        },
        {
          "output_type": "execute_result",
          "data": {
            "text/plain": [
              "2018-01-01 00:00:00+00:00    2778\n",
              "2018-01-01 00:00:10+00:00    1289\n",
              "2018-01-01 00:00:20+00:00    2712\n",
              "2018-01-01 00:00:30+00:00    2625\n",
              "2018-01-01 00:00:40+00:00    2558\n",
              "2018-01-01 00:00:50+00:00    2147\n",
              "2018-01-01 00:01:00+00:00    2422\n",
              "2018-01-01 00:01:10+00:00    1491\n",
              "2018-01-01 00:01:20+00:00    2951\n",
              "2018-01-01 00:01:30+00:00    2335\n",
              "Freq: 10S, dtype: int64"
            ]
          },
          "metadata": {
            "tags": []
          },
          "execution_count": 143
        }
      ]
    },
    {
      "metadata": {
        "id": "IBD6bWBp7z-I",
        "colab_type": "code",
        "colab": {
          "base_uri": "https://localhost:8080/",
          "height": 213
        },
        "outputId": "36ff2673-d963-482c-ee51-e35ae40ea41c"
      },
      "cell_type": "code",
      "source": [
        "ts_utc.tz_convert('US/Eastern')"
      ],
      "execution_count": 144,
      "outputs": [
        {
          "output_type": "execute_result",
          "data": {
            "text/plain": [
              "2017-12-31 19:00:00-05:00    2778\n",
              "2017-12-31 19:00:10-05:00    1289\n",
              "2017-12-31 19:00:20-05:00    2712\n",
              "2017-12-31 19:00:30-05:00    2625\n",
              "2017-12-31 19:00:40-05:00    2558\n",
              "2017-12-31 19:00:50-05:00    2147\n",
              "2017-12-31 19:01:00-05:00    2422\n",
              "2017-12-31 19:01:10-05:00    1491\n",
              "2017-12-31 19:01:20-05:00    2951\n",
              "2017-12-31 19:01:30-05:00    2335\n",
              "Freq: 10S, dtype: int64"
            ]
          },
          "metadata": {
            "tags": []
          },
          "execution_count": 144
        }
      ]
    },
    {
      "metadata": {
        "id": "PoMkVVLh8D9u",
        "colab_type": "code",
        "colab": {
          "base_uri": "https://localhost:8080/",
          "height": 374
        },
        "outputId": "39ff92a2-7296-488c-ea6d-bc3794176782"
      },
      "cell_type": "code",
      "source": [
        "# 월단위로 끊거나 다시 원래로 돌릴수 있다. \n",
        "rng = pd.date_range('1/1/2012', periods=5, freq='M')\n",
        "ts = pd.Series(np.random.randn(len(rng)), index=rng)\n",
        "print(ts)\n",
        "print('-------------------------')\n",
        "ps = ts.to_period()\n",
        "print(ps)\n",
        "print('-------------------------')\n",
        "print(ps.to_timestamp())"
      ],
      "execution_count": 145,
      "outputs": [
        {
          "output_type": "stream",
          "text": [
            "2012-01-31   -0.694082\n",
            "2012-02-29   -0.631463\n",
            "2012-03-31    1.830922\n",
            "2012-04-30    0.544823\n",
            "2012-05-31   -0.226963\n",
            "Freq: M, dtype: float64\n",
            "-------------------------\n",
            "2012-01   -0.694082\n",
            "2012-02   -0.631463\n",
            "2012-03    1.830922\n",
            "2012-04    0.544823\n",
            "2012-05   -0.226963\n",
            "Freq: M, dtype: float64\n",
            "-------------------------\n",
            "2012-01-01   -0.694082\n",
            "2012-02-01   -0.631463\n",
            "2012-03-01    1.830922\n",
            "2012-04-01    0.544823\n",
            "2012-05-01   -0.226963\n",
            "Freq: MS, dtype: float64\n"
          ],
          "name": "stdout"
        }
      ]
    },
    {
      "metadata": {
        "id": "AUb9qEqw83yN",
        "colab_type": "code",
        "colab": {
          "base_uri": "https://localhost:8080/",
          "height": 178
        },
        "outputId": "fc9191fe-410b-40b9-edf5-c305df7f7391"
      },
      "cell_type": "code",
      "source": [
        "prng = pd.period_range('1990Q1', '2000Q4', freq='Q-NOV')\n",
        "prng"
      ],
      "execution_count": 146,
      "outputs": [
        {
          "output_type": "execute_result",
          "data": {
            "text/plain": [
              "PeriodIndex(['1990Q1', '1990Q2', '1990Q3', '1990Q4', '1991Q1', '1991Q2',\n",
              "             '1991Q3', '1991Q4', '1992Q1', '1992Q2', '1992Q3', '1992Q4',\n",
              "             '1993Q1', '1993Q2', '1993Q3', '1993Q4', '1994Q1', '1994Q2',\n",
              "             '1994Q3', '1994Q4', '1995Q1', '1995Q2', '1995Q3', '1995Q4',\n",
              "             '1996Q1', '1996Q2', '1996Q3', '1996Q4', '1997Q1', '1997Q2',\n",
              "             '1997Q3', '1997Q4', '1998Q1', '1998Q2', '1998Q3', '1998Q4',\n",
              "             '1999Q1', '1999Q2', '1999Q3', '1999Q4', '2000Q1', '2000Q2',\n",
              "             '2000Q3', '2000Q4'],\n",
              "            dtype='period[Q-NOV]', freq='Q-NOV')"
            ]
          },
          "metadata": {
            "tags": []
          },
          "execution_count": 146
        }
      ]
    },
    {
      "metadata": {
        "id": "qiR0Y0ga9A60",
        "colab_type": "code",
        "colab": {
          "base_uri": "https://localhost:8080/",
          "height": 821
        },
        "outputId": "6d21bffd-a652-4ac6-e565-9826d1a9d4ba"
      },
      "cell_type": "code",
      "source": [
        "ts = pd.Series(np.random.randn(len(prng)), prng)\n",
        "ts"
      ],
      "execution_count": 148,
      "outputs": [
        {
          "output_type": "execute_result",
          "data": {
            "text/plain": [
              "1990Q1    0.895434\n",
              "1990Q2   -0.211940\n",
              "1990Q3   -1.061577\n",
              "1990Q4    0.624239\n",
              "1991Q1   -0.431225\n",
              "1991Q2   -0.499207\n",
              "1991Q3    1.020830\n",
              "1991Q4    2.582038\n",
              "1992Q1    1.617912\n",
              "1992Q2   -1.523397\n",
              "1992Q3   -0.016226\n",
              "1992Q4   -1.752801\n",
              "1993Q1    1.215681\n",
              "1993Q2   -1.299378\n",
              "1993Q3   -0.019835\n",
              "1993Q4    0.763615\n",
              "1994Q1   -1.752396\n",
              "1994Q2   -0.205324\n",
              "1994Q3   -0.790201\n",
              "1994Q4    1.003368\n",
              "1995Q1    1.067029\n",
              "1995Q2    1.340009\n",
              "1995Q3    1.421348\n",
              "1995Q4   -0.457996\n",
              "1996Q1   -1.006580\n",
              "1996Q2    0.905778\n",
              "1996Q3    3.258764\n",
              "1996Q4   -2.233265\n",
              "1997Q1   -0.865570\n",
              "1997Q2    0.353547\n",
              "1997Q3   -1.346872\n",
              "1997Q4   -0.270276\n",
              "1998Q1    0.317335\n",
              "1998Q2   -1.430018\n",
              "1998Q3   -0.679536\n",
              "1998Q4    0.222172\n",
              "1999Q1   -2.746651\n",
              "1999Q2    1.689204\n",
              "1999Q3   -1.058972\n",
              "1999Q4    0.781405\n",
              "2000Q1    0.636554\n",
              "2000Q2    1.232027\n",
              "2000Q3    0.161891\n",
              "2000Q4    0.168473\n",
              "Freq: Q-NOV, dtype: float64"
            ]
          },
          "metadata": {
            "tags": []
          },
          "execution_count": 148
        }
      ]
    },
    {
      "metadata": {
        "id": "gP5BDlZm9FsZ",
        "colab_type": "code",
        "colab": {
          "base_uri": "https://localhost:8080/",
          "height": 124
        },
        "outputId": "ff947a62-1650-408c-a461-d37eca9af9cf"
      },
      "cell_type": "code",
      "source": [
        "ts.index = (prng.asfreq('M', 'e') + 1).asfreq('H', 's') + 9\n",
        "ts.head()"
      ],
      "execution_count": 149,
      "outputs": [
        {
          "output_type": "execute_result",
          "data": {
            "text/plain": [
              "1990-03-01 09:00    0.895434\n",
              "1990-06-01 09:00   -0.211940\n",
              "1990-09-01 09:00   -1.061577\n",
              "1990-12-01 09:00    0.624239\n",
              "1991-03-01 09:00   -0.431225\n",
              "Freq: H, dtype: float64"
            ]
          },
          "metadata": {
            "tags": []
          },
          "execution_count": 149
        }
      ]
    },
    {
      "metadata": {
        "id": "oVXavH3R9KTZ",
        "colab_type": "text"
      },
      "cell_type": "markdown",
      "source": [
        "# Categoricals"
      ]
    },
    {
      "metadata": {
        "id": "TBPNh5pp9QmI",
        "colab_type": "code",
        "colab": {
          "base_uri": "https://localhost:8080/",
          "height": 228
        },
        "outputId": "0ea650a0-ced9-4303-99a2-956d85aad5d1"
      },
      "cell_type": "code",
      "source": [
        "df = pd.DataFrame({\"id\":[1,2,3,4,5,6], \"raw_grade\":['a', 'b', 'b', 'a', 'a', 'e']})\n",
        "df"
      ],
      "execution_count": 150,
      "outputs": [
        {
          "output_type": "execute_result",
          "data": {
            "text/html": [
              "<div>\n",
              "<style scoped>\n",
              "    .dataframe tbody tr th:only-of-type {\n",
              "        vertical-align: middle;\n",
              "    }\n",
              "\n",
              "    .dataframe tbody tr th {\n",
              "        vertical-align: top;\n",
              "    }\n",
              "\n",
              "    .dataframe thead th {\n",
              "        text-align: right;\n",
              "    }\n",
              "</style>\n",
              "<table border=\"1\" class=\"dataframe\">\n",
              "  <thead>\n",
              "    <tr style=\"text-align: right;\">\n",
              "      <th></th>\n",
              "      <th>id</th>\n",
              "      <th>raw_grade</th>\n",
              "    </tr>\n",
              "  </thead>\n",
              "  <tbody>\n",
              "    <tr>\n",
              "      <th>0</th>\n",
              "      <td>1</td>\n",
              "      <td>a</td>\n",
              "    </tr>\n",
              "    <tr>\n",
              "      <th>1</th>\n",
              "      <td>2</td>\n",
              "      <td>b</td>\n",
              "    </tr>\n",
              "    <tr>\n",
              "      <th>2</th>\n",
              "      <td>3</td>\n",
              "      <td>b</td>\n",
              "    </tr>\n",
              "    <tr>\n",
              "      <th>3</th>\n",
              "      <td>4</td>\n",
              "      <td>a</td>\n",
              "    </tr>\n",
              "    <tr>\n",
              "      <th>4</th>\n",
              "      <td>5</td>\n",
              "      <td>a</td>\n",
              "    </tr>\n",
              "    <tr>\n",
              "      <th>5</th>\n",
              "      <td>6</td>\n",
              "      <td>e</td>\n",
              "    </tr>\n",
              "  </tbody>\n",
              "</table>\n",
              "</div>"
            ],
            "text/plain": [
              "   id raw_grade\n",
              "0   1         a\n",
              "1   2         b\n",
              "2   3         b\n",
              "3   4         a\n",
              "4   5         a\n",
              "5   6         e"
            ]
          },
          "metadata": {
            "tags": []
          },
          "execution_count": 150
        }
      ]
    },
    {
      "metadata": {
        "id": "NkvgOcKt9Ui9",
        "colab_type": "code",
        "colab": {
          "base_uri": "https://localhost:8080/",
          "height": 228
        },
        "outputId": "f937a8dd-b3e8-4306-d328-431636ce1cc2"
      },
      "cell_type": "code",
      "source": [
        "# category 타입으로 새로운 열을 만들어보자\n",
        "df['category'] = df['raw_grade'].astype(\"category\")\n",
        "df"
      ],
      "execution_count": 151,
      "outputs": [
        {
          "output_type": "execute_result",
          "data": {
            "text/html": [
              "<div>\n",
              "<style scoped>\n",
              "    .dataframe tbody tr th:only-of-type {\n",
              "        vertical-align: middle;\n",
              "    }\n",
              "\n",
              "    .dataframe tbody tr th {\n",
              "        vertical-align: top;\n",
              "    }\n",
              "\n",
              "    .dataframe thead th {\n",
              "        text-align: right;\n",
              "    }\n",
              "</style>\n",
              "<table border=\"1\" class=\"dataframe\">\n",
              "  <thead>\n",
              "    <tr style=\"text-align: right;\">\n",
              "      <th></th>\n",
              "      <th>id</th>\n",
              "      <th>raw_grade</th>\n",
              "      <th>category</th>\n",
              "    </tr>\n",
              "  </thead>\n",
              "  <tbody>\n",
              "    <tr>\n",
              "      <th>0</th>\n",
              "      <td>1</td>\n",
              "      <td>a</td>\n",
              "      <td>a</td>\n",
              "    </tr>\n",
              "    <tr>\n",
              "      <th>1</th>\n",
              "      <td>2</td>\n",
              "      <td>b</td>\n",
              "      <td>b</td>\n",
              "    </tr>\n",
              "    <tr>\n",
              "      <th>2</th>\n",
              "      <td>3</td>\n",
              "      <td>b</td>\n",
              "      <td>b</td>\n",
              "    </tr>\n",
              "    <tr>\n",
              "      <th>3</th>\n",
              "      <td>4</td>\n",
              "      <td>a</td>\n",
              "      <td>a</td>\n",
              "    </tr>\n",
              "    <tr>\n",
              "      <th>4</th>\n",
              "      <td>5</td>\n",
              "      <td>a</td>\n",
              "      <td>a</td>\n",
              "    </tr>\n",
              "    <tr>\n",
              "      <th>5</th>\n",
              "      <td>6</td>\n",
              "      <td>e</td>\n",
              "      <td>e</td>\n",
              "    </tr>\n",
              "  </tbody>\n",
              "</table>\n",
              "</div>"
            ],
            "text/plain": [
              "   id raw_grade category\n",
              "0   1         a        a\n",
              "1   2         b        b\n",
              "2   3         b        b\n",
              "3   4         a        a\n",
              "4   5         a        a\n",
              "5   6         e        e"
            ]
          },
          "metadata": {
            "tags": []
          },
          "execution_count": 151
        }
      ]
    },
    {
      "metadata": {
        "id": "aygrvn2D9jre",
        "colab_type": "code",
        "colab": {
          "base_uri": "https://localhost:8080/",
          "height": 160
        },
        "outputId": "392adee8-0847-475e-8c04-6fc5022b0d58"
      },
      "cell_type": "code",
      "source": [
        "df.category"
      ],
      "execution_count": 152,
      "outputs": [
        {
          "output_type": "execute_result",
          "data": {
            "text/plain": [
              "0    a\n",
              "1    b\n",
              "2    b\n",
              "3    a\n",
              "4    a\n",
              "5    e\n",
              "Name: category, dtype: category\n",
              "Categories (3, object): [a, b, e]"
            ]
          },
          "metadata": {
            "tags": []
          },
          "execution_count": 152
        }
      ]
    },
    {
      "metadata": {
        "id": "fR07Q9XM9p4Q",
        "colab_type": "code",
        "colab": {
          "base_uri": "https://localhost:8080/",
          "height": 160
        },
        "outputId": "e886f3a8-a0fc-48ef-adfa-07181bb1c647"
      },
      "cell_type": "code",
      "source": [
        "# 카테고리에 의미를 더 넣어주자\n",
        "df['grade'] = df['category']\n",
        "df['grade'].cat.categories = [\"very good\", \"good\", \"very bad\"]\n",
        "df['grade']"
      ],
      "execution_count": 153,
      "outputs": [
        {
          "output_type": "execute_result",
          "data": {
            "text/plain": [
              "0    very good\n",
              "1         good\n",
              "2         good\n",
              "3    very good\n",
              "4    very good\n",
              "5     very bad\n",
              "Name: grade, dtype: category\n",
              "Categories (3, object): [very good, good, very bad]"
            ]
          },
          "metadata": {
            "tags": []
          },
          "execution_count": 153
        }
      ]
    },
    {
      "metadata": {
        "id": "0wo_b34b99kJ",
        "colab_type": "code",
        "colab": {
          "base_uri": "https://localhost:8080/",
          "height": 228
        },
        "outputId": "609c5fc9-2891-432e-f2f1-3a1641ce23b3"
      },
      "cell_type": "code",
      "source": [
        "\n",
        "df"
      ],
      "execution_count": 154,
      "outputs": [
        {
          "output_type": "execute_result",
          "data": {
            "text/html": [
              "<div>\n",
              "<style scoped>\n",
              "    .dataframe tbody tr th:only-of-type {\n",
              "        vertical-align: middle;\n",
              "    }\n",
              "\n",
              "    .dataframe tbody tr th {\n",
              "        vertical-align: top;\n",
              "    }\n",
              "\n",
              "    .dataframe thead th {\n",
              "        text-align: right;\n",
              "    }\n",
              "</style>\n",
              "<table border=\"1\" class=\"dataframe\">\n",
              "  <thead>\n",
              "    <tr style=\"text-align: right;\">\n",
              "      <th></th>\n",
              "      <th>id</th>\n",
              "      <th>raw_grade</th>\n",
              "      <th>category</th>\n",
              "      <th>grade</th>\n",
              "    </tr>\n",
              "  </thead>\n",
              "  <tbody>\n",
              "    <tr>\n",
              "      <th>0</th>\n",
              "      <td>1</td>\n",
              "      <td>a</td>\n",
              "      <td>a</td>\n",
              "      <td>very good</td>\n",
              "    </tr>\n",
              "    <tr>\n",
              "      <th>1</th>\n",
              "      <td>2</td>\n",
              "      <td>b</td>\n",
              "      <td>b</td>\n",
              "      <td>good</td>\n",
              "    </tr>\n",
              "    <tr>\n",
              "      <th>2</th>\n",
              "      <td>3</td>\n",
              "      <td>b</td>\n",
              "      <td>b</td>\n",
              "      <td>good</td>\n",
              "    </tr>\n",
              "    <tr>\n",
              "      <th>3</th>\n",
              "      <td>4</td>\n",
              "      <td>a</td>\n",
              "      <td>a</td>\n",
              "      <td>very good</td>\n",
              "    </tr>\n",
              "    <tr>\n",
              "      <th>4</th>\n",
              "      <td>5</td>\n",
              "      <td>a</td>\n",
              "      <td>a</td>\n",
              "      <td>very good</td>\n",
              "    </tr>\n",
              "    <tr>\n",
              "      <th>5</th>\n",
              "      <td>6</td>\n",
              "      <td>e</td>\n",
              "      <td>e</td>\n",
              "      <td>very bad</td>\n",
              "    </tr>\n",
              "  </tbody>\n",
              "</table>\n",
              "</div>"
            ],
            "text/plain": [
              "   id raw_grade category      grade\n",
              "0   1         a        a  very good\n",
              "1   2         b        b       good\n",
              "2   3         b        b       good\n",
              "3   4         a        a  very good\n",
              "4   5         a        a  very good\n",
              "5   6         e        e   very bad"
            ]
          },
          "metadata": {
            "tags": []
          },
          "execution_count": 154
        }
      ]
    },
    {
      "metadata": {
        "id": "t4B5PyHUFze7",
        "colab_type": "code",
        "colab": {
          "base_uri": "https://localhost:8080/",
          "height": 228
        },
        "outputId": "fdc81a4d-d950-4546-9534-88a1bfffee8f"
      },
      "cell_type": "code",
      "source": [
        "df[\"grade\"] = df[\"grade\"].cat.set_categories([\"very bad\", \"bad\", \"medium\", \"good\", \"very good\"])\n",
        "df"
      ],
      "execution_count": 155,
      "outputs": [
        {
          "output_type": "execute_result",
          "data": {
            "text/html": [
              "<div>\n",
              "<style scoped>\n",
              "    .dataframe tbody tr th:only-of-type {\n",
              "        vertical-align: middle;\n",
              "    }\n",
              "\n",
              "    .dataframe tbody tr th {\n",
              "        vertical-align: top;\n",
              "    }\n",
              "\n",
              "    .dataframe thead th {\n",
              "        text-align: right;\n",
              "    }\n",
              "</style>\n",
              "<table border=\"1\" class=\"dataframe\">\n",
              "  <thead>\n",
              "    <tr style=\"text-align: right;\">\n",
              "      <th></th>\n",
              "      <th>id</th>\n",
              "      <th>raw_grade</th>\n",
              "      <th>category</th>\n",
              "      <th>grade</th>\n",
              "    </tr>\n",
              "  </thead>\n",
              "  <tbody>\n",
              "    <tr>\n",
              "      <th>0</th>\n",
              "      <td>1</td>\n",
              "      <td>a</td>\n",
              "      <td>a</td>\n",
              "      <td>very good</td>\n",
              "    </tr>\n",
              "    <tr>\n",
              "      <th>1</th>\n",
              "      <td>2</td>\n",
              "      <td>b</td>\n",
              "      <td>b</td>\n",
              "      <td>good</td>\n",
              "    </tr>\n",
              "    <tr>\n",
              "      <th>2</th>\n",
              "      <td>3</td>\n",
              "      <td>b</td>\n",
              "      <td>b</td>\n",
              "      <td>good</td>\n",
              "    </tr>\n",
              "    <tr>\n",
              "      <th>3</th>\n",
              "      <td>4</td>\n",
              "      <td>a</td>\n",
              "      <td>a</td>\n",
              "      <td>very good</td>\n",
              "    </tr>\n",
              "    <tr>\n",
              "      <th>4</th>\n",
              "      <td>5</td>\n",
              "      <td>a</td>\n",
              "      <td>a</td>\n",
              "      <td>very good</td>\n",
              "    </tr>\n",
              "    <tr>\n",
              "      <th>5</th>\n",
              "      <td>6</td>\n",
              "      <td>e</td>\n",
              "      <td>e</td>\n",
              "      <td>very bad</td>\n",
              "    </tr>\n",
              "  </tbody>\n",
              "</table>\n",
              "</div>"
            ],
            "text/plain": [
              "   id raw_grade category      grade\n",
              "0   1         a        a  very good\n",
              "1   2         b        b       good\n",
              "2   3         b        b       good\n",
              "3   4         a        a  very good\n",
              "4   5         a        a  very good\n",
              "5   6         e        e   very bad"
            ]
          },
          "metadata": {
            "tags": []
          },
          "execution_count": 155
        }
      ]
    },
    {
      "metadata": {
        "id": "KbvRNJzFF-g7",
        "colab_type": "code",
        "colab": {
          "base_uri": "https://localhost:8080/",
          "height": 228
        },
        "outputId": "d30b932b-f5a3-4b70-af03-fcac352b610f"
      },
      "cell_type": "code",
      "source": [
        "df.sort_values(by='grade')"
      ],
      "execution_count": 156,
      "outputs": [
        {
          "output_type": "execute_result",
          "data": {
            "text/html": [
              "<div>\n",
              "<style scoped>\n",
              "    .dataframe tbody tr th:only-of-type {\n",
              "        vertical-align: middle;\n",
              "    }\n",
              "\n",
              "    .dataframe tbody tr th {\n",
              "        vertical-align: top;\n",
              "    }\n",
              "\n",
              "    .dataframe thead th {\n",
              "        text-align: right;\n",
              "    }\n",
              "</style>\n",
              "<table border=\"1\" class=\"dataframe\">\n",
              "  <thead>\n",
              "    <tr style=\"text-align: right;\">\n",
              "      <th></th>\n",
              "      <th>id</th>\n",
              "      <th>raw_grade</th>\n",
              "      <th>category</th>\n",
              "      <th>grade</th>\n",
              "    </tr>\n",
              "  </thead>\n",
              "  <tbody>\n",
              "    <tr>\n",
              "      <th>5</th>\n",
              "      <td>6</td>\n",
              "      <td>e</td>\n",
              "      <td>e</td>\n",
              "      <td>very bad</td>\n",
              "    </tr>\n",
              "    <tr>\n",
              "      <th>1</th>\n",
              "      <td>2</td>\n",
              "      <td>b</td>\n",
              "      <td>b</td>\n",
              "      <td>good</td>\n",
              "    </tr>\n",
              "    <tr>\n",
              "      <th>2</th>\n",
              "      <td>3</td>\n",
              "      <td>b</td>\n",
              "      <td>b</td>\n",
              "      <td>good</td>\n",
              "    </tr>\n",
              "    <tr>\n",
              "      <th>0</th>\n",
              "      <td>1</td>\n",
              "      <td>a</td>\n",
              "      <td>a</td>\n",
              "      <td>very good</td>\n",
              "    </tr>\n",
              "    <tr>\n",
              "      <th>3</th>\n",
              "      <td>4</td>\n",
              "      <td>a</td>\n",
              "      <td>a</td>\n",
              "      <td>very good</td>\n",
              "    </tr>\n",
              "    <tr>\n",
              "      <th>4</th>\n",
              "      <td>5</td>\n",
              "      <td>a</td>\n",
              "      <td>a</td>\n",
              "      <td>very good</td>\n",
              "    </tr>\n",
              "  </tbody>\n",
              "</table>\n",
              "</div>"
            ],
            "text/plain": [
              "   id raw_grade category      grade\n",
              "5   6         e        e   very bad\n",
              "1   2         b        b       good\n",
              "2   3         b        b       good\n",
              "0   1         a        a  very good\n",
              "3   4         a        a  very good\n",
              "4   5         a        a  very good"
            ]
          },
          "metadata": {
            "tags": []
          },
          "execution_count": 156
        }
      ]
    },
    {
      "metadata": {
        "id": "NnX4ewaRGEQ_",
        "colab_type": "code",
        "colab": {
          "base_uri": "https://localhost:8080/",
          "height": 142
        },
        "outputId": "8f0dd81b-7fb0-4329-ec5e-0f5eb5b0dbdb"
      },
      "cell_type": "code",
      "source": [
        "df.groupby('grade').size()"
      ],
      "execution_count": 158,
      "outputs": [
        {
          "output_type": "execute_result",
          "data": {
            "text/plain": [
              "grade\n",
              "very bad     1\n",
              "bad          0\n",
              "medium       0\n",
              "good         2\n",
              "very good    3\n",
              "dtype: int64"
            ]
          },
          "metadata": {
            "tags": []
          },
          "execution_count": 158
        }
      ]
    },
    {
      "metadata": {
        "id": "4yPfIRVQGM9e",
        "colab_type": "text"
      },
      "cell_type": "markdown",
      "source": [
        "# Plotting"
      ]
    },
    {
      "metadata": {
        "id": "wXtt9Hc7GZie",
        "colab_type": "code",
        "colab": {
          "base_uri": "https://localhost:8080/",
          "height": 768
        },
        "outputId": "43148707-025a-4459-d978-062de801390c"
      },
      "cell_type": "code",
      "source": [
        "ts = pd.Series(np.random.randn(1000), index=pd.date_range('1/1/2018', periods=1000))\n",
        "print(ts.head(10))\n",
        "ts = ts.cumsum()\n",
        "print(ts.head(10))\n",
        "ts.plot()"
      ],
      "execution_count": 162,
      "outputs": [
        {
          "output_type": "stream",
          "text": [
            "2018-01-01    0.444564\n",
            "2018-01-02    0.726060\n",
            "2018-01-03    0.022936\n",
            "2018-01-04   -0.202143\n",
            "2018-01-05    0.048391\n",
            "2018-01-06    1.627611\n",
            "2018-01-07    0.841276\n",
            "2018-01-08   -1.269224\n",
            "2018-01-09    0.921447\n",
            "2018-01-10    0.705647\n",
            "Freq: D, dtype: float64\n",
            "2018-01-01    0.444564\n",
            "2018-01-02    1.170624\n",
            "2018-01-03    1.193560\n",
            "2018-01-04    0.991417\n",
            "2018-01-05    1.039808\n",
            "2018-01-06    2.667419\n",
            "2018-01-07    3.508695\n",
            "2018-01-08    2.239470\n",
            "2018-01-09    3.160918\n",
            "2018-01-10    3.866565\n",
            "Freq: D, dtype: float64\n"
          ],
          "name": "stdout"
        },
        {
          "output_type": "execute_result",
          "data": {
            "text/plain": [
              "<matplotlib.axes._subplots.AxesSubplot at 0x7fb54157dda0>"
            ]
          },
          "metadata": {
            "tags": []
          },
          "execution_count": 162
        },
        {
          "output_type": "display_data",
          "data": {
            "image/png": "[encoded data removed]",
            "text/plain": [
              "<matplotlib.figure.Figure at 0x7fb53f2c5630>"
            ]
          },
          "metadata": {
            "tags": []
          }
        }
      ]
    },
    {
      "metadata": {
        "id": "oxtEUCGJGtEr",
        "colab_type": "code",
        "colab": {
          "base_uri": "https://localhost:8080/",
          "height": 376
        },
        "outputId": "e59cea79-f1bb-4f27-bb8a-e78e0d32d5ac"
      },
      "cell_type": "code",
      "source": [
        "import matplotlib.pyplot as plt\n",
        "plt.figure()\n",
        "ts.plot();\n",
        "plt.legend()"
      ],
      "execution_count": 167,
      "outputs": [
        {
          "output_type": "execute_result",
          "data": {
            "text/plain": [
              "<matplotlib.legend.Legend at 0x7fb53f1e9438>"
            ]
          },
          "metadata": {
            "tags": []
          },
          "execution_count": 167
        },
        {
          "output_type": "display_data",
          "data": {
            "image/png": "[encoded data removed]",
            "text/plain": [
              "<matplotlib.figure.Figure at 0x7fb53f1e2b70>"
            ]
          },
          "metadata": {
            "tags": []
          }
        }
      ]
    },
    {
      "metadata": {
        "id": "Wgk_TUHTGurR",
        "colab_type": "code",
        "colab": {
          "base_uri": "https://localhost:8080/",
          "height": 376
        },
        "outputId": "e9661a1a-f90b-4877-d5d6-67a4f9f37b31"
      },
      "cell_type": "code",
      "source": [
        "df = pd.DataFrame(np.random.randn(1000,4), index=ts.index, columns=['A', 'B', 'C', 'D'])\n",
        "df = df.cumsum()\n",
        "df.plot()\n",
        "plt.legend(loc='best')"
      ],
      "execution_count": 168,
      "outputs": [
        {
          "output_type": "execute_result",
          "data": {
            "text/plain": [
              "<matplotlib.legend.Legend at 0x7fb53f17c6d8>"
            ]
          },
          "metadata": {
            "tags": []
          },
          "execution_count": 168
        },
        {
          "output_type": "display_data",
          "data": {
            "image/png": "[encoded data removed]",
            "text/plain": [
              "<matplotlib.figure.Figure at 0x7fb53f1e9400>"
            ]
          },
          "metadata": {
            "tags": []
          }
        }
      ]
    },
    {
      "metadata": {
        "id": "ZiVF3tXTH_m_",
        "colab_type": "text"
      },
      "cell_type": "markdown",
      "source": [
        "# Getting Data In/Out\n",
        "## CSV\n"
      ]
    },
    {
      "metadata": {
        "id": "cI5UNRXfIcds",
        "colab_type": "code",
        "colab": {
          "base_uri": "https://localhost:8080/",
          "height": 1907
        },
        "outputId": "56b338bd-b251-41a4-bef1-3ea2081971db"
      },
      "cell_type": "code",
      "source": [
        "df"
      ],
      "execution_count": 169,
      "outputs": [
        {
          "output_type": "execute_result",
          "data": {
            "text/html": [
              "<div>\n",
              "<style scoped>\n",
              "    .dataframe tbody tr th:only-of-type {\n",
              "        vertical-align: middle;\n",
              "    }\n",
              "\n",
              "    .dataframe tbody tr th {\n",
              "        vertical-align: top;\n",
              "    }\n",
              "\n",
              "    .dataframe thead th {\n",
              "        text-align: right;\n",
              "    }\n",
              "</style>\n",
              "<table border=\"1\" class=\"dataframe\">\n",
              "  <thead>\n",
              "    <tr style=\"text-align: right;\">\n",
              "      <th></th>\n",
              "      <th>A</th>\n",
              "      <th>B</th>\n",
              "      <th>C</th>\n",
              "      <th>D</th>\n",
              "    </tr>\n",
              "  </thead>\n",
              "  <tbody>\n",
              "    <tr>\n",
              "      <th>2018-01-01</th>\n",
              "      <td>0.228604</td>\n",
              "      <td>1.110267</td>\n",
              "      <td>0.384525</td>\n",
              "      <td>-0.922433</td>\n",
              "    </tr>\n",
              "    <tr>\n",
              "      <th>2018-01-02</th>\n",
              "      <td>0.666532</td>\n",
              "      <td>1.661540</td>\n",
              "      <td>-1.333466</td>\n",
              "      <td>-0.799325</td>\n",
              "    </tr>\n",
              "    <tr>\n",
              "      <th>2018-01-03</th>\n",
              "      <td>1.969030</td>\n",
              "      <td>2.172882</td>\n",
              "      <td>-2.677732</td>\n",
              "      <td>1.065128</td>\n",
              "    </tr>\n",
              "    <tr>\n",
              "      <th>2018-01-04</th>\n",
              "      <td>2.043379</td>\n",
              "      <td>2.891363</td>\n",
              "      <td>-1.364889</td>\n",
              "      <td>1.296960</td>\n",
              "    </tr>\n",
              "    <tr>\n",
              "      <th>2018-01-05</th>\n",
              "      <td>1.452241</td>\n",
              "      <td>3.565826</td>\n",
              "      <td>-1.957949</td>\n",
              "      <td>1.283550</td>\n",
              "    </tr>\n",
              "    <tr>\n",
              "      <th>2018-01-06</th>\n",
              "      <td>1.075287</td>\n",
              "      <td>3.140818</td>\n",
              "      <td>-2.360401</td>\n",
              "      <td>2.378409</td>\n",
              "    </tr>\n",
              "    <tr>\n",
              "      <th>2018-01-07</th>\n",
              "      <td>0.553514</td>\n",
              "      <td>4.251383</td>\n",
              "      <td>-2.523106</td>\n",
              "      <td>2.133042</td>\n",
              "    </tr>\n",
              "    <tr>\n",
              "      <th>2018-01-08</th>\n",
              "      <td>1.903804</td>\n",
              "      <td>4.455830</td>\n",
              "      <td>-2.434813</td>\n",
              "      <td>3.435224</td>\n",
              "    </tr>\n",
              "    <tr>\n",
              "      <th>2018-01-09</th>\n",
              "      <td>0.799692</td>\n",
              "      <td>5.322185</td>\n",
              "      <td>-1.351450</td>\n",
              "      <td>5.117792</td>\n",
              "    </tr>\n",
              "    <tr>\n",
              "      <th>2018-01-10</th>\n",
              "      <td>0.671273</td>\n",
              "      <td>6.514395</td>\n",
              "      <td>-0.891220</td>\n",
              "      <td>8.327011</td>\n",
              "    </tr>\n",
              "    <tr>\n",
              "      <th>2018-01-11</th>\n",
              "      <td>-1.801290</td>\n",
              "      <td>5.853939</td>\n",
              "      <td>-0.090544</td>\n",
              "      <td>7.874142</td>\n",
              "    </tr>\n",
              "    <tr>\n",
              "      <th>2018-01-12</th>\n",
              "      <td>-1.108932</td>\n",
              "      <td>5.302440</td>\n",
              "      <td>-0.014804</td>\n",
              "      <td>6.825299</td>\n",
              "    </tr>\n",
              "    <tr>\n",
              "      <th>2018-01-13</th>\n",
              "      <td>-1.519204</td>\n",
              "      <td>4.703565</td>\n",
              "      <td>0.879558</td>\n",
              "      <td>5.984939</td>\n",
              "    </tr>\n",
              "    <tr>\n",
              "      <th>2018-01-14</th>\n",
              "      <td>-1.991068</td>\n",
              "      <td>4.478323</td>\n",
              "      <td>1.207143</td>\n",
              "      <td>4.384522</td>\n",
              "    </tr>\n",
              "    <tr>\n",
              "      <th>2018-01-15</th>\n",
              "      <td>-3.246070</td>\n",
              "      <td>4.155805</td>\n",
              "      <td>0.201962</td>\n",
              "      <td>4.661792</td>\n",
              "    </tr>\n",
              "    <tr>\n",
              "      <th>2018-01-16</th>\n",
              "      <td>-1.399511</td>\n",
              "      <td>3.094079</td>\n",
              "      <td>-1.237563</td>\n",
              "      <td>3.953324</td>\n",
              "    </tr>\n",
              "    <tr>\n",
              "      <th>2018-01-17</th>\n",
              "      <td>-1.437244</td>\n",
              "      <td>2.217172</td>\n",
              "      <td>-1.962505</td>\n",
              "      <td>4.140920</td>\n",
              "    </tr>\n",
              "    <tr>\n",
              "      <th>2018-01-18</th>\n",
              "      <td>-0.757927</td>\n",
              "      <td>1.689377</td>\n",
              "      <td>-3.393920</td>\n",
              "      <td>3.966843</td>\n",
              "    </tr>\n",
              "    <tr>\n",
              "      <th>2018-01-19</th>\n",
              "      <td>-1.438061</td>\n",
              "      <td>0.070766</td>\n",
              "      <td>-2.266049</td>\n",
              "      <td>4.226164</td>\n",
              "    </tr>\n",
              "    <tr>\n",
              "      <th>2018-01-20</th>\n",
              "      <td>-1.792690</td>\n",
              "      <td>-0.830383</td>\n",
              "      <td>-2.117748</td>\n",
              "      <td>2.245524</td>\n",
              "    </tr>\n",
              "    <tr>\n",
              "      <th>2018-01-21</th>\n",
              "      <td>-1.979233</td>\n",
              "      <td>-1.810641</td>\n",
              "      <td>-2.101865</td>\n",
              "      <td>2.166253</td>\n",
              "    </tr>\n",
              "    <tr>\n",
              "      <th>2018-01-22</th>\n",
              "      <td>-1.674608</td>\n",
              "      <td>-1.376762</td>\n",
              "      <td>-3.028483</td>\n",
              "      <td>2.384129</td>\n",
              "    </tr>\n",
              "    <tr>\n",
              "      <th>2018-01-23</th>\n",
              "      <td>-0.915982</td>\n",
              "      <td>-0.886552</td>\n",
              "      <td>-3.269436</td>\n",
              "      <td>2.434420</td>\n",
              "    </tr>\n",
              "    <tr>\n",
              "      <th>2018-01-24</th>\n",
              "      <td>0.961614</td>\n",
              "      <td>-0.926494</td>\n",
              "      <td>-4.556995</td>\n",
              "      <td>4.272212</td>\n",
              "    </tr>\n",
              "    <tr>\n",
              "      <th>2018-01-25</th>\n",
              "      <td>2.598774</td>\n",
              "      <td>0.101685</td>\n",
              "      <td>-4.738074</td>\n",
              "      <td>5.524157</td>\n",
              "    </tr>\n",
              "    <tr>\n",
              "      <th>2018-01-26</th>\n",
              "      <td>1.469023</td>\n",
              "      <td>-1.027657</td>\n",
              "      <td>-5.852586</td>\n",
              "      <td>3.748432</td>\n",
              "    </tr>\n",
              "    <tr>\n",
              "      <th>2018-01-27</th>\n",
              "      <td>2.239254</td>\n",
              "      <td>-0.597377</td>\n",
              "      <td>-5.161290</td>\n",
              "      <td>5.071906</td>\n",
              "    </tr>\n",
              "    <tr>\n",
              "      <th>2018-01-28</th>\n",
              "      <td>2.474828</td>\n",
              "      <td>-0.734243</td>\n",
              "      <td>-4.869169</td>\n",
              "      <td>6.514724</td>\n",
              "    </tr>\n",
              "    <tr>\n",
              "      <th>2018-01-29</th>\n",
              "      <td>1.022129</td>\n",
              "      <td>-0.079420</td>\n",
              "      <td>-5.331677</td>\n",
              "      <td>8.877622</td>\n",
              "    </tr>\n",
              "    <tr>\n",
              "      <th>2018-01-30</th>\n",
              "      <td>1.528012</td>\n",
              "      <td>0.871960</td>\n",
              "      <td>-6.744228</td>\n",
              "      <td>8.749907</td>\n",
              "    </tr>\n",
              "    <tr>\n",
              "      <th>...</th>\n",
              "      <td>...</td>\n",
              "      <td>...</td>\n",
              "      <td>...</td>\n",
              "      <td>...</td>\n",
              "    </tr>\n",
              "    <tr>\n",
              "      <th>2020-08-28</th>\n",
              "      <td>9.606155</td>\n",
              "      <td>10.599831</td>\n",
              "      <td>9.650508</td>\n",
              "      <td>40.422043</td>\n",
              "    </tr>\n",
              "    <tr>\n",
              "      <th>2020-08-29</th>\n",
              "      <td>7.029851</td>\n",
              "      <td>9.331468</td>\n",
              "      <td>8.060838</td>\n",
              "      <td>39.982042</td>\n",
              "    </tr>\n",
              "    <tr>\n",
              "      <th>2020-08-30</th>\n",
              "      <td>5.894457</td>\n",
              "      <td>11.830460</td>\n",
              "      <td>6.888584</td>\n",
              "      <td>39.138930</td>\n",
              "    </tr>\n",
              "    <tr>\n",
              "      <th>2020-08-31</th>\n",
              "      <td>3.354482</td>\n",
              "      <td>11.498853</td>\n",
              "      <td>7.195097</td>\n",
              "      <td>40.018636</td>\n",
              "    </tr>\n",
              "    <tr>\n",
              "      <th>2020-09-01</th>\n",
              "      <td>3.274434</td>\n",
              "      <td>11.196458</td>\n",
              "      <td>8.028291</td>\n",
              "      <td>40.485537</td>\n",
              "    </tr>\n",
              "    <tr>\n",
              "      <th>2020-09-02</th>\n",
              "      <td>2.440694</td>\n",
              "      <td>11.535284</td>\n",
              "      <td>8.333046</td>\n",
              "      <td>42.010911</td>\n",
              "    </tr>\n",
              "    <tr>\n",
              "      <th>2020-09-03</th>\n",
              "      <td>1.718035</td>\n",
              "      <td>11.086928</td>\n",
              "      <td>8.994335</td>\n",
              "      <td>43.380485</td>\n",
              "    </tr>\n",
              "    <tr>\n",
              "      <th>2020-09-04</th>\n",
              "      <td>2.289120</td>\n",
              "      <td>13.692801</td>\n",
              "      <td>9.509560</td>\n",
              "      <td>44.473078</td>\n",
              "    </tr>\n",
              "    <tr>\n",
              "      <th>2020-09-05</th>\n",
              "      <td>2.584666</td>\n",
              "      <td>13.701789</td>\n",
              "      <td>11.756606</td>\n",
              "      <td>45.474813</td>\n",
              "    </tr>\n",
              "    <tr>\n",
              "      <th>2020-09-06</th>\n",
              "      <td>3.033601</td>\n",
              "      <td>14.496668</td>\n",
              "      <td>13.291731</td>\n",
              "      <td>44.335106</td>\n",
              "    </tr>\n",
              "    <tr>\n",
              "      <th>2020-09-07</th>\n",
              "      <td>3.125704</td>\n",
              "      <td>14.325921</td>\n",
              "      <td>11.768477</td>\n",
              "      <td>45.111706</td>\n",
              "    </tr>\n",
              "    <tr>\n",
              "      <th>2020-09-08</th>\n",
              "      <td>2.072150</td>\n",
              "      <td>14.427419</td>\n",
              "      <td>12.678043</td>\n",
              "      <td>45.661717</td>\n",
              "    </tr>\n",
              "    <tr>\n",
              "      <th>2020-09-09</th>\n",
              "      <td>2.070385</td>\n",
              "      <td>14.819899</td>\n",
              "      <td>10.161723</td>\n",
              "      <td>45.202835</td>\n",
              "    </tr>\n",
              "    <tr>\n",
              "      <th>2020-09-10</th>\n",
              "      <td>0.612088</td>\n",
              "      <td>16.170357</td>\n",
              "      <td>9.786562</td>\n",
              "      <td>44.650670</td>\n",
              "    </tr>\n",
              "    <tr>\n",
              "      <th>2020-09-11</th>\n",
              "      <td>1.192392</td>\n",
              "      <td>17.259032</td>\n",
              "      <td>11.815996</td>\n",
              "      <td>42.876691</td>\n",
              "    </tr>\n",
              "    <tr>\n",
              "      <th>2020-09-12</th>\n",
              "      <td>1.428774</td>\n",
              "      <td>17.034223</td>\n",
              "      <td>11.622975</td>\n",
              "      <td>43.330023</td>\n",
              "    </tr>\n",
              "    <tr>\n",
              "      <th>2020-09-13</th>\n",
              "      <td>1.492896</td>\n",
              "      <td>17.042033</td>\n",
              "      <td>11.873619</td>\n",
              "      <td>42.192658</td>\n",
              "    </tr>\n",
              "    <tr>\n",
              "      <th>2020-09-14</th>\n",
              "      <td>0.675333</td>\n",
              "      <td>17.467243</td>\n",
              "      <td>13.435214</td>\n",
              "      <td>42.298131</td>\n",
              "    </tr>\n",
              "    <tr>\n",
              "      <th>2020-09-15</th>\n",
              "      <td>1.247740</td>\n",
              "      <td>16.863142</td>\n",
              "      <td>14.120800</td>\n",
              "      <td>43.042951</td>\n",
              "    </tr>\n",
              "    <tr>\n",
              "      <th>2020-09-16</th>\n",
              "      <td>1.535289</td>\n",
              "      <td>17.688486</td>\n",
              "      <td>13.181251</td>\n",
              "      <td>43.612799</td>\n",
              "    </tr>\n",
              "    <tr>\n",
              "      <th>2020-09-17</th>\n",
              "      <td>-0.161284</td>\n",
              "      <td>17.620945</td>\n",
              "      <td>13.030705</td>\n",
              "      <td>45.638607</td>\n",
              "    </tr>\n",
              "    <tr>\n",
              "      <th>2020-09-18</th>\n",
              "      <td>-0.668240</td>\n",
              "      <td>19.667195</td>\n",
              "      <td>13.676333</td>\n",
              "      <td>45.327146</td>\n",
              "    </tr>\n",
              "    <tr>\n",
              "      <th>2020-09-19</th>\n",
              "      <td>1.700961</td>\n",
              "      <td>18.888831</td>\n",
              "      <td>14.304117</td>\n",
              "      <td>44.673103</td>\n",
              "    </tr>\n",
              "    <tr>\n",
              "      <th>2020-09-20</th>\n",
              "      <td>1.596133</td>\n",
              "      <td>17.490726</td>\n",
              "      <td>13.162517</td>\n",
              "      <td>46.221611</td>\n",
              "    </tr>\n",
              "    <tr>\n",
              "      <th>2020-09-21</th>\n",
              "      <td>0.924444</td>\n",
              "      <td>18.858426</td>\n",
              "      <td>12.638803</td>\n",
              "      <td>47.766452</td>\n",
              "    </tr>\n",
              "    <tr>\n",
              "      <th>2020-09-22</th>\n",
              "      <td>0.730037</td>\n",
              "      <td>19.184436</td>\n",
              "      <td>13.511528</td>\n",
              "      <td>48.442434</td>\n",
              "    </tr>\n",
              "    <tr>\n",
              "      <th>2020-09-23</th>\n",
              "      <td>0.483042</td>\n",
              "      <td>20.574792</td>\n",
              "      <td>12.875523</td>\n",
              "      <td>48.170438</td>\n",
              "    </tr>\n",
              "    <tr>\n",
              "      <th>2020-09-24</th>\n",
              "      <td>-0.263736</td>\n",
              "      <td>21.194372</td>\n",
              "      <td>13.240874</td>\n",
              "      <td>48.133935</td>\n",
              "    </tr>\n",
              "    <tr>\n",
              "      <th>2020-09-25</th>\n",
              "      <td>0.853990</td>\n",
              "      <td>20.526020</td>\n",
              "      <td>12.695155</td>\n",
              "      <td>47.128789</td>\n",
              "    </tr>\n",
              "    <tr>\n",
              "      <th>2020-09-26</th>\n",
              "      <td>0.244033</td>\n",
              "      <td>21.655021</td>\n",
              "      <td>12.660561</td>\n",
              "      <td>46.777902</td>\n",
              "    </tr>\n",
              "  </tbody>\n",
              "</table>\n",
              "<p>1000 rows × 4 columns</p>\n",
              "</div>"
            ],
            "text/plain": [
              "                   A          B          C          D\n",
              "2018-01-01  0.228604   1.110267   0.384525  -0.922433\n",
              "2018-01-02  0.666532   1.661540  -1.333466  -0.799325\n",
              "2018-01-03  1.969030   2.172882  -2.677732   1.065128\n",
              "2018-01-04  2.043379   2.891363  -1.364889   1.296960\n",
              "2018-01-05  1.452241   3.565826  -1.957949   1.283550\n",
              "2018-01-06  1.075287   3.140818  -2.360401   2.378409\n",
              "2018-01-07  0.553514   4.251383  -2.523106   2.133042\n",
              "2018-01-08  1.903804   4.455830  -2.434813   3.435224\n",
              "2018-01-09  0.799692   5.322185  -1.351450   5.117792\n",
              "2018-01-10  0.671273   6.514395  -0.891220   8.327011\n",
              "2018-01-11 -1.801290   5.853939  -0.090544   7.874142\n",
              "2018-01-12 -1.108932   5.302440  -0.014804   6.825299\n",
              "2018-01-13 -1.519204   4.703565   0.879558   5.984939\n",
              "2018-01-14 -1.991068   4.478323   1.207143   4.384522\n",
              "2018-01-15 -3.246070   4.155805   0.201962   4.661792\n",
              "2018-01-16 -1.399511   3.094079  -1.237563   3.953324\n",
              "2018-01-17 -1.437244   2.217172  -1.962505   4.140920\n",
              "2018-01-18 -0.757927   1.689377  -3.393920   3.966843\n",
              "2018-01-19 -1.438061   0.070766  -2.266049   4.226164\n",
              "2018-01-20 -1.792690  -0.830383  -2.117748   2.245524\n",
              "2018-01-21 -1.979233  -1.810641  -2.101865   2.166253\n",
              "2018-01-22 -1.674608  -1.376762  -3.028483   2.384129\n",
              "2018-01-23 -0.915982  -0.886552  -3.269436   2.434420\n",
              "2018-01-24  0.961614  -0.926494  -4.556995   4.272212\n",
              "2018-01-25  2.598774   0.101685  -4.738074   5.524157\n",
              "2018-01-26  1.469023  -1.027657  -5.852586   3.748432\n",
              "2018-01-27  2.239254  -0.597377  -5.161290   5.071906\n",
              "2018-01-28  2.474828  -0.734243  -4.869169   6.514724\n",
              "2018-01-29  1.022129  -0.079420  -5.331677   8.877622\n",
              "2018-01-30  1.528012   0.871960  -6.744228   8.749907\n",
              "...              ...        ...        ...        ...\n",
              "2020-08-28  9.606155  10.599831   9.650508  40.422043\n",
              "2020-08-29  7.029851   9.331468   8.060838  39.982042\n",
              "2020-08-30  5.894457  11.830460   6.888584  39.138930\n",
              "2020-08-31  3.354482  11.498853   7.195097  40.018636\n",
              "2020-09-01  3.274434  11.196458   8.028291  40.485537\n",
              "2020-09-02  2.440694  11.535284   8.333046  42.010911\n",
              "2020-09-03  1.718035  11.086928   8.994335  43.380485\n",
              "2020-09-04  2.289120  13.692801   9.509560  44.473078\n",
              "2020-09-05  2.584666  13.701789  11.756606  45.474813\n",
              "2020-09-06  3.033601  14.496668  13.291731  44.335106\n",
              "2020-09-07  3.125704  14.325921  11.768477  45.111706\n",
              "2020-09-08  2.072150  14.427419  12.678043  45.661717\n",
              "2020-09-09  2.070385  14.819899  10.161723  45.202835\n",
              "2020-09-10  0.612088  16.170357   9.786562  44.650670\n",
              "2020-09-11  1.192392  17.259032  11.815996  42.876691\n",
              "2020-09-12  1.428774  17.034223  11.622975  43.330023\n",
              "2020-09-13  1.492896  17.042033  11.873619  42.192658\n",
              "2020-09-14  0.675333  17.467243  13.435214  42.298131\n",
              "2020-09-15  1.247740  16.863142  14.120800  43.042951\n",
              "2020-09-16  1.535289  17.688486  13.181251  43.612799\n",
              "2020-09-17 -0.161284  17.620945  13.030705  45.638607\n",
              "2020-09-18 -0.668240  19.667195  13.676333  45.327146\n",
              "2020-09-19  1.700961  18.888831  14.304117  44.673103\n",
              "2020-09-20  1.596133  17.490726  13.162517  46.221611\n",
              "2020-09-21  0.924444  18.858426  12.638803  47.766452\n",
              "2020-09-22  0.730037  19.184436  13.511528  48.442434\n",
              "2020-09-23  0.483042  20.574792  12.875523  48.170438\n",
              "2020-09-24 -0.263736  21.194372  13.240874  48.133935\n",
              "2020-09-25  0.853990  20.526020  12.695155  47.128789\n",
              "2020-09-26  0.244033  21.655021  12.660561  46.777902\n",
              "\n",
              "[1000 rows x 4 columns]"
            ]
          },
          "metadata": {
            "tags": []
          },
          "execution_count": 169
        }
      ]
    },
    {
      "metadata": {
        "id": "wh2fdHY2Ic-W",
        "colab_type": "code",
        "colab": {}
      },
      "cell_type": "code",
      "source": [
        "df.to_csv('foo.csv')"
      ],
      "execution_count": 0,
      "outputs": []
    },
    {
      "metadata": {
        "id": "LwSy_pqPIgay",
        "colab_type": "code",
        "colab": {
          "base_uri": "https://localhost:8080/",
          "height": 35
        },
        "outputId": "c06a7d3a-f710-49f2-c14e-36748a3aa274"
      },
      "cell_type": "code",
      "source": [
        "ls"
      ],
      "execution_count": 171,
      "outputs": [
        {
          "output_type": "stream",
          "text": [
            "\u001b[0m\u001b[01;34mdatalab\u001b[0m/  foo.csv\r\n"
          ],
          "name": "stdout"
        }
      ]
    },
    {
      "metadata": {
        "id": "fUbIBkeNIhlj",
        "colab_type": "code",
        "colab": {
          "base_uri": "https://localhost:8080/",
          "height": 198
        },
        "outputId": "720372aa-87ad-4f0a-c3ba-ed4fdc74be09"
      },
      "cell_type": "code",
      "source": [
        "pd.read_csv('foo.csv').head()"
      ],
      "execution_count": 172,
      "outputs": [
        {
          "output_type": "execute_result",
          "data": {
            "text/html": [
              "<div>\n",
              "<style scoped>\n",
              "    .dataframe tbody tr th:only-of-type {\n",
              "        vertical-align: middle;\n",
              "    }\n",
              "\n",
              "    .dataframe tbody tr th {\n",
              "        vertical-align: top;\n",
              "    }\n",
              "\n",
              "    .dataframe thead th {\n",
              "        text-align: right;\n",
              "    }\n",
              "</style>\n",
              "<table border=\"1\" class=\"dataframe\">\n",
              "  <thead>\n",
              "    <tr style=\"text-align: right;\">\n",
              "      <th></th>\n",
              "      <th>Unnamed: 0</th>\n",
              "      <th>A</th>\n",
              "      <th>B</th>\n",
              "      <th>C</th>\n",
              "      <th>D</th>\n",
              "    </tr>\n",
              "  </thead>\n",
              "  <tbody>\n",
              "    <tr>\n",
              "      <th>0</th>\n",
              "      <td>2018-01-01</td>\n",
              "      <td>0.228604</td>\n",
              "      <td>1.110267</td>\n",
              "      <td>0.384525</td>\n",
              "      <td>-0.922433</td>\n",
              "    </tr>\n",
              "    <tr>\n",
              "      <th>1</th>\n",
              "      <td>2018-01-02</td>\n",
              "      <td>0.666532</td>\n",
              "      <td>1.661540</td>\n",
              "      <td>-1.333466</td>\n",
              "      <td>-0.799325</td>\n",
              "    </tr>\n",
              "    <tr>\n",
              "      <th>2</th>\n",
              "      <td>2018-01-03</td>\n",
              "      <td>1.969030</td>\n",
              "      <td>2.172882</td>\n",
              "      <td>-2.677732</td>\n",
              "      <td>1.065128</td>\n",
              "    </tr>\n",
              "    <tr>\n",
              "      <th>3</th>\n",
              "      <td>2018-01-04</td>\n",
              "      <td>2.043379</td>\n",
              "      <td>2.891363</td>\n",
              "      <td>-1.364889</td>\n",
              "      <td>1.296960</td>\n",
              "    </tr>\n",
              "    <tr>\n",
              "      <th>4</th>\n",
              "      <td>2018-01-05</td>\n",
              "      <td>1.452241</td>\n",
              "      <td>3.565826</td>\n",
              "      <td>-1.957949</td>\n",
              "      <td>1.283550</td>\n",
              "    </tr>\n",
              "  </tbody>\n",
              "</table>\n",
              "</div>"
            ],
            "text/plain": [
              "   Unnamed: 0         A         B         C         D\n",
              "0  2018-01-01  0.228604  1.110267  0.384525 -0.922433\n",
              "1  2018-01-02  0.666532  1.661540 -1.333466 -0.799325\n",
              "2  2018-01-03  1.969030  2.172882 -2.677732  1.065128\n",
              "3  2018-01-04  2.043379  2.891363 -1.364889  1.296960\n",
              "4  2018-01-05  1.452241  3.565826 -1.957949  1.283550"
            ]
          },
          "metadata": {
            "tags": []
          },
          "execution_count": 172
        }
      ]
    },
    {
      "metadata": {
        "id": "YunNh1z5In6U",
        "colab_type": "text"
      },
      "cell_type": "markdown",
      "source": [
        "## HDF5"
      ]
    },
    {
      "metadata": {
        "id": "3xOe9EuMJs7Y",
        "colab_type": "code",
        "colab": {
          "base_uri": "https://localhost:8080/",
          "height": 35
        },
        "outputId": "28325d86-4650-4566-e1b2-19e639ff48fc"
      },
      "cell_type": "code",
      "source": [
        "ls"
      ],
      "execution_count": 185,
      "outputs": [
        {
          "output_type": "stream",
          "text": [
            "\u001b[0m\u001b[01;34mdatalab\u001b[0m/  foo.csv\r\n"
          ],
          "name": "stdout"
        }
      ]
    },
    {
      "metadata": {
        "id": "AdEalJiLIqWT",
        "colab_type": "code",
        "colab": {
          "base_uri": "https://localhost:8080/",
          "height": 321
        },
        "outputId": "8a40baf0-a6e1-477f-f939-81f39db2abfd"
      },
      "cell_type": "code",
      "source": [
        "!pip install tables  # for HD5\n",
        "df.to_hdf('foo.h5', 'df')\n",
        "df2.to_hdf('foo.h5', 'df2')\n",
        "print(pd.read_hdf('foo.h5', 'df').head())\n",
        "print('--------------------------------------------------')\n",
        "print(pd.read_hdf('foo.h5', 'df2').head())"
      ],
      "execution_count": 188,
      "outputs": [
        {
          "output_type": "stream",
          "text": [
            "Requirement already satisfied: tables in /usr/local/lib/python3.6/dist-packages (3.4.3)\r\n",
            "Requirement already satisfied: numexpr>=2.5.2 in /usr/local/lib/python3.6/dist-packages (from tables) (2.6.5)\r\n",
            "Requirement already satisfied: six>=1.9.0 in /usr/local/lib/python3.6/dist-packages (from tables) (1.11.0)\r\n",
            "Requirement already satisfied: numpy>=1.8.0 in /usr/local/lib/python3.6/dist-packages (from tables) (1.14.3)\r\n",
            "                   A         B         C         D\n",
            "2018-01-01  0.228604  1.110267  0.384525 -0.922433\n",
            "2018-01-02  0.666532  1.661540 -1.333466 -0.799325\n",
            "2018-01-03  1.969030  2.172882 -2.677732  1.065128\n",
            "2018-01-04  2.043379  2.891363 -1.364889  1.296960\n",
            "2018-01-05  1.452241  3.565826 -1.957949  1.283550\n",
            "--------------------------------------------------\n",
            "                     A         B\n",
            "first second                    \n",
            "bar   one    -0.029448 -0.204328\n",
            "      two    -0.478140  1.015604\n",
            "baz   one    -1.287390 -0.724450\n",
            "      two    -1.336391  0.069869\n"
          ],
          "name": "stdout"
        }
      ]
    },
    {
      "metadata": {
        "id": "K5UUNAsFIqTU",
        "colab_type": "text"
      },
      "cell_type": "markdown",
      "source": [
        "## Excel"
      ]
    },
    {
      "metadata": {
        "id": "pmrT6e-rIqQF",
        "colab_type": "code",
        "colab": {
          "base_uri": "https://localhost:8080/",
          "height": 285
        },
        "outputId": "ce3bccff-2893-4670-e308-07991caa7618"
      },
      "cell_type": "code",
      "source": [
        "!pip install openpyxl\n",
        "df.to_excel('foo.xlsx', sheet_name='myDFsheet')"
      ],
      "execution_count": 190,
      "outputs": [
        {
          "output_type": "stream",
          "text": [
            "Collecting openpyxl\n",
            "\u001b[?25l  Downloading https://files.pythonhosted.org/packages/dc/99/9c58d83d7f093c0af5f90875f8595d2e9587fc36532a8bb347608cf0876b/openpyxl-2.5.3.tar.gz (170kB)\n",
            "\u001b[K    100% |████████████████████████████████| 174kB 3.9MB/s \n",
            "\u001b[?25hCollecting jdcal (from openpyxl)\n",
            "  Downloading https://files.pythonhosted.org/packages/a0/38/dcf83532480f25284f3ef13f8ed63e03c58a65c9d3ba2a6a894ed9497207/jdcal-1.4-py2.py3-none-any.whl\n",
            "Collecting et_xmlfile (from openpyxl)\n",
            "  Downloading https://files.pythonhosted.org/packages/22/28/a99c42aea746e18382ad9fb36f64c1c1f04216f41797f2f0fa567da11388/et_xmlfile-1.0.1.tar.gz\n",
            "Building wheels for collected packages: openpyxl, et-xmlfile\n",
            "  Running setup.py bdist_wheel for openpyxl ... \u001b[?25l-\b \b\\\b \b|\b \bdone\n",
            "\u001b[?25h  Stored in directory: /content/.cache/pip/wheels/11/7d/47/3dad56b5d260c790d9110623ba66783a2ad345eb76dd63003b\n",
            "  Running setup.py bdist_wheel for et-xmlfile ... \u001b[?25l-\b \bdone\n",
            "\u001b[?25h  Stored in directory: /content/.cache/pip/wheels/2a/77/35/0da0965a057698121fc7d8c5a7a9955cdbfb3cc4e2423cad39\n",
            "Successfully built openpyxl et-xmlfile\n",
            "Installing collected packages: jdcal, et-xmlfile, openpyxl\n",
            "Successfully installed et-xmlfile-1.0.1 jdcal-1.4 openpyxl-2.5.3\n"
          ],
          "name": "stdout"
        }
      ]
    },
    {
      "metadata": {
        "id": "7uVGbU7-JkPL",
        "colab_type": "code",
        "colab": {
          "base_uri": "https://localhost:8080/",
          "height": 1996
        },
        "outputId": "29c4d8bb-4265-4a22-95e7-24b922783f8a"
      },
      "cell_type": "code",
      "source": [
        "!pip install xlrd\n",
        "pd.read_excel('foo.xlsx', 'myDFsheet', index_col=None, na_values=['NA'])"
      ],
      "execution_count": 193,
      "outputs": [
        {
          "output_type": "stream",
          "text": [
            "Collecting xlrd\n",
            "\u001b[?25l  Downloading https://files.pythonhosted.org/packages/07/e6/e95c4eec6221bfd8528bcc4ea252a850bffcc4be88ebc367e23a1a84b0bb/xlrd-1.1.0-py2.py3-none-any.whl (108kB)\n",
            "\u001b[K    100% |████████████████████████████████| 112kB 2.5MB/s \n",
            "\u001b[?25hInstalling collected packages: xlrd\n",
            "Successfully installed xlrd-1.1.0\n"
          ],
          "name": "stdout"
        },
        {
          "output_type": "execute_result",
          "data": {
            "text/html": [
              "<div>\n",
              "<style scoped>\n",
              "    .dataframe tbody tr th:only-of-type {\n",
              "        vertical-align: middle;\n",
              "    }\n",
              "\n",
              "    .dataframe tbody tr th {\n",
              "        vertical-align: top;\n",
              "    }\n",
              "\n",
              "    .dataframe thead th {\n",
              "        text-align: right;\n",
              "    }\n",
              "</style>\n",
              "<table border=\"1\" class=\"dataframe\">\n",
              "  <thead>\n",
              "    <tr style=\"text-align: right;\">\n",
              "      <th></th>\n",
              "      <th>A</th>\n",
              "      <th>B</th>\n",
              "      <th>C</th>\n",
              "      <th>D</th>\n",
              "    </tr>\n",
              "  </thead>\n",
              "  <tbody>\n",
              "    <tr>\n",
              "      <th>2018-01-01</th>\n",
              "      <td>0.228604</td>\n",
              "      <td>1.110267</td>\n",
              "      <td>0.384525</td>\n",
              "      <td>-0.922433</td>\n",
              "    </tr>\n",
              "    <tr>\n",
              "      <th>2018-01-02</th>\n",
              "      <td>0.666532</td>\n",
              "      <td>1.661540</td>\n",
              "      <td>-1.333466</td>\n",
              "      <td>-0.799325</td>\n",
              "    </tr>\n",
              "    <tr>\n",
              "      <th>2018-01-03</th>\n",
              "      <td>1.969030</td>\n",
              "      <td>2.172882</td>\n",
              "      <td>-2.677732</td>\n",
              "      <td>1.065128</td>\n",
              "    </tr>\n",
              "    <tr>\n",
              "      <th>2018-01-04</th>\n",
              "      <td>2.043379</td>\n",
              "      <td>2.891363</td>\n",
              "      <td>-1.364889</td>\n",
              "      <td>1.296960</td>\n",
              "    </tr>\n",
              "    <tr>\n",
              "      <th>2018-01-05</th>\n",
              "      <td>1.452241</td>\n",
              "      <td>3.565826</td>\n",
              "      <td>-1.957949</td>\n",
              "      <td>1.283550</td>\n",
              "    </tr>\n",
              "    <tr>\n",
              "      <th>2018-01-06</th>\n",
              "      <td>1.075287</td>\n",
              "      <td>3.140818</td>\n",
              "      <td>-2.360401</td>\n",
              "      <td>2.378409</td>\n",
              "    </tr>\n",
              "    <tr>\n",
              "      <th>2018-01-07</th>\n",
              "      <td>0.553514</td>\n",
              "      <td>4.251383</td>\n",
              "      <td>-2.523106</td>\n",
              "      <td>2.133042</td>\n",
              "    </tr>\n",
              "    <tr>\n",
              "      <th>2018-01-08</th>\n",
              "      <td>1.903804</td>\n",
              "      <td>4.455830</td>\n",
              "      <td>-2.434813</td>\n",
              "      <td>3.435224</td>\n",
              "    </tr>\n",
              "    <tr>\n",
              "      <th>2018-01-09</th>\n",
              "      <td>0.799692</td>\n",
              "      <td>5.322185</td>\n",
              "      <td>-1.351450</td>\n",
              "      <td>5.117792</td>\n",
              "    </tr>\n",
              "    <tr>\n",
              "      <th>2018-01-10</th>\n",
              "      <td>0.671273</td>\n",
              "      <td>6.514395</td>\n",
              "      <td>-0.891220</td>\n",
              "      <td>8.327011</td>\n",
              "    </tr>\n",
              "    <tr>\n",
              "      <th>2018-01-11</th>\n",
              "      <td>-1.801290</td>\n",
              "      <td>5.853939</td>\n",
              "      <td>-0.090544</td>\n",
              "      <td>7.874142</td>\n",
              "    </tr>\n",
              "    <tr>\n",
              "      <th>2018-01-12</th>\n",
              "      <td>-1.108932</td>\n",
              "      <td>5.302440</td>\n",
              "      <td>-0.014804</td>\n",
              "      <td>6.825299</td>\n",
              "    </tr>\n",
              "    <tr>\n",
              "      <th>2018-01-13</th>\n",
              "      <td>-1.519204</td>\n",
              "      <td>4.703565</td>\n",
              "      <td>0.879558</td>\n",
              "      <td>5.984939</td>\n",
              "    </tr>\n",
              "    <tr>\n",
              "      <th>2018-01-14</th>\n",
              "      <td>-1.991068</td>\n",
              "      <td>4.478323</td>\n",
              "      <td>1.207143</td>\n",
              "      <td>4.384522</td>\n",
              "    </tr>\n",
              "    <tr>\n",
              "      <th>2018-01-15</th>\n",
              "      <td>-3.246070</td>\n",
              "      <td>4.155805</td>\n",
              "      <td>0.201962</td>\n",
              "      <td>4.661792</td>\n",
              "    </tr>\n",
              "    <tr>\n",
              "      <th>2018-01-16</th>\n",
              "      <td>-1.399511</td>\n",
              "      <td>3.094079</td>\n",
              "      <td>-1.237563</td>\n",
              "      <td>3.953324</td>\n",
              "    </tr>\n",
              "    <tr>\n",
              "      <th>2018-01-17</th>\n",
              "      <td>-1.437244</td>\n",
              "      <td>2.217172</td>\n",
              "      <td>-1.962505</td>\n",
              "      <td>4.140920</td>\n",
              "    </tr>\n",
              "    <tr>\n",
              "      <th>2018-01-18</th>\n",
              "      <td>-0.757927</td>\n",
              "      <td>1.689377</td>\n",
              "      <td>-3.393920</td>\n",
              "      <td>3.966843</td>\n",
              "    </tr>\n",
              "    <tr>\n",
              "      <th>2018-01-19</th>\n",
              "      <td>-1.438061</td>\n",
              "      <td>0.070766</td>\n",
              "      <td>-2.266049</td>\n",
              "      <td>4.226164</td>\n",
              "    </tr>\n",
              "    <tr>\n",
              "      <th>2018-01-20</th>\n",
              "      <td>-1.792690</td>\n",
              "      <td>-0.830383</td>\n",
              "      <td>-2.117748</td>\n",
              "      <td>2.245524</td>\n",
              "    </tr>\n",
              "    <tr>\n",
              "      <th>2018-01-21</th>\n",
              "      <td>-1.979233</td>\n",
              "      <td>-1.810641</td>\n",
              "      <td>-2.101865</td>\n",
              "      <td>2.166253</td>\n",
              "    </tr>\n",
              "    <tr>\n",
              "      <th>2018-01-22</th>\n",
              "      <td>-1.674608</td>\n",
              "      <td>-1.376762</td>\n",
              "      <td>-3.028483</td>\n",
              "      <td>2.384129</td>\n",
              "    </tr>\n",
              "    <tr>\n",
              "      <th>2018-01-23</th>\n",
              "      <td>-0.915982</td>\n",
              "      <td>-0.886552</td>\n",
              "      <td>-3.269436</td>\n",
              "      <td>2.434420</td>\n",
              "    </tr>\n",
              "    <tr>\n",
              "      <th>2018-01-24</th>\n",
              "      <td>0.961614</td>\n",
              "      <td>-0.926494</td>\n",
              "      <td>-4.556995</td>\n",
              "      <td>4.272212</td>\n",
              "    </tr>\n",
              "    <tr>\n",
              "      <th>2018-01-25</th>\n",
              "      <td>2.598774</td>\n",
              "      <td>0.101685</td>\n",
              "      <td>-4.738074</td>\n",
              "      <td>5.524157</td>\n",
              "    </tr>\n",
              "    <tr>\n",
              "      <th>2018-01-26</th>\n",
              "      <td>1.469023</td>\n",
              "      <td>-1.027657</td>\n",
              "      <td>-5.852586</td>\n",
              "      <td>3.748432</td>\n",
              "    </tr>\n",
              "    <tr>\n",
              "      <th>2018-01-27</th>\n",
              "      <td>2.239254</td>\n",
              "      <td>-0.597377</td>\n",
              "      <td>-5.161290</td>\n",
              "      <td>5.071906</td>\n",
              "    </tr>\n",
              "    <tr>\n",
              "      <th>2018-01-28</th>\n",
              "      <td>2.474828</td>\n",
              "      <td>-0.734243</td>\n",
              "      <td>-4.869169</td>\n",
              "      <td>6.514724</td>\n",
              "    </tr>\n",
              "    <tr>\n",
              "      <th>2018-01-29</th>\n",
              "      <td>1.022129</td>\n",
              "      <td>-0.079420</td>\n",
              "      <td>-5.331677</td>\n",
              "      <td>8.877622</td>\n",
              "    </tr>\n",
              "    <tr>\n",
              "      <th>2018-01-30</th>\n",
              "      <td>1.528012</td>\n",
              "      <td>0.871960</td>\n",
              "      <td>-6.744228</td>\n",
              "      <td>8.749907</td>\n",
              "    </tr>\n",
              "    <tr>\n",
              "      <th>...</th>\n",
              "      <td>...</td>\n",
              "      <td>...</td>\n",
              "      <td>...</td>\n",
              "      <td>...</td>\n",
              "    </tr>\n",
              "    <tr>\n",
              "      <th>2020-08-28</th>\n",
              "      <td>9.606155</td>\n",
              "      <td>10.599831</td>\n",
              "      <td>9.650508</td>\n",
              "      <td>40.422043</td>\n",
              "    </tr>\n",
              "    <tr>\n",
              "      <th>2020-08-29</th>\n",
              "      <td>7.029851</td>\n",
              "      <td>9.331468</td>\n",
              "      <td>8.060838</td>\n",
              "      <td>39.982042</td>\n",
              "    </tr>\n",
              "    <tr>\n",
              "      <th>2020-08-30</th>\n",
              "      <td>5.894457</td>\n",
              "      <td>11.830460</td>\n",
              "      <td>6.888584</td>\n",
              "      <td>39.138930</td>\n",
              "    </tr>\n",
              "    <tr>\n",
              "      <th>2020-08-31</th>\n",
              "      <td>3.354482</td>\n",
              "      <td>11.498853</td>\n",
              "      <td>7.195097</td>\n",
              "      <td>40.018636</td>\n",
              "    </tr>\n",
              "    <tr>\n",
              "      <th>2020-09-01</th>\n",
              "      <td>3.274434</td>\n",
              "      <td>11.196458</td>\n",
              "      <td>8.028291</td>\n",
              "      <td>40.485537</td>\n",
              "    </tr>\n",
              "    <tr>\n",
              "      <th>2020-09-02</th>\n",
              "      <td>2.440694</td>\n",
              "      <td>11.535284</td>\n",
              "      <td>8.333046</td>\n",
              "      <td>42.010911</td>\n",
              "    </tr>\n",
              "    <tr>\n",
              "      <th>2020-09-03</th>\n",
              "      <td>1.718035</td>\n",
              "      <td>11.086928</td>\n",
              "      <td>8.994335</td>\n",
              "      <td>43.380485</td>\n",
              "    </tr>\n",
              "    <tr>\n",
              "      <th>2020-09-04</th>\n",
              "      <td>2.289120</td>\n",
              "      <td>13.692801</td>\n",
              "      <td>9.509560</td>\n",
              "      <td>44.473078</td>\n",
              "    </tr>\n",
              "    <tr>\n",
              "      <th>2020-09-05</th>\n",
              "      <td>2.584666</td>\n",
              "      <td>13.701789</td>\n",
              "      <td>11.756606</td>\n",
              "      <td>45.474813</td>\n",
              "    </tr>\n",
              "    <tr>\n",
              "      <th>2020-09-06</th>\n",
              "      <td>3.033601</td>\n",
              "      <td>14.496668</td>\n",
              "      <td>13.291731</td>\n",
              "      <td>44.335106</td>\n",
              "    </tr>\n",
              "    <tr>\n",
              "      <th>2020-09-07</th>\n",
              "      <td>3.125704</td>\n",
              "      <td>14.325921</td>\n",
              "      <td>11.768477</td>\n",
              "      <td>45.111706</td>\n",
              "    </tr>\n",
              "    <tr>\n",
              "      <th>2020-09-08</th>\n",
              "      <td>2.072150</td>\n",
              "      <td>14.427419</td>\n",
              "      <td>12.678043</td>\n",
              "      <td>45.661717</td>\n",
              "    </tr>\n",
              "    <tr>\n",
              "      <th>2020-09-09</th>\n",
              "      <td>2.070385</td>\n",
              "      <td>14.819899</td>\n",
              "      <td>10.161723</td>\n",
              "      <td>45.202835</td>\n",
              "    </tr>\n",
              "    <tr>\n",
              "      <th>2020-09-10</th>\n",
              "      <td>0.612088</td>\n",
              "      <td>16.170357</td>\n",
              "      <td>9.786562</td>\n",
              "      <td>44.650670</td>\n",
              "    </tr>\n",
              "    <tr>\n",
              "      <th>2020-09-11</th>\n",
              "      <td>1.192392</td>\n",
              "      <td>17.259032</td>\n",
              "      <td>11.815996</td>\n",
              "      <td>42.876691</td>\n",
              "    </tr>\n",
              "    <tr>\n",
              "      <th>2020-09-12</th>\n",
              "      <td>1.428774</td>\n",
              "      <td>17.034223</td>\n",
              "      <td>11.622975</td>\n",
              "      <td>43.330023</td>\n",
              "    </tr>\n",
              "    <tr>\n",
              "      <th>2020-09-13</th>\n",
              "      <td>1.492896</td>\n",
              "      <td>17.042033</td>\n",
              "      <td>11.873619</td>\n",
              "      <td>42.192658</td>\n",
              "    </tr>\n",
              "    <tr>\n",
              "      <th>2020-09-14</th>\n",
              "      <td>0.675333</td>\n",
              "      <td>17.467243</td>\n",
              "      <td>13.435214</td>\n",
              "      <td>42.298131</td>\n",
              "    </tr>\n",
              "    <tr>\n",
              "      <th>2020-09-15</th>\n",
              "      <td>1.247740</td>\n",
              "      <td>16.863142</td>\n",
              "      <td>14.120800</td>\n",
              "      <td>43.042951</td>\n",
              "    </tr>\n",
              "    <tr>\n",
              "      <th>2020-09-16</th>\n",
              "      <td>1.535289</td>\n",
              "      <td>17.688486</td>\n",
              "      <td>13.181251</td>\n",
              "      <td>43.612799</td>\n",
              "    </tr>\n",
              "    <tr>\n",
              "      <th>2020-09-17</th>\n",
              "      <td>-0.161284</td>\n",
              "      <td>17.620945</td>\n",
              "      <td>13.030705</td>\n",
              "      <td>45.638607</td>\n",
              "    </tr>\n",
              "    <tr>\n",
              "      <th>2020-09-18</th>\n",
              "      <td>-0.668240</td>\n",
              "      <td>19.667195</td>\n",
              "      <td>13.676333</td>\n",
              "      <td>45.327146</td>\n",
              "    </tr>\n",
              "    <tr>\n",
              "      <th>2020-09-19</th>\n",
              "      <td>1.700961</td>\n",
              "      <td>18.888831</td>\n",
              "      <td>14.304117</td>\n",
              "      <td>44.673103</td>\n",
              "    </tr>\n",
              "    <tr>\n",
              "      <th>2020-09-20</th>\n",
              "      <td>1.596133</td>\n",
              "      <td>17.490726</td>\n",
              "      <td>13.162517</td>\n",
              "      <td>46.221611</td>\n",
              "    </tr>\n",
              "    <tr>\n",
              "      <th>2020-09-21</th>\n",
              "      <td>0.924444</td>\n",
              "      <td>18.858426</td>\n",
              "      <td>12.638803</td>\n",
              "      <td>47.766452</td>\n",
              "    </tr>\n",
              "    <tr>\n",
              "      <th>2020-09-22</th>\n",
              "      <td>0.730037</td>\n",
              "      <td>19.184436</td>\n",
              "      <td>13.511528</td>\n",
              "      <td>48.442434</td>\n",
              "    </tr>\n",
              "    <tr>\n",
              "      <th>2020-09-23</th>\n",
              "      <td>0.483042</td>\n",
              "      <td>20.574792</td>\n",
              "      <td>12.875523</td>\n",
              "      <td>48.170438</td>\n",
              "    </tr>\n",
              "    <tr>\n",
              "      <th>2020-09-24</th>\n",
              "      <td>-0.263736</td>\n",
              "      <td>21.194372</td>\n",
              "      <td>13.240874</td>\n",
              "      <td>48.133935</td>\n",
              "    </tr>\n",
              "    <tr>\n",
              "      <th>2020-09-25</th>\n",
              "      <td>0.853990</td>\n",
              "      <td>20.526020</td>\n",
              "      <td>12.695155</td>\n",
              "      <td>47.128789</td>\n",
              "    </tr>\n",
              "    <tr>\n",
              "      <th>2020-09-26</th>\n",
              "      <td>0.244033</td>\n",
              "      <td>21.655021</td>\n",
              "      <td>12.660561</td>\n",
              "      <td>46.777902</td>\n",
              "    </tr>\n",
              "  </tbody>\n",
              "</table>\n",
              "<p>1000 rows × 4 columns</p>\n",
              "</div>"
            ],
            "text/plain": [
              "                   A          B          C          D\n",
              "2018-01-01  0.228604   1.110267   0.384525  -0.922433\n",
              "2018-01-02  0.666532   1.661540  -1.333466  -0.799325\n",
              "2018-01-03  1.969030   2.172882  -2.677732   1.065128\n",
              "2018-01-04  2.043379   2.891363  -1.364889   1.296960\n",
              "2018-01-05  1.452241   3.565826  -1.957949   1.283550\n",
              "2018-01-06  1.075287   3.140818  -2.360401   2.378409\n",
              "2018-01-07  0.553514   4.251383  -2.523106   2.133042\n",
              "2018-01-08  1.903804   4.455830  -2.434813   3.435224\n",
              "2018-01-09  0.799692   5.322185  -1.351450   5.117792\n",
              "2018-01-10  0.671273   6.514395  -0.891220   8.327011\n",
              "2018-01-11 -1.801290   5.853939  -0.090544   7.874142\n",
              "2018-01-12 -1.108932   5.302440  -0.014804   6.825299\n",
              "2018-01-13 -1.519204   4.703565   0.879558   5.984939\n",
              "2018-01-14 -1.991068   4.478323   1.207143   4.384522\n",
              "2018-01-15 -3.246070   4.155805   0.201962   4.661792\n",
              "2018-01-16 -1.399511   3.094079  -1.237563   3.953324\n",
              "2018-01-17 -1.437244   2.217172  -1.962505   4.140920\n",
              "2018-01-18 -0.757927   1.689377  -3.393920   3.966843\n",
              "2018-01-19 -1.438061   0.070766  -2.266049   4.226164\n",
              "2018-01-20 -1.792690  -0.830383  -2.117748   2.245524\n",
              "2018-01-21 -1.979233  -1.810641  -2.101865   2.166253\n",
              "2018-01-22 -1.674608  -1.376762  -3.028483   2.384129\n",
              "2018-01-23 -0.915982  -0.886552  -3.269436   2.434420\n",
              "2018-01-24  0.961614  -0.926494  -4.556995   4.272212\n",
              "2018-01-25  2.598774   0.101685  -4.738074   5.524157\n",
              "2018-01-26  1.469023  -1.027657  -5.852586   3.748432\n",
              "2018-01-27  2.239254  -0.597377  -5.161290   5.071906\n",
              "2018-01-28  2.474828  -0.734243  -4.869169   6.514724\n",
              "2018-01-29  1.022129  -0.079420  -5.331677   8.877622\n",
              "2018-01-30  1.528012   0.871960  -6.744228   8.749907\n",
              "...              ...        ...        ...        ...\n",
              "2020-08-28  9.606155  10.599831   9.650508  40.422043\n",
              "2020-08-29  7.029851   9.331468   8.060838  39.982042\n",
              "2020-08-30  5.894457  11.830460   6.888584  39.138930\n",
              "2020-08-31  3.354482  11.498853   7.195097  40.018636\n",
              "2020-09-01  3.274434  11.196458   8.028291  40.485537\n",
              "2020-09-02  2.440694  11.535284   8.333046  42.010911\n",
              "2020-09-03  1.718035  11.086928   8.994335  43.380485\n",
              "2020-09-04  2.289120  13.692801   9.509560  44.473078\n",
              "2020-09-05  2.584666  13.701789  11.756606  45.474813\n",
              "2020-09-06  3.033601  14.496668  13.291731  44.335106\n",
              "2020-09-07  3.125704  14.325921  11.768477  45.111706\n",
              "2020-09-08  2.072150  14.427419  12.678043  45.661717\n",
              "2020-09-09  2.070385  14.819899  10.161723  45.202835\n",
              "2020-09-10  0.612088  16.170357   9.786562  44.650670\n",
              "2020-09-11  1.192392  17.259032  11.815996  42.876691\n",
              "2020-09-12  1.428774  17.034223  11.622975  43.330023\n",
              "2020-09-13  1.492896  17.042033  11.873619  42.192658\n",
              "2020-09-14  0.675333  17.467243  13.435214  42.298131\n",
              "2020-09-15  1.247740  16.863142  14.120800  43.042951\n",
              "2020-09-16  1.535289  17.688486  13.181251  43.612799\n",
              "2020-09-17 -0.161284  17.620945  13.030705  45.638607\n",
              "2020-09-18 -0.668240  19.667195  13.676333  45.327146\n",
              "2020-09-19  1.700961  18.888831  14.304117  44.673103\n",
              "2020-09-20  1.596133  17.490726  13.162517  46.221611\n",
              "2020-09-21  0.924444  18.858426  12.638803  47.766452\n",
              "2020-09-22  0.730037  19.184436  13.511528  48.442434\n",
              "2020-09-23  0.483042  20.574792  12.875523  48.170438\n",
              "2020-09-24 -0.263736  21.194372  13.240874  48.133935\n",
              "2020-09-25  0.853990  20.526020  12.695155  47.128789\n",
              "2020-09-26  0.244033  21.655021  12.660561  46.777902\n",
              "\n",
              "[1000 rows x 4 columns]"
            ]
          },
          "metadata": {
            "tags": []
          },
          "execution_count": 193
        }
      ]
    },
    {
      "metadata": {
        "id": "YhGkKh7fKkvn",
        "colab_type": "code",
        "colab": {}
      },
      "cell_type": "code",
      "source": [
        ""
      ],
      "execution_count": 0,
      "outputs": []
    }
  ]
}