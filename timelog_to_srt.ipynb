{
  "nbformat": 4,
  "nbformat_minor": 0,
  "metadata": {
    "colab": {
      "name": "timelog_to_srt.ipynb",
      "version": "0.3.2",
      "provenance": [],
      "collapsed_sections": []
    },
    "kernelspec": {
      "name": "python3",
      "display_name": "Python 3"
    }
  },
  "cells": [
    {
      "cell_type": "markdown",
      "metadata": {
        "id": "view-in-github",
        "colab_type": "text"
      },
      "source": [
        "[View in Colaboratory](https://colab.research.google.com/github/nicewook/datascience_exercise/blob/master/timelog_to_srt.ipynb)"
      ]
    },
    {
      "metadata": {
        "id": "HPduSqRGNYkK",
        "colab_type": "text"
      },
      "cell_type": "markdown",
      "source": [
        "# 상황\n",
        "\n",
        "### 동영상이 있고\n",
        "### 동영상의 상황에서 특정 이벤트 발생시점을 기록한 time 정보가 있다. \n",
        "\n",
        "\n",
        "# 목표\n",
        "\n",
        "### 이걸로 자막파일을 만들어 동영상을 보면서 자막을 통해 이벤트 발생을 확인할 수 있도록 한다. "
      ]
    },
    {
      "metadata": {
        "id": "X9-wDFLQPAZK",
        "colab_type": "text"
      },
      "cell_type": "markdown",
      "source": [
        "# 분석을 위한 영상 참고자료\n",
        "\n",
        "- 이 경우는 특정 차량이 지나간 시점을 확인하려고 한다.\n",
        "\n",
        "## Lane 2 분석\n",
        "\n",
        "### 통계 시작 : 15:00:04 (검정색 말리부 1872) / (CCTV 10:03초 부근)\n",
        "- 앞 차량 : 검정 소나타\n",
        "- 뒤 차량 : 검정 SUV\n",
        "\n",
        " \n",
        "### 통계 종료 : 15:21:34 (흰색 투싼 4052) / (CCTV 31:32초 부근)\n",
        "- 앞 차량 : 파란색 1톤 포터 (다수의 박스가 화물칸에 있음)\n",
        "- 뒤 차량 : 흰색 K5"
      ]
    },
    {
      "metadata": {
        "id": "eaYdHmy2QpaW",
        "colab_type": "text"
      },
      "cell_type": "markdown",
      "source": [
        "# 로컬PC의 파일을 업로드하자\n",
        "\n",
        "### 아래 셀을 실행하면 ** 파일선택 ** 버튼이 나오며 이를 통해 파일을 업로드 가능하다"
      ]
    },
    {
      "metadata": {
        "id": "wSW7DnGgQmCk",
        "colab_type": "code",
        "colab": {
          "resources": {
            "http://localhost:8080/nbextensions/google.colab/files.js": {
              "data": "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",
              "ok": true,
              "headers": [
                [
                  "content-type",
                  "application/javascript"
                ]
              ],
              "status": 200,
              "status_text": ""
            }
          },
          "base_uri": "https://localhost:8080/",
          "height": 93
        },
        "outputId": "a372f5f7-46c8-4242-ce8d-dd1e577f4d2e"
      },
      "cell_type": "code",
      "source": [
        "from google.colab import files\n",
        "uploaded = files.upload() # 파일 업로드 기능 실행\n",
        "\n",
        "for fn in uploaded.keys(): # 업로드된 파일 정보 출력\n",
        "    print('User uploaded file \"{name}\" with length {length} bytes'.format(\n",
        "        name=fn, length=len(uploaded[fn])))"
      ],
      "execution_count": 3,
      "outputs": [
        {
          "output_type": "display_data",
          "data": {
            "text/html": [
              "\n",
              "     <input type=\"file\" id=\"files-966e0b76-2861-4a08-a39d-b16a469e8838\" name=\"files[]\" multiple disabled />\n",
              "     <output id=\"result-966e0b76-2861-4a08-a39d-b16a469e8838\">\n",
              "      Upload widget is only available when the cell has been executed in the\n",
              "      current browser session. Please rerun this cell to enable.\n",
              "      </output>\n",
              "      <script src=\"/nbextensions/google.colab/files.js\"></script> "
            ],
            "text/plain": [
              "<IPython.core.display.HTML object>"
            ]
          },
          "metadata": {
            "tags": []
          }
        },
        {
          "output_type": "stream",
          "text": [
            "Saving 데이터비교v3_2차로_vdu.txt to 데이터비교v3_2차로_vdu.txt\n",
            "User uploaded file \"데이터비교v3_2차로_vdu.txt\" with length 12425 bytes\n"
          ],
          "name": "stdout"
        }
      ]
    },
    {
      "metadata": {
        "id": "L6nCU4mCRFLM",
        "colab_type": "text"
      },
      "cell_type": "markdown",
      "source": [
        "# 파일을 pandas read_csv 를 이용해 가져온다"
      ]
    },
    {
      "metadata": {
        "id": "QQGpmR5oRNwc",
        "colab_type": "code",
        "colab": {
          "base_uri": "https://localhost:8080/",
          "height": 247
        },
        "outputId": "c275f845-f977-44b0-887f-955d6283fbad"
      },
      "cell_type": "code",
      "source": [
        "ls -al"
      ],
      "execution_count": 198,
      "outputs": [
        {
          "output_type": "stream",
          "text": [
            "total 108\r\n",
            "drwxr-xr-x 1 root root  4096 Jun  2 02:17 \u001b[0m\u001b[01;34m.\u001b[0m/\r\n",
            "drwxr-xr-x 1 root root  4096 Jun  1 23:30 \u001b[01;34m..\u001b[0m/\r\n",
            "drwx------ 4 root root  4096 Jun  1 23:31 \u001b[01;34m.cache\u001b[0m/\r\n",
            "drwxr-xr-x 3 root root  4096 Jun  1 23:31 \u001b[01;34m.config\u001b[0m/\r\n",
            "drwxr-xr-x 1 root root  4096 May 21 17:02 \u001b[01;34mdatalab\u001b[0m/\r\n",
            "drwxr-xr-x 4 root root  4096 Jun  1 23:31 \u001b[01;34m.forever\u001b[0m/\r\n",
            "drwxr-xr-x 5 root root  4096 Jun  1 23:31 \u001b[01;34m.ipython\u001b[0m/\r\n",
            "-rw-r--r-- 1 root root 15297 Jun  2 02:21 lane2_1.csv\r\n",
            "drwx------ 3 root root  4096 Jun  1 23:31 \u001b[01;34m.local\u001b[0m/\r\n",
            "-rw------- 1 root root  1024 Jun  1 23:31 .rnd\r\n",
            "-rw-r--r-- 1 root root 39544 Jun  2 02:21 데이터비교v3_2차로_vdu.srt\r\n",
            "-rw-r--r-- 1 root root 12425 Jun  1 23:32 데이터비교v3_2차로_vdu.txt\r\n"
          ],
          "name": "stdout"
        }
      ]
    },
    {
      "metadata": {
        "id": "fvFpih-DPZB6",
        "colab_type": "code",
        "colab": {
          "base_uri": "https://localhost:8080/",
          "height": 197
        },
        "outputId": "23fafae5-649e-4099-a026-7586cc75bc9f"
      },
      "cell_type": "code",
      "source": [
        "import pandas as pd\n",
        "\n",
        "data = pd.read_csv('데이터비교v3_2차로_vdu.txt', header=None, engine='python')  # 경로나 파일명에 한글이 있을경우 engine 옵션 넣어줘야함\n",
        "\n",
        "data.columns = ['time']  # 컬럼명을 정해줌\n",
        "\n",
        "data.time = data.time.astype('str')\n",
        "data[\"subtitle\"] = data.time.str[11:]  # 나중에 자막으로 쓰기위해 빼두자\n",
        "\n",
        "data.head() # 데이터 내용을 조금 보자"
      ],
      "execution_count": 241,
      "outputs": [
        {
          "output_type": "execute_result",
          "data": {
            "text/html": [
              "<div>\n",
              "<style scoped>\n",
              "    .dataframe tbody tr th:only-of-type {\n",
              "        vertical-align: middle;\n",
              "    }\n",
              "\n",
              "    .dataframe tbody tr th {\n",
              "        vertical-align: top;\n",
              "    }\n",
              "\n",
              "    .dataframe thead th {\n",
              "        text-align: right;\n",
              "    }\n",
              "</style>\n",
              "<table border=\"1\" class=\"dataframe\">\n",
              "  <thead>\n",
              "    <tr style=\"text-align: right;\">\n",
              "      <th></th>\n",
              "      <th>time</th>\n",
              "      <th>subtitle</th>\n",
              "    </tr>\n",
              "  </thead>\n",
              "  <tbody>\n",
              "    <tr>\n",
              "      <th>0</th>\n",
              "      <td>2018.05.23 15:00:03.828</td>\n",
              "      <td>15:00:03.828</td>\n",
              "    </tr>\n",
              "    <tr>\n",
              "      <th>1</th>\n",
              "      <td>2018.05.23 15:00:05.871</td>\n",
              "      <td>15:00:05.871</td>\n",
              "    </tr>\n",
              "    <tr>\n",
              "      <th>2</th>\n",
              "      <td>2018.05.23 15:00:07.252</td>\n",
              "      <td>15:00:07.252</td>\n",
              "    </tr>\n",
              "    <tr>\n",
              "      <th>3</th>\n",
              "      <td>2018.05.23 15:00:08.124</td>\n",
              "      <td>15:00:08.124</td>\n",
              "    </tr>\n",
              "    <tr>\n",
              "      <th>4</th>\n",
              "      <td>2018.05.23 15:00:13.072</td>\n",
              "      <td>15:00:13.072</td>\n",
              "    </tr>\n",
              "  </tbody>\n",
              "</table>\n",
              "</div>"
            ],
            "text/plain": [
              "                      time      subtitle\n",
              "0  2018.05.23 15:00:03.828  15:00:03.828\n",
              "1  2018.05.23 15:00:05.871  15:00:05.871\n",
              "2  2018.05.23 15:00:07.252  15:00:07.252\n",
              "3  2018.05.23 15:00:08.124  15:00:08.124\n",
              "4  2018.05.23 15:00:13.072  15:00:13.072"
            ]
          },
          "metadata": {
            "tags": []
          },
          "execution_count": 241
        }
      ]
    },
    {
      "metadata": {
        "id": "6hxQGzu1uxAr",
        "colab_type": "text"
      },
      "cell_type": "markdown",
      "source": [
        "# time 정보를 동영상이 시작되고 자막이 보여질 시점으로 맞춰보자\n",
        "\n"
      ]
    },
    {
      "metadata": {
        "id": "BDepnh1ht0u0",
        "colab_type": "code",
        "colab": {
          "base_uri": "https://localhost:8080/",
          "height": 197
        },
        "outputId": "110bab37-d175-468d-c5e8-4701b7dc646d"
      },
      "cell_type": "code",
      "source": [
        "data.time = pd.to_datetime(data.time)  # string 에서 datetime type 으로 변경\n",
        "data.head()"
      ],
      "execution_count": 242,
      "outputs": [
        {
          "output_type": "execute_result",
          "data": {
            "text/html": [
              "<div>\n",
              "<style scoped>\n",
              "    .dataframe tbody tr th:only-of-type {\n",
              "        vertical-align: middle;\n",
              "    }\n",
              "\n",
              "    .dataframe tbody tr th {\n",
              "        vertical-align: top;\n",
              "    }\n",
              "\n",
              "    .dataframe thead th {\n",
              "        text-align: right;\n",
              "    }\n",
              "</style>\n",
              "<table border=\"1\" class=\"dataframe\">\n",
              "  <thead>\n",
              "    <tr style=\"text-align: right;\">\n",
              "      <th></th>\n",
              "      <th>time</th>\n",
              "      <th>subtitle</th>\n",
              "    </tr>\n",
              "  </thead>\n",
              "  <tbody>\n",
              "    <tr>\n",
              "      <th>0</th>\n",
              "      <td>2018-05-23 15:00:03.828</td>\n",
              "      <td>15:00:03.828</td>\n",
              "    </tr>\n",
              "    <tr>\n",
              "      <th>1</th>\n",
              "      <td>2018-05-23 15:00:05.871</td>\n",
              "      <td>15:00:05.871</td>\n",
              "    </tr>\n",
              "    <tr>\n",
              "      <th>2</th>\n",
              "      <td>2018-05-23 15:00:07.252</td>\n",
              "      <td>15:00:07.252</td>\n",
              "    </tr>\n",
              "    <tr>\n",
              "      <th>3</th>\n",
              "      <td>2018-05-23 15:00:08.124</td>\n",
              "      <td>15:00:08.124</td>\n",
              "    </tr>\n",
              "    <tr>\n",
              "      <th>4</th>\n",
              "      <td>2018-05-23 15:00:13.072</td>\n",
              "      <td>15:00:13.072</td>\n",
              "    </tr>\n",
              "  </tbody>\n",
              "</table>\n",
              "</div>"
            ],
            "text/plain": [
              "                     time      subtitle\n",
              "0 2018-05-23 15:00:03.828  15:00:03.828\n",
              "1 2018-05-23 15:00:05.871  15:00:05.871\n",
              "2 2018-05-23 15:00:07.252  15:00:07.252\n",
              "3 2018-05-23 15:00:08.124  15:00:08.124\n",
              "4 2018-05-23 15:00:13.072  15:00:13.072"
            ]
          },
          "metadata": {
            "tags": []
          },
          "execution_count": 242
        }
      ]
    },
    {
      "metadata": {
        "id": "3b32IKTvvr8s",
        "colab_type": "code",
        "colab": {
          "base_uri": "https://localhost:8080/",
          "height": 34
        },
        "outputId": "ccdc9108-e4fa-424a-fe6f-477b10bcf46d"
      },
      "cell_type": "code",
      "source": [
        "type(data.time[0])  # Timestamp 타입이라고 나온다"
      ],
      "execution_count": 243,
      "outputs": [
        {
          "output_type": "execute_result",
          "data": {
            "text/plain": [
              "pandas._libs.tslib.Timestamp"
            ]
          },
          "metadata": {
            "tags": []
          },
          "execution_count": 243
        }
      ]
    },
    {
      "metadata": {
        "id": "eO9eGRYICpEJ",
        "colab_type": "text"
      },
      "cell_type": "markdown",
      "source": [
        "# 시간정보중 불필요한 시간은 날려버림\n",
        "- 15:00:04 부터 15:21:34 까지만 보면 되므로 \n",
        "- 2018-05-23 15:21:35.000' 보다 이전인 데이터만 필요함\n",
        "- 현재 데이터는 딱 이부분만 있으므로 원래는 할 필요가 없는 작업임\n",
        "\n",
        "\n",
        "### 통계 시작 : 15:00:04 (검정색 말리부 1872) / (CCTV 10:03초 부근)\n",
        "앞 차량 : 검정 소나타\n",
        "뒤 차량 : 검정 SUV\n",
        "### 통계 종료 : 15:21:34 (흰색 투싼 4052) / (CCTV 31:32초 부근)\n",
        "앞 차량 : 파란색 1톤 포터 (다수의 박스가 화물칸에 있음)\n",
        "뒤 차량 : 흰색 K5"
      ]
    },
    {
      "metadata": {
        "id": "SaIcBdcrC9gN",
        "colab_type": "code",
        "colab": {
          "base_uri": "https://localhost:8080/",
          "height": 52
        },
        "outputId": "c9803f2d-b04f-4b4f-9444-079bd2e96c42"
      },
      "cell_type": "code",
      "source": [
        "print(len(data))\n",
        "data = data.loc[data['time'] <'2018-05-23 15:21:35.000']\n",
        "print(len(data))"
      ],
      "execution_count": 244,
      "outputs": [
        {
          "output_type": "stream",
          "text": [
            "497\n",
            "497\n"
          ],
          "name": "stdout"
        }
      ]
    },
    {
      "metadata": {
        "id": "eJt4umMtvZSw",
        "colab_type": "text"
      },
      "cell_type": "markdown",
      "source": [
        "### 우선은 시작시간으로 전체 시간을 빼준다. 그러면 00:00:00.0000 에서 시작하게 된다. \n",
        "### 여기에 자막의 첫 시작 시간인 10:03:0000 을  더해주면 자막시작시간에 맞춰진다. \n",
        "\n",
        "- 동영상의 재생시간과 실제 날짜, 시간의 정확한 매칭을 알면 더욱 정확하게 설정할 수 있다\n",
        "- 즉, 실제시간이 15:00:03.8280 이 동영상 재생시간의 00:10:03.4231 이라는 식의 정보가 필요하다\n"
      ]
    },
    {
      "metadata": {
        "id": "iJzVeMv-vvPW",
        "colab_type": "code",
        "colab": {
          "base_uri": "https://localhost:8080/",
          "height": 197
        },
        "outputId": "cf820c34-af2a-4960-b856-c6737f8376a7"
      },
      "cell_type": "code",
      "source": [
        "data.time = data.time - data.time[0]  # 가장 첫 시간으로 빼버리면 첫 자막의 시작시간은 0이 되겠지? \n",
        "data.time = data.time + pd.Timedelta('00:10:03')\n",
        "data.head()"
      ],
      "execution_count": 245,
      "outputs": [
        {
          "output_type": "execute_result",
          "data": {
            "text/html": [
              "<div>\n",
              "<style scoped>\n",
              "    .dataframe tbody tr th:only-of-type {\n",
              "        vertical-align: middle;\n",
              "    }\n",
              "\n",
              "    .dataframe tbody tr th {\n",
              "        vertical-align: top;\n",
              "    }\n",
              "\n",
              "    .dataframe thead th {\n",
              "        text-align: right;\n",
              "    }\n",
              "</style>\n",
              "<table border=\"1\" class=\"dataframe\">\n",
              "  <thead>\n",
              "    <tr style=\"text-align: right;\">\n",
              "      <th></th>\n",
              "      <th>time</th>\n",
              "      <th>subtitle</th>\n",
              "    </tr>\n",
              "  </thead>\n",
              "  <tbody>\n",
              "    <tr>\n",
              "      <th>0</th>\n",
              "      <td>00:10:03</td>\n",
              "      <td>15:00:03.828</td>\n",
              "    </tr>\n",
              "    <tr>\n",
              "      <th>1</th>\n",
              "      <td>00:10:05.043000</td>\n",
              "      <td>15:00:05.871</td>\n",
              "    </tr>\n",
              "    <tr>\n",
              "      <th>2</th>\n",
              "      <td>00:10:06.424000</td>\n",
              "      <td>15:00:07.252</td>\n",
              "    </tr>\n",
              "    <tr>\n",
              "      <th>3</th>\n",
              "      <td>00:10:07.296000</td>\n",
              "      <td>15:00:08.124</td>\n",
              "    </tr>\n",
              "    <tr>\n",
              "      <th>4</th>\n",
              "      <td>00:10:12.244000</td>\n",
              "      <td>15:00:13.072</td>\n",
              "    </tr>\n",
              "  </tbody>\n",
              "</table>\n",
              "</div>"
            ],
            "text/plain": [
              "             time      subtitle\n",
              "0        00:10:03  15:00:03.828\n",
              "1 00:10:05.043000  15:00:05.871\n",
              "2 00:10:06.424000  15:00:07.252\n",
              "3 00:10:07.296000  15:00:08.124\n",
              "4 00:10:12.244000  15:00:13.072"
            ]
          },
          "metadata": {
            "tags": []
          },
          "execution_count": 245
        }
      ]
    },
    {
      "metadata": {
        "id": "zgx4kZtRBpFQ",
        "colab_type": "text"
      },
      "cell_type": "markdown",
      "source": [
        "### 원하는 형식으로 바꿔보자\n",
        "1. pandas TimeDelta 형식을 datetime 형식으로 바꾸고\n",
        "2. string format 을 srt 자막파일이 요구하는 시간으로 바꾼다. \n",
        "3. 자막파일은 0.1 milliseconds 까지 표시하므로 마지막 두 자리는 버린다"
      ]
    },
    {
      "metadata": {
        "id": "YS3oeXws0hpv",
        "colab_type": "code",
        "colab": {
          "base_uri": "https://localhost:8080/",
          "height": 34
        },
        "outputId": "d7d05804-27b7-4243-a519-3415c9d39d6a"
      },
      "cell_type": "code",
      "source": [
        "type(data.time[0]) "
      ],
      "execution_count": 246,
      "outputs": [
        {
          "output_type": "execute_result",
          "data": {
            "text/plain": [
              "pandas._libs.tslib.Timedelta"
            ]
          },
          "metadata": {
            "tags": []
          },
          "execution_count": 246
        }
      ]
    },
    {
      "metadata": {
        "id": "43F1lOS49_vH",
        "colab_type": "code",
        "colab": {
          "base_uri": "https://localhost:8080/",
          "height": 215
        },
        "outputId": "d951bfd2-b03a-4835-e8bb-fe36a332ee0d"
      },
      "cell_type": "code",
      "source": [
        "data['time'] = pd.to_datetime(data['time']).dt.strftime(\"%H:%M:%S.%f\").str[:-2]\n",
        "print(type(data.time[0]))\n",
        "data.head()"
      ],
      "execution_count": 247,
      "outputs": [
        {
          "output_type": "stream",
          "text": [
            "<class 'str'>\n"
          ],
          "name": "stdout"
        },
        {
          "output_type": "execute_result",
          "data": {
            "text/html": [
              "<div>\n",
              "<style scoped>\n",
              "    .dataframe tbody tr th:only-of-type {\n",
              "        vertical-align: middle;\n",
              "    }\n",
              "\n",
              "    .dataframe tbody tr th {\n",
              "        vertical-align: top;\n",
              "    }\n",
              "\n",
              "    .dataframe thead th {\n",
              "        text-align: right;\n",
              "    }\n",
              "</style>\n",
              "<table border=\"1\" class=\"dataframe\">\n",
              "  <thead>\n",
              "    <tr style=\"text-align: right;\">\n",
              "      <th></th>\n",
              "      <th>time</th>\n",
              "      <th>subtitle</th>\n",
              "    </tr>\n",
              "  </thead>\n",
              "  <tbody>\n",
              "    <tr>\n",
              "      <th>0</th>\n",
              "      <td>00:10:03.0000</td>\n",
              "      <td>15:00:03.828</td>\n",
              "    </tr>\n",
              "    <tr>\n",
              "      <th>1</th>\n",
              "      <td>00:10:05.0430</td>\n",
              "      <td>15:00:05.871</td>\n",
              "    </tr>\n",
              "    <tr>\n",
              "      <th>2</th>\n",
              "      <td>00:10:06.4240</td>\n",
              "      <td>15:00:07.252</td>\n",
              "    </tr>\n",
              "    <tr>\n",
              "      <th>3</th>\n",
              "      <td>00:10:07.2960</td>\n",
              "      <td>15:00:08.124</td>\n",
              "    </tr>\n",
              "    <tr>\n",
              "      <th>4</th>\n",
              "      <td>00:10:12.2440</td>\n",
              "      <td>15:00:13.072</td>\n",
              "    </tr>\n",
              "  </tbody>\n",
              "</table>\n",
              "</div>"
            ],
            "text/plain": [
              "            time      subtitle\n",
              "0  00:10:03.0000  15:00:03.828\n",
              "1  00:10:05.0430  15:00:05.871\n",
              "2  00:10:06.4240  15:00:07.252\n",
              "3  00:10:07.2960  15:00:08.124\n",
              "4  00:10:12.2440  15:00:13.072"
            ]
          },
          "metadata": {
            "tags": []
          },
          "execution_count": 247
        }
      ]
    },
    {
      "metadata": {
        "id": "jKBi-JjEaPgy",
        "colab_type": "text"
      },
      "cell_type": "markdown",
      "source": [
        "# 중간저장 \n",
        "### 인덱스를 reset 해주고 저장하자"
      ]
    },
    {
      "metadata": {
        "id": "9cjeQORaY0I4",
        "colab_type": "code",
        "colab": {
          "base_uri": "https://localhost:8080/",
          "height": 123
        },
        "outputId": "55d0e36b-fda5-4bef-e19c-6f5a42ad1527"
      },
      "cell_type": "code",
      "source": [
        "data.reset_index(drop=True, inplace=True)\n",
        "print(data.head())"
      ],
      "execution_count": 248,
      "outputs": [
        {
          "output_type": "stream",
          "text": [
            "            time      subtitle\n",
            "0  00:10:03.0000  15:00:03.828\n",
            "1  00:10:05.0430  15:00:05.871\n",
            "2  00:10:06.4240  15:00:07.252\n",
            "3  00:10:07.2960  15:00:08.124\n",
            "4  00:10:12.2440  15:00:13.072\n"
          ],
          "name": "stdout"
        }
      ]
    },
    {
      "metadata": {
        "id": "vTvKNsMfTznf",
        "colab_type": "code",
        "colab": {}
      },
      "cell_type": "code",
      "source": [
        "data.to_csv('lane2_1.csv', header=None)"
      ],
      "execution_count": 0,
      "outputs": []
    },
    {
      "metadata": {
        "id": "UWt1CuKVacWs",
        "colab_type": "text"
      },
      "cell_type": "markdown",
      "source": [
        "# srt 자막을 만들어보자"
      ]
    },
    {
      "metadata": {
        "id": "d1Jh46mveU9C",
        "colab_type": "text"
      },
      "cell_type": "markdown",
      "source": [
        "### 자막이 다음 자막이 시작되기 전까지 보여지도록 하자\n",
        "- 따라서 한 자막의 종료 시간은 다음 자막의 시작시간과 일치한다\n"
      ]
    },
    {
      "metadata": {
        "id": "cp3sp2I5ehXA",
        "colab_type": "code",
        "colab": {
          "base_uri": "https://localhost:8080/",
          "height": 52
        },
        "outputId": "5c3a3190-5783-497d-f6a6-5a89198423b9"
      },
      "cell_type": "code",
      "source": [
        "data_endtime = data.iloc[1:]\n",
        "\n",
        "# 당연히 data2 의 길이가 하나 짧다\n",
        "print(len(data))\n",
        "print(len(data_endtime))"
      ],
      "execution_count": 250,
      "outputs": [
        {
          "output_type": "stream",
          "text": [
            "497\n",
            "496\n"
          ],
          "name": "stdout"
        }
      ]
    },
    {
      "metadata": {
        "id": "Sv7-wqDvfU3B",
        "colab_type": "code",
        "colab": {
          "base_uri": "https://localhost:8080/",
          "height": 215
        },
        "outputId": "3ee69153-1e10-4f47-8e6c-b377960010fc"
      },
      "cell_type": "code",
      "source": [
        "# 맨 data_endtime 종료시간을 추가해주자\n",
        "data_endtime = data_endtime.append(data_endtime.iloc[-1:].copy())\n",
        "temp = data_endtime.iloc[-1].time\n",
        "temp = temp[:7] + \"5\" + temp[8:]\n",
        "data_endtime.iloc[-1].time = temp\n",
        "print(len(data_endtime))\n",
        "data_endtime.tail()"
      ],
      "execution_count": 251,
      "outputs": [
        {
          "output_type": "stream",
          "text": [
            "497\n"
          ],
          "name": "stdout"
        },
        {
          "output_type": "execute_result",
          "data": {
            "text/html": [
              "<div>\n",
              "<style scoped>\n",
              "    .dataframe tbody tr th:only-of-type {\n",
              "        vertical-align: middle;\n",
              "    }\n",
              "\n",
              "    .dataframe tbody tr th {\n",
              "        vertical-align: top;\n",
              "    }\n",
              "\n",
              "    .dataframe thead th {\n",
              "        text-align: right;\n",
              "    }\n",
              "</style>\n",
              "<table border=\"1\" class=\"dataframe\">\n",
              "  <thead>\n",
              "    <tr style=\"text-align: right;\">\n",
              "      <th></th>\n",
              "      <th>time</th>\n",
              "      <th>subtitle</th>\n",
              "    </tr>\n",
              "  </thead>\n",
              "  <tbody>\n",
              "    <tr>\n",
              "      <th>493</th>\n",
              "      <td>00:31:24.8890</td>\n",
              "      <td>15:21:25.717</td>\n",
              "    </tr>\n",
              "    <tr>\n",
              "      <th>494</th>\n",
              "      <td>00:31:26.3010</td>\n",
              "      <td>15:21:27.129</td>\n",
              "    </tr>\n",
              "    <tr>\n",
              "      <th>495</th>\n",
              "      <td>00:31:28.9050</td>\n",
              "      <td>15:21:29.733</td>\n",
              "    </tr>\n",
              "    <tr>\n",
              "      <th>496</th>\n",
              "      <td>00:31:32.1000</td>\n",
              "      <td>15:21:32.928</td>\n",
              "    </tr>\n",
              "    <tr>\n",
              "      <th>496</th>\n",
              "      <td>00:31:35.1000</td>\n",
              "      <td>15:21:32.928</td>\n",
              "    </tr>\n",
              "  </tbody>\n",
              "</table>\n",
              "</div>"
            ],
            "text/plain": [
              "              time      subtitle\n",
              "493  00:31:24.8890  15:21:25.717\n",
              "494  00:31:26.3010  15:21:27.129\n",
              "495  00:31:28.9050  15:21:29.733\n",
              "496  00:31:32.1000  15:21:32.928\n",
              "496  00:31:35.1000  15:21:32.928"
            ]
          },
          "metadata": {
            "tags": []
          },
          "execution_count": 251
        }
      ]
    },
    {
      "metadata": {
        "id": "Ox5a34VtRaEY",
        "colab_type": "code",
        "colab": {
          "base_uri": "https://localhost:8080/",
          "height": 215
        },
        "outputId": "4d2d681e-3979-4e08-e1da-168150393a05"
      },
      "cell_type": "code",
      "source": [
        "# index 재정렬\n",
        "data_endtime.reset_index(drop=True, inplace=True)\n",
        "print(len(data_endtime))\n",
        "data_endtime.tail()"
      ],
      "execution_count": 252,
      "outputs": [
        {
          "output_type": "stream",
          "text": [
            "497\n"
          ],
          "name": "stdout"
        },
        {
          "output_type": "execute_result",
          "data": {
            "text/html": [
              "<div>\n",
              "<style scoped>\n",
              "    .dataframe tbody tr th:only-of-type {\n",
              "        vertical-align: middle;\n",
              "    }\n",
              "\n",
              "    .dataframe tbody tr th {\n",
              "        vertical-align: top;\n",
              "    }\n",
              "\n",
              "    .dataframe thead th {\n",
              "        text-align: right;\n",
              "    }\n",
              "</style>\n",
              "<table border=\"1\" class=\"dataframe\">\n",
              "  <thead>\n",
              "    <tr style=\"text-align: right;\">\n",
              "      <th></th>\n",
              "      <th>time</th>\n",
              "      <th>subtitle</th>\n",
              "    </tr>\n",
              "  </thead>\n",
              "  <tbody>\n",
              "    <tr>\n",
              "      <th>492</th>\n",
              "      <td>00:31:24.8890</td>\n",
              "      <td>15:21:25.717</td>\n",
              "    </tr>\n",
              "    <tr>\n",
              "      <th>493</th>\n",
              "      <td>00:31:26.3010</td>\n",
              "      <td>15:21:27.129</td>\n",
              "    </tr>\n",
              "    <tr>\n",
              "      <th>494</th>\n",
              "      <td>00:31:28.9050</td>\n",
              "      <td>15:21:29.733</td>\n",
              "    </tr>\n",
              "    <tr>\n",
              "      <th>495</th>\n",
              "      <td>00:31:32.1000</td>\n",
              "      <td>15:21:32.928</td>\n",
              "    </tr>\n",
              "    <tr>\n",
              "      <th>496</th>\n",
              "      <td>00:31:35.1000</td>\n",
              "      <td>15:21:32.928</td>\n",
              "    </tr>\n",
              "  </tbody>\n",
              "</table>\n",
              "</div>"
            ],
            "text/plain": [
              "              time      subtitle\n",
              "492  00:31:24.8890  15:21:25.717\n",
              "493  00:31:26.3010  15:21:27.129\n",
              "494  00:31:28.9050  15:21:29.733\n",
              "495  00:31:32.1000  15:21:32.928\n",
              "496  00:31:35.1000  15:21:32.928"
            ]
          },
          "metadata": {
            "tags": []
          },
          "execution_count": 252
        }
      ]
    },
    {
      "metadata": {
        "id": "aBwXLTV5bmpI",
        "colab_type": "text"
      },
      "cell_type": "markdown",
      "source": [
        "### srt 자막 형식은 인터넷 검색을 참고할 것"
      ]
    },
    {
      "metadata": {
        "id": "ijJwYJgrhIFC",
        "colab_type": "text"
      },
      "cell_type": "markdown",
      "source": [
        "### 일단은 자막이 재생될 시간정보를 생성하자"
      ]
    },
    {
      "metadata": {
        "id": "9E8r4v_6cbph",
        "colab_type": "code",
        "colab": {
          "base_uri": "https://localhost:8080/",
          "height": 141
        },
        "outputId": "b10f2ac7-0370-42ca-f5b7-8046add48b79"
      },
      "cell_type": "code",
      "source": [
        "# make start string\n",
        "data.time = data.time.astype('str')\n",
        "data_endtime.time = data_endtime.time.astype('str')\n",
        "\n",
        "data.time = data.time.str.replace('.', ',')\n",
        "data_endtime.time = data_endtime.time.str.replace('.', ',')\n",
        "\n",
        "data['time'] = data.time \\\n",
        "            + \" --> \" \\\n",
        "            + data_endtime.time\n",
        "\n",
        "data.head()\n"
      ],
      "execution_count": 253,
      "outputs": [
        {
          "output_type": "stream",
          "text": [
            "00:10:03,0000 --> 00:10:05,0430\n",
            "                              time      subtitle\n",
            "0  00:10:03,0000 --> 00:10:05,0430  15:00:03.828\n",
            "1  00:10:05,0430 --> 00:10:06,4240  15:00:05.871\n",
            "2  00:10:06,4240 --> 00:10:07,2960  15:00:07.252\n",
            "3  00:10:07,2960 --> 00:10:12,2440  15:00:08.124\n",
            "4  00:10:12,2440 --> 00:10:13,5650  15:00:13.072\n"
          ],
          "name": "stdout"
        }
      ]
    },
    {
      "metadata": {
        "id": "5BFu-DqPgmzZ",
        "colab_type": "text"
      },
      "cell_type": "markdown",
      "source": [
        "### 그리고 실제로 보여질 자막시간 정보\n",
        "  - 일단은 차량 대수가 1, 2, 3 증가하게 하고\n",
        "  - 그 뒤로 차량 인식 시간을 넣어주자 "
      ]
    },
    {
      "metadata": {
        "id": "Q1R9kSrAlELL",
        "colab_type": "code",
        "colab": {
          "base_uri": "https://localhost:8080/",
          "height": 197
        },
        "outputId": "5d895e92-69b5-45ed-d378-6851a29f0696"
      },
      "cell_type": "code",
      "source": [
        "data[\"car_num\"] = data.index.astype(int) + 1\n",
        "data.subtitle = \"car count: \" + data.car_num.astype('str') + \" - \" + data.subtitle.astype('str')\n",
        "data.head()"
      ],
      "execution_count": 254,
      "outputs": [
        {
          "output_type": "execute_result",
          "data": {
            "text/html": [
              "<div>\n",
              "<style scoped>\n",
              "    .dataframe tbody tr th:only-of-type {\n",
              "        vertical-align: middle;\n",
              "    }\n",
              "\n",
              "    .dataframe tbody tr th {\n",
              "        vertical-align: top;\n",
              "    }\n",
              "\n",
              "    .dataframe thead th {\n",
              "        text-align: right;\n",
              "    }\n",
              "</style>\n",
              "<table border=\"1\" class=\"dataframe\">\n",
              "  <thead>\n",
              "    <tr style=\"text-align: right;\">\n",
              "      <th></th>\n",
              "      <th>time</th>\n",
              "      <th>subtitle</th>\n",
              "      <th>car_num</th>\n",
              "    </tr>\n",
              "  </thead>\n",
              "  <tbody>\n",
              "    <tr>\n",
              "      <th>0</th>\n",
              "      <td>00:10:03,0000 --&gt; 00:10:05,0430</td>\n",
              "      <td>car count: 1 - 15:00:03.828</td>\n",
              "      <td>1</td>\n",
              "    </tr>\n",
              "    <tr>\n",
              "      <th>1</th>\n",
              "      <td>00:10:05,0430 --&gt; 00:10:06,4240</td>\n",
              "      <td>car count: 2 - 15:00:05.871</td>\n",
              "      <td>2</td>\n",
              "    </tr>\n",
              "    <tr>\n",
              "      <th>2</th>\n",
              "      <td>00:10:06,4240 --&gt; 00:10:07,2960</td>\n",
              "      <td>car count: 3 - 15:00:07.252</td>\n",
              "      <td>3</td>\n",
              "    </tr>\n",
              "    <tr>\n",
              "      <th>3</th>\n",
              "      <td>00:10:07,2960 --&gt; 00:10:12,2440</td>\n",
              "      <td>car count: 4 - 15:00:08.124</td>\n",
              "      <td>4</td>\n",
              "    </tr>\n",
              "    <tr>\n",
              "      <th>4</th>\n",
              "      <td>00:10:12,2440 --&gt; 00:10:13,5650</td>\n",
              "      <td>car count: 5 - 15:00:13.072</td>\n",
              "      <td>5</td>\n",
              "    </tr>\n",
              "  </tbody>\n",
              "</table>\n",
              "</div>"
            ],
            "text/plain": [
              "                              time                     subtitle  car_num\n",
              "0  00:10:03,0000 --> 00:10:05,0430  car count: 1 - 15:00:03.828        1\n",
              "1  00:10:05,0430 --> 00:10:06,4240  car count: 2 - 15:00:05.871        2\n",
              "2  00:10:06,4240 --> 00:10:07,2960  car count: 3 - 15:00:07.252        3\n",
              "3  00:10:07,2960 --> 00:10:12,2440  car count: 4 - 15:00:08.124        4\n",
              "4  00:10:12,2440 --> 00:10:13,5650  car count: 5 - 15:00:13.072        5"
            ]
          },
          "metadata": {
            "tags": []
          },
          "execution_count": 254
        }
      ]
    },
    {
      "metadata": {
        "id": "sOhY9obqlmPz",
        "colab_type": "code",
        "colab": {
          "base_uri": "https://localhost:8080/",
          "height": 197
        },
        "outputId": "595d02c3-883b-4d38-ffeb-74846d685aa4"
      },
      "cell_type": "code",
      "source": [
        "srt_data = data[['car_num', 'time', 'subtitle']].copy()\n",
        "srt_data.car_num = srt_data.car_num.astype('str')\n",
        "srt_data.time = srt_data.time.astype('str')\n",
        "srt_data.subtitle = srt_data.subtitle.astype('str')\n",
        "\n",
        "srt_data[\"srt\"] = srt_data.car_num.str[:] + \"\\n\" \\\n",
        "                  + srt_data.time.str[:] + \"\\n\" \\\n",
        "                  + srt_data.subtitle.str[:] + \"\\n\\n\"\n",
        "srt_data.head()"
      ],
      "execution_count": 255,
      "outputs": [
        {
          "output_type": "execute_result",
          "data": {
            "text/html": [
              "<div>\n",
              "<style scoped>\n",
              "    .dataframe tbody tr th:only-of-type {\n",
              "        vertical-align: middle;\n",
              "    }\n",
              "\n",
              "    .dataframe tbody tr th {\n",
              "        vertical-align: top;\n",
              "    }\n",
              "\n",
              "    .dataframe thead th {\n",
              "        text-align: right;\n",
              "    }\n",
              "</style>\n",
              "<table border=\"1\" class=\"dataframe\">\n",
              "  <thead>\n",
              "    <tr style=\"text-align: right;\">\n",
              "      <th></th>\n",
              "      <th>car_num</th>\n",
              "      <th>time</th>\n",
              "      <th>subtitle</th>\n",
              "      <th>srt</th>\n",
              "    </tr>\n",
              "  </thead>\n",
              "  <tbody>\n",
              "    <tr>\n",
              "      <th>0</th>\n",
              "      <td>1</td>\n",
              "      <td>00:10:03,0000 --&gt; 00:10:05,0430</td>\n",
              "      <td>car count: 1 - 15:00:03.828</td>\n",
              "      <td>1\\n00:10:03,0000 --&gt; 00:10:05,0430\\ncar count:...</td>\n",
              "    </tr>\n",
              "    <tr>\n",
              "      <th>1</th>\n",
              "      <td>2</td>\n",
              "      <td>00:10:05,0430 --&gt; 00:10:06,4240</td>\n",
              "      <td>car count: 2 - 15:00:05.871</td>\n",
              "      <td>2\\n00:10:05,0430 --&gt; 00:10:06,4240\\ncar count:...</td>\n",
              "    </tr>\n",
              "    <tr>\n",
              "      <th>2</th>\n",
              "      <td>3</td>\n",
              "      <td>00:10:06,4240 --&gt; 00:10:07,2960</td>\n",
              "      <td>car count: 3 - 15:00:07.252</td>\n",
              "      <td>3\\n00:10:06,4240 --&gt; 00:10:07,2960\\ncar count:...</td>\n",
              "    </tr>\n",
              "    <tr>\n",
              "      <th>3</th>\n",
              "      <td>4</td>\n",
              "      <td>00:10:07,2960 --&gt; 00:10:12,2440</td>\n",
              "      <td>car count: 4 - 15:00:08.124</td>\n",
              "      <td>4\\n00:10:07,2960 --&gt; 00:10:12,2440\\ncar count:...</td>\n",
              "    </tr>\n",
              "    <tr>\n",
              "      <th>4</th>\n",
              "      <td>5</td>\n",
              "      <td>00:10:12,2440 --&gt; 00:10:13,5650</td>\n",
              "      <td>car count: 5 - 15:00:13.072</td>\n",
              "      <td>5\\n00:10:12,2440 --&gt; 00:10:13,5650\\ncar count:...</td>\n",
              "    </tr>\n",
              "  </tbody>\n",
              "</table>\n",
              "</div>"
            ],
            "text/plain": [
              "  car_num                             time                     subtitle  \\\n",
              "0       1  00:10:03,0000 --> 00:10:05,0430  car count: 1 - 15:00:03.828   \n",
              "1       2  00:10:05,0430 --> 00:10:06,4240  car count: 2 - 15:00:05.871   \n",
              "2       3  00:10:06,4240 --> 00:10:07,2960  car count: 3 - 15:00:07.252   \n",
              "3       4  00:10:07,2960 --> 00:10:12,2440  car count: 4 - 15:00:08.124   \n",
              "4       5  00:10:12,2440 --> 00:10:13,5650  car count: 5 - 15:00:13.072   \n",
              "\n",
              "                                                 srt  \n",
              "0  1\\n00:10:03,0000 --> 00:10:05,0430\\ncar count:...  \n",
              "1  2\\n00:10:05,0430 --> 00:10:06,4240\\ncar count:...  \n",
              "2  3\\n00:10:06,4240 --> 00:10:07,2960\\ncar count:...  \n",
              "3  4\\n00:10:07,2960 --> 00:10:12,2440\\ncar count:...  \n",
              "4  5\\n00:10:12,2440 --> 00:10:13,5650\\ncar count:...  "
            ]
          },
          "metadata": {
            "tags": []
          },
          "execution_count": 255
        }
      ]
    },
    {
      "metadata": {
        "id": "-wYeXhqAnfIM",
        "colab_type": "code",
        "colab": {
          "base_uri": "https://localhost:8080/",
          "height": 123
        },
        "outputId": "da03a13e-cf18-480a-83c0-3f63dd97ce26"
      },
      "cell_type": "code",
      "source": [
        "srt_data = srt_data.srt\n",
        "srt_data.head()"
      ],
      "execution_count": 256,
      "outputs": [
        {
          "output_type": "execute_result",
          "data": {
            "text/plain": [
              "0    1\\n00:10:03,0000 --> 00:10:05,0430\\ncar count:...\n",
              "1    2\\n00:10:05,0430 --> 00:10:06,4240\\ncar count:...\n",
              "2    3\\n00:10:06,4240 --> 00:10:07,2960\\ncar count:...\n",
              "3    4\\n00:10:07,2960 --> 00:10:12,2440\\ncar count:...\n",
              "4    5\\n00:10:12,2440 --> 00:10:13,5650\\ncar count:...\n",
              "Name: srt, dtype: object"
            ]
          },
          "metadata": {
            "tags": []
          },
          "execution_count": 256
        }
      ]
    },
    {
      "metadata": {
        "id": "ubclfeb7oysF",
        "colab_type": "text"
      },
      "cell_type": "markdown",
      "source": [
        "# 마지막으로 저장하자"
      ]
    },
    {
      "metadata": {
        "id": "vvlmMey9prlN",
        "colab_type": "code",
        "colab": {
          "base_uri": "https://localhost:8080/",
          "height": 34
        },
        "outputId": "ee6dec61-044a-4056-a1e0-a3ac61ec97bf"
      },
      "cell_type": "code",
      "source": [
        "\n",
        "file_name = \"데이터비교v3_2차로_vdu.srt\"\n",
        "srt_data.to_csv(file_name, header=None, mode='w', index=False)\n",
        "print(len(srt_data))"
      ],
      "execution_count": 257,
      "outputs": [
        {
          "output_type": "stream",
          "text": [
            "497\n"
          ],
          "name": "stdout"
        }
      ]
    },
    {
      "metadata": {
        "id": "RRxoqbvWpuf9",
        "colab_type": "code",
        "colab": {
          "base_uri": "https://localhost:8080/",
          "height": 194
        },
        "outputId": "1aab1554-a39d-4b9c-d272-38fc820b5617"
      },
      "cell_type": "code",
      "source": [
        "!head 데이터비교v3_2차로_vdu.srt"
      ],
      "execution_count": 258,
      "outputs": [
        {
          "output_type": "stream",
          "text": [
            "\"1\r\n",
            "00:10:03,0000 --> 00:10:05,0430\r\n",
            "car count: 1 - 15:00:03.828\r\n",
            "\r\n",
            "\"\r\n",
            "\"2\r\n",
            "00:10:05,0430 --> 00:10:06,4240\r\n",
            "car count: 2 - 15:00:05.871\r\n",
            "\r\n",
            "\"\r\n"
          ],
          "name": "stdout"
        }
      ]
    },
    {
      "metadata": {
        "id": "xF92DbBAp3Vc",
        "colab_type": "text"
      },
      "cell_type": "markdown",
      "source": [
        "# 쌍따옴표 제거만 하면 끝\n",
        "\n",
        "###아쉽게도 이유는 모르겠지만. 쌍따옴표들이 생겨있다. "
      ]
    },
    {
      "metadata": {
        "id": "19sdy1IIqCmO",
        "colab_type": "code",
        "colab": {}
      },
      "cell_type": "code",
      "source": [
        "# Read in the file\n",
        "with open(file_name, 'r') as file :\n",
        "  filedata = file.read()\n",
        "\n",
        "# Replace the target string\n",
        "filedata = filedata.replace('\"', '')\n",
        "\n",
        "# Write the file out again\n",
        "with open(file_name, 'w') as file:\n",
        "  file.write(filedata)"
      ],
      "execution_count": 0,
      "outputs": []
    },
    {
      "metadata": {
        "id": "U9_-0ddEqJr5",
        "colab_type": "code",
        "colab": {
          "base_uri": "https://localhost:8080/",
          "height": 194
        },
        "outputId": "5f23262d-bca1-40b8-fb69-1db22187a0f2"
      },
      "cell_type": "code",
      "source": [
        "!head 데이터비교v3_2차로_vdu.srt"
      ],
      "execution_count": 260,
      "outputs": [
        {
          "output_type": "stream",
          "text": [
            "1\r\n",
            "00:10:03,0000 --> 00:10:05,0430\r\n",
            "car count: 1 - 15:00:03.828\r\n",
            "\r\n",
            "\r\n",
            "2\r\n",
            "00:10:05,0430 --> 00:10:06,4240\r\n",
            "car count: 2 - 15:00:05.871\r\n",
            "\r\n",
            "\r\n"
          ],
          "name": "stdout"
        }
      ]
    },
    {
      "metadata": {
        "id": "y6Snoa5Mqg43",
        "colab_type": "text"
      },
      "cell_type": "markdown",
      "source": [
        "# 마지막으로 파일 다운로드 하기 "
      ]
    },
    {
      "metadata": {
        "id": "rqK88dOHqcgq",
        "colab_type": "code",
        "colab": {}
      },
      "cell_type": "code",
      "source": [
        "files.download('데이터비교v3_2차로_vdu.srt') "
      ],
      "execution_count": 0,
      "outputs": []
    },
    {
      "metadata": {
        "id": "QgH05YYVqL71",
        "colab_type": "code",
        "colab": {}
      },
      "cell_type": "code",
      "source": [
        ""
      ],
      "execution_count": 0,
      "outputs": []
    }
  ]
}