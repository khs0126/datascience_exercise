{
  "nbformat": 4,
  "nbformat_minor": 0,
  "metadata": {
    "colab": {
      "name": "lane2-Copy1.ipynb",
      "version": "0.3.2",
      "provenance": []
    },
    "kernelspec": {
      "display_name": "Python 3",
      "language": "python",
      "name": "python3"
    }
  },
  "cells": [
    {
      "cell_type": "markdown",
      "metadata": {
        "id": "view-in-github",
        "colab_type": "text"
      },
      "source": [
        "[View in Colaboratory](https://colab.research.google.com/github/nicewook/datascience_exercise/blob/master/lane2_Copy1.ipynb)"
      ]
    },
    {
      "metadata": {
        "id": "QDrLvTJkXlQe",
        "colab_type": "text"
      },
      "cell_type": "markdown",
      "source": [
        "# Lane 2 분석\n",
        "## 통계 시작 : 15:00:04 (검정색 말리부 1872) / (CCTV 10:03초 부근)\n",
        "- 앞 차량 : 검정 소나타\n",
        "- 뒤 차량 : 검정 SUV\n",
        "## 통계 종료 : 15:21:34 (흰색 투싼 4052) / (CCTV 31:32초 부근)\n",
        "- 앞 차량 : 파란색 1톤 포터 (다수의 박스가 화물칸에 있음)\n",
        "- 뒤 차량 : 흰색 K5\n"
      ]
    },
    {
      "metadata": {
        "id": "apwprDtbXlQf",
        "colab_type": "code",
        "colab": {}
      },
      "cell_type": "code",
      "source": [
        "import pandas as pd"
      ],
      "execution_count": 0,
      "outputs": []
    },
    {
      "metadata": {
        "id": "oEexe04CXlQj",
        "colab_type": "text"
      },
      "cell_type": "markdown",
      "source": [
        "# 데이터 읽어오기\n",
        "## read_csv \n",
        "- 경로 및 파일명에 한글이 있으면 오류가 난다. engine='python' 옵션을 주면 된다\n",
        "- csv 파일에 header 가 없으면 header=None\n",
        "\n",
        "## column rename\n",
        "- 방법은 아래 코드 참고"
      ]
    },
    {
      "metadata": {
        "id": "ukhy5thUXlQj",
        "colab_type": "code",
        "colab": {},
        "outputId": "99009dd2-9cf7-4851-9ea6-25936380be8e"
      },
      "cell_type": "code",
      "source": [
        "data = pd.read_csv('TriggerLog_1398_2차로/lane2.csv', header=None, engine='python')\n",
        "data.columns = [\"logData\"]\n",
        "data.head()"
      ],
      "execution_count": 0,
      "outputs": [
        {
          "output_type": "execute_result",
          "data": {
            "text/html": [
              "<div>\n",
              "<style scoped>\n",
              "    .dataframe tbody tr th:only-of-type {\n",
              "        vertical-align: middle;\n",
              "    }\n",
              "\n",
              "    .dataframe tbody tr th {\n",
              "        vertical-align: top;\n",
              "    }\n",
              "\n",
              "    .dataframe thead th {\n",
              "        text-align: right;\n",
              "    }\n",
              "</style>\n",
              "<table border=\"1\" class=\"dataframe\">\n",
              "  <thead>\n",
              "    <tr style=\"text-align: right;\">\n",
              "      <th></th>\n",
              "      <th>logData</th>\n",
              "    </tr>\n",
              "  </thead>\n",
              "  <tbody>\n",
              "    <tr>\n",
              "      <th>0</th>\n",
              "      <td>02000036E920180523145001439010200</td>\n",
              "    </tr>\n",
              "    <tr>\n",
              "      <th>1</th>\n",
              "      <td>02000036E920180523145001625020200</td>\n",
              "    </tr>\n",
              "    <tr>\n",
              "      <th>2</th>\n",
              "      <td>02000036EA20180523145006841010200</td>\n",
              "    </tr>\n",
              "    <tr>\n",
              "      <th>3</th>\n",
              "      <td>02000036EA20180523145007058020200</td>\n",
              "    </tr>\n",
              "    <tr>\n",
              "      <th>4</th>\n",
              "      <td>02000036EB20180523145008368010200</td>\n",
              "    </tr>\n",
              "  </tbody>\n",
              "</table>\n",
              "</div>"
            ],
            "text/plain": [
              "                             logData\n",
              "0  02000036E920180523145001439010200\n",
              "1  02000036E920180523145001625020200\n",
              "2  02000036EA20180523145006841010200\n",
              "3  02000036EA20180523145007058020200\n",
              "4  02000036EB20180523145008368010200"
            ]
          },
          "metadata": {
            "tags": []
          },
          "execution_count": 398
        }
      ]
    },
    {
      "metadata": {
        "id": "u3YBXQJ3XlQp",
        "colab_type": "text"
      },
      "cell_type": "markdown",
      "source": [
        "## log정보에 millisecond 가 2자리여야 하는데 3자리로 잘못되어 있었음. \n",
        "- 그래서 수정함"
      ]
    },
    {
      "metadata": {
        "id": "2uUrJk_WXlQp",
        "colab_type": "code",
        "colab": {},
        "outputId": "fa5245d7-4602-47d8-d106-305423b6ec15"
      },
      "cell_type": "code",
      "source": [
        "print(data.dtypes)\n",
        "print(len(data['logData'][0]))"
      ],
      "execution_count": 0,
      "outputs": [
        {
          "output_type": "stream",
          "text": [
            "logData    object\n",
            "dtype: object\n",
            "33\n"
          ],
          "name": "stdout"
        }
      ]
    },
    {
      "metadata": {
        "id": "j_e7-SLiXlQt",
        "colab_type": "code",
        "colab": {},
        "outputId": "9c413545-92df-4875-d193-e6a711892c19"
      },
      "cell_type": "code",
      "source": [
        "data['logData']=data['logData'].str[:26] + data['logData'].str[27:]\n",
        "print(len(data['logData'][0]))\n",
        "data.head()"
      ],
      "execution_count": 0,
      "outputs": [
        {
          "output_type": "stream",
          "text": [
            "32\n"
          ],
          "name": "stdout"
        },
        {
          "output_type": "execute_result",
          "data": {
            "text/html": [
              "<div>\n",
              "<style scoped>\n",
              "    .dataframe tbody tr th:only-of-type {\n",
              "        vertical-align: middle;\n",
              "    }\n",
              "\n",
              "    .dataframe tbody tr th {\n",
              "        vertical-align: top;\n",
              "    }\n",
              "\n",
              "    .dataframe thead th {\n",
              "        text-align: right;\n",
              "    }\n",
              "</style>\n",
              "<table border=\"1\" class=\"dataframe\">\n",
              "  <thead>\n",
              "    <tr style=\"text-align: right;\">\n",
              "      <th></th>\n",
              "      <th>logData</th>\n",
              "    </tr>\n",
              "  </thead>\n",
              "  <tbody>\n",
              "    <tr>\n",
              "      <th>0</th>\n",
              "      <td>02000036E92018052314500143010200</td>\n",
              "    </tr>\n",
              "    <tr>\n",
              "      <th>1</th>\n",
              "      <td>02000036E92018052314500162020200</td>\n",
              "    </tr>\n",
              "    <tr>\n",
              "      <th>2</th>\n",
              "      <td>02000036EA2018052314500684010200</td>\n",
              "    </tr>\n",
              "    <tr>\n",
              "      <th>3</th>\n",
              "      <td>02000036EA2018052314500705020200</td>\n",
              "    </tr>\n",
              "    <tr>\n",
              "      <th>4</th>\n",
              "      <td>02000036EB2018052314500836010200</td>\n",
              "    </tr>\n",
              "  </tbody>\n",
              "</table>\n",
              "</div>"
            ],
            "text/plain": [
              "                            logData\n",
              "0  02000036E92018052314500143010200\n",
              "1  02000036E92018052314500162020200\n",
              "2  02000036EA2018052314500684010200\n",
              "3  02000036EA2018052314500705020200\n",
              "4  02000036EB2018052314500836010200"
            ]
          },
          "metadata": {
            "tags": []
          },
          "execution_count": 400
        }
      ]
    },
    {
      "metadata": {
        "id": "EQN0gjZBXlQx",
        "colab_type": "text"
      },
      "cell_type": "markdown",
      "source": [
        "## Time, inOut 정보를 별도 column 으로 만듦\n",
        "- 분, 초, 밀리초 부분 여섯자리만 가져와서 숫자로 바꿔줌\n",
        "- inOut 정보 01:in, 02:out"
      ]
    },
    {
      "metadata": {
        "id": "5bOoTj3LXlQy",
        "colab_type": "code",
        "colab": {},
        "outputId": "78e3c125-7bd7-4c2b-daa2-29b4f65d374f"
      },
      "cell_type": "code",
      "source": [
        "data[\"dateTime\"] = data['logData'].str[20:26]\n",
        "data[\"inOut\"] = data['logData'].str[26:28]\n",
        "data.head()"
      ],
      "execution_count": 0,
      "outputs": [
        {
          "output_type": "execute_result",
          "data": {
            "text/html": [
              "<div>\n",
              "<style scoped>\n",
              "    .dataframe tbody tr th:only-of-type {\n",
              "        vertical-align: middle;\n",
              "    }\n",
              "\n",
              "    .dataframe tbody tr th {\n",
              "        vertical-align: top;\n",
              "    }\n",
              "\n",
              "    .dataframe thead th {\n",
              "        text-align: right;\n",
              "    }\n",
              "</style>\n",
              "<table border=\"1\" class=\"dataframe\">\n",
              "  <thead>\n",
              "    <tr style=\"text-align: right;\">\n",
              "      <th></th>\n",
              "      <th>logData</th>\n",
              "      <th>dateTime</th>\n",
              "      <th>inOut</th>\n",
              "    </tr>\n",
              "  </thead>\n",
              "  <tbody>\n",
              "    <tr>\n",
              "      <th>0</th>\n",
              "      <td>02000036E92018052314500143010200</td>\n",
              "      <td>500143</td>\n",
              "      <td>01</td>\n",
              "    </tr>\n",
              "    <tr>\n",
              "      <th>1</th>\n",
              "      <td>02000036E92018052314500162020200</td>\n",
              "      <td>500162</td>\n",
              "      <td>02</td>\n",
              "    </tr>\n",
              "    <tr>\n",
              "      <th>2</th>\n",
              "      <td>02000036EA2018052314500684010200</td>\n",
              "      <td>500684</td>\n",
              "      <td>01</td>\n",
              "    </tr>\n",
              "    <tr>\n",
              "      <th>3</th>\n",
              "      <td>02000036EA2018052314500705020200</td>\n",
              "      <td>500705</td>\n",
              "      <td>02</td>\n",
              "    </tr>\n",
              "    <tr>\n",
              "      <th>4</th>\n",
              "      <td>02000036EB2018052314500836010200</td>\n",
              "      <td>500836</td>\n",
              "      <td>01</td>\n",
              "    </tr>\n",
              "  </tbody>\n",
              "</table>\n",
              "</div>"
            ],
            "text/plain": [
              "                            logData dateTime inOut\n",
              "0  02000036E92018052314500143010200   500143    01\n",
              "1  02000036E92018052314500162020200   500162    02\n",
              "2  02000036EA2018052314500684010200   500684    01\n",
              "3  02000036EA2018052314500705020200   500705    02\n",
              "4  02000036EB2018052314500836010200   500836    01"
            ]
          },
          "metadata": {
            "tags": []
          },
          "execution_count": 401
        }
      ]
    },
    {
      "metadata": {
        "id": "b8ST-zvpXlQ0",
        "colab_type": "text"
      },
      "cell_type": "markdown",
      "source": [
        "## 맨 마지막 행에 값이 없으므로 삭제, dateTime object 를 int32로 변경\n",
        "- data가 한 줄 줄었다.\n",
        "- object 를 int32로 변경"
      ]
    },
    {
      "metadata": {
        "id": "e5AcvvPBXlQ1",
        "colab_type": "code",
        "colab": {},
        "outputId": "5095ec63-85e3-4ffb-cfac-5fb0f4c5553c"
      },
      "cell_type": "code",
      "source": [
        "print(len(data))\n",
        "data = data[data.dateTime!=''] \n",
        "print(len(data))\n",
        "data['dateTime']= data['dateTime'].astype('int32')\n"
      ],
      "execution_count": 0,
      "outputs": [
        {
          "output_type": "stream",
          "text": [
            "1749\n",
            "1748\n"
          ],
          "name": "stdout"
        }
      ]
    },
    {
      "metadata": {
        "id": "LcAZ20BNXlQ4",
        "colab_type": "text"
      },
      "cell_type": "markdown",
      "source": [
        "# 시작시간과 종료시간을 고려해서 불필요한 부분을 날려버림\n",
        "- 통계 시작 : 15:00:04 (검정색 말리부 1872) / (CCTV 10:03초 부근)\n",
        "- 통계 종료 : 15:21:34 (흰색 투싼 4052) / (CCTV 31:32초 부근)"
      ]
    },
    {
      "metadata": {
        "id": "aq0oXH5sXlQ5",
        "colab_type": "code",
        "colab": {},
        "outputId": "0baf62fb-1d74-4f19-e980-e6441b20ef40"
      },
      "cell_type": "code",
      "source": [
        "data= data[data.dateTime < 213500]\n",
        "print(len(data))\n",
        "data.head(10)"
      ],
      "execution_count": 0,
      "outputs": [
        {
          "output_type": "stream",
          "text": [
            "994\n"
          ],
          "name": "stdout"
        },
        {
          "output_type": "execute_result",
          "data": {
            "text/html": [
              "<div>\n",
              "<style scoped>\n",
              "    .dataframe tbody tr th:only-of-type {\n",
              "        vertical-align: middle;\n",
              "    }\n",
              "\n",
              "    .dataframe tbody tr th {\n",
              "        vertical-align: top;\n",
              "    }\n",
              "\n",
              "    .dataframe thead th {\n",
              "        text-align: right;\n",
              "    }\n",
              "</style>\n",
              "<table border=\"1\" class=\"dataframe\">\n",
              "  <thead>\n",
              "    <tr style=\"text-align: right;\">\n",
              "      <th></th>\n",
              "      <th>logData</th>\n",
              "      <th>dateTime</th>\n",
              "      <th>inOut</th>\n",
              "    </tr>\n",
              "  </thead>\n",
              "  <tbody>\n",
              "    <tr>\n",
              "      <th>404</th>\n",
              "      <td>02000037B32018052315000054010200</td>\n",
              "      <td>54</td>\n",
              "      <td>01</td>\n",
              "    </tr>\n",
              "    <tr>\n",
              "      <th>405</th>\n",
              "      <td>02000037B32018052315000075020200</td>\n",
              "      <td>75</td>\n",
              "      <td>02</td>\n",
              "    </tr>\n",
              "    <tr>\n",
              "      <th>406</th>\n",
              "      <td>02000037B42018052315000196010200</td>\n",
              "      <td>196</td>\n",
              "      <td>01</td>\n",
              "    </tr>\n",
              "    <tr>\n",
              "      <th>407</th>\n",
              "      <td>02000037B42018052315000218020200</td>\n",
              "      <td>218</td>\n",
              "      <td>02</td>\n",
              "    </tr>\n",
              "    <tr>\n",
              "      <th>408</th>\n",
              "      <td>02000037B52018052315000423010200</td>\n",
              "      <td>423</td>\n",
              "      <td>01</td>\n",
              "    </tr>\n",
              "    <tr>\n",
              "      <th>409</th>\n",
              "      <td>02000037B52018052315000441020200</td>\n",
              "      <td>441</td>\n",
              "      <td>02</td>\n",
              "    </tr>\n",
              "    <tr>\n",
              "      <th>410</th>\n",
              "      <td>02000037B62018052315000628010200</td>\n",
              "      <td>628</td>\n",
              "      <td>01</td>\n",
              "    </tr>\n",
              "    <tr>\n",
              "      <th>411</th>\n",
              "      <td>02000037B62018052315000643020200</td>\n",
              "      <td>643</td>\n",
              "      <td>02</td>\n",
              "    </tr>\n",
              "    <tr>\n",
              "      <th>412</th>\n",
              "      <td>02000037B72018052315000764010200</td>\n",
              "      <td>764</td>\n",
              "      <td>01</td>\n",
              "    </tr>\n",
              "    <tr>\n",
              "      <th>413</th>\n",
              "      <td>02000037B72018052315000783020200</td>\n",
              "      <td>783</td>\n",
              "      <td>02</td>\n",
              "    </tr>\n",
              "  </tbody>\n",
              "</table>\n",
              "</div>"
            ],
            "text/plain": [
              "                              logData  dateTime inOut\n",
              "404  02000037B32018052315000054010200        54    01\n",
              "405  02000037B32018052315000075020200        75    02\n",
              "406  02000037B42018052315000196010200       196    01\n",
              "407  02000037B42018052315000218020200       218    02\n",
              "408  02000037B52018052315000423010200       423    01\n",
              "409  02000037B52018052315000441020200       441    02\n",
              "410  02000037B62018052315000628010200       628    01\n",
              "411  02000037B62018052315000643020200       643    02\n",
              "412  02000037B72018052315000764010200       764    01\n",
              "413  02000037B72018052315000783020200       783    02"
            ]
          },
          "metadata": {
            "tags": []
          },
          "execution_count": 403
        }
      ]
    },
    {
      "metadata": {
        "id": "L5nXIW3cXlQ9",
        "colab_type": "text"
      },
      "cell_type": "markdown",
      "source": [
        "## 중간저장. lane2.csv -> lane2_1.csv"
      ]
    },
    {
      "metadata": {
        "id": "U5nvcef4XlQ-",
        "colab_type": "code",
        "colab": {}
      },
      "cell_type": "code",
      "source": [
        "data.to_csv('lane2_1.csv', header=None)"
      ],
      "execution_count": 0,
      "outputs": []
    },
    {
      "metadata": {
        "id": "3iijakbTXlRD",
        "colab_type": "text"
      },
      "cell_type": "markdown",
      "source": [
        "## 진입, 진출을 한 행으로 모아줌"
      ]
    },
    {
      "metadata": {
        "id": "uUq37ma6XlRE",
        "colab_type": "code",
        "colab": {},
        "outputId": "615479e9-c33a-440f-a30a-673479ef3cfa"
      },
      "cell_type": "code",
      "source": [
        "data.head()"
      ],
      "execution_count": 0,
      "outputs": [
        {
          "output_type": "execute_result",
          "data": {
            "text/html": [
              "<div>\n",
              "<style scoped>\n",
              "    .dataframe tbody tr th:only-of-type {\n",
              "        vertical-align: middle;\n",
              "    }\n",
              "\n",
              "    .dataframe tbody tr th {\n",
              "        vertical-align: top;\n",
              "    }\n",
              "\n",
              "    .dataframe thead th {\n",
              "        text-align: right;\n",
              "    }\n",
              "</style>\n",
              "<table border=\"1\" class=\"dataframe\">\n",
              "  <thead>\n",
              "    <tr style=\"text-align: right;\">\n",
              "      <th></th>\n",
              "      <th>logData</th>\n",
              "      <th>dateTime</th>\n",
              "      <th>inOut</th>\n",
              "    </tr>\n",
              "  </thead>\n",
              "  <tbody>\n",
              "    <tr>\n",
              "      <th>404</th>\n",
              "      <td>02000037B32018052315000054010200</td>\n",
              "      <td>54</td>\n",
              "      <td>01</td>\n",
              "    </tr>\n",
              "    <tr>\n",
              "      <th>405</th>\n",
              "      <td>02000037B32018052315000075020200</td>\n",
              "      <td>75</td>\n",
              "      <td>02</td>\n",
              "    </tr>\n",
              "    <tr>\n",
              "      <th>406</th>\n",
              "      <td>02000037B42018052315000196010200</td>\n",
              "      <td>196</td>\n",
              "      <td>01</td>\n",
              "    </tr>\n",
              "    <tr>\n",
              "      <th>407</th>\n",
              "      <td>02000037B42018052315000218020200</td>\n",
              "      <td>218</td>\n",
              "      <td>02</td>\n",
              "    </tr>\n",
              "    <tr>\n",
              "      <th>408</th>\n",
              "      <td>02000037B52018052315000423010200</td>\n",
              "      <td>423</td>\n",
              "      <td>01</td>\n",
              "    </tr>\n",
              "  </tbody>\n",
              "</table>\n",
              "</div>"
            ],
            "text/plain": [
              "                              logData  dateTime inOut\n",
              "404  02000037B32018052315000054010200        54    01\n",
              "405  02000037B32018052315000075020200        75    02\n",
              "406  02000037B42018052315000196010200       196    01\n",
              "407  02000037B42018052315000218020200       218    02\n",
              "408  02000037B52018052315000423010200       423    01"
            ]
          },
          "metadata": {
            "tags": []
          },
          "execution_count": 405
        }
      ]
    },
    {
      "metadata": {
        "id": "I5FYwHqUXlRH",
        "colab_type": "code",
        "colab": {},
        "outputId": "584a17ac-49bc-4118-decc-a9234e2451c3"
      },
      "cell_type": "code",
      "source": [
        "print(data.index)\n",
        "data.reset_index(drop=True, inplace=True)\n",
        "print(data.index)"
      ],
      "execution_count": 0,
      "outputs": [
        {
          "output_type": "stream",
          "text": [
            "Int64Index([ 404,  405,  406,  407,  408,  409,  410,  411,  412,  413,\n",
            "            ...\n",
            "            1388, 1389, 1390, 1391, 1392, 1393, 1394, 1395, 1396, 1397],\n",
            "           dtype='int64', length=994)\n",
            "RangeIndex(start=0, stop=994, step=1)\n"
          ],
          "name": "stdout"
        }
      ]
    },
    {
      "metadata": {
        "id": "iakpvZlkXlRL",
        "colab_type": "code",
        "colab": {},
        "outputId": "e28f974b-49cc-4472-f456-ccc863948da8"
      },
      "cell_type": "code",
      "source": [
        "print(data.head())\n",
        "print(data.tail())"
      ],
      "execution_count": 0,
      "outputs": [
        {
          "output_type": "stream",
          "text": [
            "                            logData  dateTime inOut\n",
            "0  02000037B32018052315000054010200        54    01\n",
            "1  02000037B32018052315000075020200        75    02\n",
            "2  02000037B42018052315000196010200       196    01\n",
            "3  02000037B42018052315000218020200       218    02\n",
            "4  02000037B52018052315000423010200       423    01\n",
            "                              logData  dateTime inOut\n",
            "989  02000039A12018052315212780020200    212780    02\n",
            "990  02000039A22018052315213016010200    213016    01\n",
            "991  02000039A22018052315213044020200    213044    02\n",
            "992  02000039A32018052315213339010200    213339    01\n",
            "993  02000039A32018052315213355020200    213355    02\n"
          ],
          "name": "stdout"
        }
      ]
    },
    {
      "metadata": {
        "id": "KUQqMSC6XlRO",
        "colab_type": "code",
        "colab": {},
        "outputId": "185199d9-8219-4fd0-ea44-fee5f0afae08"
      },
      "cell_type": "code",
      "source": [
        "data1 = data.iloc[::2]\n",
        "data1.reset_index(drop=True, inplace=True)\n",
        "print(len(data1))\n",
        "data2 = data.iloc[1::2]\n",
        "data2.reset_index(drop=True, inplace=True)\n",
        "print(len(data2))\n",
        "data2.head()"
      ],
      "execution_count": 0,
      "outputs": [
        {
          "output_type": "stream",
          "text": [
            "497\n",
            "497\n"
          ],
          "name": "stdout"
        },
        {
          "output_type": "execute_result",
          "data": {
            "text/html": [
              "<div>\n",
              "<style scoped>\n",
              "    .dataframe tbody tr th:only-of-type {\n",
              "        vertical-align: middle;\n",
              "    }\n",
              "\n",
              "    .dataframe tbody tr th {\n",
              "        vertical-align: top;\n",
              "    }\n",
              "\n",
              "    .dataframe thead th {\n",
              "        text-align: right;\n",
              "    }\n",
              "</style>\n",
              "<table border=\"1\" class=\"dataframe\">\n",
              "  <thead>\n",
              "    <tr style=\"text-align: right;\">\n",
              "      <th></th>\n",
              "      <th>logData</th>\n",
              "      <th>dateTime</th>\n",
              "      <th>inOut</th>\n",
              "    </tr>\n",
              "  </thead>\n",
              "  <tbody>\n",
              "    <tr>\n",
              "      <th>0</th>\n",
              "      <td>02000037B32018052315000075020200</td>\n",
              "      <td>75</td>\n",
              "      <td>02</td>\n",
              "    </tr>\n",
              "    <tr>\n",
              "      <th>1</th>\n",
              "      <td>02000037B42018052315000218020200</td>\n",
              "      <td>218</td>\n",
              "      <td>02</td>\n",
              "    </tr>\n",
              "    <tr>\n",
              "      <th>2</th>\n",
              "      <td>02000037B52018052315000441020200</td>\n",
              "      <td>441</td>\n",
              "      <td>02</td>\n",
              "    </tr>\n",
              "    <tr>\n",
              "      <th>3</th>\n",
              "      <td>02000037B62018052315000643020200</td>\n",
              "      <td>643</td>\n",
              "      <td>02</td>\n",
              "    </tr>\n",
              "    <tr>\n",
              "      <th>4</th>\n",
              "      <td>02000037B72018052315000783020200</td>\n",
              "      <td>783</td>\n",
              "      <td>02</td>\n",
              "    </tr>\n",
              "  </tbody>\n",
              "</table>\n",
              "</div>"
            ],
            "text/plain": [
              "                            logData  dateTime inOut\n",
              "0  02000037B32018052315000075020200        75    02\n",
              "1  02000037B42018052315000218020200       218    02\n",
              "2  02000037B52018052315000441020200       441    02\n",
              "3  02000037B62018052315000643020200       643    02\n",
              "4  02000037B72018052315000783020200       783    02"
            ]
          },
          "metadata": {
            "tags": []
          },
          "execution_count": 408
        }
      ]
    },
    {
      "metadata": {
        "id": "OaJCgnYWXlRR",
        "colab_type": "code",
        "colab": {},
        "outputId": "7340af29-3dc0-41ee-a725-0ea4bf7e48df"
      },
      "cell_type": "code",
      "source": [
        "#data1[['logData2', 'dateTime2', 'inOut2']] = [data2['logData'], data2['dateTime'], data2['inOut']]\n",
        "data3 = pd.concat([data1, data2], axis=1)\n",
        "data3.head()"
      ],
      "execution_count": 0,
      "outputs": [
        {
          "output_type": "execute_result",
          "data": {
            "text/html": [
              "<div>\n",
              "<style scoped>\n",
              "    .dataframe tbody tr th:only-of-type {\n",
              "        vertical-align: middle;\n",
              "    }\n",
              "\n",
              "    .dataframe tbody tr th {\n",
              "        vertical-align: top;\n",
              "    }\n",
              "\n",
              "    .dataframe thead th {\n",
              "        text-align: right;\n",
              "    }\n",
              "</style>\n",
              "<table border=\"1\" class=\"dataframe\">\n",
              "  <thead>\n",
              "    <tr style=\"text-align: right;\">\n",
              "      <th></th>\n",
              "      <th>logData</th>\n",
              "      <th>dateTime</th>\n",
              "      <th>inOut</th>\n",
              "      <th>logData</th>\n",
              "      <th>dateTime</th>\n",
              "      <th>inOut</th>\n",
              "    </tr>\n",
              "  </thead>\n",
              "  <tbody>\n",
              "    <tr>\n",
              "      <th>0</th>\n",
              "      <td>02000037B32018052315000054010200</td>\n",
              "      <td>54</td>\n",
              "      <td>01</td>\n",
              "      <td>02000037B32018052315000075020200</td>\n",
              "      <td>75</td>\n",
              "      <td>02</td>\n",
              "    </tr>\n",
              "    <tr>\n",
              "      <th>1</th>\n",
              "      <td>02000037B42018052315000196010200</td>\n",
              "      <td>196</td>\n",
              "      <td>01</td>\n",
              "      <td>02000037B42018052315000218020200</td>\n",
              "      <td>218</td>\n",
              "      <td>02</td>\n",
              "    </tr>\n",
              "    <tr>\n",
              "      <th>2</th>\n",
              "      <td>02000037B52018052315000423010200</td>\n",
              "      <td>423</td>\n",
              "      <td>01</td>\n",
              "      <td>02000037B52018052315000441020200</td>\n",
              "      <td>441</td>\n",
              "      <td>02</td>\n",
              "    </tr>\n",
              "    <tr>\n",
              "      <th>3</th>\n",
              "      <td>02000037B62018052315000628010200</td>\n",
              "      <td>628</td>\n",
              "      <td>01</td>\n",
              "      <td>02000037B62018052315000643020200</td>\n",
              "      <td>643</td>\n",
              "      <td>02</td>\n",
              "    </tr>\n",
              "    <tr>\n",
              "      <th>4</th>\n",
              "      <td>02000037B72018052315000764010200</td>\n",
              "      <td>764</td>\n",
              "      <td>01</td>\n",
              "      <td>02000037B72018052315000783020200</td>\n",
              "      <td>783</td>\n",
              "      <td>02</td>\n",
              "    </tr>\n",
              "  </tbody>\n",
              "</table>\n",
              "</div>"
            ],
            "text/plain": [
              "                            logData  dateTime inOut  \\\n",
              "0  02000037B32018052315000054010200        54    01   \n",
              "1  02000037B42018052315000196010200       196    01   \n",
              "2  02000037B52018052315000423010200       423    01   \n",
              "3  02000037B62018052315000628010200       628    01   \n",
              "4  02000037B72018052315000764010200       764    01   \n",
              "\n",
              "                            logData  dateTime inOut  \n",
              "0  02000037B32018052315000075020200        75    02  \n",
              "1  02000037B42018052315000218020200       218    02  \n",
              "2  02000037B52018052315000441020200       441    02  \n",
              "3  02000037B62018052315000643020200       643    02  \n",
              "4  02000037B72018052315000783020200       783    02  "
            ]
          },
          "metadata": {
            "tags": []
          },
          "execution_count": 409
        }
      ]
    },
    {
      "metadata": {
        "id": "_FOS6c8cXlRT",
        "colab_type": "code",
        "colab": {},
        "outputId": "7b52ce6b-4c4b-4ad2-e8aa-950489e92651"
      },
      "cell_type": "code",
      "source": [
        "print(data3.columns)\n",
        "len(data3)"
      ],
      "execution_count": 0,
      "outputs": [
        {
          "output_type": "stream",
          "text": [
            "Index(['logData', 'dateTime', 'inOut', 'logData', 'dateTime', 'inOut'], dtype='object')\n"
          ],
          "name": "stdout"
        },
        {
          "output_type": "execute_result",
          "data": {
            "text/plain": [
              "497"
            ]
          },
          "metadata": {
            "tags": []
          },
          "execution_count": 410
        }
      ]
    },
    {
      "metadata": {
        "id": "fmxFvG3iXlRW",
        "colab_type": "code",
        "colab": {},
        "outputId": "19fe82b8-7e44-4255-e4e0-231888c33d4a"
      },
      "cell_type": "code",
      "source": [
        "data3.columns =['logData', 'dateTime', 'inOut', 'logData2', 'dateTime2', 'inOut2']\n",
        "data3.columns"
      ],
      "execution_count": 0,
      "outputs": [
        {
          "output_type": "execute_result",
          "data": {
            "text/plain": [
              "Index(['logData', 'dateTime', 'inOut', 'logData2', 'dateTime2', 'inOut2'], dtype='object')"
            ]
          },
          "metadata": {
            "tags": []
          },
          "execution_count": 411
        }
      ]
    },
    {
      "metadata": {
        "id": "dd-ukZ6_XlRY",
        "colab_type": "code",
        "colab": {},
        "outputId": "921da35f-f33a-4d77-d55d-1f4fbcf90819"
      },
      "cell_type": "code",
      "source": [
        "data3.head()"
      ],
      "execution_count": 0,
      "outputs": [
        {
          "output_type": "execute_result",
          "data": {
            "text/html": [
              "<div>\n",
              "<style scoped>\n",
              "    .dataframe tbody tr th:only-of-type {\n",
              "        vertical-align: middle;\n",
              "    }\n",
              "\n",
              "    .dataframe tbody tr th {\n",
              "        vertical-align: top;\n",
              "    }\n",
              "\n",
              "    .dataframe thead th {\n",
              "        text-align: right;\n",
              "    }\n",
              "</style>\n",
              "<table border=\"1\" class=\"dataframe\">\n",
              "  <thead>\n",
              "    <tr style=\"text-align: right;\">\n",
              "      <th></th>\n",
              "      <th>logData</th>\n",
              "      <th>dateTime</th>\n",
              "      <th>inOut</th>\n",
              "      <th>logData2</th>\n",
              "      <th>dateTime2</th>\n",
              "      <th>inOut2</th>\n",
              "    </tr>\n",
              "  </thead>\n",
              "  <tbody>\n",
              "    <tr>\n",
              "      <th>0</th>\n",
              "      <td>02000037B32018052315000054010200</td>\n",
              "      <td>54</td>\n",
              "      <td>01</td>\n",
              "      <td>02000037B32018052315000075020200</td>\n",
              "      <td>75</td>\n",
              "      <td>02</td>\n",
              "    </tr>\n",
              "    <tr>\n",
              "      <th>1</th>\n",
              "      <td>02000037B42018052315000196010200</td>\n",
              "      <td>196</td>\n",
              "      <td>01</td>\n",
              "      <td>02000037B42018052315000218020200</td>\n",
              "      <td>218</td>\n",
              "      <td>02</td>\n",
              "    </tr>\n",
              "    <tr>\n",
              "      <th>2</th>\n",
              "      <td>02000037B52018052315000423010200</td>\n",
              "      <td>423</td>\n",
              "      <td>01</td>\n",
              "      <td>02000037B52018052315000441020200</td>\n",
              "      <td>441</td>\n",
              "      <td>02</td>\n",
              "    </tr>\n",
              "    <tr>\n",
              "      <th>3</th>\n",
              "      <td>02000037B62018052315000628010200</td>\n",
              "      <td>628</td>\n",
              "      <td>01</td>\n",
              "      <td>02000037B62018052315000643020200</td>\n",
              "      <td>643</td>\n",
              "      <td>02</td>\n",
              "    </tr>\n",
              "    <tr>\n",
              "      <th>4</th>\n",
              "      <td>02000037B72018052315000764010200</td>\n",
              "      <td>764</td>\n",
              "      <td>01</td>\n",
              "      <td>02000037B72018052315000783020200</td>\n",
              "      <td>783</td>\n",
              "      <td>02</td>\n",
              "    </tr>\n",
              "  </tbody>\n",
              "</table>\n",
              "</div>"
            ],
            "text/plain": [
              "                            logData  dateTime inOut  \\\n",
              "0  02000037B32018052315000054010200        54    01   \n",
              "1  02000037B42018052315000196010200       196    01   \n",
              "2  02000037B52018052315000423010200       423    01   \n",
              "3  02000037B62018052315000628010200       628    01   \n",
              "4  02000037B72018052315000764010200       764    01   \n",
              "\n",
              "                           logData2  dateTime2 inOut2  \n",
              "0  02000037B32018052315000075020200         75     02  \n",
              "1  02000037B42018052315000218020200        218     02  \n",
              "2  02000037B52018052315000441020200        441     02  \n",
              "3  02000037B62018052315000643020200        643     02  \n",
              "4  02000037B72018052315000783020200        783     02  "
            ]
          },
          "metadata": {
            "tags": []
          },
          "execution_count": 412
        }
      ]
    },
    {
      "metadata": {
        "id": "Xard_RNwXlRa",
        "colab_type": "code",
        "colab": {}
      },
      "cell_type": "code",
      "source": [
        "data3.to_csv('lane2_2.csv', header=None)"
      ],
      "execution_count": 0,
      "outputs": []
    },
    {
      "metadata": {
        "id": "p9MWHWXDXlRd",
        "colab_type": "text"
      },
      "cell_type": "markdown",
      "source": [
        "## .srt 자막파일을 만들어보자\n",
        "- .srt 포맷: https://www.3playmedia.com/2017/03/08/create-srt-file/"
      ]
    },
    {
      "metadata": {
        "id": "ckMKBpnpXlRe",
        "colab_type": "code",
        "colab": {}
      },
      "cell_type": "code",
      "source": [
        "data = data3.copy()"
      ],
      "execution_count": 0,
      "outputs": []
    },
    {
      "metadata": {
        "id": "9kjQ1YU6XlRh",
        "colab_type": "code",
        "colab": {},
        "outputId": "c2cca009-7001-4aac-aca5-0ca874c1a777"
      },
      "cell_type": "code",
      "source": [
        "data.dateTime = data.dateTime +100300 - 54  # 영상의 10:03초 부터 시작됨, 차량 인식의 시작이 54 부터임\n",
        "data.dateTime2 = data.dateTime2 +100300 - 54  # 영상의 10:03초 부터 시작됨, 차량 인식의 시작이 54 부터임\n",
        "data.head()"
      ],
      "execution_count": 0,
      "outputs": [
        {
          "output_type": "execute_result",
          "data": {
            "text/html": [
              "<div>\n",
              "<style scoped>\n",
              "    .dataframe tbody tr th:only-of-type {\n",
              "        vertical-align: middle;\n",
              "    }\n",
              "\n",
              "    .dataframe tbody tr th {\n",
              "        vertical-align: top;\n",
              "    }\n",
              "\n",
              "    .dataframe thead th {\n",
              "        text-align: right;\n",
              "    }\n",
              "</style>\n",
              "<table border=\"1\" class=\"dataframe\">\n",
              "  <thead>\n",
              "    <tr style=\"text-align: right;\">\n",
              "      <th></th>\n",
              "      <th>logData</th>\n",
              "      <th>dateTime</th>\n",
              "      <th>inOut</th>\n",
              "      <th>logData2</th>\n",
              "      <th>dateTime2</th>\n",
              "      <th>inOut2</th>\n",
              "    </tr>\n",
              "  </thead>\n",
              "  <tbody>\n",
              "    <tr>\n",
              "      <th>0</th>\n",
              "      <td>02000037B32018052315000054010200</td>\n",
              "      <td>100300</td>\n",
              "      <td>01</td>\n",
              "      <td>02000037B32018052315000075020200</td>\n",
              "      <td>100321</td>\n",
              "      <td>02</td>\n",
              "    </tr>\n",
              "    <tr>\n",
              "      <th>1</th>\n",
              "      <td>02000037B42018052315000196010200</td>\n",
              "      <td>100442</td>\n",
              "      <td>01</td>\n",
              "      <td>02000037B42018052315000218020200</td>\n",
              "      <td>100464</td>\n",
              "      <td>02</td>\n",
              "    </tr>\n",
              "    <tr>\n",
              "      <th>2</th>\n",
              "      <td>02000037B52018052315000423010200</td>\n",
              "      <td>100669</td>\n",
              "      <td>01</td>\n",
              "      <td>02000037B52018052315000441020200</td>\n",
              "      <td>100687</td>\n",
              "      <td>02</td>\n",
              "    </tr>\n",
              "    <tr>\n",
              "      <th>3</th>\n",
              "      <td>02000037B62018052315000628010200</td>\n",
              "      <td>100874</td>\n",
              "      <td>01</td>\n",
              "      <td>02000037B62018052315000643020200</td>\n",
              "      <td>100889</td>\n",
              "      <td>02</td>\n",
              "    </tr>\n",
              "    <tr>\n",
              "      <th>4</th>\n",
              "      <td>02000037B72018052315000764010200</td>\n",
              "      <td>101010</td>\n",
              "      <td>01</td>\n",
              "      <td>02000037B72018052315000783020200</td>\n",
              "      <td>101029</td>\n",
              "      <td>02</td>\n",
              "    </tr>\n",
              "  </tbody>\n",
              "</table>\n",
              "</div>"
            ],
            "text/plain": [
              "                            logData  dateTime inOut  \\\n",
              "0  02000037B32018052315000054010200    100300    01   \n",
              "1  02000037B42018052315000196010200    100442    01   \n",
              "2  02000037B52018052315000423010200    100669    01   \n",
              "3  02000037B62018052315000628010200    100874    01   \n",
              "4  02000037B72018052315000764010200    101010    01   \n",
              "\n",
              "                           logData2  dateTime2 inOut2  \n",
              "0  02000037B32018052315000075020200     100321     02  \n",
              "1  02000037B42018052315000218020200     100464     02  \n",
              "2  02000037B52018052315000441020200     100687     02  \n",
              "3  02000037B62018052315000643020200     100889     02  \n",
              "4  02000037B72018052315000783020200     101029     02  "
            ]
          },
          "metadata": {
            "tags": []
          },
          "execution_count": 415
        }
      ]
    },
    {
      "metadata": {
        "id": "1O0HtBGdXlRk",
        "colab_type": "code",
        "colab": {},
        "outputId": "5d874ae7-65ab-4a2f-80da-7080a762fb17"
      },
      "cell_type": "code",
      "source": [
        "data.dateTime = data.dateTime.astype('str')\n",
        "data.dateTime2 = data.dateTime2.astype('str')\n",
        "\n",
        "# make start string\n",
        "data['start'] = \"00:\" + data.dateTime.str[:2] \\\n",
        "            + \":\" + data.dateTime.str[2:4] \\\n",
        "            + \",\" + data.dateTime.str[4:] \\\n",
        "            + \"0 --> \"\n",
        "# make stop string\n",
        "data['start'] = data['start'].str[:] \\\n",
        "            + \"00:\" + data.dateTime2.str[:2] \\\n",
        "            + \":\" + data.dateTime2.str[2:4] \\\n",
        "            + \",\" + data.dateTime2.str[4:] \\\n",
        "            + \"0\"\n",
        "print(data.head())"
      ],
      "execution_count": 0,
      "outputs": [
        {
          "output_type": "stream",
          "text": [
            "                            logData dateTime inOut  \\\n",
            "0  02000037B32018052315000054010200   100300    01   \n",
            "1  02000037B42018052315000196010200   100442    01   \n",
            "2  02000037B52018052315000423010200   100669    01   \n",
            "3  02000037B62018052315000628010200   100874    01   \n",
            "4  02000037B72018052315000764010200   101010    01   \n",
            "\n",
            "                           logData2 dateTime2 inOut2  \\\n",
            "0  02000037B32018052315000075020200    100321     02   \n",
            "1  02000037B42018052315000218020200    100464     02   \n",
            "2  02000037B52018052315000441020200    100687     02   \n",
            "3  02000037B62018052315000643020200    100889     02   \n",
            "4  02000037B72018052315000783020200    101029     02   \n",
            "\n",
            "                           start  \n",
            "0  00:10:03,000 --> 00:10:03,210  \n",
            "1  00:10:04,420 --> 00:10:04,640  \n",
            "2  00:10:06,690 --> 00:10:06,870  \n",
            "3  00:10:08,740 --> 00:10:08,890  \n",
            "4  00:10:10,100 --> 00:10:10,290  \n"
          ],
          "name": "stdout"
        }
      ]
    },
    {
      "metadata": {
        "id": "7-6eMMmvXlRm",
        "colab_type": "code",
        "colab": {},
        "outputId": "d2fdee94-1845-421e-9927-2680c275b864"
      },
      "cell_type": "code",
      "source": [
        "data['subtitle'] = data.index.astype(int) + 1\n",
        "data.head()"
      ],
      "execution_count": 0,
      "outputs": [
        {
          "output_type": "execute_result",
          "data": {
            "text/html": [
              "<div>\n",
              "<style scoped>\n",
              "    .dataframe tbody tr th:only-of-type {\n",
              "        vertical-align: middle;\n",
              "    }\n",
              "\n",
              "    .dataframe tbody tr th {\n",
              "        vertical-align: top;\n",
              "    }\n",
              "\n",
              "    .dataframe thead th {\n",
              "        text-align: right;\n",
              "    }\n",
              "</style>\n",
              "<table border=\"1\" class=\"dataframe\">\n",
              "  <thead>\n",
              "    <tr style=\"text-align: right;\">\n",
              "      <th></th>\n",
              "      <th>logData</th>\n",
              "      <th>dateTime</th>\n",
              "      <th>inOut</th>\n",
              "      <th>logData2</th>\n",
              "      <th>dateTime2</th>\n",
              "      <th>inOut2</th>\n",
              "      <th>start</th>\n",
              "      <th>subtitle</th>\n",
              "    </tr>\n",
              "  </thead>\n",
              "  <tbody>\n",
              "    <tr>\n",
              "      <th>0</th>\n",
              "      <td>02000037B32018052315000054010200</td>\n",
              "      <td>100300</td>\n",
              "      <td>01</td>\n",
              "      <td>02000037B32018052315000075020200</td>\n",
              "      <td>100321</td>\n",
              "      <td>02</td>\n",
              "      <td>00:10:03,000 --&gt; 00:10:03,210</td>\n",
              "      <td>1</td>\n",
              "    </tr>\n",
              "    <tr>\n",
              "      <th>1</th>\n",
              "      <td>02000037B42018052315000196010200</td>\n",
              "      <td>100442</td>\n",
              "      <td>01</td>\n",
              "      <td>02000037B42018052315000218020200</td>\n",
              "      <td>100464</td>\n",
              "      <td>02</td>\n",
              "      <td>00:10:04,420 --&gt; 00:10:04,640</td>\n",
              "      <td>2</td>\n",
              "    </tr>\n",
              "    <tr>\n",
              "      <th>2</th>\n",
              "      <td>02000037B52018052315000423010200</td>\n",
              "      <td>100669</td>\n",
              "      <td>01</td>\n",
              "      <td>02000037B52018052315000441020200</td>\n",
              "      <td>100687</td>\n",
              "      <td>02</td>\n",
              "      <td>00:10:06,690 --&gt; 00:10:06,870</td>\n",
              "      <td>3</td>\n",
              "    </tr>\n",
              "    <tr>\n",
              "      <th>3</th>\n",
              "      <td>02000037B62018052315000628010200</td>\n",
              "      <td>100874</td>\n",
              "      <td>01</td>\n",
              "      <td>02000037B62018052315000643020200</td>\n",
              "      <td>100889</td>\n",
              "      <td>02</td>\n",
              "      <td>00:10:08,740 --&gt; 00:10:08,890</td>\n",
              "      <td>4</td>\n",
              "    </tr>\n",
              "    <tr>\n",
              "      <th>4</th>\n",
              "      <td>02000037B72018052315000764010200</td>\n",
              "      <td>101010</td>\n",
              "      <td>01</td>\n",
              "      <td>02000037B72018052315000783020200</td>\n",
              "      <td>101029</td>\n",
              "      <td>02</td>\n",
              "      <td>00:10:10,100 --&gt; 00:10:10,290</td>\n",
              "      <td>5</td>\n",
              "    </tr>\n",
              "  </tbody>\n",
              "</table>\n",
              "</div>"
            ],
            "text/plain": [
              "                            logData dateTime inOut  \\\n",
              "0  02000037B32018052315000054010200   100300    01   \n",
              "1  02000037B42018052315000196010200   100442    01   \n",
              "2  02000037B52018052315000423010200   100669    01   \n",
              "3  02000037B62018052315000628010200   100874    01   \n",
              "4  02000037B72018052315000764010200   101010    01   \n",
              "\n",
              "                           logData2 dateTime2 inOut2  \\\n",
              "0  02000037B32018052315000075020200    100321     02   \n",
              "1  02000037B42018052315000218020200    100464     02   \n",
              "2  02000037B52018052315000441020200    100687     02   \n",
              "3  02000037B62018052315000643020200    100889     02   \n",
              "4  02000037B72018052315000783020200    101029     02   \n",
              "\n",
              "                           start  subtitle  \n",
              "0  00:10:03,000 --> 00:10:03,210         1  \n",
              "1  00:10:04,420 --> 00:10:04,640         2  \n",
              "2  00:10:06,690 --> 00:10:06,870         3  \n",
              "3  00:10:08,740 --> 00:10:08,890         4  \n",
              "4  00:10:10,100 --> 00:10:10,290         5  "
            ]
          },
          "metadata": {
            "tags": []
          },
          "execution_count": 417
        }
      ]
    },
    {
      "metadata": {
        "id": "nMXzQSDcXlRq",
        "colab_type": "code",
        "colab": {},
        "outputId": "3ea7ca6b-fae3-41a6-87db-860906dda277"
      },
      "cell_type": "code",
      "source": [
        "srtdata = data[['start', 'subtitle']].copy()\n",
        "print(srtdata.dtypes)\n",
        "\n",
        "srtdata.subtitle = srtdata.subtitle.astype('str')\n",
        "\n",
        "print(srtdata.dtypes)\n",
        "srtdata.head()"
      ],
      "execution_count": 0,
      "outputs": [
        {
          "output_type": "stream",
          "text": [
            "start       object\n",
            "subtitle     int64\n",
            "dtype: object\n",
            "start       object\n",
            "subtitle    object\n",
            "dtype: object\n"
          ],
          "name": "stdout"
        },
        {
          "output_type": "execute_result",
          "data": {
            "text/html": [
              "<div>\n",
              "<style scoped>\n",
              "    .dataframe tbody tr th:only-of-type {\n",
              "        vertical-align: middle;\n",
              "    }\n",
              "\n",
              "    .dataframe tbody tr th {\n",
              "        vertical-align: top;\n",
              "    }\n",
              "\n",
              "    .dataframe thead th {\n",
              "        text-align: right;\n",
              "    }\n",
              "</style>\n",
              "<table border=\"1\" class=\"dataframe\">\n",
              "  <thead>\n",
              "    <tr style=\"text-align: right;\">\n",
              "      <th></th>\n",
              "      <th>start</th>\n",
              "      <th>subtitle</th>\n",
              "    </tr>\n",
              "  </thead>\n",
              "  <tbody>\n",
              "    <tr>\n",
              "      <th>0</th>\n",
              "      <td>00:10:03,000 --&gt; 00:10:03,210</td>\n",
              "      <td>1</td>\n",
              "    </tr>\n",
              "    <tr>\n",
              "      <th>1</th>\n",
              "      <td>00:10:04,420 --&gt; 00:10:04,640</td>\n",
              "      <td>2</td>\n",
              "    </tr>\n",
              "    <tr>\n",
              "      <th>2</th>\n",
              "      <td>00:10:06,690 --&gt; 00:10:06,870</td>\n",
              "      <td>3</td>\n",
              "    </tr>\n",
              "    <tr>\n",
              "      <th>3</th>\n",
              "      <td>00:10:08,740 --&gt; 00:10:08,890</td>\n",
              "      <td>4</td>\n",
              "    </tr>\n",
              "    <tr>\n",
              "      <th>4</th>\n",
              "      <td>00:10:10,100 --&gt; 00:10:10,290</td>\n",
              "      <td>5</td>\n",
              "    </tr>\n",
              "  </tbody>\n",
              "</table>\n",
              "</div>"
            ],
            "text/plain": [
              "                           start subtitle\n",
              "0  00:10:03,000 --> 00:10:03,210        1\n",
              "1  00:10:04,420 --> 00:10:04,640        2\n",
              "2  00:10:06,690 --> 00:10:06,870        3\n",
              "3  00:10:08,740 --> 00:10:08,890        4\n",
              "4  00:10:10,100 --> 00:10:10,290        5"
            ]
          },
          "metadata": {
            "tags": []
          },
          "execution_count": 418
        }
      ]
    },
    {
      "metadata": {
        "id": "3F0s4_dDXlRt",
        "colab_type": "code",
        "colab": {},
        "outputId": "25df25a5-0dce-435d-f791-5bd094dae6e3"
      },
      "cell_type": "code",
      "source": [
        "srtdata['final'] = srtdata['subtitle'].str[:] + \"\\n\" \\\n",
        "                    + srtdata['start'].str[:] + \"\\n\" \\\n",
        "                    + \"car count: \" \\\n",
        "                    + srtdata['subtitle'].str[:] + \"\\n\\n\"\n",
        "#srtdata = srtdata['final']\n",
        "srtdata.head()"
      ],
      "execution_count": 0,
      "outputs": [
        {
          "output_type": "execute_result",
          "data": {
            "text/html": [
              "<div>\n",
              "<style scoped>\n",
              "    .dataframe tbody tr th:only-of-type {\n",
              "        vertical-align: middle;\n",
              "    }\n",
              "\n",
              "    .dataframe tbody tr th {\n",
              "        vertical-align: top;\n",
              "    }\n",
              "\n",
              "    .dataframe thead th {\n",
              "        text-align: right;\n",
              "    }\n",
              "</style>\n",
              "<table border=\"1\" class=\"dataframe\">\n",
              "  <thead>\n",
              "    <tr style=\"text-align: right;\">\n",
              "      <th></th>\n",
              "      <th>start</th>\n",
              "      <th>subtitle</th>\n",
              "      <th>final</th>\n",
              "    </tr>\n",
              "  </thead>\n",
              "  <tbody>\n",
              "    <tr>\n",
              "      <th>0</th>\n",
              "      <td>00:10:03,000 --&gt; 00:10:03,210</td>\n",
              "      <td>1</td>\n",
              "      <td>1\\n00:10:03,000 --&gt; 00:10:03,210\\ncar count: 1...</td>\n",
              "    </tr>\n",
              "    <tr>\n",
              "      <th>1</th>\n",
              "      <td>00:10:04,420 --&gt; 00:10:04,640</td>\n",
              "      <td>2</td>\n",
              "      <td>2\\n00:10:04,420 --&gt; 00:10:04,640\\ncar count: 2...</td>\n",
              "    </tr>\n",
              "    <tr>\n",
              "      <th>2</th>\n",
              "      <td>00:10:06,690 --&gt; 00:10:06,870</td>\n",
              "      <td>3</td>\n",
              "      <td>3\\n00:10:06,690 --&gt; 00:10:06,870\\ncar count: 3...</td>\n",
              "    </tr>\n",
              "    <tr>\n",
              "      <th>3</th>\n",
              "      <td>00:10:08,740 --&gt; 00:10:08,890</td>\n",
              "      <td>4</td>\n",
              "      <td>4\\n00:10:08,740 --&gt; 00:10:08,890\\ncar count: 4...</td>\n",
              "    </tr>\n",
              "    <tr>\n",
              "      <th>4</th>\n",
              "      <td>00:10:10,100 --&gt; 00:10:10,290</td>\n",
              "      <td>5</td>\n",
              "      <td>5\\n00:10:10,100 --&gt; 00:10:10,290\\ncar count: 5...</td>\n",
              "    </tr>\n",
              "  </tbody>\n",
              "</table>\n",
              "</div>"
            ],
            "text/plain": [
              "                           start subtitle  \\\n",
              "0  00:10:03,000 --> 00:10:03,210        1   \n",
              "1  00:10:04,420 --> 00:10:04,640        2   \n",
              "2  00:10:06,690 --> 00:10:06,870        3   \n",
              "3  00:10:08,740 --> 00:10:08,890        4   \n",
              "4  00:10:10,100 --> 00:10:10,290        5   \n",
              "\n",
              "                                               final  \n",
              "0  1\\n00:10:03,000 --> 00:10:03,210\\ncar count: 1...  \n",
              "1  2\\n00:10:04,420 --> 00:10:04,640\\ncar count: 2...  \n",
              "2  3\\n00:10:06,690 --> 00:10:06,870\\ncar count: 3...  \n",
              "3  4\\n00:10:08,740 --> 00:10:08,890\\ncar count: 4...  \n",
              "4  5\\n00:10:10,100 --> 00:10:10,290\\ncar count: 5...  "
            ]
          },
          "metadata": {
            "tags": []
          },
          "execution_count": 419
        }
      ]
    },
    {
      "metadata": {
        "id": "ocyY4CbYXlRz",
        "colab_type": "code",
        "colab": {}
      },
      "cell_type": "code",
      "source": [
        "srtdata = srtdata.final"
      ],
      "execution_count": 0,
      "outputs": []
    },
    {
      "metadata": {
        "id": "IQ4igyM7XlR2",
        "colab_type": "code",
        "colab": {},
        "outputId": "a81e216a-8154-4fba-eaf7-98b07d1a0427"
      },
      "cell_type": "code",
      "source": [
        "srtdata.head()"
      ],
      "execution_count": 0,
      "outputs": [
        {
          "output_type": "execute_result",
          "data": {
            "text/plain": [
              "0    1\\n00:10:03,000 --> 00:10:03,210\\ncar count: 1...\n",
              "1    2\\n00:10:04,420 --> 00:10:04,640\\ncar count: 2...\n",
              "2    3\\n00:10:06,690 --> 00:10:06,870\\ncar count: 3...\n",
              "3    4\\n00:10:08,740 --> 00:10:08,890\\ncar count: 4...\n",
              "4    5\\n00:10:10,100 --> 00:10:10,290\\ncar count: 5...\n",
              "Name: final, dtype: object"
            ]
          },
          "metadata": {
            "tags": []
          },
          "execution_count": 421
        }
      ]
    },
    {
      "metadata": {
        "id": "0Teb2bhpXlR5",
        "colab_type": "code",
        "colab": {},
        "outputId": "e3ff6a8f-a5ed-4897-aee9-7a053f75c1e4"
      },
      "cell_type": "code",
      "source": [
        "srtdata.to_csv?"
      ],
      "execution_count": 0,
      "outputs": [
        {
          "output_type": "display_data",
          "data": {
            "text/plain": [
              "\u001b[1;31mSignature:\u001b[0m \u001b[0msrtdata\u001b[0m\u001b[1;33m.\u001b[0m\u001b[0mto_csv\u001b[0m\u001b[1;33m(\u001b[0m\u001b[0mpath\u001b[0m\u001b[1;33m=\u001b[0m\u001b[1;32mNone\u001b[0m\u001b[1;33m,\u001b[0m \u001b[0mindex\u001b[0m\u001b[1;33m=\u001b[0m\u001b[1;32mTrue\u001b[0m\u001b[1;33m,\u001b[0m \u001b[0msep\u001b[0m\u001b[1;33m=\u001b[0m\u001b[1;34m','\u001b[0m\u001b[1;33m,\u001b[0m \u001b[0mna_rep\u001b[0m\u001b[1;33m=\u001b[0m\u001b[1;34m''\u001b[0m\u001b[1;33m,\u001b[0m \u001b[0mfloat_format\u001b[0m\u001b[1;33m=\u001b[0m\u001b[1;32mNone\u001b[0m\u001b[1;33m,\u001b[0m \u001b[0mheader\u001b[0m\u001b[1;33m=\u001b[0m\u001b[1;32mFalse\u001b[0m\u001b[1;33m,\u001b[0m \u001b[0mindex_label\u001b[0m\u001b[1;33m=\u001b[0m\u001b[1;32mNone\u001b[0m\u001b[1;33m,\u001b[0m \u001b[0mmode\u001b[0m\u001b[1;33m=\u001b[0m\u001b[1;34m'w'\u001b[0m\u001b[1;33m,\u001b[0m \u001b[0mencoding\u001b[0m\u001b[1;33m=\u001b[0m\u001b[1;32mNone\u001b[0m\u001b[1;33m,\u001b[0m \u001b[0mdate_format\u001b[0m\u001b[1;33m=\u001b[0m\u001b[1;32mNone\u001b[0m\u001b[1;33m,\u001b[0m \u001b[0mdecimal\u001b[0m\u001b[1;33m=\u001b[0m\u001b[1;34m'.'\u001b[0m\u001b[1;33m)\u001b[0m\u001b[1;33m\u001b[0m\u001b[0m\n",
              "\u001b[1;31mDocstring:\u001b[0m\n",
              "Write Series to a comma-separated values (csv) file\n",
              "\n",
              "Parameters\n",
              "----------\n",
              "path : string or file handle, default None\n",
              "    File path or object, if None is provided the result is returned as\n",
              "    a string.\n",
              "na_rep : string, default ''\n",
              "    Missing data representation\n",
              "float_format : string, default None\n",
              "    Format string for floating point numbers\n",
              "header : boolean, default False\n",
              "    Write out series name\n",
              "index : boolean, default True\n",
              "    Write row names (index)\n",
              "index_label : string or sequence, default None\n",
              "    Column label for index column(s) if desired. If None is given, and\n",
              "    `header` and `index` are True, then the index names are used. A\n",
              "    sequence should be given if the DataFrame uses MultiIndex.\n",
              "mode : Python write mode, default 'w'\n",
              "sep : character, default \",\"\n",
              "    Field delimiter for the output file.\n",
              "encoding : string, optional\n",
              "    a string representing the encoding to use if the contents are\n",
              "    non-ascii, for python versions prior to 3\n",
              "date_format: string, default None\n",
              "    Format string for datetime objects.\n",
              "decimal: string, default '.'\n",
              "    Character recognized as decimal separator. E.g. use ',' for\n",
              "    European data\n",
              "\u001b[1;31mFile:\u001b[0m      c:\\users\\nova010\\appdata\\local\\programs\\python\\python36-32\\lib\\site-packages\\pandas\\core\\series.py\n",
              "\u001b[1;31mType:\u001b[0m      method\n"
            ]
          },
          "metadata": {
            "tags": []
          }
        }
      ]
    },
    {
      "metadata": {
        "id": "uKacFjRlXlR7",
        "colab_type": "code",
        "colab": {}
      },
      "cell_type": "code",
      "source": [
        "#srtdata.to_csv('lane2.srt', header=None, index=False).drop(['unnamed 0'],axis=1)\n",
        "srtdata.to_csv('lane2.srt', header=None, mode = 'w', index=False)\n",
        "#srtdata = pd.read_csv('temp.csv', header=None, index_col=False)\n",
        "#srtdata.to_csv('lane2.srt', header=None, index=False)"
      ],
      "execution_count": 0,
      "outputs": []
    },
    {
      "metadata": {
        "id": "eg6XeOuEXlR8",
        "colab_type": "code",
        "colab": {}
      },
      "cell_type": "code",
      "source": [
        "print(len(srtdata))"
      ],
      "execution_count": 0,
      "outputs": []
    }
  ]
}