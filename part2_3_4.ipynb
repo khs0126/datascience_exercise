{
  "nbformat": 4,
  "nbformat_minor": 0,
  "metadata": {
    "colab": {
      "name": "part2-3-4.ipynb",
      "version": "0.3.2",
      "provenance": []
    },
    "kernelspec": {
      "name": "python3",
      "display_name": "Python 3"
    }
  },
  "cells": [
    {
      "cell_type": "markdown",
      "metadata": {
        "id": "view-in-github",
        "colab_type": "text"
      },
      "source": [
        "[View in Colaboratory](https://colab.research.google.com/github/nicewook/datascience_exercise/blob/master/part2_3_4.ipynb)"
      ]
    },
    {
      "metadata": {
        "id": "c01JmuYBgtyO",
        "colab_type": "text"
      },
      "cell_type": "markdown",
      "source": [
        "# 설문조사 응답분석 3, 4\n",
        "- 강좌링크: https://programmers.co.kr/learn/courses/21\n",
        "- Part2-3: https://programmers.co.kr/learn/courses/21/lessons/940\n",
        "- Part2-4: https://programmers.co.kr/learn/courses/21/lessons/941\n"
      ]
    },
    {
      "metadata": {
        "id": "W9SlASmchCZw",
        "colab_type": "code",
        "colab": {}
      },
      "cell_type": "code",
      "source": [
        "# 노트북 안에서 그래프 그리는 magic\n",
        "%matplotlib inline\n",
        "\n",
        "# import the standard Python Scientific libraries\n",
        "import pandas as pd\n",
        "import numpy as np\n",
        "from scipy import stats\n",
        "import matplotlib.pyplot as plt\n",
        "import seaborn as sns\n",
        "\n",
        "# Suppress Deprecation and Incorrect Isage Warnings - 워닝 지저분하게 뜨는거 표시하지 않기\n",
        "import warnings\n",
        "warnings.filterwarnings('ignore')"
      ],
      "execution_count": 0,
      "outputs": []
    },
    {
      "metadata": {
        "id": "JzqFKF6JhFVB",
        "colab_type": "code",
        "colab": {
          "base_uri": "https://localhost:8080/",
          "height": 217
        },
        "outputId": "965de8f4-30b3-4e7f-9db1-20b5decd839e"
      },
      "cell_type": "code",
      "source": [
        "# Google Drive와 연결\n",
        "!apt-get install -y -qq software-properties-common python-software-properties module-init-tools\n",
        "\n",
        "!add-apt-repository -y ppa:alessandro-strada/ppa 2>&1 > /dev/null\n",
        "\n",
        "!apt-get update -qq 2>&1 > /dev/null\n",
        "\n",
        "!apt-get -y install -qq google-drive-ocamlfuse fuse\n",
        "\n",
        "from google.colab import auth\n",
        "\n",
        "auth.authenticate_user()\n",
        "\n",
        "from oauth2client.client import GoogleCredentials\n",
        "\n",
        "creds = GoogleCredentials.get_application_default()\n",
        "\n",
        "import getpass\n",
        "\n",
        "!google-drive-ocamlfuse -headless -id={creds.client_id} -secret={creds.client_secret} < /dev/null 2>&1 | grep URL\n",
        "\n",
        "vcode = getpass.getpass()\n",
        "\n",
        "!echo {vcode} | google-drive-ocamlfuse -headless -id={creds.client_id} -secret={creds.client_secret}"
      ],
      "execution_count": 5,
      "outputs": [
        {
          "output_type": "stream",
          "text": [
            "gpg: keybox '/tmp/tmpvzo0cvga/pubring.gpg' created\n",
            "gpg: /tmp/tmpvzo0cvga/trustdb.gpg: trustdb created\n",
            "gpg: key AD5F235DF639B041: public key \"Launchpad PPA for Alessandro Strada\" imported\n",
            "gpg: Total number processed: 1\n",
            "gpg:               imported: 1\n",
            "Warning: apt-key output should not be parsed (stdout is not a terminal)\n",
            "Please, open the following URL in a web browser: https://accounts.google.com/o/oauth2/auth?client_id=32555940559.apps.googleusercontent.com&redirect_uri=urn%3Aietf%3Awg%3Aoauth%3A2.0%3Aoob&scope=https%3A%2F%2Fwww.googleapis.com%2Fauth%2Fdrive&response_type=code&access_type=offline&approval_prompt=force\n",
            "··········\n",
            "Please, open the following URL in a web browser: https://accounts.google.com/o/oauth2/auth?client_id=32555940559.apps.googleusercontent.com&redirect_uri=urn%3Aietf%3Awg%3Aoauth%3A2.0%3Aoob&scope=https%3A%2F%2Fwww.googleapis.com%2Fauth%2Fdrive&response_type=code&access_type=offline&approval_prompt=force\n",
            "Please enter the verification code: Access token retrieved correctly.\n"
          ],
          "name": "stdout"
        }
      ]
    },
    {
      "metadata": {
        "id": "u-zo0x3bhIIw",
        "colab_type": "code",
        "colab": {}
      },
      "cell_type": "code",
      "source": [
        "# 폴더를 만들어서 구글 드라이브 연동\n",
        "!mkdir -p drive \n",
        "!google-drive-ocamlfuse drive "
      ],
      "execution_count": 0,
      "outputs": []
    },
    {
      "metadata": {
        "id": "5QVJ2HJkhNGK",
        "colab_type": "code",
        "colab": {
          "base_uri": "https://localhost:8080/",
          "height": 35
        },
        "outputId": "3a186eae-9fb1-44b9-fad1-bd3747d8395e"
      },
      "cell_type": "code",
      "source": [
        "cd drive/kaggle/kaggle-survey-2017/M"
      ],
      "execution_count": 7,
      "outputs": [
        {
          "output_type": "stream",
          "text": [
            "/content/drive/kaggle/kaggle-survey-2017\n"
          ],
          "name": "stdout"
        }
      ]
    },
    {
      "metadata": {
        "id": "hDhmTZPki2u5",
        "colab_type": "code",
        "colab": {
          "base_uri": "https://localhost:8080/",
          "height": 35
        },
        "outputId": "02efedd7-c6c8-4a66-a1b8-c7ac493fa953"
      },
      "cell_type": "code",
      "source": [
        "# 판다스로 선다형 객관식 문제에 대한 응답을 가져옴\n",
        "mcq = pd.read_csv('multipleChoiceResponses.csv', encoding=\"ISO-8859-1\", low_memory=False)\n",
        "mcq.shape"
      ],
      "execution_count": 8,
      "outputs": [
        {
          "output_type": "execute_result",
          "data": {
            "text/plain": [
              "(16716, 228)"
            ]
          },
          "metadata": {
            "tags": []
          },
          "execution_count": 8
        }
      ]
    },
    {
      "metadata": {
        "id": "lrGVd51Vi3IP",
        "colab_type": "code",
        "colab": {
          "base_uri": "https://localhost:8080/",
          "height": 143
        },
        "outputId": "0c1ae225-251d-4df5-938a-4a670a153703"
      },
      "cell_type": "code",
      "source": [
        "questions = pd.read_csv('schema.csv')  \n",
        "print(questions.head()) # 질문들이 어떤게 있나 잠시 보자\n",
        "print(questions.shape)  # 어떤 모양인지 보자"
      ],
      "execution_count": 9,
      "outputs": [
        {
          "output_type": "stream",
          "text": [
            "             Column                                           Question Asked\n",
            "0      GenderSelect     Select your gender identity. - Selected Choice   All\n",
            "1    GenderFreeForm  Select your gender identity. - A different ide...   All\n",
            "2           Country          Select the country you currently live in.   All\n",
            "3               Age                                   What's your age?   All\n",
            "4  EmploymentStatus             What's your current employment status?   All\n",
            "(290, 3)\n"
          ],
          "name": "stdout"
        }
      ]
    },
    {
      "metadata": {
        "id": "jEZuGoXVhO8X",
        "colab_type": "text"
      },
      "cell_type": "markdown",
      "source": [
        "## 여기까지는 기본적으로 구글드라이브 연동\n",
        "## 아래부터 파트 3,4 시작"
      ]
    },
    {
      "metadata": {
        "id": "zqy2wfm9iszv",
        "colab_type": "code",
        "colab": {
          "base_uri": "https://localhost:8080/",
          "height": 251
        },
        "outputId": "dfc0524d-fd58-45ec-e908-83778ddc3b07"
      },
      "cell_type": "code",
      "source": [
        "# 추천할만한 공부방법\n",
        "print(mcq['BlogsPodcastsNewslettersSelect'].head())\n",
        "mcq['BlogsPodcastsNewslettersSelect'] = mcq['BlogsPodcastsNewslettersSelect'].astype('str').apply(lambda x: x.split(','))\n",
        "print('----------------------------------------')\n",
        "print(mcq['BlogsPodcastsNewslettersSelect'].head())  # 위에선 콤마로 나눠진 값들이었는데, 여기선 대괄호로 감싸진 리스트가 되었다."
      ],
      "execution_count": 21,
      "outputs": [
        {
          "output_type": "stream",
          "text": [
            "0    [Becoming a Data Scientist Podcast, Data Machi...\n",
            "1    [Becoming a Data Scientist Podcast, Siraj Rava...\n",
            "2    [FastML Blog, No Free Hunch Blog, Talking Mach...\n",
            "3                                     [KDnuggets Blog]\n",
            "4    [Data Machina Newsletter, Jack's Import AI New...\n",
            "Name: BlogsPodcastsNewslettersSelect, dtype: object\n",
            "----------------------------------------\n",
            "0    [['Becoming a Data Scientist Podcast',  'Data ...\n",
            "1    [['Becoming a Data Scientist Podcast',  'Siraj...\n",
            "2    [['FastML Blog',  'No Free Hunch Blog',  'Talk...\n",
            "3                                 [['KDnuggets Blog']]\n",
            "4    [['Data Machina Newsletter',  \"Jack's Import A...\n",
            "Name: BlogsPodcastsNewslettersSelect, dtype: object\n"
          ],
          "name": "stdout"
        }
      ]
    },
    {
      "metadata": {
        "id": "SfiFIxpFjZDP",
        "colab_type": "code",
        "colab": {
          "base_uri": "https://localhost:8080/",
          "height": 125
        },
        "outputId": "4995162e-0a55-44ca-ef15-21e627ffe99c"
      },
      "cell_type": "code",
      "source": [
        "s = mcq.apply(lambda x : pd.Series(x['BlogsPodcastsNewslettersSelect']), axis=1).stack().reset_index(level=1, drop=True)\n",
        "s.name = 'platform'\n",
        "s.head()"
      ],
      "execution_count": 22,
      "outputs": [
        {
          "output_type": "execute_result",
          "data": {
            "text/plain": [
              "0    ['Becoming a Data Scientist Podcast'\n",
              "0               'Data Machina Newsletter'\n",
              "0              \"O'Reilly Data Newsletter\"\n",
              "0          'Partially Derivative Podcast'\n",
              "0           'R Bloggers Blog Aggregator']\n",
              "Name: platform, dtype: object"
            ]
          },
          "metadata": {
            "tags": []
          },
          "execution_count": 22
        }
      ]
    },
    {
      "metadata": {
        "id": "gyQ5r1Bbj3LR",
        "colab_type": "text"
      },
      "cell_type": "markdown",
      "source": [
        "- stack() 은 한줄로 편다고 할까? 한 셀에 여러값이 리스트로 있으면 그걸 하나하나 다른 셀로 옮기는 거다. http://rfriend.tistory.com/276\n",
        "- reset_index() 는 새로운 인덱스를 준다는 것이고, level=1 은 다중 인덱스중 0번이 아닌1번을 하겠다는 것, drop=True 는 기존 index 를 열로 옮기는게 아니라 그냥 날려버리겠다는 것 https://datascienceschool.net/view-notebook/a49bde24674a46699639c1fa9bb7e213/"
      ]
    },
    {
      "metadata": {
        "id": "HtUluNlQlVI5",
        "colab_type": "code",
        "colab": {}
      },
      "cell_type": "code",
      "source": [
        "# 일단 'nan'은 버리고, 항목별로 취합한다음 상위 20개만 보자\n",
        "s = s[s != 'nan'].value_counts().head(20)"
      ],
      "execution_count": 0,
      "outputs": []
    },
    {
      "metadata": {
        "id": "xcXW2KP7liXz",
        "colab_type": "code",
        "colab": {
          "base_uri": "https://localhost:8080/",
          "height": 747
        },
        "outputId": "d253062d-4c35-4bf6-e8ad-d9b7dbe33e7a"
      },
      "cell_type": "code",
      "source": [
        "plt.figure(figsize=(8,12))\n",
        "plt.title(\"가장 유명한 팟캐스트와 블로그\")\n",
        "sns.barplot(y=s.index, x=s)"
      ],
      "execution_count": 24,
      "outputs": [
        {
          "output_type": "execute_result",
          "data": {
            "text/plain": [
              "<matplotlib.axes._subplots.AxesSubplot at 0x7f58d5a057b8>"
            ]
          },
          "metadata": {
            "tags": []
          },
          "execution_count": 24
        },
        {
          "output_type": "display_data",
          "data": {
            "image/png": "[encoded data removed]",
            "text/plain": [
              "<matplotlib.figure.Figure at 0x7f58d5a05898>"
            ]
          },
          "metadata": {
            "tags": []
          }
        }
      ]
    },
    {
      "metadata": {
        "id": "mSLrFMOUmQjj",
        "colab_type": "code",
        "colab": {
          "base_uri": "https://localhost:8080/",
          "height": 395
        },
        "outputId": "90a93f2d-2f13-41b6-85b5-9cabe419f69c"
      },
      "cell_type": "code",
      "source": [
        "s"
      ],
      "execution_count": 25,
      "outputs": [
        {
          "output_type": "execute_result",
          "data": {
            "text/plain": [
              "['nan']                                                  8576\n",
              "['KDnuggets Blog'                                        1302\n",
              "['Becoming a Data Scientist Podcast'                     1076\n",
              " 'R Bloggers Blog Aggregator']                           1018\n",
              " 'Other (Separate different answers with semicolon)']     688\n",
              " ' Causal Inference'                                      662\n",
              " 'KDnuggets Blog'                                         619\n",
              "['Other (Separate different answers with semicolon)']     608\n",
              " 'Siraj Raval YouTube Channel']                           601\n",
              " 'Statistical Modeling'                                   577\n",
              " \"O'Reilly Data Newsletter\"]                              572\n",
              " \"O'Reilly Data Newsletter\"                               539\n",
              " ' and Social Science Blog (Andrew Gelman)']              535\n",
              "['KDnuggets Blog']                                        498\n",
              "['FastML Blog'                                            492\n",
              " 'The Data Skeptic Podcast']                              484\n",
              " 'R Bloggers Blog Aggregator'                             447\n",
              " 'No Free Hunch Blog'                                     441\n",
              "['R Bloggers Blog Aggregator']                            414\n",
              "['Data Machina Newsletter'                                361\n",
              "Name: platform, dtype: int64"
            ]
          },
          "metadata": {
            "tags": []
          },
          "execution_count": 25
        }
      ]
    },
    {
      "metadata": {
        "id": "irfaI8DcmnOO",
        "colab_type": "text"
      },
      "cell_type": "markdown",
      "source": [
        "# 공부하기 좋은 코스는?"
      ]
    },
    {
      "metadata": {
        "id": "ugol5RFbuTxx",
        "colab_type": "code",
        "colab": {
          "base_uri": "https://localhost:8080/",
          "height": 35
        },
        "outputId": "6cd6ed37-7c93-433f-ec5d-618a323eb2b8"
      },
      "cell_type": "code",
      "source": [
        "#mcq 가 오염되었을 경우 대비해 새로 만들어두자\n",
        "mcq = pd.read_csv('multipleChoiceResponses.csv', encoding=\"ISO-8859-1\", low_memory=False)\n",
        "mcq.shape"
      ],
      "execution_count": 65,
      "outputs": [
        {
          "output_type": "execute_result",
          "data": {
            "text/plain": [
              "(16716, 228)"
            ]
          },
          "metadata": {
            "tags": []
          },
          "execution_count": 65
        }
      ]
    },
    {
      "metadata": {
        "id": "CUEd-LrNmzm5",
        "colab_type": "code",
        "colab": {
          "base_uri": "https://localhost:8080/",
          "height": 125
        },
        "outputId": "61b96d6c-9bd0-44b4-a30f-23e33958e762"
      },
      "cell_type": "code",
      "source": [
        "# 일단은 항목을 스트링으로 바꾼 뒤 대답이 여러개인 경우 스플릿해둠\n",
        "mcq['CoursePlatformSelect'] = mcq['CoursePlatformSelect'].astype('str').apply(lambda x: x.split(','))\n",
        "mcq['CoursePlatformSelect'].head()"
      ],
      "execution_count": 66,
      "outputs": [
        {
          "output_type": "execute_result",
          "data": {
            "text/plain": [
              "0              [nan]\n",
              "1              [nan]\n",
              "2    [Coursera, edX]\n",
              "3              [nan]\n",
              "4              [nan]\n",
              "Name: CoursePlatformSelect, dtype: object"
            ]
          },
          "metadata": {
            "tags": []
          },
          "execution_count": 66
        }
      ]
    },
    {
      "metadata": {
        "id": "evkuw4t2nGjq",
        "colab_type": "code",
        "colab": {
          "base_uri": "https://localhost:8080/",
          "height": 979
        },
        "outputId": "559d8d72-ce3f-4f81-9237-48c76fae55b8"
      },
      "cell_type": "code",
      "source": [
        "t = mcq.apply(lambda x: pd.Series(x['CoursePlatformSelect']),\n",
        " axis=1)\n",
        "t.head(30)"
      ],
      "execution_count": 67,
      "outputs": [
        {
          "output_type": "execute_result",
          "data": {
            "text/html": [
              "<div>\n",
              "<style scoped>\n",
              "    .dataframe tbody tr th:only-of-type {\n",
              "        vertical-align: middle;\n",
              "    }\n",
              "\n",
              "    .dataframe tbody tr th {\n",
              "        vertical-align: top;\n",
              "    }\n",
              "\n",
              "    .dataframe thead th {\n",
              "        text-align: right;\n",
              "    }\n",
              "</style>\n",
              "<table border=\"1\" class=\"dataframe\">\n",
              "  <thead>\n",
              "    <tr style=\"text-align: right;\">\n",
              "      <th></th>\n",
              "      <th>0</th>\n",
              "      <th>1</th>\n",
              "      <th>2</th>\n",
              "      <th>3</th>\n",
              "      <th>4</th>\n",
              "    </tr>\n",
              "  </thead>\n",
              "  <tbody>\n",
              "    <tr>\n",
              "      <th>0</th>\n",
              "      <td>nan</td>\n",
              "      <td>NaN</td>\n",
              "      <td>NaN</td>\n",
              "      <td>NaN</td>\n",
              "      <td>NaN</td>\n",
              "    </tr>\n",
              "    <tr>\n",
              "      <th>1</th>\n",
              "      <td>nan</td>\n",
              "      <td>NaN</td>\n",
              "      <td>NaN</td>\n",
              "      <td>NaN</td>\n",
              "      <td>NaN</td>\n",
              "    </tr>\n",
              "    <tr>\n",
              "      <th>2</th>\n",
              "      <td>Coursera</td>\n",
              "      <td>edX</td>\n",
              "      <td>NaN</td>\n",
              "      <td>NaN</td>\n",
              "      <td>NaN</td>\n",
              "    </tr>\n",
              "    <tr>\n",
              "      <th>3</th>\n",
              "      <td>nan</td>\n",
              "      <td>NaN</td>\n",
              "      <td>NaN</td>\n",
              "      <td>NaN</td>\n",
              "      <td>NaN</td>\n",
              "    </tr>\n",
              "    <tr>\n",
              "      <th>4</th>\n",
              "      <td>nan</td>\n",
              "      <td>NaN</td>\n",
              "      <td>NaN</td>\n",
              "      <td>NaN</td>\n",
              "      <td>NaN</td>\n",
              "    </tr>\n",
              "    <tr>\n",
              "      <th>5</th>\n",
              "      <td>nan</td>\n",
              "      <td>NaN</td>\n",
              "      <td>NaN</td>\n",
              "      <td>NaN</td>\n",
              "      <td>NaN</td>\n",
              "    </tr>\n",
              "    <tr>\n",
              "      <th>6</th>\n",
              "      <td>nan</td>\n",
              "      <td>NaN</td>\n",
              "      <td>NaN</td>\n",
              "      <td>NaN</td>\n",
              "      <td>NaN</td>\n",
              "    </tr>\n",
              "    <tr>\n",
              "      <th>7</th>\n",
              "      <td>Coursera</td>\n",
              "      <td>NaN</td>\n",
              "      <td>NaN</td>\n",
              "      <td>NaN</td>\n",
              "      <td>NaN</td>\n",
              "    </tr>\n",
              "    <tr>\n",
              "      <th>8</th>\n",
              "      <td>nan</td>\n",
              "      <td>NaN</td>\n",
              "      <td>NaN</td>\n",
              "      <td>NaN</td>\n",
              "      <td>NaN</td>\n",
              "    </tr>\n",
              "    <tr>\n",
              "      <th>9</th>\n",
              "      <td>nan</td>\n",
              "      <td>NaN</td>\n",
              "      <td>NaN</td>\n",
              "      <td>NaN</td>\n",
              "      <td>NaN</td>\n",
              "    </tr>\n",
              "    <tr>\n",
              "      <th>10</th>\n",
              "      <td>Coursera</td>\n",
              "      <td>NaN</td>\n",
              "      <td>NaN</td>\n",
              "      <td>NaN</td>\n",
              "      <td>NaN</td>\n",
              "    </tr>\n",
              "    <tr>\n",
              "      <th>11</th>\n",
              "      <td>nan</td>\n",
              "      <td>NaN</td>\n",
              "      <td>NaN</td>\n",
              "      <td>NaN</td>\n",
              "      <td>NaN</td>\n",
              "    </tr>\n",
              "    <tr>\n",
              "      <th>12</th>\n",
              "      <td>Coursera</td>\n",
              "      <td>DataCamp</td>\n",
              "      <td>edX</td>\n",
              "      <td>NaN</td>\n",
              "      <td>NaN</td>\n",
              "    </tr>\n",
              "    <tr>\n",
              "      <th>13</th>\n",
              "      <td>nan</td>\n",
              "      <td>NaN</td>\n",
              "      <td>NaN</td>\n",
              "      <td>NaN</td>\n",
              "      <td>NaN</td>\n",
              "    </tr>\n",
              "    <tr>\n",
              "      <th>14</th>\n",
              "      <td>nan</td>\n",
              "      <td>NaN</td>\n",
              "      <td>NaN</td>\n",
              "      <td>NaN</td>\n",
              "      <td>NaN</td>\n",
              "    </tr>\n",
              "    <tr>\n",
              "      <th>15</th>\n",
              "      <td>nan</td>\n",
              "      <td>NaN</td>\n",
              "      <td>NaN</td>\n",
              "      <td>NaN</td>\n",
              "      <td>NaN</td>\n",
              "    </tr>\n",
              "    <tr>\n",
              "      <th>16</th>\n",
              "      <td>nan</td>\n",
              "      <td>NaN</td>\n",
              "      <td>NaN</td>\n",
              "      <td>NaN</td>\n",
              "      <td>NaN</td>\n",
              "    </tr>\n",
              "    <tr>\n",
              "      <th>17</th>\n",
              "      <td>nan</td>\n",
              "      <td>NaN</td>\n",
              "      <td>NaN</td>\n",
              "      <td>NaN</td>\n",
              "      <td>NaN</td>\n",
              "    </tr>\n",
              "    <tr>\n",
              "      <th>18</th>\n",
              "      <td>nan</td>\n",
              "      <td>NaN</td>\n",
              "      <td>NaN</td>\n",
              "      <td>NaN</td>\n",
              "      <td>NaN</td>\n",
              "    </tr>\n",
              "    <tr>\n",
              "      <th>19</th>\n",
              "      <td>nan</td>\n",
              "      <td>NaN</td>\n",
              "      <td>NaN</td>\n",
              "      <td>NaN</td>\n",
              "      <td>NaN</td>\n",
              "    </tr>\n",
              "    <tr>\n",
              "      <th>20</th>\n",
              "      <td>Other</td>\n",
              "      <td>NaN</td>\n",
              "      <td>NaN</td>\n",
              "      <td>NaN</td>\n",
              "      <td>NaN</td>\n",
              "    </tr>\n",
              "    <tr>\n",
              "      <th>21</th>\n",
              "      <td>nan</td>\n",
              "      <td>NaN</td>\n",
              "      <td>NaN</td>\n",
              "      <td>NaN</td>\n",
              "      <td>NaN</td>\n",
              "    </tr>\n",
              "    <tr>\n",
              "      <th>22</th>\n",
              "      <td>nan</td>\n",
              "      <td>NaN</td>\n",
              "      <td>NaN</td>\n",
              "      <td>NaN</td>\n",
              "      <td>NaN</td>\n",
              "    </tr>\n",
              "    <tr>\n",
              "      <th>23</th>\n",
              "      <td>nan</td>\n",
              "      <td>NaN</td>\n",
              "      <td>NaN</td>\n",
              "      <td>NaN</td>\n",
              "      <td>NaN</td>\n",
              "    </tr>\n",
              "    <tr>\n",
              "      <th>24</th>\n",
              "      <td>nan</td>\n",
              "      <td>NaN</td>\n",
              "      <td>NaN</td>\n",
              "      <td>NaN</td>\n",
              "      <td>NaN</td>\n",
              "    </tr>\n",
              "    <tr>\n",
              "      <th>25</th>\n",
              "      <td>nan</td>\n",
              "      <td>NaN</td>\n",
              "      <td>NaN</td>\n",
              "      <td>NaN</td>\n",
              "      <td>NaN</td>\n",
              "    </tr>\n",
              "    <tr>\n",
              "      <th>26</th>\n",
              "      <td>nan</td>\n",
              "      <td>NaN</td>\n",
              "      <td>NaN</td>\n",
              "      <td>NaN</td>\n",
              "      <td>NaN</td>\n",
              "    </tr>\n",
              "    <tr>\n",
              "      <th>27</th>\n",
              "      <td>nan</td>\n",
              "      <td>NaN</td>\n",
              "      <td>NaN</td>\n",
              "      <td>NaN</td>\n",
              "      <td>NaN</td>\n",
              "    </tr>\n",
              "    <tr>\n",
              "      <th>28</th>\n",
              "      <td>nan</td>\n",
              "      <td>NaN</td>\n",
              "      <td>NaN</td>\n",
              "      <td>NaN</td>\n",
              "      <td>NaN</td>\n",
              "    </tr>\n",
              "    <tr>\n",
              "      <th>29</th>\n",
              "      <td>nan</td>\n",
              "      <td>NaN</td>\n",
              "      <td>NaN</td>\n",
              "      <td>NaN</td>\n",
              "      <td>NaN</td>\n",
              "    </tr>\n",
              "  </tbody>\n",
              "</table>\n",
              "</div>"
            ],
            "text/plain": [
              "           0         1    2    3    4\n",
              "0        nan       NaN  NaN  NaN  NaN\n",
              "1        nan       NaN  NaN  NaN  NaN\n",
              "2   Coursera       edX  NaN  NaN  NaN\n",
              "3        nan       NaN  NaN  NaN  NaN\n",
              "4        nan       NaN  NaN  NaN  NaN\n",
              "5        nan       NaN  NaN  NaN  NaN\n",
              "6        nan       NaN  NaN  NaN  NaN\n",
              "7   Coursera       NaN  NaN  NaN  NaN\n",
              "8        nan       NaN  NaN  NaN  NaN\n",
              "9        nan       NaN  NaN  NaN  NaN\n",
              "10  Coursera       NaN  NaN  NaN  NaN\n",
              "11       nan       NaN  NaN  NaN  NaN\n",
              "12  Coursera  DataCamp  edX  NaN  NaN\n",
              "13       nan       NaN  NaN  NaN  NaN\n",
              "14       nan       NaN  NaN  NaN  NaN\n",
              "15       nan       NaN  NaN  NaN  NaN\n",
              "16       nan       NaN  NaN  NaN  NaN\n",
              "17       nan       NaN  NaN  NaN  NaN\n",
              "18       nan       NaN  NaN  NaN  NaN\n",
              "19       nan       NaN  NaN  NaN  NaN\n",
              "20     Other       NaN  NaN  NaN  NaN\n",
              "21       nan       NaN  NaN  NaN  NaN\n",
              "22       nan       NaN  NaN  NaN  NaN\n",
              "23       nan       NaN  NaN  NaN  NaN\n",
              "24       nan       NaN  NaN  NaN  NaN\n",
              "25       nan       NaN  NaN  NaN  NaN\n",
              "26       nan       NaN  NaN  NaN  NaN\n",
              "27       nan       NaN  NaN  NaN  NaN\n",
              "28       nan       NaN  NaN  NaN  NaN\n",
              "29       nan       NaN  NaN  NaN  NaN"
            ]
          },
          "metadata": {
            "tags": []
          },
          "execution_count": 67
        }
      ]
    },
    {
      "metadata": {
        "id": "tQGA36-_ozMS",
        "colab_type": "code",
        "colab": {}
      },
      "cell_type": "code",
      "source": [
        "# 위 결과를 보면 최대 5개의 답을 한 것을 알 수 있다. \n",
        "# 이것을 stack 으로 하면 1개의 열이 될거다\n",
        "t = t.stack()\n"
      ],
      "execution_count": 0,
      "outputs": []
    },
    {
      "metadata": {
        "id": "ZA1qYwqEpU_I",
        "colab_type": "code",
        "colab": {
          "base_uri": "https://localhost:8080/",
          "height": 395
        },
        "outputId": "af96c192-d803-41da-d013-33014fbfbc71"
      },
      "cell_type": "code",
      "source": [
        "# 그러면 인덱스가 2레벨이 된게 보인다. 이걸 reset_index 해주고 기존 인덱스는 버린다 (drop=True)\n",
        "t.reset_index(level=1, drop=True)\n",
        "t.head(20)"
      ],
      "execution_count": 69,
      "outputs": [
        {
          "output_type": "execute_result",
          "data": {
            "text/plain": [
              "0   0         nan\n",
              "1   0         nan\n",
              "2   0    Coursera\n",
              "    1         edX\n",
              "3   0         nan\n",
              "4   0         nan\n",
              "5   0         nan\n",
              "6   0         nan\n",
              "7   0    Coursera\n",
              "8   0         nan\n",
              "9   0         nan\n",
              "10  0    Coursera\n",
              "11  0         nan\n",
              "12  0    Coursera\n",
              "    1    DataCamp\n",
              "    2         edX\n",
              "13  0         nan\n",
              "14  0         nan\n",
              "15  0         nan\n",
              "16  0         nan\n",
              "dtype: object"
            ]
          },
          "metadata": {
            "tags": []
          },
          "execution_count": 69
        }
      ]
    },
    {
      "metadata": {
        "id": "f09ncml2pf9o",
        "colab_type": "code",
        "colab": {
          "base_uri": "https://localhost:8080/",
          "height": 395
        },
        "outputId": "03394d3f-2916-44dd-d95b-cd73ba739e30"
      },
      "cell_type": "code",
      "source": [
        "t.name = 'courses'\n",
        "t.head(20)"
      ],
      "execution_count": 70,
      "outputs": [
        {
          "output_type": "execute_result",
          "data": {
            "text/plain": [
              "0   0         nan\n",
              "1   0         nan\n",
              "2   0    Coursera\n",
              "    1         edX\n",
              "3   0         nan\n",
              "4   0         nan\n",
              "5   0         nan\n",
              "6   0         nan\n",
              "7   0    Coursera\n",
              "8   0         nan\n",
              "9   0         nan\n",
              "10  0    Coursera\n",
              "11  0         nan\n",
              "12  0    Coursera\n",
              "    1    DataCamp\n",
              "    2         edX\n",
              "13  0         nan\n",
              "14  0         nan\n",
              "15  0         nan\n",
              "16  0         nan\n",
              "Name: courses, dtype: object"
            ]
          },
          "metadata": {
            "tags": []
          },
          "execution_count": 70
        }
      ]
    },
    {
      "metadata": {
        "id": "DNj383mWqESS",
        "colab_type": "code",
        "colab": {}
      },
      "cell_type": "code",
      "source": [
        "# nan 는 버리고 그루핑해보자\n",
        "t = t[t != 'nan'].value_counts()"
      ],
      "execution_count": 0,
      "outputs": []
    },
    {
      "metadata": {
        "id": "zrEjJHFMqRgb",
        "colab_type": "code",
        "colab": {
          "base_uri": "https://localhost:8080/",
          "height": 312
        },
        "outputId": "1e65c763-fa76-4068-9a4b-d71a8f043615"
      },
      "cell_type": "code",
      "source": [
        "plt.title(\"유명한 코스\")  # 맷플롯립에서 한글은 안되고 있음.\n",
        "sns.barplot(y=t.index, x=t)"
      ],
      "execution_count": 72,
      "outputs": [
        {
          "output_type": "execute_result",
          "data": {
            "text/plain": [
              "<matplotlib.axes._subplots.AxesSubplot at 0x7f58d6f95a90>"
            ]
          },
          "metadata": {
            "tags": []
          },
          "execution_count": 72
        },
        {
          "output_type": "display_data",
          "data": {
            "image/png": "[encoded data removed]",
            "text/plain": [
              "<matplotlib.figure.Figure at 0x7f58d7913320>"
            ]
          },
          "metadata": {
            "tags": []
          }
        }
      ]
    },
    {
      "metadata": {
        "id": "beI8eRForlAg",
        "colab_type": "code",
        "colab": {
          "base_uri": "https://localhost:8080/",
          "height": 197
        },
        "outputId": "c68b8c37-dc3a-4f93-c57f-8ca49d0553a4"
      },
      "cell_type": "code",
      "source": [
        "# 직무에서 가장 중요한 스킬은? Job 관련 컬럼들을 뽑아보자\n",
        "job_features = [\n",
        " x for x in mcq.columns if x.find(\n",
        " 'JobSkillImportance') != -1\n",
        " and x.find('JobSkillImportanceOther') == -1]\n",
        "\n",
        "job_features"
      ],
      "execution_count": 78,
      "outputs": [
        {
          "output_type": "execute_result",
          "data": {
            "text/plain": [
              "['JobSkillImportanceBigData',\n",
              " 'JobSkillImportanceDegree',\n",
              " 'JobSkillImportanceStats',\n",
              " 'JobSkillImportanceEnterpriseTools',\n",
              " 'JobSkillImportancePython',\n",
              " 'JobSkillImportanceR',\n",
              " 'JobSkillImportanceSQL',\n",
              " 'JobSkillImportanceKaggleRanking',\n",
              " 'JobSkillImportanceMOOC',\n",
              " 'JobSkillImportanceVisualizations']"
            ]
          },
          "metadata": {
            "tags": []
          },
          "execution_count": 78
        }
      ]
    },
    {
      "metadata": {
        "id": "fLijCHZ8rybx",
        "colab_type": "code",
        "colab": {
          "base_uri": "https://localhost:8080/",
          "height": 737
        },
        "outputId": "6d2cd677-b7c5-41fe-c203-6f946b94c9b2"
      },
      "cell_type": "code",
      "source": [
        "# 딕셔너리를 만들고, 각각의 컬럼에서 그루핑하여 비율을 적어둔다\n",
        "jdf = {}\n",
        "for feature in job_features:\n",
        " a = mcq[feature].value_counts()\n",
        " a = a/a.sum()\n",
        " jdf[feature[len('JobSkillImportance'):]] = a\n",
        "\n",
        "jdf"
      ],
      "execution_count": 79,
      "outputs": [
        {
          "output_type": "execute_result",
          "data": {
            "text/plain": [
              "{'BigData': Nice to have    0.574065\n",
              " Necessary       0.379929\n",
              " Unnecessary     0.046006\n",
              " Name: JobSkillImportanceBigData, dtype: float64,\n",
              " 'Degree': Nice to have    0.598107\n",
              " Necessary       0.279867\n",
              " Unnecessary     0.122026\n",
              " Name: JobSkillImportanceDegree, dtype: float64,\n",
              " 'EnterpriseTools': Nice to have    0.564970\n",
              " Unnecessary     0.290200\n",
              " Necessary       0.144829\n",
              " Name: JobSkillImportanceEnterpriseTools, dtype: float64,\n",
              " 'KaggleRanking': Nice to have    0.677261\n",
              " Unnecessary     0.203876\n",
              " Necessary       0.118863\n",
              " Name: JobSkillImportanceKaggleRanking, dtype: float64,\n",
              " 'MOOC': Nice to have    0.606994\n",
              " Unnecessary     0.285752\n",
              " Necessary       0.107255\n",
              " Name: JobSkillImportanceMOOC, dtype: float64,\n",
              " 'Python': Necessary       0.645994\n",
              " Nice to have    0.327214\n",
              " Unnecessary     0.026792\n",
              " Name: JobSkillImportancePython, dtype: float64,\n",
              " 'R': Nice to have    0.513945\n",
              " Necessary       0.414807\n",
              " Unnecessary     0.071247\n",
              " Name: JobSkillImportanceR, dtype: float64,\n",
              " 'SQL': Nice to have    0.491778\n",
              " Necessary       0.434224\n",
              " Unnecessary     0.073998\n",
              " Name: JobSkillImportanceSQL, dtype: float64,\n",
              " 'Stats': Necessary       0.513889\n",
              " Nice to have    0.457576\n",
              " Unnecessary     0.028535\n",
              " Name: JobSkillImportanceStats, dtype: float64,\n",
              " 'Visualizations': Nice to have    0.490820\n",
              " Necessary       0.455392\n",
              " Unnecessary     0.053788\n",
              " Name: JobSkillImportanceVisualizations, dtype: float64}"
            ]
          },
          "metadata": {
            "tags": []
          },
          "execution_count": 79
        }
      ]
    },
    {
      "metadata": {
        "id": "Q_j95BGgsAo2",
        "colab_type": "code",
        "colab": {
          "base_uri": "https://localhost:8080/",
          "height": 359
        },
        "outputId": "9558a154-f1c9-4586-d680-dd048ae444f6"
      },
      "cell_type": "code",
      "source": [
        "jdf = pd.DataFrame(jdf).transpose()\n",
        "jdf"
      ],
      "execution_count": 80,
      "outputs": [
        {
          "output_type": "execute_result",
          "data": {
            "text/html": [
              "<div>\n",
              "<style scoped>\n",
              "    .dataframe tbody tr th:only-of-type {\n",
              "        vertical-align: middle;\n",
              "    }\n",
              "\n",
              "    .dataframe tbody tr th {\n",
              "        vertical-align: top;\n",
              "    }\n",
              "\n",
              "    .dataframe thead th {\n",
              "        text-align: right;\n",
              "    }\n",
              "</style>\n",
              "<table border=\"1\" class=\"dataframe\">\n",
              "  <thead>\n",
              "    <tr style=\"text-align: right;\">\n",
              "      <th></th>\n",
              "      <th>Necessary</th>\n",
              "      <th>Nice to have</th>\n",
              "      <th>Unnecessary</th>\n",
              "    </tr>\n",
              "  </thead>\n",
              "  <tbody>\n",
              "    <tr>\n",
              "      <th>BigData</th>\n",
              "      <td>0.379929</td>\n",
              "      <td>0.574065</td>\n",
              "      <td>0.046006</td>\n",
              "    </tr>\n",
              "    <tr>\n",
              "      <th>Degree</th>\n",
              "      <td>0.279867</td>\n",
              "      <td>0.598107</td>\n",
              "      <td>0.122026</td>\n",
              "    </tr>\n",
              "    <tr>\n",
              "      <th>EnterpriseTools</th>\n",
              "      <td>0.144829</td>\n",
              "      <td>0.564970</td>\n",
              "      <td>0.290200</td>\n",
              "    </tr>\n",
              "    <tr>\n",
              "      <th>KaggleRanking</th>\n",
              "      <td>0.118863</td>\n",
              "      <td>0.677261</td>\n",
              "      <td>0.203876</td>\n",
              "    </tr>\n",
              "    <tr>\n",
              "      <th>MOOC</th>\n",
              "      <td>0.107255</td>\n",
              "      <td>0.606994</td>\n",
              "      <td>0.285752</td>\n",
              "    </tr>\n",
              "    <tr>\n",
              "      <th>Python</th>\n",
              "      <td>0.645994</td>\n",
              "      <td>0.327214</td>\n",
              "      <td>0.026792</td>\n",
              "    </tr>\n",
              "    <tr>\n",
              "      <th>R</th>\n",
              "      <td>0.414807</td>\n",
              "      <td>0.513945</td>\n",
              "      <td>0.071247</td>\n",
              "    </tr>\n",
              "    <tr>\n",
              "      <th>SQL</th>\n",
              "      <td>0.434224</td>\n",
              "      <td>0.491778</td>\n",
              "      <td>0.073998</td>\n",
              "    </tr>\n",
              "    <tr>\n",
              "      <th>Stats</th>\n",
              "      <td>0.513889</td>\n",
              "      <td>0.457576</td>\n",
              "      <td>0.028535</td>\n",
              "    </tr>\n",
              "    <tr>\n",
              "      <th>Visualizations</th>\n",
              "      <td>0.455392</td>\n",
              "      <td>0.490820</td>\n",
              "      <td>0.053788</td>\n",
              "    </tr>\n",
              "  </tbody>\n",
              "</table>\n",
              "</div>"
            ],
            "text/plain": [
              "                 Necessary  Nice to have  Unnecessary\n",
              "BigData           0.379929      0.574065     0.046006\n",
              "Degree            0.279867      0.598107     0.122026\n",
              "EnterpriseTools   0.144829      0.564970     0.290200\n",
              "KaggleRanking     0.118863      0.677261     0.203876\n",
              "MOOC              0.107255      0.606994     0.285752\n",
              "Python            0.645994      0.327214     0.026792\n",
              "R                 0.414807      0.513945     0.071247\n",
              "SQL               0.434224      0.491778     0.073998\n",
              "Stats             0.513889      0.457576     0.028535\n",
              "Visualizations    0.455392      0.490820     0.053788"
            ]
          },
          "metadata": {
            "tags": []
          },
          "execution_count": 80
        }
      ]
    },
    {
      "metadata": {
        "id": "sYqW2SsEsE8h",
        "colab_type": "code",
        "colab": {
          "base_uri": "https://localhost:8080/",
          "height": 392
        },
        "outputId": "757c5dfc-4da3-42b8-8ae6-dcdddae08dbf"
      },
      "cell_type": "code",
      "source": [
        "# 히트맵을 써보자\n",
        "plt.figure(figsize=(10,6))\n",
        "sns.heatmap(jdf.sort_values(\"Necessary\", ascending=False), annot=True) # annot 는 각 셀의 값 적어줄지 여부임"
      ],
      "execution_count": 81,
      "outputs": [
        {
          "output_type": "execute_result",
          "data": {
            "text/plain": [
              "<matplotlib.axes._subplots.AxesSubplot at 0x7f58d466cf60>"
            ]
          },
          "metadata": {
            "tags": []
          },
          "execution_count": 81
        },
        {
          "output_type": "display_data",
          "data": {
            "image/png": "[encoded data removed]",
            "text/plain": [
              "<matplotlib.figure.Figure at 0x7f58d335f828>"
            ]
          },
          "metadata": {
            "tags": []
          }
        }
      ]
    },
    {
      "metadata": {
        "id": "SrvJFp5EtfIL",
        "colab_type": "code",
        "colab": {
          "base_uri": "https://localhost:8080/",
          "height": 467
        },
        "outputId": "66f373c0-d3a2-4aba-a9df-89a5f97eb163"
      },
      "cell_type": "code",
      "source": [
        "jdf.plot(kind='bar', figsize=(12,6),\n",
        " title=\"Skill Importance in Data Science Jobs\")"
      ],
      "execution_count": 82,
      "outputs": [
        {
          "output_type": "execute_result",
          "data": {
            "text/plain": [
              "<matplotlib.axes._subplots.AxesSubplot at 0x7f58d3d4c630>"
            ]
          },
          "metadata": {
            "tags": []
          },
          "execution_count": 82
        },
        {
          "output_type": "display_data",
          "data": {
            "image/png": "[encoded data removed]",
            "text/plain": [
              "<matplotlib.figure.Figure at 0x7f58d44e9048>"
            ]
          },
          "metadata": {
            "tags": []
          }
        }
      ]
    },
    {
      "metadata": {
        "id": "oNb0OFDruCyT",
        "colab_type": "text"
      },
      "cell_type": "markdown",
      "source": [
        "# 데이터 과학자의 평균급여"
      ]
    },
    {
      "metadata": {
        "id": "cbJEw0uJvk1-",
        "colab_type": "code",
        "colab": {}
      },
      "cell_type": "code",
      "source": [
        "#mcq 가 오염되었을 경우 대비해 새로 만들어두자\n",
        "mcq = pd.read_csv('multipleChoiceResponses.csv', encoding=\"ISO-8859-1\", low_memory=False)"
      ],
      "execution_count": 0,
      "outputs": []
    },
    {
      "metadata": {
        "id": "chz3BhMzuHtp",
        "colab_type": "code",
        "colab": {
          "base_uri": "https://localhost:8080/",
          "height": 35
        },
        "outputId": "4416b4e0-cebc-456b-b919-3f68031190ad"
      },
      "cell_type": "code",
      "source": [
        "mcq[mcq['CompensationAmount'].notnull()].shape"
      ],
      "execution_count": 98,
      "outputs": [
        {
          "output_type": "execute_result",
          "data": {
            "text/plain": [
              "(5224, 228)"
            ]
          },
          "metadata": {
            "tags": []
          },
          "execution_count": 98
        }
      ]
    },
    {
      "metadata": {
        "id": "2V7pTg16voi7",
        "colab_type": "code",
        "colab": {
          "base_uri": "https://localhost:8080/",
          "height": 125
        },
        "outputId": "c6755f19-5998-457e-d357-6c087eb4bf26"
      },
      "cell_type": "code",
      "source": [
        "mcq['CompensationAmount'].head()"
      ],
      "execution_count": 99,
      "outputs": [
        {
          "output_type": "execute_result",
          "data": {
            "text/plain": [
              "0        NaN\n",
              "1        NaN\n",
              "2        NaN\n",
              "3    250,000\n",
              "4        NaN\n",
              "Name: CompensationAmount, dtype: object"
            ]
          },
          "metadata": {
            "tags": []
          },
          "execution_count": 99
        }
      ]
    },
    {
      "metadata": {
        "id": "Y0kS4alIumkp",
        "colab_type": "code",
        "colab": {
          "base_uri": "https://localhost:8080/",
          "height": 125
        },
        "outputId": "83f90953-64b7-4c0a-fe3f-30419290673a"
      },
      "cell_type": "code",
      "source": [
        "mcq['CompensationAmount'] = mcq[ 'CompensationAmount'].str.replace(',','') # 콤마는 없애자. 급여에 콤마로 적은 애들이 있음\n",
        "mcq['CompensationAmount'] = mcq[ 'CompensationAmount'].str.replace('-','') # -도 없애자 \n",
        "\n",
        "mcq['CompensationAmount'].head()"
      ],
      "execution_count": 101,
      "outputs": [
        {
          "output_type": "execute_result",
          "data": {
            "text/plain": [
              "0       NaN\n",
              "1       NaN\n",
              "2       NaN\n",
              "3    250000\n",
              "4       NaN\n",
              "Name: CompensationAmount, dtype: object"
            ]
          },
          "metadata": {
            "tags": []
          },
          "execution_count": 101
        }
      ]
    },
    {
      "metadata": {
        "id": "gjYRh-VGvbWb",
        "colab_type": "code",
        "colab": {
          "base_uri": "https://localhost:8080/",
          "height": 204
        },
        "outputId": "6641e68d-aaf5-495c-8d65-e62b75cc2a66"
      },
      "cell_type": "code",
      "source": [
        "# 환율계산을 위한 정보 가져오기\n",
        "rates = pd.read_csv('conversionRates.csv')\n",
        "rates.drop('Unnamed: 0',axis=1,inplace=True)\n",
        "\n",
        "salary = mcq[ ['CompensationAmount','CompensationCurrency', 'GenderSelect', 'Country', 'CurrentJobTitleSelect']].dropna()\n",
        "salary = salary.merge(rates,left_on='CompensationCurrency', right_on='originCountry', how='left')\n",
        "salary['Salary'] = pd.to_numeric( salary['CompensationAmount']) * salary['exchangeRate']\n",
        "salary.head()"
      ],
      "execution_count": 102,
      "outputs": [
        {
          "output_type": "execute_result",
          "data": {
            "text/html": [
              "<div>\n",
              "<style scoped>\n",
              "    .dataframe tbody tr th:only-of-type {\n",
              "        vertical-align: middle;\n",
              "    }\n",
              "\n",
              "    .dataframe tbody tr th {\n",
              "        vertical-align: top;\n",
              "    }\n",
              "\n",
              "    .dataframe thead th {\n",
              "        text-align: right;\n",
              "    }\n",
              "</style>\n",
              "<table border=\"1\" class=\"dataframe\">\n",
              "  <thead>\n",
              "    <tr style=\"text-align: right;\">\n",
              "      <th></th>\n",
              "      <th>CompensationAmount</th>\n",
              "      <th>CompensationCurrency</th>\n",
              "      <th>GenderSelect</th>\n",
              "      <th>Country</th>\n",
              "      <th>CurrentJobTitleSelect</th>\n",
              "      <th>originCountry</th>\n",
              "      <th>exchangeRate</th>\n",
              "      <th>Salary</th>\n",
              "    </tr>\n",
              "  </thead>\n",
              "  <tbody>\n",
              "    <tr>\n",
              "      <th>0</th>\n",
              "      <td>250000</td>\n",
              "      <td>USD</td>\n",
              "      <td>Male</td>\n",
              "      <td>United States</td>\n",
              "      <td>Operations Research Practitioner</td>\n",
              "      <td>USD</td>\n",
              "      <td>1.000000</td>\n",
              "      <td>250000.0</td>\n",
              "    </tr>\n",
              "    <tr>\n",
              "      <th>1</th>\n",
              "      <td>80000</td>\n",
              "      <td>AUD</td>\n",
              "      <td>Female</td>\n",
              "      <td>Australia</td>\n",
              "      <td>Business Analyst</td>\n",
              "      <td>AUD</td>\n",
              "      <td>0.802310</td>\n",
              "      <td>64184.8</td>\n",
              "    </tr>\n",
              "    <tr>\n",
              "      <th>2</th>\n",
              "      <td>1200000</td>\n",
              "      <td>RUB</td>\n",
              "      <td>Male</td>\n",
              "      <td>Russia</td>\n",
              "      <td>Software Developer/Software Engineer</td>\n",
              "      <td>RUB</td>\n",
              "      <td>0.017402</td>\n",
              "      <td>20882.4</td>\n",
              "    </tr>\n",
              "    <tr>\n",
              "      <th>3</th>\n",
              "      <td>95000</td>\n",
              "      <td>INR</td>\n",
              "      <td>Male</td>\n",
              "      <td>India</td>\n",
              "      <td>Data Scientist</td>\n",
              "      <td>INR</td>\n",
              "      <td>0.015620</td>\n",
              "      <td>1483.9</td>\n",
              "    </tr>\n",
              "    <tr>\n",
              "      <th>4</th>\n",
              "      <td>1100000</td>\n",
              "      <td>TWD</td>\n",
              "      <td>Male</td>\n",
              "      <td>Taiwan</td>\n",
              "      <td>Software Developer/Software Engineer</td>\n",
              "      <td>TWD</td>\n",
              "      <td>0.033304</td>\n",
              "      <td>36634.4</td>\n",
              "    </tr>\n",
              "  </tbody>\n",
              "</table>\n",
              "</div>"
            ],
            "text/plain": [
              "  CompensationAmount CompensationCurrency GenderSelect        Country  \\\n",
              "0             250000                  USD         Male  United States   \n",
              "1              80000                  AUD       Female      Australia   \n",
              "2            1200000                  RUB         Male         Russia   \n",
              "3              95000                  INR         Male          India   \n",
              "4            1100000                  TWD         Male         Taiwan   \n",
              "\n",
              "                  CurrentJobTitleSelect originCountry  exchangeRate    Salary  \n",
              "0      Operations Research Practitioner           USD      1.000000  250000.0  \n",
              "1                      Business Analyst           AUD      0.802310   64184.8  \n",
              "2  Software Developer/Software Engineer           RUB      0.017402   20882.4  \n",
              "3                        Data Scientist           INR      0.015620    1483.9  \n",
              "4  Software Developer/Software Engineer           TWD      0.033304   36634.4  "
            ]
          },
          "metadata": {
            "tags": []
          },
          "execution_count": 102
        }
      ]
    },
    {
      "metadata": {
        "id": "FYkuL7sTv7fs",
        "colab_type": "code",
        "colab": {
          "base_uri": "https://localhost:8080/",
          "height": 747
        },
        "outputId": "e2cbc757-ea01-4729-e594-6821a6908dbd"
      },
      "cell_type": "code",
      "source": [
        "plt.subplots(figsize=(8,12))\n",
        "\n",
        "sal_coun = salary.groupby('Country')['Salary'].median().sort_values( ascending=False)[:30].to_frame()\n",
        "\n",
        "sns.barplot('Salary', sal_coun.index, data = sal_coun, palette='RdYlGn')\n",
        "\n",
        "plt.axvline(salary['Salary'].median(), linestyle='dashed')\n",
        "plt.title('Highest Salary Paying Countries')"
      ],
      "execution_count": 103,
      "outputs": [
        {
          "output_type": "execute_result",
          "data": {
            "text/plain": [
              "Text(0.5,1,'Highest Salary Paying Countries')"
            ]
          },
          "metadata": {
            "tags": []
          },
          "execution_count": 103
        },
        {
          "output_type": "display_data",
          "data": {
            "image/png": "[encoded data removed]",
            "text/plain": [
              "<matplotlib.figure.Figure at 0x7f58d34fc4e0>"
            ]
          },
          "metadata": {
            "tags": []
          }
        }
      ]
    },
    {
      "metadata": {
        "id": "k1S4gsbwxSNU",
        "colab_type": "code",
        "colab": {
          "base_uri": "https://localhost:8080/",
          "height": 297
        },
        "outputId": "50786309-515d-469e-b21f-f28eeaf72f2f"
      },
      "cell_type": "code",
      "source": [
        "salary_korea = salary.loc[(salary['Country']=='South Korea')]\n",
        "plt.subplots(figsize=(8,4))\n",
        "sns.boxplot(y='GenderSelect',x='Salary',data=salary_korea)"
      ],
      "execution_count": 105,
      "outputs": [
        {
          "output_type": "execute_result",
          "data": {
            "text/plain": [
              "<matplotlib.axes._subplots.AxesSubplot at 0x7f58d7457b70>"
            ]
          },
          "metadata": {
            "tags": []
          },
          "execution_count": 105
        },
        {
          "output_type": "display_data",
          "data": {
            "image/png": "[encoded data removed]",
            "text/plain": [
              "<matplotlib.figure.Figure at 0x7f58d4d57c50>"
            ]
          },
          "metadata": {
            "tags": []
          }
        }
      ]
    },
    {
      "metadata": {
        "id": "G5-XE0SbxUzZ",
        "colab_type": "code",
        "colab": {
          "base_uri": "https://localhost:8080/",
          "height": 35
        },
        "outputId": "bf3f7445-513a-4fb5-ff19-0281f74afa26"
      },
      "cell_type": "code",
      "source": [
        "salary_korea.shape"
      ],
      "execution_count": 106,
      "outputs": [
        {
          "output_type": "execute_result",
          "data": {
            "text/plain": [
              "(26, 8)"
            ]
          },
          "metadata": {
            "tags": []
          },
          "execution_count": 106
        }
      ]
    },
    {
      "metadata": {
        "id": "RPqZTogPxre0",
        "colab_type": "code",
        "colab": {
          "base_uri": "https://localhost:8080/",
          "height": 142
        },
        "outputId": "8a3b1faf-6284-454a-8e4b-6ddf3cb97d3b"
      },
      "cell_type": "code",
      "source": [
        "salary_korea[salary_korea['GenderSelect'] == 'Female']"
      ],
      "execution_count": 107,
      "outputs": [
        {
          "output_type": "execute_result",
          "data": {
            "text/html": [
              "<div>\n",
              "<style scoped>\n",
              "    .dataframe tbody tr th:only-of-type {\n",
              "        vertical-align: middle;\n",
              "    }\n",
              "\n",
              "    .dataframe tbody tr th {\n",
              "        vertical-align: top;\n",
              "    }\n",
              "\n",
              "    .dataframe thead th {\n",
              "        text-align: right;\n",
              "    }\n",
              "</style>\n",
              "<table border=\"1\" class=\"dataframe\">\n",
              "  <thead>\n",
              "    <tr style=\"text-align: right;\">\n",
              "      <th></th>\n",
              "      <th>CompensationAmount</th>\n",
              "      <th>CompensationCurrency</th>\n",
              "      <th>GenderSelect</th>\n",
              "      <th>Country</th>\n",
              "      <th>CurrentJobTitleSelect</th>\n",
              "      <th>originCountry</th>\n",
              "      <th>exchangeRate</th>\n",
              "      <th>Salary</th>\n",
              "    </tr>\n",
              "  </thead>\n",
              "  <tbody>\n",
              "    <tr>\n",
              "      <th>479</th>\n",
              "      <td>30000</td>\n",
              "      <td>KRW</td>\n",
              "      <td>Female</td>\n",
              "      <td>South Korea</td>\n",
              "      <td>Data Analyst</td>\n",
              "      <td>KRW</td>\n",
              "      <td>0.000886</td>\n",
              "      <td>26.58</td>\n",
              "    </tr>\n",
              "    <tr>\n",
              "      <th>2903</th>\n",
              "      <td>800000</td>\n",
              "      <td>KRW</td>\n",
              "      <td>Female</td>\n",
              "      <td>South Korea</td>\n",
              "      <td>Researcher</td>\n",
              "      <td>KRW</td>\n",
              "      <td>0.000886</td>\n",
              "      <td>708.80</td>\n",
              "    </tr>\n",
              "    <tr>\n",
              "      <th>4063</th>\n",
              "      <td>60000000</td>\n",
              "      <td>KRW</td>\n",
              "      <td>Female</td>\n",
              "      <td>South Korea</td>\n",
              "      <td>Researcher</td>\n",
              "      <td>KRW</td>\n",
              "      <td>0.000886</td>\n",
              "      <td>53160.00</td>\n",
              "    </tr>\n",
              "  </tbody>\n",
              "</table>\n",
              "</div>"
            ],
            "text/plain": [
              "     CompensationAmount CompensationCurrency GenderSelect      Country  \\\n",
              "479               30000                  KRW       Female  South Korea   \n",
              "2903             800000                  KRW       Female  South Korea   \n",
              "4063           60000000                  KRW       Female  South Korea   \n",
              "\n",
              "     CurrentJobTitleSelect originCountry  exchangeRate    Salary  \n",
              "479           Data Analyst           KRW      0.000886     26.58  \n",
              "2903            Researcher           KRW      0.000886    708.80  \n",
              "4063            Researcher           KRW      0.000886  53160.00  "
            ]
          },
          "metadata": {
            "tags": []
          },
          "execution_count": 107
        }
      ]
    },
    {
      "metadata": {
        "id": "LNQlxchbxtMb",
        "colab_type": "code",
        "colab": {
          "base_uri": "https://localhost:8080/",
          "height": 179
        },
        "outputId": "b7795c60-c933-407b-9af5-2b62fb6ec141"
      },
      "cell_type": "code",
      "source": [
        "salary_korea_male = salary_korea[\n",
        " salary_korea['GenderSelect']== 'Male']\n",
        "salary_korea_male['Salary'].describe()"
      ],
      "execution_count": 108,
      "outputs": [
        {
          "output_type": "execute_result",
          "data": {
            "text/plain": [
              "count        23.000000\n",
              "mean      43540.617217\n",
              "std       37800.608484\n",
              "min           0.886000\n",
              "25%       17500.000000\n",
              "50%       37212.000000\n",
              "75%       59238.000000\n",
              "max      177200.000000\n",
              "Name: Salary, dtype: float64"
            ]
          },
          "metadata": {
            "tags": []
          },
          "execution_count": 108
        }
      ]
    },
    {
      "metadata": {
        "id": "zAUlUDmzxvhP",
        "colab_type": "code",
        "colab": {
          "base_uri": "https://localhost:8080/",
          "height": 762
        },
        "outputId": "e19e3df4-2cfb-4ede-9a4a-5f73806094de"
      },
      "cell_type": "code",
      "source": [
        "salary_korea_male"
      ],
      "execution_count": 109,
      "outputs": [
        {
          "output_type": "execute_result",
          "data": {
            "text/html": [
              "<div>\n",
              "<style scoped>\n",
              "    .dataframe tbody tr th:only-of-type {\n",
              "        vertical-align: middle;\n",
              "    }\n",
              "\n",
              "    .dataframe tbody tr th {\n",
              "        vertical-align: top;\n",
              "    }\n",
              "\n",
              "    .dataframe thead th {\n",
              "        text-align: right;\n",
              "    }\n",
              "</style>\n",
              "<table border=\"1\" class=\"dataframe\">\n",
              "  <thead>\n",
              "    <tr style=\"text-align: right;\">\n",
              "      <th></th>\n",
              "      <th>CompensationAmount</th>\n",
              "      <th>CompensationCurrency</th>\n",
              "      <th>GenderSelect</th>\n",
              "      <th>Country</th>\n",
              "      <th>CurrentJobTitleSelect</th>\n",
              "      <th>originCountry</th>\n",
              "      <th>exchangeRate</th>\n",
              "      <th>Salary</th>\n",
              "    </tr>\n",
              "  </thead>\n",
              "  <tbody>\n",
              "    <tr>\n",
              "      <th>85</th>\n",
              "      <td>40000000</td>\n",
              "      <td>KRW</td>\n",
              "      <td>Male</td>\n",
              "      <td>South Korea</td>\n",
              "      <td>Business Analyst</td>\n",
              "      <td>KRW</td>\n",
              "      <td>0.000886</td>\n",
              "      <td>35440.000</td>\n",
              "    </tr>\n",
              "    <tr>\n",
              "      <th>147</th>\n",
              "      <td>80000</td>\n",
              "      <td>USD</td>\n",
              "      <td>Male</td>\n",
              "      <td>South Korea</td>\n",
              "      <td>Researcher</td>\n",
              "      <td>USD</td>\n",
              "      <td>1.000000</td>\n",
              "      <td>80000.000</td>\n",
              "    </tr>\n",
              "    <tr>\n",
              "      <th>314</th>\n",
              "      <td>60000</td>\n",
              "      <td>USD</td>\n",
              "      <td>Male</td>\n",
              "      <td>South Korea</td>\n",
              "      <td>Business Analyst</td>\n",
              "      <td>USD</td>\n",
              "      <td>1.000000</td>\n",
              "      <td>60000.000</td>\n",
              "    </tr>\n",
              "    <tr>\n",
              "      <th>333</th>\n",
              "      <td>60000000</td>\n",
              "      <td>KRW</td>\n",
              "      <td>Male</td>\n",
              "      <td>South Korea</td>\n",
              "      <td>Researcher</td>\n",
              "      <td>KRW</td>\n",
              "      <td>0.000886</td>\n",
              "      <td>53160.000</td>\n",
              "    </tr>\n",
              "    <tr>\n",
              "      <th>562</th>\n",
              "      <td>50000000</td>\n",
              "      <td>KRW</td>\n",
              "      <td>Male</td>\n",
              "      <td>South Korea</td>\n",
              "      <td>Researcher</td>\n",
              "      <td>KRW</td>\n",
              "      <td>0.000886</td>\n",
              "      <td>44300.000</td>\n",
              "    </tr>\n",
              "    <tr>\n",
              "      <th>769</th>\n",
              "      <td>42000000</td>\n",
              "      <td>KRW</td>\n",
              "      <td>Male</td>\n",
              "      <td>South Korea</td>\n",
              "      <td>Software Developer/Software Engineer</td>\n",
              "      <td>KRW</td>\n",
              "      <td>0.000886</td>\n",
              "      <td>37212.000</td>\n",
              "    </tr>\n",
              "    <tr>\n",
              "      <th>799</th>\n",
              "      <td>1000</td>\n",
              "      <td>KRW</td>\n",
              "      <td>Male</td>\n",
              "      <td>South Korea</td>\n",
              "      <td>Machine Learning Engineer</td>\n",
              "      <td>KRW</td>\n",
              "      <td>0.000886</td>\n",
              "      <td>0.886</td>\n",
              "    </tr>\n",
              "    <tr>\n",
              "      <th>1060</th>\n",
              "      <td>75000000</td>\n",
              "      <td>KRW</td>\n",
              "      <td>Male</td>\n",
              "      <td>South Korea</td>\n",
              "      <td>Scientist/Researcher</td>\n",
              "      <td>KRW</td>\n",
              "      <td>0.000886</td>\n",
              "      <td>66450.000</td>\n",
              "    </tr>\n",
              "    <tr>\n",
              "      <th>1360</th>\n",
              "      <td>30000000</td>\n",
              "      <td>KRW</td>\n",
              "      <td>Male</td>\n",
              "      <td>South Korea</td>\n",
              "      <td>Statistician</td>\n",
              "      <td>KRW</td>\n",
              "      <td>0.000886</td>\n",
              "      <td>26580.000</td>\n",
              "    </tr>\n",
              "    <tr>\n",
              "      <th>1568</th>\n",
              "      <td>90000</td>\n",
              "      <td>SGD</td>\n",
              "      <td>Male</td>\n",
              "      <td>South Korea</td>\n",
              "      <td>Computer Scientist</td>\n",
              "      <td>SGD</td>\n",
              "      <td>0.742589</td>\n",
              "      <td>66833.010</td>\n",
              "    </tr>\n",
              "    <tr>\n",
              "      <th>1576</th>\n",
              "      <td>10800000</td>\n",
              "      <td>KRW</td>\n",
              "      <td>Male</td>\n",
              "      <td>South Korea</td>\n",
              "      <td>Data Scientist</td>\n",
              "      <td>KRW</td>\n",
              "      <td>0.000886</td>\n",
              "      <td>9568.800</td>\n",
              "    </tr>\n",
              "    <tr>\n",
              "      <th>1905</th>\n",
              "      <td>20000</td>\n",
              "      <td>USD</td>\n",
              "      <td>Male</td>\n",
              "      <td>South Korea</td>\n",
              "      <td>Researcher</td>\n",
              "      <td>USD</td>\n",
              "      <td>1.000000</td>\n",
              "      <td>20000.000</td>\n",
              "    </tr>\n",
              "    <tr>\n",
              "      <th>1945</th>\n",
              "      <td>50000</td>\n",
              "      <td>KRW</td>\n",
              "      <td>Male</td>\n",
              "      <td>South Korea</td>\n",
              "      <td>Machine Learning Engineer</td>\n",
              "      <td>KRW</td>\n",
              "      <td>0.000886</td>\n",
              "      <td>44.300</td>\n",
              "    </tr>\n",
              "    <tr>\n",
              "      <th>1949</th>\n",
              "      <td>80000000</td>\n",
              "      <td>KRW</td>\n",
              "      <td>Male</td>\n",
              "      <td>South Korea</td>\n",
              "      <td>Software Developer/Software Engineer</td>\n",
              "      <td>KRW</td>\n",
              "      <td>0.000886</td>\n",
              "      <td>70880.000</td>\n",
              "    </tr>\n",
              "    <tr>\n",
              "      <th>2322</th>\n",
              "      <td>200000000</td>\n",
              "      <td>KRW</td>\n",
              "      <td>Male</td>\n",
              "      <td>South Korea</td>\n",
              "      <td>Other</td>\n",
              "      <td>KRW</td>\n",
              "      <td>0.000886</td>\n",
              "      <td>177200.000</td>\n",
              "    </tr>\n",
              "    <tr>\n",
              "      <th>2334</th>\n",
              "      <td>60000000</td>\n",
              "      <td>KRW</td>\n",
              "      <td>Male</td>\n",
              "      <td>South Korea</td>\n",
              "      <td>Machine Learning Engineer</td>\n",
              "      <td>KRW</td>\n",
              "      <td>0.000886</td>\n",
              "      <td>53160.000</td>\n",
              "    </tr>\n",
              "    <tr>\n",
              "      <th>2557</th>\n",
              "      <td>7200000</td>\n",
              "      <td>KRW</td>\n",
              "      <td>Male</td>\n",
              "      <td>South Korea</td>\n",
              "      <td>Researcher</td>\n",
              "      <td>KRW</td>\n",
              "      <td>0.000886</td>\n",
              "      <td>6379.200</td>\n",
              "    </tr>\n",
              "    <tr>\n",
              "      <th>2924</th>\n",
              "      <td>15000</td>\n",
              "      <td>USD</td>\n",
              "      <td>Male</td>\n",
              "      <td>South Korea</td>\n",
              "      <td>Researcher</td>\n",
              "      <td>USD</td>\n",
              "      <td>1.000000</td>\n",
              "      <td>15000.000</td>\n",
              "    </tr>\n",
              "    <tr>\n",
              "      <th>3394</th>\n",
              "      <td>66000000</td>\n",
              "      <td>KRW</td>\n",
              "      <td>Male</td>\n",
              "      <td>South Korea</td>\n",
              "      <td>Programmer</td>\n",
              "      <td>KRW</td>\n",
              "      <td>0.000886</td>\n",
              "      <td>58476.000</td>\n",
              "    </tr>\n",
              "    <tr>\n",
              "      <th>3832</th>\n",
              "      <td>30000000</td>\n",
              "      <td>KRW</td>\n",
              "      <td>Male</td>\n",
              "      <td>South Korea</td>\n",
              "      <td>Data Scientist</td>\n",
              "      <td>KRW</td>\n",
              "      <td>0.000886</td>\n",
              "      <td>26580.000</td>\n",
              "    </tr>\n",
              "    <tr>\n",
              "      <th>3979</th>\n",
              "      <td>35000000</td>\n",
              "      <td>KRW</td>\n",
              "      <td>Male</td>\n",
              "      <td>South Korea</td>\n",
              "      <td>Researcher</td>\n",
              "      <td>KRW</td>\n",
              "      <td>0.000886</td>\n",
              "      <td>31010.000</td>\n",
              "    </tr>\n",
              "    <tr>\n",
              "      <th>4300</th>\n",
              "      <td>60000000</td>\n",
              "      <td>KRW</td>\n",
              "      <td>Male</td>\n",
              "      <td>South Korea</td>\n",
              "      <td>Scientist/Researcher</td>\n",
              "      <td>KRW</td>\n",
              "      <td>0.000886</td>\n",
              "      <td>53160.000</td>\n",
              "    </tr>\n",
              "    <tr>\n",
              "      <th>4366</th>\n",
              "      <td>10000</td>\n",
              "      <td>USD</td>\n",
              "      <td>Male</td>\n",
              "      <td>South Korea</td>\n",
              "      <td>Data Scientist</td>\n",
              "      <td>USD</td>\n",
              "      <td>1.000000</td>\n",
              "      <td>10000.000</td>\n",
              "    </tr>\n",
              "  </tbody>\n",
              "</table>\n",
              "</div>"
            ],
            "text/plain": [
              "     CompensationAmount CompensationCurrency GenderSelect      Country  \\\n",
              "85             40000000                  KRW         Male  South Korea   \n",
              "147               80000                  USD         Male  South Korea   \n",
              "314               60000                  USD         Male  South Korea   \n",
              "333            60000000                  KRW         Male  South Korea   \n",
              "562            50000000                  KRW         Male  South Korea   \n",
              "769            42000000                  KRW         Male  South Korea   \n",
              "799                1000                  KRW         Male  South Korea   \n",
              "1060           75000000                  KRW         Male  South Korea   \n",
              "1360           30000000                  KRW         Male  South Korea   \n",
              "1568              90000                  SGD         Male  South Korea   \n",
              "1576           10800000                  KRW         Male  South Korea   \n",
              "1905              20000                  USD         Male  South Korea   \n",
              "1945              50000                  KRW         Male  South Korea   \n",
              "1949           80000000                  KRW         Male  South Korea   \n",
              "2322          200000000                  KRW         Male  South Korea   \n",
              "2334           60000000                  KRW         Male  South Korea   \n",
              "2557            7200000                  KRW         Male  South Korea   \n",
              "2924              15000                  USD         Male  South Korea   \n",
              "3394           66000000                  KRW         Male  South Korea   \n",
              "3832           30000000                  KRW         Male  South Korea   \n",
              "3979           35000000                  KRW         Male  South Korea   \n",
              "4300           60000000                  KRW         Male  South Korea   \n",
              "4366              10000                  USD         Male  South Korea   \n",
              "\n",
              "                     CurrentJobTitleSelect originCountry  exchangeRate  \\\n",
              "85                        Business Analyst           KRW      0.000886   \n",
              "147                             Researcher           USD      1.000000   \n",
              "314                       Business Analyst           USD      1.000000   \n",
              "333                             Researcher           KRW      0.000886   \n",
              "562                             Researcher           KRW      0.000886   \n",
              "769   Software Developer/Software Engineer           KRW      0.000886   \n",
              "799              Machine Learning Engineer           KRW      0.000886   \n",
              "1060                  Scientist/Researcher           KRW      0.000886   \n",
              "1360                          Statistician           KRW      0.000886   \n",
              "1568                    Computer Scientist           SGD      0.742589   \n",
              "1576                        Data Scientist           KRW      0.000886   \n",
              "1905                            Researcher           USD      1.000000   \n",
              "1945             Machine Learning Engineer           KRW      0.000886   \n",
              "1949  Software Developer/Software Engineer           KRW      0.000886   \n",
              "2322                                 Other           KRW      0.000886   \n",
              "2334             Machine Learning Engineer           KRW      0.000886   \n",
              "2557                            Researcher           KRW      0.000886   \n",
              "2924                            Researcher           USD      1.000000   \n",
              "3394                            Programmer           KRW      0.000886   \n",
              "3832                        Data Scientist           KRW      0.000886   \n",
              "3979                            Researcher           KRW      0.000886   \n",
              "4300                  Scientist/Researcher           KRW      0.000886   \n",
              "4366                        Data Scientist           USD      1.000000   \n",
              "\n",
              "          Salary  \n",
              "85     35440.000  \n",
              "147    80000.000  \n",
              "314    60000.000  \n",
              "333    53160.000  \n",
              "562    44300.000  \n",
              "769    37212.000  \n",
              "799        0.886  \n",
              "1060   66450.000  \n",
              "1360   26580.000  \n",
              "1568   66833.010  \n",
              "1576    9568.800  \n",
              "1905   20000.000  \n",
              "1945      44.300  \n",
              "1949   70880.000  \n",
              "2322  177200.000  \n",
              "2334   53160.000  \n",
              "2557    6379.200  \n",
              "2924   15000.000  \n",
              "3394   58476.000  \n",
              "3832   26580.000  \n",
              "3979   31010.000  \n",
              "4300   53160.000  \n",
              "4366   10000.000  "
            ]
          },
          "metadata": {
            "tags": []
          },
          "execution_count": 109
        }
      ]
    },
    {
      "metadata": {
        "id": "YiwfwOz6xxTJ",
        "colab_type": "text"
      },
      "cell_type": "markdown",
      "source": [
        "# 개인 프로젝트, 학습용 데이터를 얻는 방법\n"
      ]
    },
    {
      "metadata": {
        "id": "dLHf_0R7x16b",
        "colab_type": "code",
        "colab": {}
      },
      "cell_type": "code",
      "source": [
        "mcq['PublicDatasetsSelect'] = mcq[\n",
        " 'PublicDatasetsSelect'].astype('str').apply(\n",
        " lambda x: x.split(',')\n",
        " )"
      ],
      "execution_count": 0,
      "outputs": []
    },
    {
      "metadata": {
        "id": "8QdXNtnYx3Oc",
        "colab_type": "code",
        "colab": {}
      },
      "cell_type": "code",
      "source": [
        "q = mcq.apply(\n",
        " lambda x: pd.Series(x['PublicDatasetsSelect']),\n",
        " axis=1).stack().reset_index(level=1, drop=True)\n",
        "\n",
        "q.name = 'courses'"
      ],
      "execution_count": 0,
      "outputs": []
    },
    {
      "metadata": {
        "id": "TlbY8MYcx5hc",
        "colab_type": "code",
        "colab": {
          "base_uri": "https://localhost:8080/",
          "height": 125
        },
        "outputId": "961a49c7-94d5-4730-c653-d77161c50cd7"
      },
      "cell_type": "code",
      "source": [
        "q.head()"
      ],
      "execution_count": 112,
      "outputs": [
        {
          "output_type": "execute_result",
          "data": {
            "text/plain": [
              "0    Dataset aggregator/platform (i.e. Socrata/Kagg...\n",
              "0        University/Non-profit research group websites\n",
              "0                                                Other\n",
              "1    Dataset aggregator/platform (i.e. Socrata/Kagg...\n",
              "2    Dataset aggregator/platform (i.e. Socrata/Kagg...\n",
              "Name: courses, dtype: object"
            ]
          },
          "metadata": {
            "tags": []
          },
          "execution_count": 112
        }
      ]
    },
    {
      "metadata": {
        "id": "bQ8gUzqzx8Ad",
        "colab_type": "code",
        "colab": {}
      },
      "cell_type": "code",
      "source": [
        "q = q[q != 'nan'].value_counts()"
      ],
      "execution_count": 0,
      "outputs": []
    },
    {
      "metadata": {
        "id": "kI_Ep81ix_is",
        "colab_type": "code",
        "colab": {
          "base_uri": "https://localhost:8080/",
          "height": 266
        },
        "outputId": "cceb4e10-ad44-44df-c206-685165dd5d02"
      },
      "cell_type": "code",
      "source": [
        "pd.DataFrame(q)"
      ],
      "execution_count": 114,
      "outputs": [
        {
          "output_type": "execute_result",
          "data": {
            "text/html": [
              "<div>\n",
              "<style scoped>\n",
              "    .dataframe tbody tr th:only-of-type {\n",
              "        vertical-align: middle;\n",
              "    }\n",
              "\n",
              "    .dataframe tbody tr th {\n",
              "        vertical-align: top;\n",
              "    }\n",
              "\n",
              "    .dataframe thead th {\n",
              "        text-align: right;\n",
              "    }\n",
              "</style>\n",
              "<table border=\"1\" class=\"dataframe\">\n",
              "  <thead>\n",
              "    <tr style=\"text-align: right;\">\n",
              "      <th></th>\n",
              "      <th>courses</th>\n",
              "    </tr>\n",
              "  </thead>\n",
              "  <tbody>\n",
              "    <tr>\n",
              "      <th>Dataset aggregator/platform (i.e. Socrata/Kaggle Datasets/data.world/etc.)</th>\n",
              "      <td>6843</td>\n",
              "    </tr>\n",
              "    <tr>\n",
              "      <th>Google Search</th>\n",
              "      <td>3600</td>\n",
              "    </tr>\n",
              "    <tr>\n",
              "      <th>University/Non-profit research group websites</th>\n",
              "      <td>2873</td>\n",
              "    </tr>\n",
              "    <tr>\n",
              "      <th>I collect my own data (e.g. web-scraping)</th>\n",
              "      <td>2560</td>\n",
              "    </tr>\n",
              "    <tr>\n",
              "      <th>GitHub</th>\n",
              "      <td>2400</td>\n",
              "    </tr>\n",
              "    <tr>\n",
              "      <th>Government website</th>\n",
              "      <td>2079</td>\n",
              "    </tr>\n",
              "    <tr>\n",
              "      <th>Other</th>\n",
              "      <td>399</td>\n",
              "    </tr>\n",
              "  </tbody>\n",
              "</table>\n",
              "</div>"
            ],
            "text/plain": [
              "                                                    courses\n",
              "Dataset aggregator/platform (i.e. Socrata/Kaggl...     6843\n",
              "Google Search                                          3600\n",
              "University/Non-profit research group websites          2873\n",
              "I collect my own data (e.g. web-scraping)              2560\n",
              "GitHub                                                 2400\n",
              "Government website                                     2079\n",
              "Other                                                   399"
            ]
          },
          "metadata": {
            "tags": []
          },
          "execution_count": 114
        }
      ]
    },
    {
      "metadata": {
        "id": "-zFgwrOwyB9j",
        "colab_type": "code",
        "colab": {
          "base_uri": "https://localhost:8080/",
          "height": 312
        },
        "outputId": "e6c5d743-ebe2-41ec-e8d0-f6ff3cfe647d"
      },
      "cell_type": "code",
      "source": [
        "plt.title(\"Most Popular Dataset Platforms\")\n",
        "sns.barplot(y=q.index, x=q)"
      ],
      "execution_count": 115,
      "outputs": [
        {
          "output_type": "execute_result",
          "data": {
            "text/plain": [
              "<matplotlib.axes._subplots.AxesSubplot at 0x7f58cfc90cc0>"
            ]
          },
          "metadata": {
            "tags": []
          },
          "execution_count": 115
        },
        {
          "output_type": "display_data",
          "data": {
            "image/png": "[encoded data removed]",
            "text/plain": [
              "<matplotlib.figure.Figure at 0x7f58cfcaa860>"
            ]
          },
          "metadata": {
            "tags": []
          }
        }
      ]
    },
    {
      "metadata": {
        "id": "YosxDK7TyEH8",
        "colab_type": "code",
        "colab": {
          "base_uri": "https://localhost:8080/",
          "height": 35
        },
        "outputId": "b8a35df8-6d3b-42fb-c7d5-090b9a688312"
      },
      "cell_type": "code",
      "source": [
        "# 주관식 응답을 읽어온다.\n",
        "ff = pd.read_csv('freeformResponses.csv', encoding=\"ISO-8859-1\", low_memory=False)\n",
        "ff.shape"
      ],
      "execution_count": 118,
      "outputs": [
        {
          "output_type": "execute_result",
          "data": {
            "text/plain": [
              "(16716, 62)"
            ]
          },
          "metadata": {
            "tags": []
          },
          "execution_count": 118
        }
      ]
    },
    {
      "metadata": {
        "id": "FWff6JoTyGTl",
        "colab_type": "code",
        "colab": {
          "base_uri": "https://localhost:8080/",
          "height": 514
        },
        "outputId": "44b76ea2-721b-44b6-90d2-63a9d469d188"
      },
      "cell_type": "code",
      "source": [
        "ppcff = ff[\n",
        " 'PersonalProjectsChallengeFreeForm'].value_counts().head(15)\n",
        "ppcff.name = '응답 수'\n",
        "pd.DataFrame(ppcff)"
      ],
      "execution_count": 119,
      "outputs": [
        {
          "output_type": "execute_result",
          "data": {
            "text/html": [
              "<div>\n",
              "<style scoped>\n",
              "    .dataframe tbody tr th:only-of-type {\n",
              "        vertical-align: middle;\n",
              "    }\n",
              "\n",
              "    .dataframe tbody tr th {\n",
              "        vertical-align: top;\n",
              "    }\n",
              "\n",
              "    .dataframe thead th {\n",
              "        text-align: right;\n",
              "    }\n",
              "</style>\n",
              "<table border=\"1\" class=\"dataframe\">\n",
              "  <thead>\n",
              "    <tr style=\"text-align: right;\">\n",
              "      <th></th>\n",
              "      <th>응답 수</th>\n",
              "    </tr>\n",
              "  </thead>\n",
              "  <tbody>\n",
              "    <tr>\n",
              "      <th>None</th>\n",
              "      <td>23</td>\n",
              "    </tr>\n",
              "    <tr>\n",
              "      <th>Cleaning the data</th>\n",
              "      <td>20</td>\n",
              "    </tr>\n",
              "    <tr>\n",
              "      <th>Cleaning</th>\n",
              "      <td>20</td>\n",
              "    </tr>\n",
              "    <tr>\n",
              "      <th>Dirty data</th>\n",
              "      <td>16</td>\n",
              "    </tr>\n",
              "    <tr>\n",
              "      <th>Data Cleaning</th>\n",
              "      <td>14</td>\n",
              "    </tr>\n",
              "    <tr>\n",
              "      <th>none</th>\n",
              "      <td>13</td>\n",
              "    </tr>\n",
              "    <tr>\n",
              "      <th>dirty data</th>\n",
              "      <td>10</td>\n",
              "    </tr>\n",
              "    <tr>\n",
              "      <th>Data cleaning</th>\n",
              "      <td>10</td>\n",
              "    </tr>\n",
              "    <tr>\n",
              "      <th>Size</th>\n",
              "      <td>9</td>\n",
              "    </tr>\n",
              "    <tr>\n",
              "      <th>-</th>\n",
              "      <td>9</td>\n",
              "    </tr>\n",
              "    <tr>\n",
              "      <th>Missing data</th>\n",
              "      <td>8</td>\n",
              "    </tr>\n",
              "    <tr>\n",
              "      <th>cleaning</th>\n",
              "      <td>8</td>\n",
              "    </tr>\n",
              "    <tr>\n",
              "      <th>Incomplete data</th>\n",
              "      <td>8</td>\n",
              "    </tr>\n",
              "    <tr>\n",
              "      <th>Lack of documentation</th>\n",
              "      <td>7</td>\n",
              "    </tr>\n",
              "    <tr>\n",
              "      <th>Quality</th>\n",
              "      <td>6</td>\n",
              "    </tr>\n",
              "  </tbody>\n",
              "</table>\n",
              "</div>"
            ],
            "text/plain": [
              "                       응답 수\n",
              "None                     23\n",
              "Cleaning the data        20\n",
              "Cleaning                 20\n",
              "Dirty data               16\n",
              "Data Cleaning            14\n",
              "none                     13\n",
              "dirty data               10\n",
              "Data cleaning            10\n",
              "Size                      9\n",
              "-                         9\n",
              "Missing data              8\n",
              "cleaning                  8\n",
              "Incomplete data           8\n",
              "Lack of documentation     7\n",
              "Quality                   6"
            ]
          },
          "metadata": {
            "tags": []
          },
          "execution_count": 119
        }
      ]
    },
    {
      "metadata": {
        "id": "yXes12dQyO7K",
        "colab_type": "code",
        "colab": {}
      },
      "cell_type": "code",
      "source": [
        ""
      ],
      "execution_count": 0,
      "outputs": []
    }
  ]
}