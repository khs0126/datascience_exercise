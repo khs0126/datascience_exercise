{
  "nbformat": 4,
  "nbformat_minor": 0,
  "metadata": {
    "colab": {
      "name": "upload_file_and_display_image.ipynb",
      "version": "0.3.2",
      "provenance": [],
      "private_outputs": true
    },
    "kernelspec": {
      "name": "python3",
      "display_name": "Python 3"
    },
    "accelerator": "GPU"
  },
  "cells": [
    {
      "cell_type": "markdown",
      "metadata": {
        "id": "view-in-github",
        "colab_type": "text"
      },
      "source": [
        "[View in Colaboratory](https://colab.research.google.com/github/nicewook/datascience_exercise/blob/master/upload_file_and_display_image.ipynb)"
      ]
    },
    {
      "metadata": {
        "id": "DgJQ_ONxaA9X",
        "colab_type": "text"
      },
      "cell_type": "markdown",
      "source": [
        "# Colaboratory 에 파일을 업로드하고 이미지 출력하기\n",
        "1. 로컬 컴퓨터의 이미지를 Colaboratory 에 올리고\n",
        "2. 출력해보자\n"
      ]
    },
    {
      "metadata": {
        "id": "1X1SSFG8aP35",
        "colab_type": "text"
      },
      "cell_type": "markdown",
      "source": [
        "## 이미지 올리기\n",
        "- 아래 스크립트를 실행하면 나오는 버튼을 눌러서 탐색창이 나오면\n",
        "- 로컬컴퓨터의 이미지를 선택하여 올린다."
      ]
    },
    {
      "metadata": {
        "id": "9hktSWkWagnA",
        "colab_type": "code",
        "colab": {}
      },
      "cell_type": "code",
      "source": [
        "from google.colab import files\n",
        "uploaded = files.upload() # 파일 업로드 기능 실행\n",
        "\n",
        "for fn in uploaded.keys(): # 업로드된 파일 정보 출력\n",
        "    print('User uploaded file \"{name}\" with length {length} bytes'.format(\n",
        "        name=fn, length=len(uploaded[fn])))\n"
      ],
      "execution_count": 0,
      "outputs": []
    },
    {
      "metadata": {
        "id": "v0YgONGKaiv5",
        "colab_type": "code",
        "colab": {}
      },
      "cell_type": "code",
      "source": [
        "ls -al"
      ],
      "execution_count": 0,
      "outputs": []
    },
    {
      "metadata": {
        "id": "RWF6tVrFbmAy",
        "colab_type": "text"
      },
      "cell_type": "markdown",
      "source": [
        "# 이미지 보기"
      ]
    },
    {
      "metadata": {
        "id": "K1zCdB07cGs5",
        "colab_type": "code",
        "colab": {}
      },
      "cell_type": "code",
      "source": [
        "from IPython.display import Image\n",
        "Image('baseball.jpg')"
      ],
      "execution_count": 0,
      "outputs": []
    },
    {
      "metadata": {
        "id": "yhKoG8OdcReS",
        "colab_type": "code",
        "colab": {}
      },
      "cell_type": "code",
      "source": [
        ""
      ],
      "execution_count": 0,
      "outputs": []
    }
  ]
}