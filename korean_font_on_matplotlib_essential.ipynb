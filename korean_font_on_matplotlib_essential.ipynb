{
  "nbformat": 4,
  "nbformat_minor": 0,
  "metadata": {
    "colab": {
      "name": "korean_font_on_matplotlib_essential.ipynb",
      "version": "0.3.2",
      "provenance": [],
      "collapsed_sections": [],
      "toc_visible": true
    },
    "kernelspec": {
      "name": "python3",
      "display_name": "Python 3"
    }
  },
  "cells": [
    {
      "cell_type": "markdown",
      "metadata": {
        "id": "view-in-github",
        "colab_type": "text"
      },
      "source": [
        "[View in Colaboratory](https://colab.research.google.com/github/nicewook/datascience_exercise/blob/master/korean_font_on_matplotlib_essential.ipynb)"
      ]
    },
    {
      "metadata": {
        "id": "ZHkklkMTaGsp",
        "colab_type": "code",
        "colab": {
          "base_uri": "https://localhost:8080/",
          "height": 521
        },
        "outputId": "54914f0b-4993-4e35-9f9e-516b376d2c35"
      },
      "cell_type": "code",
      "source": [
        "%matplotlib inline  \n",
        "\n",
        "# import matplotlib packages\n",
        "import matplotlib as mpl\n",
        "import matplotlib.pyplot as plt\n",
        "import matplotlib.font_manager as fm\n",
        "\n",
        "# install font\n",
        "!apt-get update -qq\n",
        "!apt-get install fonts-nanum* -qq\n",
        "\n",
        "# display installed nanum font list\n",
        "sys_font=fm.findSystemFonts()\n",
        "nanum_font = [f for f in sys_font if 'Nanum' in f]\n",
        "print(f\"nanum_font number: {len(nanum_font)}\")\n",
        "print(\"\\n\".join(nanum_font))\n",
        "\n",
        "# refresh font list, so that Matplotlib font manager knows them.\n",
        "fm._rebuild()"
      ],
      "execution_count": 3,
      "outputs": [
        {
          "output_type": "stream",
          "text": [
            "nanum_font number: 27\n",
            "/usr/share/fonts/truetype/nanum/NanumGothicCoding-Bold.ttf\n",
            "/usr/share/fonts/truetype/nanum/NanumBarunpenR.ttf\n",
            "/usr/share/fonts/truetype/nanum/NanumGothicEcoBold.ttf\n",
            "/usr/share/fonts/truetype/nanum/NanumGothicExtraBold.ttf\n",
            "/usr/share/fonts/truetype/nanum/NanumMyeongjoEcoBold.ttf\n",
            "/usr/share/fonts/truetype/nanum/NanumSquareL.ttf\n",
            "/usr/share/fonts/truetype/nanum/NanumSquareB.ttf\n",
            "/usr/share/fonts/truetype/nanum/NanumSquareR.ttf\n",
            "/usr/share/fonts/truetype/nanum/NanumBarunGothicUltraLight.ttf\n",
            "/usr/share/fonts/truetype/nanum/NanumGothic.ttf\n",
            "/usr/share/fonts/truetype/nanum/NanumMyeongjoExtraBold.ttf\n",
            "/usr/share/fonts/truetype/nanum/NanumBarunGothicLight.ttf\n",
            "/usr/share/fonts/truetype/nanum/NanumPen.ttf\n",
            "/usr/share/fonts/truetype/nanum/NanumGothicLight.ttf\n",
            "/usr/share/fonts/truetype/nanum/NanumBarunpenB.ttf\n",
            "/usr/share/fonts/truetype/nanum/NanumMyeongjoBold.ttf\n",
            "/usr/share/fonts/truetype/nanum/NanumBarunGothicBold.ttf\n",
            "/usr/share/fonts/truetype/nanum/NanumBarunGothic.ttf\n",
            "/usr/share/fonts/truetype/nanum/NanumSquareEB.ttf\n",
            "/usr/share/fonts/truetype/nanum/NanumGothicCoding.ttf\n",
            "/usr/share/fonts/truetype/nanum/NanumGothicEco.ttf\n",
            "/usr/share/fonts/truetype/nanum/NanumMyeongjo.ttf\n",
            "/usr/share/fonts/truetype/nanum/NanumMyeongjoEcoExtraBold.ttf\n",
            "/usr/share/fonts/truetype/nanum/NanumBrush.ttf\n",
            "/usr/share/fonts/truetype/nanum/NanumMyeongjoEco.ttf\n",
            "/usr/share/fonts/truetype/nanum/NanumGothicEcoExtraBold.ttf\n",
            "/usr/share/fonts/truetype/nanum/NanumGothicBold.ttf\n"
          ],
          "name": "stdout"
        }
      ]
    },
    {
      "metadata": {
        "id": "SRz4GNtAaGvr",
        "colab_type": "code",
        "colab": {
          "base_uri": "https://localhost:8080/",
          "height": 35
        },
        "outputId": "6818e94a-087a-4c32-c779-9ef1c562000b"
      },
      "cell_type": "code",
      "source": [
        "# set font - you can set any nanum font, which listed above\n",
        "\n",
        "path = '/usr/share/fonts/truetype/nanum/NanumGothicEco.ttf' \n",
        "font_name = fm.FontProperties(fname=path, size=10).get_name()\n",
        "print(font_name)\n",
        "plt.rc('font', family=font_name)\n",
        "mpl.rcParams['axes.unicode_minus'] = False  # minus character issue fix"
      ],
      "execution_count": 4,
      "outputs": [
        {
          "output_type": "stream",
          "text": [
            "NanumGothic Eco\n"
          ],
          "name": "stdout"
        }
      ]
    },
    {
      "metadata": {
        "id": "di2VuvYSaG77",
        "colab_type": "code",
        "colab": {
          "base_uri": "https://localhost:8080/",
          "height": 530
        },
        "outputId": "0e7a7865-075d-4295-92c9-50c60aed915d"
      },
      "cell_type": "code",
      "source": [
        "# test\n",
        "\n",
        "import numpy as np\n",
        "\n",
        "data = np.random.randint(-200, 100, 50).cumsum()\n",
        "plt.figure(figsize=(10,8))\n",
        "plt.plot(range(50), data, 'r')\n",
        "plt.title('시간별 가격추이')\n",
        "plt.ylabel('주식가격')\n",
        "plt.xlabel('시간(분)')"
      ],
      "execution_count": 5,
      "outputs": [
        {
          "output_type": "execute_result",
          "data": {
            "text/plain": [
              "Text(0.5,0,'시간(분)')"
            ]
          },
          "metadata": {
            "tags": []
          },
          "execution_count": 5
        },
        {
          "output_type": "display_data",
          "data": {
            "image/png": "[encoded data removed]",
            "text/plain": [
              "<matplotlib.figure.Figure at 0x7ff80de50ac8>"
            ]
          },
          "metadata": {
            "tags": []
          }
        }
      ]
    }
  ]
}